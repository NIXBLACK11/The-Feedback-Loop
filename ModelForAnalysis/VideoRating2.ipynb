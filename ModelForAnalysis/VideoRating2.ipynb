{
  "nbformat": 4,
  "nbformat_minor": 0,
  "metadata": {
    "colab": {
      "provenance": [],
      "gpuType": "T4",
      "include_colab_link": true
    },
    "kernelspec": {
      "name": "python3",
      "display_name": "Python 3"
    },
    "language_info": {
      "name": "python"
    },
    "accelerator": "GPU"
  },
  "cells": [
    {
      "cell_type": "markdown",
      "metadata": {
        "id": "view-in-github",
        "colab_type": "text"
      },
      "source": [
        "<a href=\"https://colab.research.google.com/github/NIXBLACK11/ModelForAnalysis/blob/main/VideoRating2.ipynb\" target=\"_parent\"><img src=\"https://colab.research.google.com/assets/colab-badge.svg\" alt=\"Open In Colab\"/></a>"
      ]
    },
    {
      "cell_type": "code",
      "execution_count": null,
      "metadata": {
        "id": "mm_vIQWV6jcY",
        "outputId": "536ba4b9-3086-4db1-c71a-ef47d2642d61",
        "colab": {
          "base_uri": "https://localhost:8080/"
        }
      },
      "outputs": [
        {
          "output_type": "stream",
          "name": "stdout",
          "text": [
            "Drive already mounted at /content/drive; to attempt to forcibly remount, call drive.mount(\"/content/drive\", force_remount=True).\n"
          ]
        }
      ],
      "source": [
        "from google.colab import drive\n",
        "drive.mount('/content/drive')"
      ]
    },
    {
      "cell_type": "code",
      "source": [
        "! rm -rf sample_data"
      ],
      "metadata": {
        "id": "Y2FkU9e29iyA"
      },
      "execution_count": null,
      "outputs": []
    },
    {
      "cell_type": "code",
      "source": [
        "from moviepy.video.io.VideoFileClip import VideoFileClip\n",
        "import os\n",
        "from PIL import Image\n",
        "\n",
        "audioIndex = 0\n",
        "imageIndex = 0\n",
        "totalTime = 0\n",
        "\n",
        "def extract_screenshots_and_audio(input_video_path, output_screenshots_folder, output_audio_folder):\n",
        "    global audioIndex, imageIndex, totalTime\n",
        "\n",
        "    # Create output folders if they don't exist\n",
        "    os.makedirs(output_screenshots_folder, exist_ok=True)\n",
        "    os.makedirs(output_audio_folder, exist_ok=True)\n",
        "\n",
        "    # Load video\n",
        "    video_clip = VideoFileClip(input_video_path)\n",
        "\n",
        "    # Extract screenshots and calculate mean time duration\n",
        "    screenshots = []\n",
        "    mean_time_duration = 0\n",
        "    for timestamp in range(0, int(video_clip.duration), 5):\n",
        "        screenshot = video_clip.get_frame(timestamp)\n",
        "\n",
        "        # Convert NumPy array to PIL Image\n",
        "        pil_image = Image.fromarray(screenshot)\n",
        "\n",
        "        screenshots.append(pil_image)\n",
        "        mean_time_duration += timestamp\n",
        "\n",
        "        screenshot_path = os.path.join(output_screenshots_folder, f\"screenshot_{imageIndex}.png\")\n",
        "        imageIndex += 1\n",
        "        pil_image.save(screenshot_path)\n",
        "\n",
        "    totalTime += video_clip.duration\n",
        "\n",
        "    # Extract audio\n",
        "    audio = video_clip.audio\n",
        "    audio_path = os.path.join(output_audio_folder, f\"audio_{audioIndex}.wav\")\n",
        "    audio.write_audiofile(audio_path)\n",
        "\n",
        "    audioIndex += 1  # Increment audio index for unique filenames\n",
        "\n",
        "    # Close video clip\n",
        "    video_clip.close()\n",
        "\n",
        "if __name__ == \"__main__\":\n",
        "  genres = ['MrBeastType', 'VlogType', 'TechReviewType', 'GamingType', 'MinimalistType']\n",
        "\n",
        "  for genre in genres:\n",
        "      input_video_path = \"/content/drive/MyDrive/videos/\"+genre\n",
        "      output_screenshots_folder = \"/content/screenshot/\"+genre\n",
        "      output_audio_folder = \"/content/audio/\"+genre\n",
        "\n",
        "      totalFiles = 0\n",
        "\n",
        "      for filename in os.listdir(input_video_path):\n",
        "        # Construct the full file path\n",
        "        input_video_file = os.path.join(input_video_path, filename)\n",
        "\n",
        "        # Check if it's a file (not a subdirectory)\n",
        "        if os.path.isfile(input_video_file):\n",
        "            # Call the function with the file path\n",
        "            extract_screenshots_and_audio(input_video_file, output_screenshots_folder, output_audio_folder)\n",
        "            totalFiles += 1\n",
        "\n",
        "      averageTime = totalTime / totalFiles\n",
        "      print(averageTime)\n"
      ],
      "metadata": {
        "colab": {
          "base_uri": "https://localhost:8080/"
        },
        "id": "MXgQPUAY7Nlg",
        "outputId": "6057be26-3059-472a-b1ac-525d22b6000e"
      },
      "execution_count": null,
      "outputs": [
        {
          "output_type": "stream",
          "name": "stdout",
          "text": [
            "MoviePy - Writing audio in /content/audio/MrBeastType/audio_0.wav\n"
          ]
        },
        {
          "output_type": "stream",
          "name": "stderr",
          "text": []
        },
        {
          "output_type": "stream",
          "name": "stdout",
          "text": [
            "MoviePy - Done.\n",
            "MoviePy - Writing audio in /content/audio/MrBeastType/audio_1.wav\n"
          ]
        },
        {
          "output_type": "stream",
          "name": "stderr",
          "text": []
        },
        {
          "output_type": "stream",
          "name": "stdout",
          "text": [
            "MoviePy - Done.\n",
            "MoviePy - Writing audio in /content/audio/MrBeastType/audio_2.wav\n"
          ]
        },
        {
          "output_type": "stream",
          "name": "stderr",
          "text": []
        },
        {
          "output_type": "stream",
          "name": "stdout",
          "text": [
            "MoviePy - Done.\n",
            "MoviePy - Writing audio in /content/audio/MrBeastType/audio_3.wav\n"
          ]
        },
        {
          "output_type": "stream",
          "name": "stderr",
          "text": []
        },
        {
          "output_type": "stream",
          "name": "stdout",
          "text": [
            "MoviePy - Done.\n",
            "MoviePy - Writing audio in /content/audio/MrBeastType/audio_4.wav\n"
          ]
        },
        {
          "output_type": "stream",
          "name": "stderr",
          "text": []
        },
        {
          "output_type": "stream",
          "name": "stdout",
          "text": [
            "MoviePy - Done.\n",
            "MoviePy - Writing audio in /content/audio/MrBeastType/audio_5.wav\n"
          ]
        },
        {
          "output_type": "stream",
          "name": "stderr",
          "text": []
        },
        {
          "output_type": "stream",
          "name": "stdout",
          "text": [
            "MoviePy - Done.\n",
            "MoviePy - Writing audio in /content/audio/MrBeastType/audio_6.wav\n"
          ]
        },
        {
          "output_type": "stream",
          "name": "stderr",
          "text": []
        },
        {
          "output_type": "stream",
          "name": "stdout",
          "text": [
            "MoviePy - Done.\n",
            "1037.8771428571429\n",
            "MoviePy - Writing audio in /content/audio/VlogType/audio_7.wav\n"
          ]
        },
        {
          "output_type": "stream",
          "name": "stderr",
          "text": []
        },
        {
          "output_type": "stream",
          "name": "stdout",
          "text": [
            "MoviePy - Done.\n",
            "MoviePy - Writing audio in /content/audio/VlogType/audio_8.wav\n"
          ]
        },
        {
          "output_type": "stream",
          "name": "stderr",
          "text": []
        },
        {
          "output_type": "stream",
          "name": "stdout",
          "text": [
            "MoviePy - Done.\n",
            "MoviePy - Writing audio in /content/audio/VlogType/audio_9.wav\n"
          ]
        },
        {
          "output_type": "stream",
          "name": "stderr",
          "text": []
        },
        {
          "output_type": "stream",
          "name": "stdout",
          "text": [
            "MoviePy - Done.\n",
            "MoviePy - Writing audio in /content/audio/VlogType/audio_10.wav\n"
          ]
        },
        {
          "output_type": "stream",
          "name": "stderr",
          "text": []
        },
        {
          "output_type": "stream",
          "name": "stdout",
          "text": [
            "MoviePy - Done.\n",
            "MoviePy - Writing audio in /content/audio/VlogType/audio_11.wav\n"
          ]
        },
        {
          "output_type": "stream",
          "name": "stderr",
          "text": []
        },
        {
          "output_type": "stream",
          "name": "stdout",
          "text": [
            "MoviePy - Done.\n",
            "2282.85\n",
            "MoviePy - Writing audio in /content/audio/TechReviewType/audio_12.wav\n"
          ]
        },
        {
          "output_type": "stream",
          "name": "stderr",
          "text": []
        },
        {
          "output_type": "stream",
          "name": "stdout",
          "text": [
            "MoviePy - Done.\n",
            "MoviePy - Writing audio in /content/audio/TechReviewType/audio_13.wav\n"
          ]
        },
        {
          "output_type": "stream",
          "name": "stderr",
          "text": []
        },
        {
          "output_type": "stream",
          "name": "stdout",
          "text": [
            "MoviePy - Done.\n",
            "MoviePy - Writing audio in /content/audio/TechReviewType/audio_14.wav\n"
          ]
        },
        {
          "output_type": "stream",
          "name": "stderr",
          "text": []
        },
        {
          "output_type": "stream",
          "name": "stdout",
          "text": [
            "MoviePy - Done.\n",
            "MoviePy - Writing audio in /content/audio/TechReviewType/audio_15.wav\n"
          ]
        },
        {
          "output_type": "stream",
          "name": "stderr",
          "text": []
        },
        {
          "output_type": "stream",
          "name": "stdout",
          "text": [
            "MoviePy - Done.\n",
            "MoviePy - Writing audio in /content/audio/TechReviewType/audio_16.wav\n"
          ]
        },
        {
          "output_type": "stream",
          "name": "stderr",
          "text": []
        },
        {
          "output_type": "stream",
          "name": "stdout",
          "text": [
            "MoviePy - Done.\n",
            "MoviePy - Writing audio in /content/audio/TechReviewType/audio_17.wav\n"
          ]
        },
        {
          "output_type": "stream",
          "name": "stderr",
          "text": []
        },
        {
          "output_type": "stream",
          "name": "stdout",
          "text": [
            "MoviePy - Done.\n",
            "3152.2016666666664\n",
            "MoviePy - Writing audio in /content/audio/GamingType/audio_18.wav\n"
          ]
        },
        {
          "output_type": "stream",
          "name": "stderr",
          "text": []
        },
        {
          "output_type": "stream",
          "name": "stdout",
          "text": [
            "MoviePy - Done.\n",
            "MoviePy - Writing audio in /content/audio/GamingType/audio_19.wav\n"
          ]
        },
        {
          "output_type": "stream",
          "name": "stderr",
          "text": []
        },
        {
          "output_type": "stream",
          "name": "stdout",
          "text": [
            "MoviePy - Done.\n",
            "MoviePy - Writing audio in /content/audio/GamingType/audio_20.wav\n"
          ]
        },
        {
          "output_type": "stream",
          "name": "stderr",
          "text": []
        },
        {
          "output_type": "stream",
          "name": "stdout",
          "text": [
            "MoviePy - Done.\n",
            "MoviePy - Writing audio in /content/audio/GamingType/audio_21.wav\n"
          ]
        },
        {
          "output_type": "stream",
          "name": "stderr",
          "text": []
        },
        {
          "output_type": "stream",
          "name": "stdout",
          "text": [
            "MoviePy - Done.\n",
            "MoviePy - Writing audio in /content/audio/GamingType/audio_22.wav\n"
          ]
        },
        {
          "output_type": "stream",
          "name": "stderr",
          "text": []
        },
        {
          "output_type": "stream",
          "name": "stdout",
          "text": [
            "MoviePy - Done.\n",
            "11122.944\n",
            "MoviePy - Writing audio in /content/audio/MinimalistType/audio_23.wav\n"
          ]
        },
        {
          "output_type": "stream",
          "name": "stderr",
          "text": []
        },
        {
          "output_type": "stream",
          "name": "stdout",
          "text": [
            "MoviePy - Done.\n",
            "MoviePy - Writing audio in /content/audio/MinimalistType/audio_24.wav\n"
          ]
        },
        {
          "output_type": "stream",
          "name": "stderr",
          "text": []
        },
        {
          "output_type": "stream",
          "name": "stdout",
          "text": [
            "MoviePy - Done.\n",
            "MoviePy - Writing audio in /content/audio/MinimalistType/audio_25.wav\n"
          ]
        },
        {
          "output_type": "stream",
          "name": "stderr",
          "text": []
        },
        {
          "output_type": "stream",
          "name": "stdout",
          "text": [
            "MoviePy - Done.\n",
            "MoviePy - Writing audio in /content/audio/MinimalistType/audio_26.wav\n"
          ]
        },
        {
          "output_type": "stream",
          "name": "stderr",
          "text": []
        },
        {
          "output_type": "stream",
          "name": "stdout",
          "text": [
            "MoviePy - Done.\n",
            "MoviePy - Writing audio in /content/audio/MinimalistType/audio_27.wav\n"
          ]
        },
        {
          "output_type": "stream",
          "name": "stderr",
          "text": []
        },
        {
          "output_type": "stream",
          "name": "stdout",
          "text": [
            "MoviePy - Done.\n",
            "MoviePy - Writing audio in /content/audio/MinimalistType/audio_28.wav\n"
          ]
        },
        {
          "output_type": "stream",
          "name": "stderr",
          "text": []
        },
        {
          "output_type": "stream",
          "name": "stdout",
          "text": [
            "MoviePy - Done.\n",
            "MoviePy - Writing audio in /content/audio/MinimalistType/audio_29.wav\n"
          ]
        },
        {
          "output_type": "stream",
          "name": "stderr",
          "text": []
        },
        {
          "output_type": "stream",
          "name": "stdout",
          "text": [
            "MoviePy - Done.\n",
            "MoviePy - Writing audio in /content/audio/MinimalistType/audio_30.wav\n"
          ]
        },
        {
          "output_type": "stream",
          "name": "stderr",
          "text": [
            "                                                                      "
          ]
        },
        {
          "output_type": "stream",
          "name": "stdout",
          "text": [
            "MoviePy - Done.\n",
            "8123.9975\n"
          ]
        },
        {
          "output_type": "stream",
          "name": "stderr",
          "text": [
            "\r"
          ]
        }
      ]
    },
    {
      "cell_type": "code",
      "source": [
        "genres = ['MrBeastType', 'VlogType', 'TechReviewType', 'GamingType', 'MinimalistType']\n",
        "\n",
        "import os\n",
        "from keras.preprocessing.image import ImageDataGenerator\n",
        "from sklearn.model_selection import train_test_split\n",
        "\n",
        "# Set the paths\n",
        "base_dir = '/content/screenshot'\n",
        "\n",
        "# Create a dictionary to map genres to their respective folders\n",
        "genre_folders = {\n",
        "    'MrBeastType': 'MrBeastType',\n",
        "    'VlogType': 'VlogType',\n",
        "    'TechReviewType': 'TechReviewType',  # Change 'C' to the actual folder name for TechReviewType\n",
        "    'GamingType': 'GamingType',  # Change 'D' to the actual folder name for GamingType\n",
        "    'MinimalistType': 'MinimalistType'  # Change 'E' to the actual folder name for MinimalistType\n",
        "}\n",
        "\n",
        "# Get the list of image files for each genre\n",
        "genre_images = {}\n",
        "for genre, folder in genre_folders.items():\n",
        "    genre_dir = os.path.join(base_dir, folder)\n",
        "    genre_images[genre] = [os.path.join(genre_dir, img) for img in os.listdir(genre_dir)]\n",
        "\n",
        "# Choose an equal number of images from all classes\n",
        "num_images_per_genre = min(len(images) for images in genre_images.values())\n",
        "for genre in genre_images:\n",
        "    genre_images[genre] = genre_images[genre][:num_images_per_genre]\n",
        "\n",
        "# Split the data into train and test sets for each genre\n",
        "train_images, test_images = {}, {}\n",
        "for genre, images in genre_images.items():\n",
        "    train_images[genre], test_images[genre] = train_test_split(images, test_size=0.2, random_state=42)\n",
        "\n",
        "# Create train and test directories for each genre\n",
        "train_dir = '/content/dataset/train/'\n",
        "test_dir = '/content/dataset/test/'\n",
        "\n",
        "for genre in genres:\n",
        "    os.makedirs(os.path.join(train_dir, genre), exist_ok=True)\n",
        "    os.makedirs(os.path.join(test_dir, genre), exist_ok=True)\n",
        "\n",
        "# Copy an equal number of images to train and test directories for each genre\n",
        "for genre in genres:\n",
        "    for img in train_images[genre]:\n",
        "        os.system(f'cp \"{img}\" \"{os.path.join(train_dir, genre)}\"')\n",
        "\n",
        "    for img in test_images[genre]:\n",
        "        os.system(f'cp \"{img}\" \"{os.path.join(test_dir, genre)}\"')\n",
        "\n",
        "# Set up image data generators for train and test sets\n",
        "batch_size = 32\n",
        "train_datagen = ImageDataGenerator(rescale=1./255)\n",
        "test_datagen = ImageDataGenerator(rescale=1./255)\n",
        "\n",
        "train_generator = train_datagen.flow_from_directory(\n",
        "    train_dir,\n",
        "    target_size=(224, 224),\n",
        "    batch_size=batch_size,\n",
        "    class_mode='categorical',  # Use 'categorical' for multiple classes\n",
        "    classes=genres\n",
        ")\n",
        "\n",
        "test_generator = test_datagen.flow_from_directory(\n",
        "    test_dir,\n",
        "    target_size=(224, 224),\n",
        "    batch_size=batch_size,\n",
        "    class_mode='categorical',  # Use 'categorical' for multiple classes\n",
        "    classes=genres\n",
        ")\n"
      ],
      "metadata": {
        "id": "i-ROrny_9qGp",
        "outputId": "7867b82d-2719-44af-dff6-3259cb585a78",
        "colab": {
          "base_uri": "https://localhost:8080/"
        }
      },
      "execution_count": null,
      "outputs": [
        {
          "output_type": "stream",
          "name": "stdout",
          "text": [
            "Found 3320 images belonging to 5 classes.\n",
            "Found 835 images belonging to 5 classes.\n"
          ]
        }
      ]
    },
    {
      "cell_type": "code",
      "source": [
        "import os\n",
        "import numpy as np\n",
        "from keras.models import Sequential\n",
        "from keras.layers import Dense, Dropout, Flatten\n",
        "from keras.layers import Conv2D, MaxPooling2D\n",
        "from keras.applications.vgg16 import VGG16\n",
        "from keras.preprocessing.image import ImageDataGenerator\n",
        "from sklearn.model_selection import train_test_split\n",
        "import pickle\n",
        "\n",
        "# Function to create, compile, train, and save model with 'adamax' optimizer\n",
        "def train_and_save_model(train_generator, test_generator):\n",
        "    # Load the VGG16 model and remove the final layer\n",
        "    base_model = VGG16(weights='imagenet', include_top=False, input_shape=(224, 224, 3))\n",
        "    x = base_model.output\n",
        "    x = Flatten()(x)\n",
        "    x = Dense(256, activation='relu')(x)\n",
        "    x = Dropout(0.5)(x)\n",
        "    predictions = Dense(len(genres), activation='softmax')(x)  # Use 'softmax' for multiple classes\n",
        "\n",
        "    # Create a new model by combining the VGG16 base model and the new layers\n",
        "    model = Sequential()\n",
        "    model.add(base_model)\n",
        "    model.add(Flatten())\n",
        "    model.add(Dense(256, activation='relu'))\n",
        "    model.add(Dropout(0.5))\n",
        "    model.add(Dense(len(genres), activation='softmax'))  # Use 'softmax' for multiple classes\n",
        "\n",
        "    # Freeze the VGG16 base layers and train the new layers\n",
        "    for layer in base_model.layers:\n",
        "        layer.trainable = False\n",
        "\n",
        "    model.compile(optimizer='adamax', loss='categorical_crossentropy', metrics=['accuracy'])  # Use 'categorical_crossentropy' for multiple classes\n",
        "\n",
        "    print(\"\\nTraining model with optimizer: adamax\")\n",
        "\n",
        "    history = model.fit_generator(\n",
        "        train_generator,\n",
        "        steps_per_epoch=train_generator.samples // batch_size,\n",
        "        epochs=20,\n",
        "        validation_data=test_generator,\n",
        "        validation_steps=test_generator.samples // batch_size\n",
        "    )\n",
        "\n",
        "    # Save the model\n",
        "    model.save('/content/drive/MyDrive/videos/video_analysis_vgg16_adamax.h5')\n",
        "\n",
        "    # Save the training history to a file\n",
        "    history_path = '/content/drive/MyDrive/videos/training_history_adamax.pkl'\n",
        "    with open(history_path, 'wb') as file:\n",
        "        pickle.dump(history.history, file)\n",
        "\n",
        "    return history\n",
        "\n",
        "# Set up image data generators for train and test sets\n",
        "batch_size = 32\n",
        "train_datagen = ImageDataGenerator(rescale=1./255)\n",
        "test_datagen = ImageDataGenerator(rescale=1./255)\n",
        "\n",
        "train_generator = train_datagen.flow_from_directory(\n",
        "    train_dir,\n",
        "    target_size=(224, 224),\n",
        "    batch_size=batch_size,\n",
        "    class_mode='categorical',  # Use 'categorical' for multiple classes\n",
        "    classes=genres\n",
        ")\n",
        "\n",
        "test_generator = test_datagen.flow_from_directory(\n",
        "    test_dir,\n",
        "    target_size=(224, 224),\n",
        "    batch_size=batch_size,\n",
        "    class_mode='categorical',  # Use 'categorical' for multiple classes\n",
        "    classes=genres\n",
        ")\n",
        "\n",
        "# Train and save model with 'adamax' optimizer\n",
        "history = train_and_save_model(train_generator, test_generator)\n",
        "\n",
        "# Access training metrics for plotting\n",
        "print(f'Model with optimizer adamax - Final Training Accuracy: {history.history[\"accuracy\"][-1]}, Final Validation Accuracy: {history.history[\"val_accuracy\"][-1]}')\n"
      ],
      "metadata": {
        "id": "R8ITIoyF_fZv",
        "outputId": "8a9f0f86-f0ba-4bf6-b29a-9cd22e72304a",
        "colab": {
          "base_uri": "https://localhost:8080/"
        }
      },
      "execution_count": null,
      "outputs": [
        {
          "output_type": "stream",
          "name": "stdout",
          "text": [
            "Found 3320 images belonging to 5 classes.\n",
            "Found 835 images belonging to 5 classes.\n",
            "Downloading data from https://storage.googleapis.com/tensorflow/keras-applications/vgg16/vgg16_weights_tf_dim_ordering_tf_kernels_notop.h5\n",
            "58889256/58889256 [==============================] - 0s 0us/step\n"
          ]
        },
        {
          "output_type": "stream",
          "name": "stderr",
          "text": [
            "WARNING:py.warnings:<ipython-input-5-55f1e9d2f27e>:37: UserWarning: `Model.fit_generator` is deprecated and will be removed in a future version. Please use `Model.fit`, which supports generators.\n",
            "  history = model.fit_generator(\n",
            "\n"
          ]
        },
        {
          "output_type": "stream",
          "name": "stdout",
          "text": [
            "\n",
            "Training model with optimizer: adamax\n",
            "Epoch 1/20\n",
            "103/103 [==============================] - 53s 414ms/step - loss: 1.1488 - accuracy: 0.6323 - val_loss: 0.6425 - val_accuracy: 0.7740\n",
            "Epoch 2/20\n",
            "103/103 [==============================] - 40s 391ms/step - loss: 0.6071 - accuracy: 0.7853 - val_loss: 0.5380 - val_accuracy: 0.8185\n",
            "Epoch 3/20\n",
            "103/103 [==============================] - 38s 371ms/step - loss: 0.4747 - accuracy: 0.8318 - val_loss: 0.5074 - val_accuracy: 0.8257\n",
            "Epoch 4/20\n",
            "103/103 [==============================] - 38s 371ms/step - loss: 0.3919 - accuracy: 0.8726 - val_loss: 0.4605 - val_accuracy: 0.8425\n",
            "Epoch 5/20\n",
            "103/103 [==============================] - 41s 397ms/step - loss: 0.3321 - accuracy: 0.8890 - val_loss: 0.4333 - val_accuracy: 0.8510\n",
            "Epoch 6/20\n",
            "103/103 [==============================] - 38s 372ms/step - loss: 0.2945 - accuracy: 0.9045 - val_loss: 0.4243 - val_accuracy: 0.8450\n",
            "Epoch 7/20\n",
            "103/103 [==============================] - 39s 377ms/step - loss: 0.2424 - accuracy: 0.9267 - val_loss: 0.4150 - val_accuracy: 0.8534\n",
            "Epoch 8/20\n",
            "103/103 [==============================] - 40s 391ms/step - loss: 0.2080 - accuracy: 0.9392 - val_loss: 0.4134 - val_accuracy: 0.8570\n",
            "Epoch 9/20\n",
            "103/103 [==============================] - 38s 368ms/step - loss: 0.1843 - accuracy: 0.9456 - val_loss: 0.4335 - val_accuracy: 0.8462\n",
            "Epoch 10/20\n",
            "103/103 [==============================] - 40s 386ms/step - loss: 0.1653 - accuracy: 0.9529 - val_loss: 0.4096 - val_accuracy: 0.8570\n",
            "Epoch 11/20\n",
            "103/103 [==============================] - 39s 377ms/step - loss: 0.1417 - accuracy: 0.9626 - val_loss: 0.4289 - val_accuracy: 0.8594\n",
            "Epoch 12/20\n",
            "103/103 [==============================] - 38s 372ms/step - loss: 0.1213 - accuracy: 0.9653 - val_loss: 0.4050 - val_accuracy: 0.8630\n",
            "Epoch 13/20\n",
            "103/103 [==============================] - 40s 388ms/step - loss: 0.1057 - accuracy: 0.9720 - val_loss: 0.4149 - val_accuracy: 0.8690\n",
            "Epoch 14/20\n",
            "103/103 [==============================] - 38s 368ms/step - loss: 0.1040 - accuracy: 0.9717 - val_loss: 0.4420 - val_accuracy: 0.8474\n",
            "Epoch 15/20\n",
            "103/103 [==============================] - 38s 371ms/step - loss: 0.1007 - accuracy: 0.9732 - val_loss: 0.4110 - val_accuracy: 0.8678\n",
            "Epoch 16/20\n",
            "103/103 [==============================] - 40s 390ms/step - loss: 0.0783 - accuracy: 0.9811 - val_loss: 0.4550 - val_accuracy: 0.8558\n",
            "Epoch 17/20\n",
            "103/103 [==============================] - 38s 369ms/step - loss: 0.0724 - accuracy: 0.9778 - val_loss: 0.4501 - val_accuracy: 0.8570\n",
            "Epoch 18/20\n",
            "103/103 [==============================] - 41s 393ms/step - loss: 0.0787 - accuracy: 0.9787 - val_loss: 0.4367 - val_accuracy: 0.8714\n",
            "Epoch 19/20\n",
            "103/103 [==============================] - 38s 373ms/step - loss: 0.0585 - accuracy: 0.9857 - val_loss: 0.4693 - val_accuracy: 0.8546\n",
            "Epoch 20/20\n",
            "103/103 [==============================] - 38s 367ms/step - loss: 0.0534 - accuracy: 0.9863 - val_loss: 0.4505 - val_accuracy: 0.8534\n"
          ]
        },
        {
          "output_type": "stream",
          "name": "stderr",
          "text": [
            "WARNING:py.warnings:/usr/local/lib/python3.10/dist-packages/keras/src/engine/training.py:3103: UserWarning: You are saving your model as an HDF5 file via `model.save()`. This file format is considered legacy. We recommend using instead the native Keras format, e.g. `model.save('my_model.keras')`.\n",
            "  saving_api.save_model(\n",
            "\n"
          ]
        },
        {
          "output_type": "stream",
          "name": "stdout",
          "text": [
            "Model with optimizer adamax - Final Training Accuracy: 0.9863138794898987, Final Validation Accuracy: 0.8533653616905212\n"
          ]
        }
      ]
    },
    {
      "cell_type": "code",
      "source": [
        "from tensorflow.keras.models import load_model\n",
        "\n",
        "# Evaluate the model with 'adamax' optimizer\n",
        "optimizer_name = 'adamax'\n",
        "model_path = f'/content/drive/MyDrive/videos/video_analysis_vgg16_{optimizer_name}.h5'\n",
        "model = load_model(model_path)\n",
        "\n",
        "# Evaluate the model on the \"test\" set\n",
        "test_loss, test_acc = model.evaluate_generator(test_generator, steps=test_generator.samples // batch_size)\n",
        "\n",
        "print(f'Model with optimizer {optimizer_name} - Test accuracy: {test_acc}, Test loss: {test_loss}')\n"
      ],
      "metadata": {
        "id": "0XdsbJbzBUgx",
        "outputId": "13f12044-65b7-416b-c0c3-126a7b7120fa",
        "colab": {
          "base_uri": "https://localhost:8080/"
        }
      },
      "execution_count": null,
      "outputs": [
        {
          "output_type": "stream",
          "name": "stderr",
          "text": [
            "WARNING:py.warnings:<ipython-input-6-9c3aa8dddd27>:9: UserWarning: `Model.evaluate_generator` is deprecated and will be removed in a future version. Please use `Model.evaluate`, which supports generators.\n",
            "  test_loss, test_acc = model.evaluate_generator(test_generator, steps=test_generator.samples // batch_size)\n",
            "\n"
          ]
        },
        {
          "output_type": "stream",
          "name": "stdout",
          "text": [
            "Model with optimizer adamax - Test accuracy: 0.854567289352417, Test loss: 0.44843462109565735\n"
          ]
        }
      ]
    },
    {
      "cell_type": "code",
      "source": [
        "import matplotlib.pyplot as plt\n",
        "\n",
        "# Create a figure with subplots\n",
        "fig, (ax1, ax2) = plt.subplots(2, 1, figsize=(10, 8))\n",
        "fig.suptitle('Training and Validation Metrics')\n",
        "\n",
        "# Evaluate the model with 'adamax' optimizer\n",
        "optimizer_name = 'adamax'\n",
        "model_path = f'/content/drive/MyDrive/videos/video_analysis_vgg16_{optimizer_name}.h5'\n",
        "model = load_model(model_path)\n",
        "\n",
        "# Load training history\n",
        "history_path = f'/content/drive/MyDrive/videos/training_history_{optimizer_name}.pkl'  # Replace with the actual path\n",
        "with open(history_path, 'rb') as file:\n",
        "    history = pickle.load(file)\n",
        "\n",
        "# Plot accuracy\n",
        "ax1.plot(history['accuracy'], label=f'{optimizer_name} Training Accuracy')\n",
        "ax1.plot(history['val_accuracy'], label=f'{optimizer_name} Validation Accuracy')\n",
        "\n",
        "# Plot loss\n",
        "ax2.plot(history['loss'], label=f'{optimizer_name} Training Loss')\n",
        "ax2.plot(history['val_loss'], label=f'{optimizer_name} Validation Loss')\n",
        "\n",
        "# Set labels and title\n",
        "ax1.set_ylabel('Accuracy')\n",
        "ax1.legend()\n",
        "ax1.grid(True)\n",
        "\n",
        "ax2.set_xlabel('Epoch')\n",
        "ax2.set_ylabel('Loss')\n",
        "ax2.legend()\n",
        "ax2.grid(True)\n",
        "\n",
        "plt.show()\n"
      ],
      "metadata": {
        "id": "0v0Sq9Z8BavH",
        "outputId": "f85eb8c6-55a8-4c93-a355-ec7f06ee0523",
        "colab": {
          "base_uri": "https://localhost:8080/",
          "height": 776
        }
      },
      "execution_count": null,
      "outputs": [
        {
          "output_type": "display_data",
          "data": {
            "text/plain": [
              "<Figure size 1000x800 with 2 Axes>"
            ],
            "image/png": "[encoded data removed]"
          },
          "metadata": {}
        }
      ]
    },
    {
      "cell_type": "code",
      "source": [
        "import os\n",
        "import librosa\n",
        "import numpy as np\n",
        "from sklearn.model_selection import train_test_split\n",
        "from keras.models import Sequential\n",
        "from keras.layers import Dense, Flatten, Conv1D, MaxPooling1D\n",
        "\n",
        "# Function to extract MFCC features from audio files\n",
        "def extract_features(file_path):\n",
        "    y, sr = librosa.load(file_path, mono=True, duration=5)\n",
        "    mfccs = librosa.feature.mfcc(y=y, sr=sr, n_mfcc=13)\n",
        "    return mfccs\n",
        "\n",
        "# List of genres\n",
        "genres = ['MrBeastType', 'VlogType', 'TechReviewType', 'GamingType', 'MinimalistType']\n",
        "\n",
        "# List to store features and labels\n",
        "features = []\n",
        "labels = []\n",
        "\n",
        "# Load data for each genre\n",
        "for i, genre in enumerate(genres):\n",
        "    genre_path = f'/content/audio/{genre}'\n",
        "    for file_name in os.listdir(genre_path):\n",
        "        file_path = os.path.join(genre_path, file_name)\n",
        "        mfccs = extract_features(file_path)\n",
        "        features.append(mfccs)\n",
        "        labels.append(i)  # Assign a unique label for each genre\n",
        "\n",
        "# Convert lists to NumPy arrays\n",
        "X = np.array(features)\n",
        "y = np.array(labels)\n",
        "\n",
        "# Split the data into training, validation, and test sets\n",
        "X_train, X_temp, y_train, y_temp = train_test_split(X, y, test_size=0.3, random_state=42)\n",
        "X_val, X_test, y_val, y_test = train_test_split(X_temp, y_temp, test_size=0.5, random_state=42)\n",
        "\n",
        "# Transpose the MFCCs before reshaping\n",
        "X_train = X_train.transpose(0, 2, 1)\n",
        "X_val = X_val.transpose(0, 2, 1)\n",
        "X_test = X_test.transpose(0, 2, 1)\n",
        "\n",
        "# Reshape the input data to match Conv1D input shape\n",
        "X_train = X_train.reshape((X_train.shape[0], X_train.shape[1], X_train.shape[2]))\n",
        "X_val = X_val.reshape((X_val.shape[0], X_val.shape[1], X_val.shape[2]))\n",
        "X_test = X_test.reshape((X_test.shape[0], X_test.shape[1], X_test.shape[2]))\n",
        "\n",
        "# Define and compile the model\n",
        "model = Sequential()\n",
        "model.add(Conv1D(32, kernel_size=3, activation='relu', input_shape=(X_train.shape[1], X_train.shape[2])))\n",
        "model.add(MaxPooling1D(pool_size=2))\n",
        "model.add(Flatten())\n",
        "model.add(Dense(64, activation='relu'))\n",
        "model.add(Dense(len(genres), activation='softmax'))  # Output layer with softmax activation for multiple genres\n",
        "model.compile(optimizer='adam', loss='sparse_categorical_crossentropy', metrics=['accuracy'])\n",
        "\n",
        "# Train the model\n",
        "model.fit(X_train, y_train, epochs=40, batch_size=32, validation_data=(X_val, y_val))\n",
        "\n",
        "# Evaluate the model on the test set\n",
        "test_loss, test_acc = model.evaluate(X_test, y_test)\n",
        "print(f'Test accuracy: {test_acc}')\n",
        "\n",
        "# Save the trained model\n",
        "model.save('/content/drive/MyDrive/videos/audio_analysis_multi_genre.h5')\n"
      ],
      "metadata": {
        "id": "M3fpwwxZDIow",
        "outputId": "0ee840f9-835c-4680-dbac-e251e1241acf",
        "colab": {
          "base_uri": "https://localhost:8080/"
        }
      },
      "execution_count": null,
      "outputs": [
        {
          "output_type": "stream",
          "name": "stdout",
          "text": [
            "Epoch 1/40\n",
            "1/1 [==============================] - 2s 2s/step - loss: 112.5824 - accuracy: 0.1905 - val_loss: 255.7360 - val_accuracy: 0.0000e+00\n",
            "Epoch 2/40\n",
            "1/1 [==============================] - 0s 115ms/step - loss: 176.3468 - accuracy: 0.2381 - val_loss: 163.8461 - val_accuracy: 0.4000\n",
            "Epoch 3/40\n",
            "1/1 [==============================] - 0s 116ms/step - loss: 97.1571 - accuracy: 0.3810 - val_loss: 170.7296 - val_accuracy: 0.2000\n",
            "Epoch 4/40\n",
            "1/1 [==============================] - 0s 111ms/step - loss: 118.8634 - accuracy: 0.3333 - val_loss: 172.2961 - val_accuracy: 0.2000\n",
            "Epoch 5/40\n",
            "1/1 [==============================] - 0s 136ms/step - loss: 117.0775 - accuracy: 0.2857 - val_loss: 120.8457 - val_accuracy: 0.2000\n",
            "Epoch 6/40\n",
            "1/1 [==============================] - 0s 111ms/step - loss: 62.4390 - accuracy: 0.4762 - val_loss: 85.7447 - val_accuracy: 0.4000\n",
            "Epoch 7/40\n",
            "1/1 [==============================] - 0s 104ms/step - loss: 49.5577 - accuracy: 0.6667 - val_loss: 75.7190 - val_accuracy: 0.6000\n",
            "Epoch 8/40\n",
            "1/1 [==============================] - 0s 70ms/step - loss: 51.5766 - accuracy: 0.4286 - val_loss: 60.6738 - val_accuracy: 0.6000\n",
            "Epoch 9/40\n",
            "1/1 [==============================] - 0s 183ms/step - loss: 43.2175 - accuracy: 0.4762 - val_loss: 42.2154 - val_accuracy: 0.6000\n",
            "Epoch 10/40\n",
            "1/1 [==============================] - 0s 78ms/step - loss: 31.8154 - accuracy: 0.4286 - val_loss: 23.1912 - val_accuracy: 0.6000\n",
            "Epoch 11/40\n",
            "1/1 [==============================] - 0s 135ms/step - loss: 18.6171 - accuracy: 0.6190 - val_loss: 5.5286 - val_accuracy: 0.6000\n",
            "Epoch 12/40\n",
            "1/1 [==============================] - 0s 68ms/step - loss: 5.9447 - accuracy: 0.7619 - val_loss: 10.8989 - val_accuracy: 0.6000\n",
            "Epoch 13/40\n",
            "1/1 [==============================] - 0s 132ms/step - loss: 8.8538 - accuracy: 0.6667 - val_loss: 18.4845 - val_accuracy: 0.6000\n",
            "Epoch 14/40\n",
            "1/1 [==============================] - 0s 109ms/step - loss: 21.2073 - accuracy: 0.4286 - val_loss: 19.5019 - val_accuracy: 0.6000\n",
            "Epoch 15/40\n",
            "1/1 [==============================] - 0s 66ms/step - loss: 23.0042 - accuracy: 0.5238 - val_loss: 16.1434 - val_accuracy: 0.6000\n",
            "Epoch 16/40\n",
            "1/1 [==============================] - 0s 160ms/step - loss: 15.6322 - accuracy: 0.5714 - val_loss: 10.0552 - val_accuracy: 0.6000\n",
            "Epoch 17/40\n",
            "1/1 [==============================] - 0s 96ms/step - loss: 4.5014 - accuracy: 0.7619 - val_loss: 3.0258 - val_accuracy: 0.6000\n",
            "Epoch 18/40\n",
            "1/1 [==============================] - 0s 78ms/step - loss: 2.6399 - accuracy: 0.8095 - val_loss: 13.1059 - val_accuracy: 0.4000\n",
            "Epoch 19/40\n",
            "1/1 [==============================] - 0s 85ms/step - loss: 6.4542 - accuracy: 0.7143 - val_loss: 19.3355 - val_accuracy: 0.4000\n",
            "Epoch 20/40\n",
            "1/1 [==============================] - 0s 86ms/step - loss: 7.7579 - accuracy: 0.7619 - val_loss: 20.6680 - val_accuracy: 0.4000\n",
            "Epoch 21/40\n",
            "1/1 [==============================] - 0s 100ms/step - loss: 9.6959 - accuracy: 0.8095 - val_loss: 19.4103 - val_accuracy: 0.2000\n",
            "Epoch 22/40\n",
            "1/1 [==============================] - 0s 112ms/step - loss: 9.4626 - accuracy: 0.8095 - val_loss: 21.1025 - val_accuracy: 0.4000\n",
            "Epoch 23/40\n",
            "1/1 [==============================] - 0s 161ms/step - loss: 7.2079 - accuracy: 0.7619 - val_loss: 21.4932 - val_accuracy: 0.4000\n",
            "Epoch 24/40\n",
            "1/1 [==============================] - 0s 100ms/step - loss: 5.4947 - accuracy: 0.7619 - val_loss: 17.6107 - val_accuracy: 0.4000\n",
            "Epoch 25/40\n",
            "1/1 [==============================] - 0s 72ms/step - loss: 3.2339 - accuracy: 0.8571 - val_loss: 11.5921 - val_accuracy: 0.4000\n",
            "Epoch 26/40\n",
            "1/1 [==============================] - 0s 104ms/step - loss: 1.1591 - accuracy: 0.8571 - val_loss: 8.5996 - val_accuracy: 0.6000\n",
            "Epoch 27/40\n",
            "1/1 [==============================] - 0s 93ms/step - loss: 0.7330 - accuracy: 0.9048 - val_loss: 12.2195 - val_accuracy: 0.6000\n",
            "Epoch 28/40\n",
            "1/1 [==============================] - 0s 159ms/step - loss: 2.6930 - accuracy: 0.8571 - val_loss: 15.7810 - val_accuracy: 0.6000\n",
            "Epoch 29/40\n",
            "1/1 [==============================] - 0s 92ms/step - loss: 3.4444 - accuracy: 0.8571 - val_loss: 18.0687 - val_accuracy: 0.6000\n",
            "Epoch 30/40\n",
            "1/1 [==============================] - 0s 157ms/step - loss: 3.0468 - accuracy: 0.8571 - val_loss: 19.1471 - val_accuracy: 0.6000\n",
            "Epoch 31/40\n",
            "1/1 [==============================] - 0s 171ms/step - loss: 1.7511 - accuracy: 0.9048 - val_loss: 20.2035 - val_accuracy: 0.4000\n",
            "Epoch 32/40\n",
            "1/1 [==============================] - 0s 163ms/step - loss: 1.3878 - accuracy: 0.9524 - val_loss: 22.2079 - val_accuracy: 0.4000\n",
            "Epoch 33/40\n",
            "1/1 [==============================] - 0s 108ms/step - loss: 1.3445 - accuracy: 0.9524 - val_loss: 23.1454 - val_accuracy: 0.4000\n",
            "Epoch 34/40\n",
            "1/1 [==============================] - 0s 149ms/step - loss: 1.4563 - accuracy: 0.9048 - val_loss: 22.9179 - val_accuracy: 0.4000\n",
            "Epoch 35/40\n",
            "1/1 [==============================] - 0s 67ms/step - loss: 0.8226 - accuracy: 0.9048 - val_loss: 21.6268 - val_accuracy: 0.4000\n",
            "Epoch 36/40\n",
            "1/1 [==============================] - 0s 33ms/step - loss: 0.1018 - accuracy: 0.9524 - val_loss: 20.4811 - val_accuracy: 0.4000\n",
            "Epoch 37/40\n",
            "1/1 [==============================] - 0s 33ms/step - loss: 0.4378 - accuracy: 0.9048 - val_loss: 20.1385 - val_accuracy: 0.4000\n",
            "Epoch 38/40\n",
            "1/1 [==============================] - 0s 33ms/step - loss: 0.5875 - accuracy: 0.9048 - val_loss: 21.7021 - val_accuracy: 0.4000\n",
            "Epoch 39/40\n",
            "1/1 [==============================] - 0s 32ms/step - loss: 0.0361 - accuracy: 0.9524 - val_loss: 23.4450 - val_accuracy: 0.4000\n",
            "Epoch 40/40\n",
            "1/1 [==============================] - 0s 34ms/step - loss: 3.2281e-04 - accuracy: 1.0000 - val_loss: 25.0293 - val_accuracy: 0.4000\n",
            "1/1 [==============================] - 0s 24ms/step - loss: 49.3467 - accuracy: 0.2000\n",
            "Test accuracy: 0.20000000298023224\n"
          ]
        }
      ]
    },
    {
      "cell_type": "code",
      "source": [
        "import os\n",
        "import random\n",
        "import matplotlib.pyplot as plt\n",
        "from tensorflow.keras.preprocessing import image\n",
        "import numpy as np\n",
        "from tensorflow.keras.models import load_model\n",
        "\n",
        "# Function to preprocess an image for prediction\n",
        "def preprocess_image(img_path):\n",
        "    img = image.load_img(img_path, target_size=(224, 224))\n",
        "    img_array = image.img_to_array(img)\n",
        "    img_array = np.expand_dims(img_array, axis=0)\n",
        "    img_array /= 255.0  # Normalize the pixel values to be between 0 and 1\n",
        "    return img_array, img\n",
        "\n",
        "# Choose a random image from the test folder\n",
        "test_images_folder = '/content/dataset/test'\n",
        "genres = ['MrBeastType', 'VlogType', 'TechReviewType', 'GamingType', 'MinimalistType']\n",
        "random_genre = random.choice(genres)\n",
        "random_image_name = random.choice(os.listdir(os.path.join(test_images_folder, random_genre)))\n",
        "random_image_path = os.path.join(test_images_folder, random_genre, random_image_name)\n",
        "\n",
        "# Preprocess the image\n",
        "img, original_img = preprocess_image(random_image_path)\n",
        "\n",
        "# Load the 'adamax' model\n",
        "optimizer_name = 'adamax'\n",
        "model_path = f'/content/drive/MyDrive/videos/video_analysis_vgg16_{optimizer_name}.h5'\n",
        "model = load_model(model_path)\n",
        "\n",
        "# Make a prediction\n",
        "prediction = model.predict(img)\n",
        "\n",
        "# Display the result along with the actual image and selected genre\n",
        "plt.imshow(original_img)\n",
        "plt.axis('off')\n",
        "\n",
        "print(f'Model with optimizer {optimizer_name}:')\n",
        "print(f'Selected from genre: {random_genre}')\n",
        "predicted_genre = genres[np.argmax(prediction)]\n",
        "plt.title(f'Predicted: {predicted_genre}')\n",
        "plt.show()\n",
        "print('---')\n"
      ],
      "metadata": {
        "id": "e2jrFELEBbq4",
        "outputId": "ef944b0a-4056-444d-f921-010ac9cd53dc",
        "colab": {
          "base_uri": "https://localhost:8080/",
          "height": 501
        }
      },
      "execution_count": null,
      "outputs": [
        {
          "output_type": "stream",
          "name": "stdout",
          "text": [
            "1/1 [==============================] - 0s 134ms/step\n",
            "Model with optimizer adamax:\n",
            "Selected from genre: VlogType\n"
          ]
        },
        {
          "output_type": "display_data",
          "data": {
            "text/plain": [
              "<Figure size 640x480 with 1 Axes>"
            ],
            "image/png": "[encoded data removed]"
          },
          "metadata": {}
        },
        {
          "output_type": "stream",
          "name": "stdout",
          "text": [
            "---\n"
          ]
        }
      ]
    },
    {
      "cell_type": "markdown",
      "source": [
        "# To predict a new video\n"
      ],
      "metadata": {
        "id": "ps6uJKEUGXob"
      }
    },
    {
      "cell_type": "code",
      "source": [
        "! rm -rf Test"
      ],
      "metadata": {
        "id": "gCMmgttkR29u"
      },
      "execution_count": null,
      "outputs": []
    },
    {
      "cell_type": "code",
      "source": [
        "from moviepy.video.io.VideoFileClip import VideoFileClip\n",
        "from tensorflow.keras.models import load_model\n",
        "from tensorflow.keras.preprocessing import image\n",
        "import numpy as np\n",
        "import os\n",
        "from PIL import Image\n",
        "\n",
        "audioIndex = 0\n",
        "imageIndex = 0\n",
        "totalTime = 0\n",
        "\n",
        "# Load the 'adamax' model\n",
        "optimizer_name = 'adamax'\n",
        "model_path = '/content/drive/MyDrive/videos/video_analysis_vgg16_adamax.h5'\n",
        "model = load_model(model_path)\n",
        "\n",
        "# Define the target size expected by the model\n",
        "target_size = (224, 224)\n",
        "\n",
        "def preprocess_image(img):\n",
        "    # Resize the image to the target size\n",
        "    img = img.resize(target_size)\n",
        "    img_array = image.img_to_array(img)\n",
        "    img_array = np.expand_dims(img_array, axis=0)\n",
        "    img_array /= 255.0  # Normalize the pixel values to be between 0 and 1\n",
        "    return img_array\n",
        "\n",
        "def predict_genre(img):\n",
        "    img_array = preprocess_image(img)\n",
        "    prediction = model.predict(img_array)\n",
        "    predicted_genre = genres[np.argmax(prediction)]\n",
        "    return predicted_genre\n",
        "\n",
        "def extract_screenshots_and_audio(input_video_path, output_screenshots_folder, output_audio_folder):\n",
        "    global audioIndex, imageIndex, totalTime\n",
        "\n",
        "    # Create output folders if they don't exist\n",
        "    os.makedirs(output_screenshots_folder, exist_ok=True)\n",
        "    os.makedirs(output_audio_folder, exist_ok=True)\n",
        "\n",
        "    # Load video\n",
        "    video_clip = VideoFileClip(input_video_path)\n",
        "\n",
        "    # Extract screenshots and calculate mean time duration\n",
        "    screenshots = []\n",
        "    mean_time_duration = 0\n",
        "    for timestamp in range(0, int(video_clip.duration), 2):\n",
        "        screenshot = video_clip.get_frame(timestamp)\n",
        "\n",
        "        # Convert NumPy array to PIL Image\n",
        "        pil_image = Image.fromarray(screenshot)\n",
        "\n",
        "        # Predict the genre using the 'adamax' model\n",
        "        predicted_genre = predict_genre(pil_image)\n",
        "\n",
        "        # Save screenshot with predicted genre as the filename\n",
        "        screenshot_path = os.path.join(output_screenshots_folder, f\"{predicted_genre}_{imageIndex}.png\")\n",
        "        imageIndex += 1\n",
        "        pil_image.save(screenshot_path)\n",
        "\n",
        "        screenshots.append(pil_image)\n",
        "        mean_time_duration += timestamp\n",
        "\n",
        "    totalTime += video_clip.duration\n",
        "\n",
        "    # Extract audio in 30-second chunks\n",
        "    audio = video_clip.audio\n",
        "    chunk_duration = 2  # seconds\n",
        "\n",
        "    for start_time in range(0, int(video_clip.duration), chunk_duration):\n",
        "        end_time = min(start_time + chunk_duration, int(video_clip.duration))\n",
        "        audio_chunk = audio.subclip(start_time, end_time)\n",
        "        audio_chunk_path = os.path.join(output_audio_folder, f\"audio_{audioIndex}_{start_time}-{end_time}.wav\")\n",
        "        audio_chunk.write_audiofile(audio_chunk_path, codec='pcm_s16le', ffmpeg_params=[\"-ac\", \"1\"])\n",
        "        audioIndex += 1\n",
        "\n",
        "    # Close video clip\n",
        "    video_clip.close()\n",
        "\n",
        "if __name__ == \"__main__\":\n",
        "    input_video_path = \"/content/drive/MyDrive/videos/TestVideos/GamingType.mp4\"\n",
        "    output_screenshots_folder = \"/content/Test/screenshot\"\n",
        "    output_audio_folder = \"/content/Test/audio\"\n",
        "\n",
        "    genres = ['MrBeastType', 'VlogType', 'TechReviewType', 'GamingType', 'MinimalistType']\n",
        "\n",
        "    # Call the function with the video file path\n",
        "    extract_screenshots_and_audio(input_video_path, output_screenshots_folder, output_audio_folder)\n",
        "\n",
        "    # Calculate average time (if needed)\n",
        "    averageTime = totalTime\n",
        "    print(averageTime)\n"
      ],
      "metadata": {
        "id": "YBTPiCLBB4Ms",
        "outputId": "040a7956-9d3b-4ce0-b813-63d86a94b5aa",
        "colab": {
          "base_uri": "https://localhost:8080/"
        }
      },
      "execution_count": null,
      "outputs": [
        {
          "output_type": "stream",
          "name": "stdout",
          "text": [
            "1/1 [==============================] - 0s 149ms/step\n",
            "1/1 [==============================] - 0s 18ms/step\n",
            "1/1 [==============================] - 0s 24ms/step\n",
            "1/1 [==============================] - 0s 22ms/step\n",
            "1/1 [==============================] - 0s 19ms/step\n",
            "1/1 [==============================] - 0s 19ms/step\n",
            "1/1 [==============================] - 0s 18ms/step\n",
            "1/1 [==============================] - 0s 18ms/step\n",
            "1/1 [==============================] - 0s 18ms/step\n",
            "1/1 [==============================] - 0s 18ms/step\n",
            "1/1 [==============================] - 0s 20ms/step\n",
            "1/1 [==============================] - 0s 18ms/step\n",
            "1/1 [==============================] - 0s 27ms/step\n",
            "1/1 [==============================] - 0s 18ms/step\n",
            "1/1 [==============================] - 0s 19ms/step\n",
            "1/1 [==============================] - 0s 19ms/step\n",
            "1/1 [==============================] - 0s 18ms/step\n",
            "1/1 [==============================] - 0s 20ms/step\n",
            "1/1 [==============================] - 0s 21ms/step\n",
            "1/1 [==============================] - 0s 19ms/step\n",
            "1/1 [==============================] - 0s 21ms/step\n",
            "1/1 [==============================] - 0s 19ms/step\n",
            "1/1 [==============================] - 0s 19ms/step\n",
            "1/1 [==============================] - 0s 19ms/step\n",
            "1/1 [==============================] - 0s 19ms/step\n",
            "1/1 [==============================] - 0s 18ms/step\n",
            "1/1 [==============================] - 0s 23ms/step\n",
            "1/1 [==============================] - 0s 19ms/step\n",
            "1/1 [==============================] - 0s 19ms/step\n",
            "1/1 [==============================] - 0s 19ms/step\n",
            "1/1 [==============================] - 0s 18ms/step\n",
            "1/1 [==============================] - 0s 19ms/step\n",
            "1/1 [==============================] - 0s 19ms/step\n",
            "1/1 [==============================] - 0s 18ms/step\n",
            "1/1 [==============================] - 0s 18ms/step\n",
            "1/1 [==============================] - 0s 19ms/step\n",
            "1/1 [==============================] - 0s 19ms/step\n",
            "1/1 [==============================] - 0s 18ms/step\n",
            "1/1 [==============================] - 0s 19ms/step\n",
            "1/1 [==============================] - 0s 19ms/step\n",
            "1/1 [==============================] - 0s 19ms/step\n",
            "1/1 [==============================] - 0s 21ms/step\n",
            "1/1 [==============================] - 0s 18ms/step\n",
            "1/1 [==============================] - 0s 27ms/step\n",
            "1/1 [==============================] - 0s 27ms/step\n",
            "1/1 [==============================] - 0s 26ms/step\n",
            "1/1 [==============================] - 0s 28ms/step\n",
            "1/1 [==============================] - 0s 36ms/step\n",
            "1/1 [==============================] - 0s 26ms/step\n",
            "1/1 [==============================] - 0s 30ms/step\n",
            "1/1 [==============================] - 0s 28ms/step\n",
            "1/1 [==============================] - 0s 31ms/step\n",
            "1/1 [==============================] - 0s 30ms/step\n",
            "1/1 [==============================] - 0s 31ms/step\n",
            "1/1 [==============================] - 0s 30ms/step\n",
            "1/1 [==============================] - 0s 19ms/step\n",
            "1/1 [==============================] - 0s 19ms/step\n",
            "1/1 [==============================] - 0s 18ms/step\n",
            "1/1 [==============================] - 0s 29ms/step\n",
            "1/1 [==============================] - 0s 19ms/step\n",
            "1/1 [==============================] - 0s 18ms/step\n",
            "1/1 [==============================] - 0s 18ms/step\n",
            "1/1 [==============================] - 0s 18ms/step\n",
            "1/1 [==============================] - 0s 30ms/step\n",
            "1/1 [==============================] - 0s 19ms/step\n",
            "1/1 [==============================] - 0s 19ms/step\n",
            "1/1 [==============================] - 0s 19ms/step\n",
            "1/1 [==============================] - 0s 18ms/step\n",
            "1/1 [==============================] - 0s 18ms/step\n",
            "1/1 [==============================] - 0s 19ms/step\n",
            "1/1 [==============================] - 0s 20ms/step\n",
            "1/1 [==============================] - 0s 18ms/step\n",
            "1/1 [==============================] - 0s 20ms/step\n",
            "1/1 [==============================] - 0s 18ms/step\n",
            "1/1 [==============================] - 0s 18ms/step\n",
            "1/1 [==============================] - 0s 19ms/step\n",
            "1/1 [==============================] - 0s 18ms/step\n",
            "1/1 [==============================] - 0s 18ms/step\n",
            "1/1 [==============================] - 0s 18ms/step\n",
            "1/1 [==============================] - 0s 18ms/step\n",
            "1/1 [==============================] - 0s 18ms/step\n",
            "1/1 [==============================] - 0s 18ms/step\n",
            "1/1 [==============================] - 0s 19ms/step\n",
            "1/1 [==============================] - 0s 19ms/step\n",
            "1/1 [==============================] - 0s 18ms/step\n",
            "1/1 [==============================] - 0s 18ms/step\n",
            "1/1 [==============================] - 0s 19ms/step\n",
            "1/1 [==============================] - 0s 18ms/step\n",
            "1/1 [==============================] - 0s 18ms/step\n",
            "1/1 [==============================] - 0s 19ms/step\n",
            "1/1 [==============================] - 0s 19ms/step\n",
            "1/1 [==============================] - 0s 21ms/step\n",
            "1/1 [==============================] - 0s 18ms/step\n",
            "1/1 [==============================] - 0s 18ms/step\n",
            "1/1 [==============================] - 0s 19ms/step\n",
            "1/1 [==============================] - 0s 18ms/step\n",
            "1/1 [==============================] - 0s 18ms/step\n",
            "1/1 [==============================] - 0s 19ms/step\n",
            "1/1 [==============================] - 0s 18ms/step\n",
            "1/1 [==============================] - 0s 19ms/step\n",
            "1/1 [==============================] - 0s 19ms/step\n",
            "1/1 [==============================] - 0s 20ms/step\n",
            "1/1 [==============================] - 0s 26ms/step\n",
            "1/1 [==============================] - 0s 28ms/step\n",
            "1/1 [==============================] - 0s 29ms/step\n",
            "1/1 [==============================] - 0s 29ms/step\n",
            "1/1 [==============================] - 0s 26ms/step\n",
            "1/1 [==============================] - 0s 30ms/step\n",
            "1/1 [==============================] - 0s 29ms/step\n",
            "1/1 [==============================] - 0s 29ms/step\n",
            "1/1 [==============================] - 0s 34ms/step\n",
            "1/1 [==============================] - 0s 34ms/step\n",
            "1/1 [==============================] - 0s 35ms/step\n",
            "1/1 [==============================] - 0s 50ms/step\n",
            "1/1 [==============================] - 0s 35ms/step\n",
            "1/1 [==============================] - 0s 18ms/step\n",
            "1/1 [==============================] - 0s 18ms/step\n",
            "1/1 [==============================] - 0s 21ms/step\n",
            "1/1 [==============================] - 0s 18ms/step\n",
            "1/1 [==============================] - 0s 18ms/step\n",
            "1/1 [==============================] - 0s 18ms/step\n",
            "1/1 [==============================] - 0s 18ms/step\n",
            "1/1 [==============================] - 0s 18ms/step\n",
            "1/1 [==============================] - 0s 19ms/step\n",
            "1/1 [==============================] - 0s 19ms/step\n",
            "1/1 [==============================] - 0s 18ms/step\n",
            "1/1 [==============================] - 0s 18ms/step\n",
            "1/1 [==============================] - 0s 18ms/step\n",
            "1/1 [==============================] - 0s 19ms/step\n",
            "1/1 [==============================] - 0s 19ms/step\n",
            "1/1 [==============================] - 0s 18ms/step\n",
            "1/1 [==============================] - 0s 22ms/step\n",
            "1/1 [==============================] - 0s 18ms/step\n",
            "1/1 [==============================] - 0s 21ms/step\n",
            "1/1 [==============================] - 0s 19ms/step\n",
            "1/1 [==============================] - 0s 24ms/step\n",
            "1/1 [==============================] - 0s 18ms/step\n",
            "1/1 [==============================] - 0s 18ms/step\n",
            "1/1 [==============================] - 0s 19ms/step\n",
            "1/1 [==============================] - 0s 18ms/step\n",
            "1/1 [==============================] - 0s 18ms/step\n",
            "1/1 [==============================] - 0s 18ms/step\n",
            "1/1 [==============================] - 0s 19ms/step\n",
            "1/1 [==============================] - 0s 19ms/step\n",
            "1/1 [==============================] - 0s 21ms/step\n",
            "1/1 [==============================] - 0s 18ms/step\n",
            "1/1 [==============================] - 0s 21ms/step\n",
            "1/1 [==============================] - 0s 19ms/step\n",
            "1/1 [==============================] - 0s 19ms/step\n",
            "1/1 [==============================] - 0s 19ms/step\n",
            "1/1 [==============================] - 0s 19ms/step\n",
            "1/1 [==============================] - 0s 19ms/step\n",
            "1/1 [==============================] - 0s 22ms/step\n",
            "1/1 [==============================] - 0s 20ms/step\n",
            "1/1 [==============================] - 0s 19ms/step\n",
            "1/1 [==============================] - 0s 20ms/step\n",
            "1/1 [==============================] - 0s 18ms/step\n",
            "1/1 [==============================] - 0s 18ms/step\n",
            "1/1 [==============================] - 0s 20ms/step\n",
            "1/1 [==============================] - 0s 18ms/step\n",
            "1/1 [==============================] - 0s 18ms/step\n",
            "1/1 [==============================] - 0s 18ms/step\n",
            "1/1 [==============================] - 0s 18ms/step\n",
            "1/1 [==============================] - 0s 29ms/step\n",
            "1/1 [==============================] - 0s 31ms/step\n",
            "1/1 [==============================] - 0s 30ms/step\n",
            "1/1 [==============================] - 0s 26ms/step\n",
            "1/1 [==============================] - 0s 25ms/step\n",
            "1/1 [==============================] - 0s 36ms/step\n",
            "1/1 [==============================] - 0s 29ms/step\n",
            "1/1 [==============================] - 0s 28ms/step\n",
            "1/1 [==============================] - 0s 28ms/step\n",
            "1/1 [==============================] - 0s 28ms/step\n",
            "1/1 [==============================] - 0s 28ms/step\n",
            "1/1 [==============================] - 0s 18ms/step\n",
            "1/1 [==============================] - 0s 18ms/step\n",
            "1/1 [==============================] - 0s 18ms/step\n",
            "1/1 [==============================] - 0s 20ms/step\n",
            "1/1 [==============================] - 0s 18ms/step\n",
            "1/1 [==============================] - 0s 21ms/step\n",
            "1/1 [==============================] - 0s 20ms/step\n",
            "1/1 [==============================] - 0s 18ms/step\n",
            "1/1 [==============================] - 0s 18ms/step\n",
            "1/1 [==============================] - 0s 19ms/step\n",
            "1/1 [==============================] - 0s 25ms/step\n",
            "1/1 [==============================] - 0s 18ms/step\n",
            "1/1 [==============================] - 0s 24ms/step\n",
            "1/1 [==============================] - 0s 18ms/step\n",
            "1/1 [==============================] - 0s 18ms/step\n",
            "1/1 [==============================] - 0s 23ms/step\n",
            "1/1 [==============================] - 0s 18ms/step\n",
            "1/1 [==============================] - 0s 20ms/step\n",
            "1/1 [==============================] - 0s 18ms/step\n",
            "1/1 [==============================] - 0s 18ms/step\n",
            "1/1 [==============================] - 0s 18ms/step\n",
            "1/1 [==============================] - 0s 20ms/step\n",
            "1/1 [==============================] - 0s 18ms/step\n",
            "1/1 [==============================] - 0s 18ms/step\n",
            "1/1 [==============================] - 0s 18ms/step\n",
            "1/1 [==============================] - 0s 19ms/step\n",
            "1/1 [==============================] - 0s 19ms/step\n",
            "1/1 [==============================] - 0s 18ms/step\n",
            "1/1 [==============================] - 0s 18ms/step\n",
            "1/1 [==============================] - 0s 18ms/step\n",
            "1/1 [==============================] - 0s 20ms/step\n",
            "1/1 [==============================] - 0s 18ms/step\n",
            "1/1 [==============================] - 0s 20ms/step\n",
            "1/1 [==============================] - 0s 19ms/step\n",
            "1/1 [==============================] - 0s 19ms/step\n",
            "1/1 [==============================] - 0s 19ms/step\n",
            "1/1 [==============================] - 0s 20ms/step\n",
            "1/1 [==============================] - 0s 18ms/step\n",
            "1/1 [==============================] - 0s 18ms/step\n",
            "1/1 [==============================] - 0s 18ms/step\n",
            "1/1 [==============================] - 0s 18ms/step\n",
            "1/1 [==============================] - 0s 19ms/step\n",
            "1/1 [==============================] - 0s 20ms/step\n",
            "1/1 [==============================] - 0s 19ms/step\n",
            "1/1 [==============================] - 0s 18ms/step\n",
            "1/1 [==============================] - 0s 18ms/step\n",
            "1/1 [==============================] - 0s 35ms/step\n",
            "1/1 [==============================] - 0s 33ms/step\n",
            "1/1 [==============================] - 0s 32ms/step\n",
            "1/1 [==============================] - 0s 30ms/step\n",
            "1/1 [==============================] - 0s 29ms/step\n",
            "1/1 [==============================] - 0s 29ms/step\n",
            "1/1 [==============================] - 0s 31ms/step\n",
            "1/1 [==============================] - 0s 28ms/step\n",
            "1/1 [==============================] - 0s 28ms/step\n",
            "1/1 [==============================] - 0s 28ms/step\n",
            "1/1 [==============================] - 0s 28ms/step\n",
            "1/1 [==============================] - 0s 29ms/step\n",
            "1/1 [==============================] - 0s 19ms/step\n",
            "1/1 [==============================] - 0s 22ms/step\n",
            "1/1 [==============================] - 0s 20ms/step\n",
            "1/1 [==============================] - 0s 20ms/step\n",
            "1/1 [==============================] - 0s 18ms/step\n",
            "1/1 [==============================] - 0s 18ms/step\n",
            "1/1 [==============================] - 0s 18ms/step\n",
            "1/1 [==============================] - 0s 20ms/step\n",
            "1/1 [==============================] - 0s 18ms/step\n",
            "1/1 [==============================] - 0s 18ms/step\n",
            "1/1 [==============================] - 0s 29ms/step\n",
            "1/1 [==============================] - 0s 18ms/step\n",
            "1/1 [==============================] - 0s 19ms/step\n",
            "1/1 [==============================] - 0s 21ms/step\n",
            "1/1 [==============================] - 0s 20ms/step\n",
            "1/1 [==============================] - 0s 18ms/step\n",
            "1/1 [==============================] - 0s 18ms/step\n",
            "1/1 [==============================] - 0s 19ms/step\n",
            "1/1 [==============================] - 0s 21ms/step\n",
            "1/1 [==============================] - 0s 21ms/step\n",
            "1/1 [==============================] - 0s 18ms/step\n",
            "1/1 [==============================] - 0s 18ms/step\n",
            "1/1 [==============================] - 0s 19ms/step\n",
            "1/1 [==============================] - 0s 19ms/step\n",
            "1/1 [==============================] - 0s 18ms/step\n",
            "1/1 [==============================] - 0s 18ms/step\n",
            "1/1 [==============================] - 0s 19ms/step\n",
            "1/1 [==============================] - 0s 18ms/step\n",
            "1/1 [==============================] - 0s 19ms/step\n",
            "1/1 [==============================] - 0s 18ms/step\n",
            "1/1 [==============================] - 0s 18ms/step\n",
            "1/1 [==============================] - 0s 18ms/step\n",
            "1/1 [==============================] - 0s 20ms/step\n",
            "1/1 [==============================] - 0s 19ms/step\n",
            "1/1 [==============================] - 0s 19ms/step\n",
            "1/1 [==============================] - 0s 18ms/step\n",
            "1/1 [==============================] - 0s 20ms/step\n",
            "1/1 [==============================] - 0s 23ms/step\n",
            "1/1 [==============================] - 0s 18ms/step\n",
            "1/1 [==============================] - 0s 19ms/step\n",
            "1/1 [==============================] - 0s 18ms/step\n",
            "1/1 [==============================] - 0s 19ms/step\n",
            "1/1 [==============================] - 0s 19ms/step\n",
            "1/1 [==============================] - 0s 31ms/step\n",
            "1/1 [==============================] - 0s 18ms/step\n",
            "1/1 [==============================] - 0s 19ms/step\n",
            "1/1 [==============================] - 0s 20ms/step\n",
            "1/1 [==============================] - 0s 21ms/step\n",
            "1/1 [==============================] - 0s 18ms/step\n",
            "1/1 [==============================] - 0s 30ms/step\n",
            "1/1 [==============================] - 0s 31ms/step\n",
            "1/1 [==============================] - 0s 31ms/step\n",
            "1/1 [==============================] - 0s 30ms/step\n",
            "1/1 [==============================] - 0s 27ms/step\n",
            "1/1 [==============================] - 0s 28ms/step\n",
            "1/1 [==============================] - 0s 40ms/step\n",
            "1/1 [==============================] - 0s 27ms/step\n",
            "1/1 [==============================] - 0s 38ms/step\n",
            "1/1 [==============================] - 0s 28ms/step\n",
            "1/1 [==============================] - 0s 28ms/step\n",
            "1/1 [==============================] - 0s 28ms/step\n",
            "1/1 [==============================] - 0s 18ms/step\n",
            "1/1 [==============================] - 0s 18ms/step\n",
            "1/1 [==============================] - 0s 18ms/step\n",
            "1/1 [==============================] - 0s 20ms/step\n",
            "1/1 [==============================] - 0s 18ms/step\n",
            "1/1 [==============================] - 0s 18ms/step\n",
            "1/1 [==============================] - 0s 18ms/step\n",
            "1/1 [==============================] - 0s 18ms/step\n",
            "1/1 [==============================] - 0s 19ms/step\n",
            "1/1 [==============================] - 0s 19ms/step\n",
            "1/1 [==============================] - 0s 18ms/step\n",
            "1/1 [==============================] - 0s 19ms/step\n",
            "1/1 [==============================] - 0s 19ms/step\n",
            "1/1 [==============================] - 0s 21ms/step\n",
            "1/1 [==============================] - 0s 19ms/step\n",
            "1/1 [==============================] - 0s 19ms/step\n",
            "1/1 [==============================] - 0s 23ms/step\n",
            "1/1 [==============================] - 0s 20ms/step\n",
            "1/1 [==============================] - 0s 19ms/step\n",
            "1/1 [==============================] - 0s 18ms/step\n",
            "1/1 [==============================] - 0s 19ms/step\n",
            "1/1 [==============================] - 0s 29ms/step\n",
            "1/1 [==============================] - 0s 20ms/step\n",
            "1/1 [==============================] - 0s 19ms/step\n",
            "1/1 [==============================] - 0s 19ms/step\n",
            "1/1 [==============================] - 0s 19ms/step\n",
            "1/1 [==============================] - 0s 19ms/step\n",
            "1/1 [==============================] - 0s 18ms/step\n",
            "1/1 [==============================] - 0s 19ms/step\n",
            "1/1 [==============================] - 0s 18ms/step\n",
            "1/1 [==============================] - 0s 19ms/step\n",
            "1/1 [==============================] - 0s 18ms/step\n",
            "1/1 [==============================] - 0s 18ms/step\n",
            "1/1 [==============================] - 0s 18ms/step\n",
            "1/1 [==============================] - 0s 19ms/step\n",
            "1/1 [==============================] - 0s 19ms/step\n",
            "1/1 [==============================] - 0s 21ms/step\n",
            "1/1 [==============================] - 0s 18ms/step\n",
            "1/1 [==============================] - 0s 18ms/step\n",
            "1/1 [==============================] - 0s 19ms/step\n",
            "1/1 [==============================] - 0s 18ms/step\n",
            "1/1 [==============================] - 0s 23ms/step\n",
            "1/1 [==============================] - 0s 18ms/step\n",
            "1/1 [==============================] - 0s 18ms/step\n",
            "1/1 [==============================] - 0s 20ms/step\n",
            "1/1 [==============================] - 0s 20ms/step\n",
            "1/1 [==============================] - 0s 19ms/step\n",
            "1/1 [==============================] - 0s 18ms/step\n",
            "1/1 [==============================] - 0s 18ms/step\n",
            "1/1 [==============================] - 0s 30ms/step\n",
            "1/1 [==============================] - 0s 29ms/step\n",
            "1/1 [==============================] - 0s 27ms/step\n",
            "1/1 [==============================] - 0s 26ms/step\n",
            "1/1 [==============================] - 0s 25ms/step\n",
            "1/1 [==============================] - 0s 38ms/step\n",
            "1/1 [==============================] - 0s 30ms/step\n",
            "1/1 [==============================] - 0s 27ms/step\n",
            "1/1 [==============================] - 0s 26ms/step\n",
            "1/1 [==============================] - 0s 26ms/step\n",
            "1/1 [==============================] - 0s 30ms/step\n",
            "1/1 [==============================] - 0s 28ms/step\n",
            "1/1 [==============================] - 0s 30ms/step\n",
            "1/1 [==============================] - 0s 19ms/step\n",
            "1/1 [==============================] - 0s 18ms/step\n",
            "1/1 [==============================] - 0s 18ms/step\n",
            "1/1 [==============================] - 0s 18ms/step\n",
            "1/1 [==============================] - 0s 21ms/step\n",
            "1/1 [==============================] - 0s 18ms/step\n",
            "1/1 [==============================] - 0s 18ms/step\n",
            "1/1 [==============================] - 0s 18ms/step\n",
            "1/1 [==============================] - 0s 18ms/step\n",
            "1/1 [==============================] - 0s 18ms/step\n",
            "1/1 [==============================] - 0s 19ms/step\n",
            "1/1 [==============================] - 0s 18ms/step\n",
            "1/1 [==============================] - 0s 20ms/step\n",
            "1/1 [==============================] - 0s 18ms/step\n",
            "1/1 [==============================] - 0s 19ms/step\n",
            "1/1 [==============================] - 0s 20ms/step\n",
            "1/1 [==============================] - 0s 19ms/step\n",
            "1/1 [==============================] - 0s 18ms/step\n",
            "1/1 [==============================] - 0s 19ms/step\n",
            "1/1 [==============================] - 0s 18ms/step\n",
            "1/1 [==============================] - 0s 26ms/step\n",
            "1/1 [==============================] - 0s 21ms/step\n",
            "1/1 [==============================] - 0s 18ms/step\n",
            "1/1 [==============================] - 0s 19ms/step\n",
            "1/1 [==============================] - 0s 23ms/step\n",
            "1/1 [==============================] - 0s 19ms/step\n",
            "1/1 [==============================] - 0s 20ms/step\n",
            "1/1 [==============================] - 0s 19ms/step\n",
            "1/1 [==============================] - 0s 18ms/step\n",
            "1/1 [==============================] - 0s 19ms/step\n",
            "1/1 [==============================] - 0s 21ms/step\n",
            "1/1 [==============================] - 0s 18ms/step\n",
            "1/1 [==============================] - 0s 18ms/step\n",
            "1/1 [==============================] - 0s 19ms/step\n",
            "1/1 [==============================] - 0s 18ms/step\n",
            "1/1 [==============================] - 0s 20ms/step\n",
            "1/1 [==============================] - 0s 18ms/step\n",
            "1/1 [==============================] - 0s 18ms/step\n",
            "1/1 [==============================] - 0s 19ms/step\n",
            "1/1 [==============================] - 0s 18ms/step\n",
            "1/1 [==============================] - 0s 19ms/step\n",
            "1/1 [==============================] - 0s 19ms/step\n",
            "1/1 [==============================] - 0s 22ms/step\n",
            "1/1 [==============================] - 0s 19ms/step\n",
            "1/1 [==============================] - 0s 18ms/step\n",
            "1/1 [==============================] - 0s 18ms/step\n",
            "1/1 [==============================] - 0s 18ms/step\n",
            "1/1 [==============================] - 0s 18ms/step\n",
            "1/1 [==============================] - 0s 18ms/step\n",
            "1/1 [==============================] - 0s 18ms/step\n",
            "1/1 [==============================] - 0s 18ms/step\n",
            "1/1 [==============================] - 0s 20ms/step\n",
            "1/1 [==============================] - 0s 18ms/step\n",
            "1/1 [==============================] - 0s 30ms/step\n",
            "1/1 [==============================] - 0s 27ms/step\n",
            "1/1 [==============================] - 0s 26ms/step\n",
            "1/1 [==============================] - 0s 25ms/step\n",
            "1/1 [==============================] - 0s 31ms/step\n",
            "1/1 [==============================] - 0s 27ms/step\n",
            "1/1 [==============================] - 0s 31ms/step\n",
            "1/1 [==============================] - 0s 27ms/step\n",
            "1/1 [==============================] - 0s 31ms/step\n",
            "1/1 [==============================] - 0s 28ms/step\n",
            "1/1 [==============================] - 0s 26ms/step\n",
            "1/1 [==============================] - 0s 29ms/step\n",
            "1/1 [==============================] - 0s 31ms/step\n",
            "1/1 [==============================] - 0s 27ms/step\n",
            "1/1 [==============================] - 0s 35ms/step\n",
            "1/1 [==============================] - 0s 19ms/step\n",
            "1/1 [==============================] - 0s 20ms/step\n",
            "1/1 [==============================] - 0s 18ms/step\n",
            "1/1 [==============================] - 0s 18ms/step\n",
            "1/1 [==============================] - 0s 19ms/step\n",
            "1/1 [==============================] - 0s 18ms/step\n",
            "1/1 [==============================] - 0s 18ms/step\n",
            "1/1 [==============================] - 0s 18ms/step\n",
            "1/1 [==============================] - 0s 18ms/step\n",
            "1/1 [==============================] - 0s 19ms/step\n",
            "1/1 [==============================] - 0s 19ms/step\n",
            "1/1 [==============================] - 0s 17ms/step\n",
            "1/1 [==============================] - 0s 21ms/step\n",
            "1/1 [==============================] - 0s 18ms/step\n",
            "1/1 [==============================] - 0s 18ms/step\n",
            "1/1 [==============================] - 0s 18ms/step\n",
            "1/1 [==============================] - 0s 18ms/step\n",
            "1/1 [==============================] - 0s 18ms/step\n",
            "1/1 [==============================] - 0s 20ms/step\n",
            "1/1 [==============================] - 0s 18ms/step\n",
            "1/1 [==============================] - 0s 19ms/step\n",
            "1/1 [==============================] - 0s 18ms/step\n",
            "1/1 [==============================] - 0s 18ms/step\n",
            "1/1 [==============================] - 0s 18ms/step\n",
            "1/1 [==============================] - 0s 19ms/step\n",
            "1/1 [==============================] - 0s 18ms/step\n",
            "1/1 [==============================] - 0s 18ms/step\n",
            "1/1 [==============================] - 0s 18ms/step\n",
            "1/1 [==============================] - 0s 19ms/step\n",
            "1/1 [==============================] - 0s 19ms/step\n",
            "1/1 [==============================] - 0s 19ms/step\n",
            "1/1 [==============================] - 0s 18ms/step\n",
            "1/1 [==============================] - 0s 18ms/step\n",
            "1/1 [==============================] - 0s 18ms/step\n",
            "1/1 [==============================] - 0s 19ms/step\n",
            "1/1 [==============================] - 0s 19ms/step\n",
            "1/1 [==============================] - 0s 20ms/step\n",
            "1/1 [==============================] - 0s 19ms/step\n",
            "1/1 [==============================] - 0s 18ms/step\n",
            "1/1 [==============================] - 0s 18ms/step\n",
            "1/1 [==============================] - 0s 28ms/step\n",
            "1/1 [==============================] - 0s 22ms/step\n",
            "1/1 [==============================] - 0s 18ms/step\n",
            "1/1 [==============================] - 0s 18ms/step\n",
            "1/1 [==============================] - 0s 19ms/step\n",
            "1/1 [==============================] - 0s 18ms/step\n",
            "1/1 [==============================] - 0s 22ms/step\n",
            "1/1 [==============================] - 0s 22ms/step\n",
            "1/1 [==============================] - 0s 18ms/step\n",
            "1/1 [==============================] - 0s 19ms/step\n",
            "1/1 [==============================] - 0s 20ms/step\n",
            "1/1 [==============================] - 0s 19ms/step\n",
            "1/1 [==============================] - 0s 18ms/step\n",
            "1/1 [==============================] - 0s 18ms/step\n",
            "1/1 [==============================] - 0s 19ms/step\n",
            "1/1 [==============================] - 0s 18ms/step\n",
            "1/1 [==============================] - 0s 19ms/step\n",
            "1/1 [==============================] - 0s 18ms/step\n",
            "1/1 [==============================] - 0s 19ms/step\n",
            "1/1 [==============================] - 0s 33ms/step\n",
            "1/1 [==============================] - 0s 26ms/step\n",
            "1/1 [==============================] - 0s 26ms/step\n",
            "1/1 [==============================] - 0s 26ms/step\n",
            "1/1 [==============================] - 0s 29ms/step\n",
            "1/1 [==============================] - 0s 31ms/step\n",
            "1/1 [==============================] - 0s 27ms/step\n",
            "1/1 [==============================] - 0s 27ms/step\n",
            "1/1 [==============================] - 0s 34ms/step\n",
            "1/1 [==============================] - 0s 28ms/step\n",
            "1/1 [==============================] - 0s 26ms/step\n",
            "1/1 [==============================] - 0s 32ms/step\n",
            "1/1 [==============================] - 0s 25ms/step\n",
            "1/1 [==============================] - 0s 30ms/step\n",
            "1/1 [==============================] - 0s 28ms/step\n",
            "1/1 [==============================] - 0s 19ms/step\n",
            "1/1 [==============================] - 0s 19ms/step\n",
            "1/1 [==============================] - 0s 18ms/step\n",
            "1/1 [==============================] - 0s 18ms/step\n",
            "1/1 [==============================] - 0s 18ms/step\n",
            "1/1 [==============================] - 0s 18ms/step\n",
            "1/1 [==============================] - 0s 18ms/step\n",
            "1/1 [==============================] - 0s 20ms/step\n",
            "1/1 [==============================] - 0s 18ms/step\n",
            "1/1 [==============================] - 0s 18ms/step\n",
            "1/1 [==============================] - 0s 18ms/step\n",
            "1/1 [==============================] - 0s 18ms/step\n",
            "1/1 [==============================] - 0s 19ms/step\n",
            "1/1 [==============================] - 0s 26ms/step\n",
            "1/1 [==============================] - 0s 19ms/step\n",
            "1/1 [==============================] - 0s 18ms/step\n",
            "1/1 [==============================] - 0s 18ms/step\n",
            "1/1 [==============================] - 0s 19ms/step\n",
            "1/1 [==============================] - 0s 18ms/step\n",
            "1/1 [==============================] - 0s 25ms/step\n",
            "1/1 [==============================] - 0s 19ms/step\n",
            "1/1 [==============================] - 0s 18ms/step\n",
            "1/1 [==============================] - 0s 18ms/step\n",
            "1/1 [==============================] - 0s 18ms/step\n",
            "1/1 [==============================] - 0s 18ms/step\n",
            "1/1 [==============================] - 0s 25ms/step\n",
            "1/1 [==============================] - 0s 18ms/step\n",
            "1/1 [==============================] - 0s 24ms/step\n",
            "1/1 [==============================] - 0s 20ms/step\n",
            "1/1 [==============================] - 0s 22ms/step\n",
            "1/1 [==============================] - 0s 19ms/step\n",
            "1/1 [==============================] - 0s 23ms/step\n",
            "1/1 [==============================] - 0s 23ms/step\n",
            "1/1 [==============================] - 0s 20ms/step\n",
            "1/1 [==============================] - 0s 25ms/step\n",
            "1/1 [==============================] - 0s 19ms/step\n",
            "1/1 [==============================] - 0s 19ms/step\n",
            "1/1 [==============================] - 0s 19ms/step\n",
            "1/1 [==============================] - 0s 19ms/step\n",
            "1/1 [==============================] - 0s 18ms/step\n",
            "1/1 [==============================] - 0s 18ms/step\n",
            "1/1 [==============================] - 0s 19ms/step\n",
            "1/1 [==============================] - 0s 18ms/step\n",
            "1/1 [==============================] - 0s 18ms/step\n",
            "1/1 [==============================] - 0s 18ms/step\n",
            "1/1 [==============================] - 0s 18ms/step\n",
            "1/1 [==============================] - 0s 18ms/step\n",
            "1/1 [==============================] - 0s 19ms/step\n",
            "1/1 [==============================] - 0s 18ms/step\n",
            "1/1 [==============================] - 0s 18ms/step\n",
            "1/1 [==============================] - 0s 19ms/step\n",
            "1/1 [==============================] - 0s 26ms/step\n",
            "1/1 [==============================] - 0s 36ms/step\n",
            "1/1 [==============================] - 0s 30ms/step\n",
            "1/1 [==============================] - 0s 31ms/step\n",
            "1/1 [==============================] - 0s 27ms/step\n",
            "1/1 [==============================] - 0s 27ms/step\n",
            "1/1 [==============================] - 0s 26ms/step\n",
            "1/1 [==============================] - 0s 28ms/step\n",
            "1/1 [==============================] - 0s 28ms/step\n",
            "1/1 [==============================] - 0s 30ms/step\n",
            "1/1 [==============================] - 0s 29ms/step\n",
            "1/1 [==============================] - 0s 19ms/step\n",
            "1/1 [==============================] - 0s 19ms/step\n",
            "1/1 [==============================] - 0s 19ms/step\n",
            "1/1 [==============================] - 0s 18ms/step\n",
            "1/1 [==============================] - 0s 18ms/step\n",
            "1/1 [==============================] - 0s 18ms/step\n",
            "1/1 [==============================] - 0s 19ms/step\n",
            "1/1 [==============================] - 0s 20ms/step\n",
            "1/1 [==============================] - 0s 18ms/step\n",
            "1/1 [==============================] - 0s 19ms/step\n",
            "1/1 [==============================] - 0s 19ms/step\n",
            "1/1 [==============================] - 0s 18ms/step\n",
            "1/1 [==============================] - 0s 19ms/step\n",
            "1/1 [==============================] - 0s 18ms/step\n",
            "1/1 [==============================] - 0s 18ms/step\n",
            "1/1 [==============================] - 0s 20ms/step\n",
            "1/1 [==============================] - 0s 19ms/step\n",
            "1/1 [==============================] - 0s 18ms/step\n",
            "1/1 [==============================] - 0s 19ms/step\n",
            "1/1 [==============================] - 0s 18ms/step\n",
            "1/1 [==============================] - 0s 18ms/step\n",
            "1/1 [==============================] - 0s 18ms/step\n",
            "1/1 [==============================] - 0s 18ms/step\n",
            "1/1 [==============================] - 0s 21ms/step\n",
            "1/1 [==============================] - 0s 18ms/step\n",
            "1/1 [==============================] - 0s 19ms/step\n",
            "1/1 [==============================] - 0s 19ms/step\n",
            "1/1 [==============================] - 0s 18ms/step\n",
            "1/1 [==============================] - 0s 18ms/step\n",
            "1/1 [==============================] - 0s 19ms/step\n",
            "1/1 [==============================] - 0s 20ms/step\n",
            "1/1 [==============================] - 0s 18ms/step\n",
            "1/1 [==============================] - 0s 29ms/step\n",
            "1/1 [==============================] - 0s 18ms/step\n",
            "1/1 [==============================] - 0s 18ms/step\n",
            "1/1 [==============================] - 0s 18ms/step\n",
            "1/1 [==============================] - 0s 18ms/step\n",
            "1/1 [==============================] - 0s 18ms/step\n",
            "1/1 [==============================] - 0s 19ms/step\n",
            "1/1 [==============================] - 0s 18ms/step\n",
            "1/1 [==============================] - 0s 17ms/step\n",
            "1/1 [==============================] - 0s 19ms/step\n",
            "1/1 [==============================] - 0s 18ms/step\n",
            "1/1 [==============================] - 0s 19ms/step\n",
            "1/1 [==============================] - 0s 19ms/step\n",
            "1/1 [==============================] - 0s 19ms/step\n",
            "1/1 [==============================] - 0s 27ms/step\n",
            "1/1 [==============================] - 0s 29ms/step\n",
            "1/1 [==============================] - 0s 27ms/step\n",
            "1/1 [==============================] - 0s 36ms/step\n",
            "1/1 [==============================] - 0s 28ms/step\n",
            "1/1 [==============================] - 0s 31ms/step\n",
            "1/1 [==============================] - 0s 27ms/step\n",
            "1/1 [==============================] - 0s 29ms/step\n",
            "1/1 [==============================] - 0s 26ms/step\n",
            "1/1 [==============================] - 0s 27ms/step\n",
            "1/1 [==============================] - 0s 28ms/step\n",
            "1/1 [==============================] - 0s 27ms/step\n",
            "1/1 [==============================] - 0s 18ms/step\n",
            "1/1 [==============================] - 0s 18ms/step\n",
            "1/1 [==============================] - 0s 18ms/step\n",
            "1/1 [==============================] - 0s 18ms/step\n",
            "1/1 [==============================] - 0s 18ms/step\n",
            "1/1 [==============================] - 0s 18ms/step\n",
            "1/1 [==============================] - 0s 18ms/step\n",
            "1/1 [==============================] - 0s 18ms/step\n",
            "1/1 [==============================] - 0s 18ms/step\n",
            "1/1 [==============================] - 0s 18ms/step\n",
            "1/1 [==============================] - 0s 18ms/step\n",
            "1/1 [==============================] - 0s 18ms/step\n",
            "1/1 [==============================] - 0s 19ms/step\n",
            "1/1 [==============================] - 0s 18ms/step\n",
            "1/1 [==============================] - 0s 19ms/step\n",
            "1/1 [==============================] - 0s 18ms/step\n",
            "1/1 [==============================] - 0s 18ms/step\n",
            "1/1 [==============================] - 0s 19ms/step\n",
            "1/1 [==============================] - 0s 18ms/step\n",
            "1/1 [==============================] - 0s 18ms/step\n",
            "1/1 [==============================] - 0s 19ms/step\n",
            "1/1 [==============================] - 0s 27ms/step\n",
            "1/1 [==============================] - 0s 19ms/step\n",
            "1/1 [==============================] - 0s 18ms/step\n",
            "1/1 [==============================] - 0s 18ms/step\n",
            "1/1 [==============================] - 0s 18ms/step\n",
            "1/1 [==============================] - 0s 27ms/step\n",
            "1/1 [==============================] - 0s 18ms/step\n",
            "1/1 [==============================] - 0s 18ms/step\n",
            "1/1 [==============================] - 0s 18ms/step\n",
            "1/1 [==============================] - 0s 19ms/step\n",
            "1/1 [==============================] - 0s 18ms/step\n",
            "1/1 [==============================] - 0s 18ms/step\n",
            "1/1 [==============================] - 0s 18ms/step\n",
            "1/1 [==============================] - 0s 19ms/step\n",
            "1/1 [==============================] - 0s 18ms/step\n",
            "1/1 [==============================] - 0s 18ms/step\n",
            "1/1 [==============================] - 0s 18ms/step\n",
            "1/1 [==============================] - 0s 19ms/step\n",
            "1/1 [==============================] - 0s 21ms/step\n",
            "1/1 [==============================] - 0s 19ms/step\n",
            "1/1 [==============================] - 0s 18ms/step\n",
            "1/1 [==============================] - 0s 18ms/step\n",
            "1/1 [==============================] - 0s 18ms/step\n",
            "1/1 [==============================] - 0s 30ms/step\n",
            "1/1 [==============================] - 0s 18ms/step\n",
            "1/1 [==============================] - 0s 29ms/step\n",
            "1/1 [==============================] - 0s 30ms/step\n",
            "1/1 [==============================] - 0s 30ms/step\n",
            "1/1 [==============================] - 0s 30ms/step\n",
            "1/1 [==============================] - 0s 29ms/step\n",
            "1/1 [==============================] - 0s 31ms/step\n",
            "1/1 [==============================] - 0s 26ms/step\n",
            "1/1 [==============================] - 0s 28ms/step\n",
            "1/1 [==============================] - 0s 28ms/step\n",
            "1/1 [==============================] - 0s 32ms/step\n",
            "1/1 [==============================] - 0s 30ms/step\n",
            "1/1 [==============================] - 0s 19ms/step\n",
            "1/1 [==============================] - 0s 18ms/step\n",
            "1/1 [==============================] - 0s 19ms/step\n",
            "1/1 [==============================] - 0s 18ms/step\n",
            "1/1 [==============================] - 0s 19ms/step\n",
            "1/1 [==============================] - 0s 18ms/step\n",
            "1/1 [==============================] - 0s 18ms/step\n",
            "1/1 [==============================] - 0s 18ms/step\n",
            "1/1 [==============================] - 0s 18ms/step\n",
            "1/1 [==============================] - 0s 20ms/step\n",
            "1/1 [==============================] - 0s 23ms/step\n",
            "1/1 [==============================] - 0s 18ms/step\n",
            "1/1 [==============================] - 0s 18ms/step\n",
            "1/1 [==============================] - 0s 19ms/step\n",
            "1/1 [==============================] - 0s 19ms/step\n",
            "1/1 [==============================] - 0s 18ms/step\n",
            "1/1 [==============================] - 0s 18ms/step\n",
            "1/1 [==============================] - 0s 19ms/step\n",
            "1/1 [==============================] - 0s 18ms/step\n",
            "1/1 [==============================] - 0s 19ms/step\n",
            "1/1 [==============================] - 0s 18ms/step\n",
            "1/1 [==============================] - 0s 18ms/step\n",
            "1/1 [==============================] - 0s 18ms/step\n",
            "1/1 [==============================] - 0s 18ms/step\n",
            "1/1 [==============================] - 0s 18ms/step\n",
            "1/1 [==============================] - 0s 19ms/step\n",
            "1/1 [==============================] - 0s 18ms/step\n",
            "1/1 [==============================] - 0s 19ms/step\n",
            "1/1 [==============================] - 0s 20ms/step\n",
            "1/1 [==============================] - 0s 21ms/step\n",
            "1/1 [==============================] - 0s 19ms/step\n",
            "1/1 [==============================] - 0s 17ms/step\n",
            "1/1 [==============================] - 0s 18ms/step\n",
            "1/1 [==============================] - 0s 20ms/step\n",
            "1/1 [==============================] - 0s 18ms/step\n",
            "1/1 [==============================] - 0s 18ms/step\n",
            "1/1 [==============================] - 0s 19ms/step\n",
            "1/1 [==============================] - 0s 18ms/step\n",
            "1/1 [==============================] - 0s 19ms/step\n",
            "1/1 [==============================] - 0s 18ms/step\n",
            "1/1 [==============================] - 0s 18ms/step\n",
            "1/1 [==============================] - 0s 18ms/step\n",
            "1/1 [==============================] - 0s 19ms/step\n",
            "1/1 [==============================] - 0s 19ms/step\n",
            "1/1 [==============================] - 0s 29ms/step\n",
            "1/1 [==============================] - 0s 18ms/step\n",
            "1/1 [==============================] - 0s 18ms/step\n",
            "1/1 [==============================] - 0s 28ms/step\n",
            "1/1 [==============================] - 0s 28ms/step\n",
            "1/1 [==============================] - 0s 31ms/step\n",
            "1/1 [==============================] - 0s 26ms/step\n",
            "1/1 [==============================] - 0s 44ms/step\n",
            "1/1 [==============================] - 0s 31ms/step\n",
            "1/1 [==============================] - 0s 28ms/step\n",
            "1/1 [==============================] - 0s 28ms/step\n",
            "1/1 [==============================] - 0s 32ms/step\n",
            "1/1 [==============================] - 0s 26ms/step\n",
            "1/1 [==============================] - 0s 32ms/step\n",
            "1/1 [==============================] - 0s 28ms/step\n",
            "1/1 [==============================] - 0s 20ms/step\n",
            "1/1 [==============================] - 0s 18ms/step\n",
            "1/1 [==============================] - 0s 18ms/step\n",
            "1/1 [==============================] - 0s 18ms/step\n",
            "1/1 [==============================] - 0s 19ms/step\n",
            "1/1 [==============================] - 0s 18ms/step\n",
            "1/1 [==============================] - 0s 18ms/step\n",
            "1/1 [==============================] - 0s 19ms/step\n",
            "1/1 [==============================] - 0s 18ms/step\n",
            "1/1 [==============================] - 0s 18ms/step\n",
            "1/1 [==============================] - 0s 18ms/step\n",
            "1/1 [==============================] - 0s 18ms/step\n",
            "1/1 [==============================] - 0s 18ms/step\n",
            "1/1 [==============================] - 0s 18ms/step\n",
            "1/1 [==============================] - 0s 18ms/step\n",
            "1/1 [==============================] - 0s 19ms/step\n",
            "1/1 [==============================] - 0s 19ms/step\n",
            "1/1 [==============================] - 0s 18ms/step\n",
            "1/1 [==============================] - 0s 18ms/step\n",
            "1/1 [==============================] - 0s 17ms/step\n",
            "1/1 [==============================] - 0s 18ms/step\n",
            "1/1 [==============================] - 0s 19ms/step\n",
            "1/1 [==============================] - 0s 19ms/step\n",
            "1/1 [==============================] - 0s 18ms/step\n",
            "1/1 [==============================] - 0s 18ms/step\n",
            "1/1 [==============================] - 0s 18ms/step\n",
            "1/1 [==============================] - 0s 18ms/step\n",
            "1/1 [==============================] - 0s 18ms/step\n",
            "1/1 [==============================] - 0s 18ms/step\n",
            "1/1 [==============================] - 0s 19ms/step\n",
            "1/1 [==============================] - 0s 19ms/step\n",
            "1/1 [==============================] - 0s 18ms/step\n",
            "1/1 [==============================] - 0s 18ms/step\n",
            "1/1 [==============================] - 0s 20ms/step\n",
            "1/1 [==============================] - 0s 18ms/step\n",
            "1/1 [==============================] - 0s 18ms/step\n",
            "1/1 [==============================] - 0s 18ms/step\n",
            "1/1 [==============================] - 0s 18ms/step\n",
            "1/1 [==============================] - 0s 18ms/step\n",
            "1/1 [==============================] - 0s 19ms/step\n",
            "1/1 [==============================] - 0s 18ms/step\n",
            "1/1 [==============================] - 0s 20ms/step\n",
            "1/1 [==============================] - 0s 20ms/step\n",
            "1/1 [==============================] - 0s 19ms/step\n",
            "1/1 [==============================] - 0s 18ms/step\n",
            "1/1 [==============================] - 0s 18ms/step\n",
            "1/1 [==============================] - 0s 28ms/step\n",
            "1/1 [==============================] - 0s 28ms/step\n",
            "1/1 [==============================] - 0s 34ms/step\n",
            "1/1 [==============================] - 0s 31ms/step\n",
            "1/1 [==============================] - 0s 30ms/step\n",
            "1/1 [==============================] - 0s 28ms/step\n",
            "1/1 [==============================] - 0s 30ms/step\n",
            "1/1 [==============================] - 0s 38ms/step\n",
            "1/1 [==============================] - 0s 26ms/step\n",
            "1/1 [==============================] - 0s 27ms/step\n",
            "1/1 [==============================] - 0s 38ms/step\n",
            "1/1 [==============================] - 0s 30ms/step\n",
            "1/1 [==============================] - 0s 19ms/step\n",
            "1/1 [==============================] - 0s 18ms/step\n",
            "1/1 [==============================] - 0s 19ms/step\n",
            "1/1 [==============================] - 0s 19ms/step\n",
            "1/1 [==============================] - 0s 18ms/step\n",
            "1/1 [==============================] - 0s 18ms/step\n",
            "1/1 [==============================] - 0s 20ms/step\n",
            "1/1 [==============================] - 0s 18ms/step\n",
            "1/1 [==============================] - 0s 18ms/step\n",
            "1/1 [==============================] - 0s 19ms/step\n",
            "1/1 [==============================] - 0s 18ms/step\n",
            "1/1 [==============================] - 0s 19ms/step\n",
            "1/1 [==============================] - 0s 18ms/step\n",
            "1/1 [==============================] - 0s 18ms/step\n",
            "1/1 [==============================] - 0s 18ms/step\n",
            "1/1 [==============================] - 0s 19ms/step\n",
            "1/1 [==============================] - 0s 18ms/step\n",
            "1/1 [==============================] - 0s 18ms/step\n",
            "1/1 [==============================] - 0s 19ms/step\n",
            "1/1 [==============================] - 0s 18ms/step\n",
            "1/1 [==============================] - 0s 18ms/step\n",
            "1/1 [==============================] - 0s 19ms/step\n",
            "1/1 [==============================] - 0s 18ms/step\n",
            "1/1 [==============================] - 0s 19ms/step\n",
            "1/1 [==============================] - 0s 18ms/step\n",
            "1/1 [==============================] - 0s 18ms/step\n",
            "1/1 [==============================] - 0s 18ms/step\n",
            "1/1 [==============================] - 0s 18ms/step\n",
            "1/1 [==============================] - 0s 18ms/step\n",
            "1/1 [==============================] - 0s 19ms/step\n",
            "1/1 [==============================] - 0s 19ms/step\n",
            "1/1 [==============================] - 0s 18ms/step\n",
            "1/1 [==============================] - 0s 18ms/step\n",
            "1/1 [==============================] - 0s 19ms/step\n",
            "1/1 [==============================] - 0s 18ms/step\n",
            "1/1 [==============================] - 0s 18ms/step\n",
            "1/1 [==============================] - 0s 18ms/step\n",
            "1/1 [==============================] - 0s 27ms/step\n",
            "1/1 [==============================] - 0s 18ms/step\n",
            "1/1 [==============================] - 0s 19ms/step\n",
            "1/1 [==============================] - 0s 20ms/step\n",
            "1/1 [==============================] - 0s 20ms/step\n",
            "1/1 [==============================] - 0s 18ms/step\n",
            "1/1 [==============================] - 0s 18ms/step\n",
            "1/1 [==============================] - 0s 19ms/step\n",
            "1/1 [==============================] - 0s 29ms/step\n",
            "1/1 [==============================] - 0s 27ms/step\n",
            "1/1 [==============================] - 0s 30ms/step\n",
            "1/1 [==============================] - 0s 27ms/step\n",
            "1/1 [==============================] - 0s 41ms/step\n",
            "1/1 [==============================] - 0s 27ms/step\n",
            "1/1 [==============================] - 0s 29ms/step\n",
            "1/1 [==============================] - 0s 35ms/step\n",
            "1/1 [==============================] - 0s 27ms/step\n",
            "1/1 [==============================] - 0s 32ms/step\n",
            "1/1 [==============================] - 0s 28ms/step\n",
            "1/1 [==============================] - 0s 31ms/step\n",
            "1/1 [==============================] - 0s 19ms/step\n",
            "MoviePy - Writing audio in /content/Test/audio/audio_0_0-2.wav\n"
          ]
        },
        {
          "output_type": "stream",
          "name": "stderr",
          "text": []
        },
        {
          "output_type": "stream",
          "name": "stdout",
          "text": [
            "MoviePy - Done.\n",
            "MoviePy - Writing audio in /content/Test/audio/audio_1_2-4.wav\n"
          ]
        },
        {
          "output_type": "stream",
          "name": "stderr",
          "text": []
        },
        {
          "output_type": "stream",
          "name": "stdout",
          "text": [
            "MoviePy - Done.\n",
            "MoviePy - Writing audio in /content/Test/audio/audio_2_4-6.wav\n"
          ]
        },
        {
          "output_type": "stream",
          "name": "stderr",
          "text": []
        },
        {
          "output_type": "stream",
          "name": "stdout",
          "text": [
            "MoviePy - Done.\n",
            "MoviePy - Writing audio in /content/Test/audio/audio_3_6-8.wav\n"
          ]
        },
        {
          "output_type": "stream",
          "name": "stderr",
          "text": []
        },
        {
          "output_type": "stream",
          "name": "stdout",
          "text": [
            "MoviePy - Done.\n",
            "MoviePy - Writing audio in /content/Test/audio/audio_4_8-10.wav\n"
          ]
        },
        {
          "output_type": "stream",
          "name": "stderr",
          "text": []
        },
        {
          "output_type": "stream",
          "name": "stdout",
          "text": [
            "MoviePy - Done.\n",
            "MoviePy - Writing audio in /content/Test/audio/audio_5_10-12.wav\n"
          ]
        },
        {
          "output_type": "stream",
          "name": "stderr",
          "text": []
        },
        {
          "output_type": "stream",
          "name": "stdout",
          "text": [
            "MoviePy - Done.\n",
            "MoviePy - Writing audio in /content/Test/audio/audio_6_12-14.wav\n"
          ]
        },
        {
          "output_type": "stream",
          "name": "stderr",
          "text": []
        },
        {
          "output_type": "stream",
          "name": "stdout",
          "text": [
            "MoviePy - Done.\n",
            "MoviePy - Writing audio in /content/Test/audio/audio_7_14-16.wav\n"
          ]
        },
        {
          "output_type": "stream",
          "name": "stderr",
          "text": []
        },
        {
          "output_type": "stream",
          "name": "stdout",
          "text": [
            "MoviePy - Done.\n",
            "MoviePy - Writing audio in /content/Test/audio/audio_8_16-18.wav\n"
          ]
        },
        {
          "output_type": "stream",
          "name": "stderr",
          "text": []
        },
        {
          "output_type": "stream",
          "name": "stdout",
          "text": [
            "MoviePy - Done.\n",
            "MoviePy - Writing audio in /content/Test/audio/audio_9_18-20.wav\n"
          ]
        },
        {
          "output_type": "stream",
          "name": "stderr",
          "text": []
        },
        {
          "output_type": "stream",
          "name": "stdout",
          "text": [
            "MoviePy - Done.\n",
            "MoviePy - Writing audio in /content/Test/audio/audio_10_20-22.wav\n"
          ]
        },
        {
          "output_type": "stream",
          "name": "stderr",
          "text": []
        },
        {
          "output_type": "stream",
          "name": "stdout",
          "text": [
            "MoviePy - Done.\n",
            "MoviePy - Writing audio in /content/Test/audio/audio_11_22-24.wav\n"
          ]
        },
        {
          "output_type": "stream",
          "name": "stderr",
          "text": []
        },
        {
          "output_type": "stream",
          "name": "stdout",
          "text": [
            "MoviePy - Done.\n",
            "MoviePy - Writing audio in /content/Test/audio/audio_12_24-26.wav\n"
          ]
        },
        {
          "output_type": "stream",
          "name": "stderr",
          "text": []
        },
        {
          "output_type": "stream",
          "name": "stdout",
          "text": [
            "MoviePy - Done.\n",
            "MoviePy - Writing audio in /content/Test/audio/audio_13_26-28.wav\n"
          ]
        },
        {
          "output_type": "stream",
          "name": "stderr",
          "text": []
        },
        {
          "output_type": "stream",
          "name": "stdout",
          "text": [
            "MoviePy - Done.\n",
            "MoviePy - Writing audio in /content/Test/audio/audio_14_28-30.wav\n"
          ]
        },
        {
          "output_type": "stream",
          "name": "stderr",
          "text": []
        },
        {
          "output_type": "stream",
          "name": "stdout",
          "text": [
            "MoviePy - Done.\n",
            "MoviePy - Writing audio in /content/Test/audio/audio_15_30-32.wav\n"
          ]
        },
        {
          "output_type": "stream",
          "name": "stderr",
          "text": []
        },
        {
          "output_type": "stream",
          "name": "stdout",
          "text": [
            "MoviePy - Done.\n",
            "MoviePy - Writing audio in /content/Test/audio/audio_16_32-34.wav\n"
          ]
        },
        {
          "output_type": "stream",
          "name": "stderr",
          "text": []
        },
        {
          "output_type": "stream",
          "name": "stdout",
          "text": [
            "MoviePy - Done.\n",
            "MoviePy - Writing audio in /content/Test/audio/audio_17_34-36.wav\n"
          ]
        },
        {
          "output_type": "stream",
          "name": "stderr",
          "text": []
        },
        {
          "output_type": "stream",
          "name": "stdout",
          "text": [
            "MoviePy - Done.\n",
            "MoviePy - Writing audio in /content/Test/audio/audio_18_36-38.wav\n"
          ]
        },
        {
          "output_type": "stream",
          "name": "stderr",
          "text": []
        },
        {
          "output_type": "stream",
          "name": "stdout",
          "text": [
            "MoviePy - Done.\n",
            "MoviePy - Writing audio in /content/Test/audio/audio_19_38-40.wav\n"
          ]
        },
        {
          "output_type": "stream",
          "name": "stderr",
          "text": []
        },
        {
          "output_type": "stream",
          "name": "stdout",
          "text": [
            "MoviePy - Done.\n",
            "MoviePy - Writing audio in /content/Test/audio/audio_20_40-42.wav\n"
          ]
        },
        {
          "output_type": "stream",
          "name": "stderr",
          "text": []
        },
        {
          "output_type": "stream",
          "name": "stdout",
          "text": [
            "MoviePy - Done.\n",
            "MoviePy - Writing audio in /content/Test/audio/audio_21_42-44.wav\n"
          ]
        },
        {
          "output_type": "stream",
          "name": "stderr",
          "text": []
        },
        {
          "output_type": "stream",
          "name": "stdout",
          "text": [
            "MoviePy - Done.\n",
            "MoviePy - Writing audio in /content/Test/audio/audio_22_44-46.wav\n"
          ]
        },
        {
          "output_type": "stream",
          "name": "stderr",
          "text": []
        },
        {
          "output_type": "stream",
          "name": "stdout",
          "text": [
            "MoviePy - Done.\n",
            "MoviePy - Writing audio in /content/Test/audio/audio_23_46-48.wav\n"
          ]
        },
        {
          "output_type": "stream",
          "name": "stderr",
          "text": []
        },
        {
          "output_type": "stream",
          "name": "stdout",
          "text": [
            "MoviePy - Done.\n",
            "MoviePy - Writing audio in /content/Test/audio/audio_24_48-50.wav\n"
          ]
        },
        {
          "output_type": "stream",
          "name": "stderr",
          "text": []
        },
        {
          "output_type": "stream",
          "name": "stdout",
          "text": [
            "MoviePy - Done.\n",
            "MoviePy - Writing audio in /content/Test/audio/audio_25_50-52.wav\n"
          ]
        },
        {
          "output_type": "stream",
          "name": "stderr",
          "text": []
        },
        {
          "output_type": "stream",
          "name": "stdout",
          "text": [
            "MoviePy - Done.\n",
            "MoviePy - Writing audio in /content/Test/audio/audio_26_52-54.wav\n"
          ]
        },
        {
          "output_type": "stream",
          "name": "stderr",
          "text": []
        },
        {
          "output_type": "stream",
          "name": "stdout",
          "text": [
            "MoviePy - Done.\n",
            "MoviePy - Writing audio in /content/Test/audio/audio_27_54-56.wav\n"
          ]
        },
        {
          "output_type": "stream",
          "name": "stderr",
          "text": []
        },
        {
          "output_type": "stream",
          "name": "stdout",
          "text": [
            "MoviePy - Done.\n",
            "MoviePy - Writing audio in /content/Test/audio/audio_28_56-58.wav\n"
          ]
        },
        {
          "output_type": "stream",
          "name": "stderr",
          "text": []
        },
        {
          "output_type": "stream",
          "name": "stdout",
          "text": [
            "MoviePy - Done.\n",
            "MoviePy - Writing audio in /content/Test/audio/audio_29_58-60.wav\n"
          ]
        },
        {
          "output_type": "stream",
          "name": "stderr",
          "text": []
        },
        {
          "output_type": "stream",
          "name": "stdout",
          "text": [
            "MoviePy - Done.\n",
            "MoviePy - Writing audio in /content/Test/audio/audio_30_60-62.wav\n"
          ]
        },
        {
          "output_type": "stream",
          "name": "stderr",
          "text": []
        },
        {
          "output_type": "stream",
          "name": "stdout",
          "text": [
            "MoviePy - Done.\n",
            "MoviePy - Writing audio in /content/Test/audio/audio_31_62-64.wav\n"
          ]
        },
        {
          "output_type": "stream",
          "name": "stderr",
          "text": []
        },
        {
          "output_type": "stream",
          "name": "stdout",
          "text": [
            "MoviePy - Done.\n",
            "MoviePy - Writing audio in /content/Test/audio/audio_32_64-66.wav\n"
          ]
        },
        {
          "output_type": "stream",
          "name": "stderr",
          "text": []
        },
        {
          "output_type": "stream",
          "name": "stdout",
          "text": [
            "MoviePy - Done.\n",
            "MoviePy - Writing audio in /content/Test/audio/audio_33_66-68.wav\n"
          ]
        },
        {
          "output_type": "stream",
          "name": "stderr",
          "text": []
        },
        {
          "output_type": "stream",
          "name": "stdout",
          "text": [
            "MoviePy - Done.\n",
            "MoviePy - Writing audio in /content/Test/audio/audio_34_68-70.wav\n"
          ]
        },
        {
          "output_type": "stream",
          "name": "stderr",
          "text": []
        },
        {
          "output_type": "stream",
          "name": "stdout",
          "text": [
            "MoviePy - Done.\n",
            "MoviePy - Writing audio in /content/Test/audio/audio_35_70-72.wav\n"
          ]
        },
        {
          "output_type": "stream",
          "name": "stderr",
          "text": []
        },
        {
          "output_type": "stream",
          "name": "stdout",
          "text": [
            "MoviePy - Done.\n",
            "MoviePy - Writing audio in /content/Test/audio/audio_36_72-74.wav\n"
          ]
        },
        {
          "output_type": "stream",
          "name": "stderr",
          "text": []
        },
        {
          "output_type": "stream",
          "name": "stdout",
          "text": [
            "MoviePy - Done.\n",
            "MoviePy - Writing audio in /content/Test/audio/audio_37_74-76.wav\n"
          ]
        },
        {
          "output_type": "stream",
          "name": "stderr",
          "text": []
        },
        {
          "output_type": "stream",
          "name": "stdout",
          "text": [
            "MoviePy - Done.\n",
            "MoviePy - Writing audio in /content/Test/audio/audio_38_76-78.wav\n"
          ]
        },
        {
          "output_type": "stream",
          "name": "stderr",
          "text": []
        },
        {
          "output_type": "stream",
          "name": "stdout",
          "text": [
            "MoviePy - Done.\n",
            "MoviePy - Writing audio in /content/Test/audio/audio_39_78-80.wav\n"
          ]
        },
        {
          "output_type": "stream",
          "name": "stderr",
          "text": []
        },
        {
          "output_type": "stream",
          "name": "stdout",
          "text": [
            "MoviePy - Done.\n",
            "MoviePy - Writing audio in /content/Test/audio/audio_40_80-82.wav\n"
          ]
        },
        {
          "output_type": "stream",
          "name": "stderr",
          "text": []
        },
        {
          "output_type": "stream",
          "name": "stdout",
          "text": [
            "MoviePy - Done.\n",
            "MoviePy - Writing audio in /content/Test/audio/audio_41_82-84.wav\n"
          ]
        },
        {
          "output_type": "stream",
          "name": "stderr",
          "text": []
        },
        {
          "output_type": "stream",
          "name": "stdout",
          "text": [
            "MoviePy - Done.\n",
            "MoviePy - Writing audio in /content/Test/audio/audio_42_84-86.wav\n"
          ]
        },
        {
          "output_type": "stream",
          "name": "stderr",
          "text": []
        },
        {
          "output_type": "stream",
          "name": "stdout",
          "text": [
            "MoviePy - Done.\n",
            "MoviePy - Writing audio in /content/Test/audio/audio_43_86-88.wav\n"
          ]
        },
        {
          "output_type": "stream",
          "name": "stderr",
          "text": []
        },
        {
          "output_type": "stream",
          "name": "stdout",
          "text": [
            "MoviePy - Done.\n",
            "MoviePy - Writing audio in /content/Test/audio/audio_44_88-90.wav\n"
          ]
        },
        {
          "output_type": "stream",
          "name": "stderr",
          "text": []
        },
        {
          "output_type": "stream",
          "name": "stdout",
          "text": [
            "MoviePy - Done.\n",
            "MoviePy - Writing audio in /content/Test/audio/audio_45_90-92.wav\n"
          ]
        },
        {
          "output_type": "stream",
          "name": "stderr",
          "text": []
        },
        {
          "output_type": "stream",
          "name": "stdout",
          "text": [
            "MoviePy - Done.\n",
            "MoviePy - Writing audio in /content/Test/audio/audio_46_92-94.wav\n"
          ]
        },
        {
          "output_type": "stream",
          "name": "stderr",
          "text": []
        },
        {
          "output_type": "stream",
          "name": "stdout",
          "text": [
            "MoviePy - Done.\n",
            "MoviePy - Writing audio in /content/Test/audio/audio_47_94-96.wav\n"
          ]
        },
        {
          "output_type": "stream",
          "name": "stderr",
          "text": []
        },
        {
          "output_type": "stream",
          "name": "stdout",
          "text": [
            "MoviePy - Done.\n",
            "MoviePy - Writing audio in /content/Test/audio/audio_48_96-98.wav\n"
          ]
        },
        {
          "output_type": "stream",
          "name": "stderr",
          "text": []
        },
        {
          "output_type": "stream",
          "name": "stdout",
          "text": [
            "MoviePy - Done.\n",
            "MoviePy - Writing audio in /content/Test/audio/audio_49_98-100.wav\n"
          ]
        },
        {
          "output_type": "stream",
          "name": "stderr",
          "text": []
        },
        {
          "output_type": "stream",
          "name": "stdout",
          "text": [
            "MoviePy - Done.\n",
            "MoviePy - Writing audio in /content/Test/audio/audio_50_100-102.wav\n"
          ]
        },
        {
          "output_type": "stream",
          "name": "stderr",
          "text": []
        },
        {
          "output_type": "stream",
          "name": "stdout",
          "text": [
            "MoviePy - Done.\n",
            "MoviePy - Writing audio in /content/Test/audio/audio_51_102-104.wav\n"
          ]
        },
        {
          "output_type": "stream",
          "name": "stderr",
          "text": []
        },
        {
          "output_type": "stream",
          "name": "stdout",
          "text": [
            "MoviePy - Done.\n",
            "MoviePy - Writing audio in /content/Test/audio/audio_52_104-106.wav\n"
          ]
        },
        {
          "output_type": "stream",
          "name": "stderr",
          "text": []
        },
        {
          "output_type": "stream",
          "name": "stdout",
          "text": [
            "MoviePy - Done.\n",
            "MoviePy - Writing audio in /content/Test/audio/audio_53_106-108.wav\n"
          ]
        },
        {
          "output_type": "stream",
          "name": "stderr",
          "text": []
        },
        {
          "output_type": "stream",
          "name": "stdout",
          "text": [
            "MoviePy - Done.\n",
            "MoviePy - Writing audio in /content/Test/audio/audio_54_108-110.wav\n"
          ]
        },
        {
          "output_type": "stream",
          "name": "stderr",
          "text": []
        },
        {
          "output_type": "stream",
          "name": "stdout",
          "text": [
            "MoviePy - Done.\n",
            "MoviePy - Writing audio in /content/Test/audio/audio_55_110-112.wav\n"
          ]
        },
        {
          "output_type": "stream",
          "name": "stderr",
          "text": []
        },
        {
          "output_type": "stream",
          "name": "stdout",
          "text": [
            "MoviePy - Done.\n",
            "MoviePy - Writing audio in /content/Test/audio/audio_56_112-114.wav\n"
          ]
        },
        {
          "output_type": "stream",
          "name": "stderr",
          "text": []
        },
        {
          "output_type": "stream",
          "name": "stdout",
          "text": [
            "MoviePy - Done.\n",
            "MoviePy - Writing audio in /content/Test/audio/audio_57_114-116.wav\n"
          ]
        },
        {
          "output_type": "stream",
          "name": "stderr",
          "text": []
        },
        {
          "output_type": "stream",
          "name": "stdout",
          "text": [
            "MoviePy - Done.\n",
            "MoviePy - Writing audio in /content/Test/audio/audio_58_116-118.wav\n"
          ]
        },
        {
          "output_type": "stream",
          "name": "stderr",
          "text": []
        },
        {
          "output_type": "stream",
          "name": "stdout",
          "text": [
            "MoviePy - Done.\n",
            "MoviePy - Writing audio in /content/Test/audio/audio_59_118-120.wav\n"
          ]
        },
        {
          "output_type": "stream",
          "name": "stderr",
          "text": []
        },
        {
          "output_type": "stream",
          "name": "stdout",
          "text": [
            "MoviePy - Done.\n",
            "MoviePy - Writing audio in /content/Test/audio/audio_60_120-122.wav\n"
          ]
        },
        {
          "output_type": "stream",
          "name": "stderr",
          "text": []
        },
        {
          "output_type": "stream",
          "name": "stdout",
          "text": [
            "MoviePy - Done.\n",
            "MoviePy - Writing audio in /content/Test/audio/audio_61_122-124.wav\n"
          ]
        },
        {
          "output_type": "stream",
          "name": "stderr",
          "text": []
        },
        {
          "output_type": "stream",
          "name": "stdout",
          "text": [
            "MoviePy - Done.\n",
            "MoviePy - Writing audio in /content/Test/audio/audio_62_124-126.wav\n"
          ]
        },
        {
          "output_type": "stream",
          "name": "stderr",
          "text": []
        },
        {
          "output_type": "stream",
          "name": "stdout",
          "text": [
            "MoviePy - Done.\n",
            "MoviePy - Writing audio in /content/Test/audio/audio_63_126-128.wav\n"
          ]
        },
        {
          "output_type": "stream",
          "name": "stderr",
          "text": []
        },
        {
          "output_type": "stream",
          "name": "stdout",
          "text": [
            "MoviePy - Done.\n",
            "MoviePy - Writing audio in /content/Test/audio/audio_64_128-130.wav\n"
          ]
        },
        {
          "output_type": "stream",
          "name": "stderr",
          "text": []
        },
        {
          "output_type": "stream",
          "name": "stdout",
          "text": [
            "MoviePy - Done.\n",
            "MoviePy - Writing audio in /content/Test/audio/audio_65_130-132.wav\n"
          ]
        },
        {
          "output_type": "stream",
          "name": "stderr",
          "text": []
        },
        {
          "output_type": "stream",
          "name": "stdout",
          "text": [
            "MoviePy - Done.\n",
            "MoviePy - Writing audio in /content/Test/audio/audio_66_132-134.wav\n"
          ]
        },
        {
          "output_type": "stream",
          "name": "stderr",
          "text": []
        },
        {
          "output_type": "stream",
          "name": "stdout",
          "text": [
            "MoviePy - Done.\n",
            "MoviePy - Writing audio in /content/Test/audio/audio_67_134-136.wav\n"
          ]
        },
        {
          "output_type": "stream",
          "name": "stderr",
          "text": []
        },
        {
          "output_type": "stream",
          "name": "stdout",
          "text": [
            "MoviePy - Done.\n",
            "MoviePy - Writing audio in /content/Test/audio/audio_68_136-138.wav\n"
          ]
        },
        {
          "output_type": "stream",
          "name": "stderr",
          "text": []
        },
        {
          "output_type": "stream",
          "name": "stdout",
          "text": [
            "MoviePy - Done.\n",
            "MoviePy - Writing audio in /content/Test/audio/audio_69_138-140.wav\n"
          ]
        },
        {
          "output_type": "stream",
          "name": "stderr",
          "text": [
            "                                                       "
          ]
        },
        {
          "output_type": "stream",
          "name": "stdout",
          "text": [
            "MoviePy - Done.\n",
            "MoviePy - Writing audio in /content/Test/audio/audio_70_140-142.wav\n"
          ]
        },
        {
          "output_type": "stream",
          "name": "stderr",
          "text": []
        },
        {
          "output_type": "stream",
          "name": "stdout",
          "text": [
            "MoviePy - Done.\n",
            "MoviePy - Writing audio in /content/Test/audio/audio_71_142-144.wav\n"
          ]
        },
        {
          "output_type": "stream",
          "name": "stderr",
          "text": []
        },
        {
          "output_type": "stream",
          "name": "stdout",
          "text": [
            "MoviePy - Done.\n",
            "MoviePy - Writing audio in /content/Test/audio/audio_72_144-146.wav\n"
          ]
        },
        {
          "output_type": "stream",
          "name": "stderr",
          "text": []
        },
        {
          "output_type": "stream",
          "name": "stdout",
          "text": [
            "MoviePy - Done.\n",
            "MoviePy - Writing audio in /content/Test/audio/audio_73_146-148.wav\n"
          ]
        },
        {
          "output_type": "stream",
          "name": "stderr",
          "text": []
        },
        {
          "output_type": "stream",
          "name": "stdout",
          "text": [
            "MoviePy - Done.\n",
            "MoviePy - Writing audio in /content/Test/audio/audio_74_148-150.wav\n"
          ]
        },
        {
          "output_type": "stream",
          "name": "stderr",
          "text": []
        },
        {
          "output_type": "stream",
          "name": "stdout",
          "text": [
            "MoviePy - Done.\n",
            "MoviePy - Writing audio in /content/Test/audio/audio_75_150-152.wav\n"
          ]
        },
        {
          "output_type": "stream",
          "name": "stderr",
          "text": []
        },
        {
          "output_type": "stream",
          "name": "stdout",
          "text": [
            "MoviePy - Done.\n",
            "MoviePy - Writing audio in /content/Test/audio/audio_76_152-154.wav\n"
          ]
        },
        {
          "output_type": "stream",
          "name": "stderr",
          "text": []
        },
        {
          "output_type": "stream",
          "name": "stdout",
          "text": [
            "MoviePy - Done.\n",
            "MoviePy - Writing audio in /content/Test/audio/audio_77_154-156.wav\n"
          ]
        },
        {
          "output_type": "stream",
          "name": "stderr",
          "text": []
        },
        {
          "output_type": "stream",
          "name": "stdout",
          "text": [
            "MoviePy - Done.\n",
            "MoviePy - Writing audio in /content/Test/audio/audio_78_156-158.wav\n"
          ]
        },
        {
          "output_type": "stream",
          "name": "stderr",
          "text": []
        },
        {
          "output_type": "stream",
          "name": "stdout",
          "text": [
            "MoviePy - Done.\n",
            "MoviePy - Writing audio in /content/Test/audio/audio_79_158-160.wav\n"
          ]
        },
        {
          "output_type": "stream",
          "name": "stderr",
          "text": []
        },
        {
          "output_type": "stream",
          "name": "stdout",
          "text": [
            "MoviePy - Done.\n",
            "MoviePy - Writing audio in /content/Test/audio/audio_80_160-162.wav\n"
          ]
        },
        {
          "output_type": "stream",
          "name": "stderr",
          "text": []
        },
        {
          "output_type": "stream",
          "name": "stdout",
          "text": [
            "MoviePy - Done.\n",
            "MoviePy - Writing audio in /content/Test/audio/audio_81_162-164.wav\n"
          ]
        },
        {
          "output_type": "stream",
          "name": "stderr",
          "text": []
        },
        {
          "output_type": "stream",
          "name": "stdout",
          "text": [
            "MoviePy - Done.\n",
            "MoviePy - Writing audio in /content/Test/audio/audio_82_164-166.wav\n"
          ]
        },
        {
          "output_type": "stream",
          "name": "stderr",
          "text": []
        },
        {
          "output_type": "stream",
          "name": "stdout",
          "text": [
            "MoviePy - Done.\n",
            "MoviePy - Writing audio in /content/Test/audio/audio_83_166-168.wav\n"
          ]
        },
        {
          "output_type": "stream",
          "name": "stderr",
          "text": []
        },
        {
          "output_type": "stream",
          "name": "stdout",
          "text": [
            "MoviePy - Done.\n",
            "MoviePy - Writing audio in /content/Test/audio/audio_84_168-170.wav\n"
          ]
        },
        {
          "output_type": "stream",
          "name": "stderr",
          "text": []
        },
        {
          "output_type": "stream",
          "name": "stdout",
          "text": [
            "MoviePy - Done.\n",
            "MoviePy - Writing audio in /content/Test/audio/audio_85_170-172.wav\n"
          ]
        },
        {
          "output_type": "stream",
          "name": "stderr",
          "text": []
        },
        {
          "output_type": "stream",
          "name": "stdout",
          "text": [
            "MoviePy - Done.\n",
            "MoviePy - Writing audio in /content/Test/audio/audio_86_172-174.wav\n"
          ]
        },
        {
          "output_type": "stream",
          "name": "stderr",
          "text": []
        },
        {
          "output_type": "stream",
          "name": "stdout",
          "text": [
            "MoviePy - Done.\n",
            "MoviePy - Writing audio in /content/Test/audio/audio_87_174-176.wav\n"
          ]
        },
        {
          "output_type": "stream",
          "name": "stderr",
          "text": []
        },
        {
          "output_type": "stream",
          "name": "stdout",
          "text": [
            "MoviePy - Done.\n",
            "MoviePy - Writing audio in /content/Test/audio/audio_88_176-178.wav\n"
          ]
        },
        {
          "output_type": "stream",
          "name": "stderr",
          "text": []
        },
        {
          "output_type": "stream",
          "name": "stdout",
          "text": [
            "MoviePy - Done.\n",
            "MoviePy - Writing audio in /content/Test/audio/audio_89_178-180.wav\n"
          ]
        },
        {
          "output_type": "stream",
          "name": "stderr",
          "text": []
        },
        {
          "output_type": "stream",
          "name": "stdout",
          "text": [
            "MoviePy - Done.\n",
            "MoviePy - Writing audio in /content/Test/audio/audio_90_180-182.wav\n"
          ]
        },
        {
          "output_type": "stream",
          "name": "stderr",
          "text": []
        },
        {
          "output_type": "stream",
          "name": "stdout",
          "text": [
            "MoviePy - Done.\n",
            "MoviePy - Writing audio in /content/Test/audio/audio_91_182-184.wav\n"
          ]
        },
        {
          "output_type": "stream",
          "name": "stderr",
          "text": []
        },
        {
          "output_type": "stream",
          "name": "stdout",
          "text": [
            "MoviePy - Done.\n",
            "MoviePy - Writing audio in /content/Test/audio/audio_92_184-186.wav\n"
          ]
        },
        {
          "output_type": "stream",
          "name": "stderr",
          "text": []
        },
        {
          "output_type": "stream",
          "name": "stdout",
          "text": [
            "MoviePy - Done.\n",
            "MoviePy - Writing audio in /content/Test/audio/audio_93_186-188.wav\n"
          ]
        },
        {
          "output_type": "stream",
          "name": "stderr",
          "text": []
        },
        {
          "output_type": "stream",
          "name": "stdout",
          "text": [
            "MoviePy - Done.\n",
            "MoviePy - Writing audio in /content/Test/audio/audio_94_188-190.wav\n"
          ]
        },
        {
          "output_type": "stream",
          "name": "stderr",
          "text": []
        },
        {
          "output_type": "stream",
          "name": "stdout",
          "text": [
            "MoviePy - Done.\n",
            "MoviePy - Writing audio in /content/Test/audio/audio_95_190-192.wav\n"
          ]
        },
        {
          "output_type": "stream",
          "name": "stderr",
          "text": []
        },
        {
          "output_type": "stream",
          "name": "stdout",
          "text": [
            "MoviePy - Done.\n",
            "MoviePy - Writing audio in /content/Test/audio/audio_96_192-194.wav\n"
          ]
        },
        {
          "output_type": "stream",
          "name": "stderr",
          "text": []
        },
        {
          "output_type": "stream",
          "name": "stdout",
          "text": [
            "MoviePy - Done.\n",
            "MoviePy - Writing audio in /content/Test/audio/audio_97_194-196.wav\n"
          ]
        },
        {
          "output_type": "stream",
          "name": "stderr",
          "text": []
        },
        {
          "output_type": "stream",
          "name": "stdout",
          "text": [
            "MoviePy - Done.\n",
            "MoviePy - Writing audio in /content/Test/audio/audio_98_196-198.wav\n"
          ]
        },
        {
          "output_type": "stream",
          "name": "stderr",
          "text": []
        },
        {
          "output_type": "stream",
          "name": "stdout",
          "text": [
            "MoviePy - Done.\n",
            "MoviePy - Writing audio in /content/Test/audio/audio_99_198-200.wav\n"
          ]
        },
        {
          "output_type": "stream",
          "name": "stderr",
          "text": []
        },
        {
          "output_type": "stream",
          "name": "stdout",
          "text": [
            "MoviePy - Done.\n",
            "MoviePy - Writing audio in /content/Test/audio/audio_100_200-202.wav\n"
          ]
        },
        {
          "output_type": "stream",
          "name": "stderr",
          "text": []
        },
        {
          "output_type": "stream",
          "name": "stdout",
          "text": [
            "MoviePy - Done.\n",
            "MoviePy - Writing audio in /content/Test/audio/audio_101_202-204.wav\n"
          ]
        },
        {
          "output_type": "stream",
          "name": "stderr",
          "text": [
            "                                                       "
          ]
        },
        {
          "output_type": "stream",
          "name": "stdout",
          "text": [
            "MoviePy - Done.\n",
            "MoviePy - Writing audio in /content/Test/audio/audio_102_204-206.wav"
          ]
        },
        {
          "output_type": "stream",
          "name": "stderr",
          "text": [
            "\r"
          ]
        },
        {
          "output_type": "stream",
          "name": "stdout",
          "text": [
            "\n"
          ]
        },
        {
          "output_type": "stream",
          "name": "stderr",
          "text": []
        },
        {
          "output_type": "stream",
          "name": "stdout",
          "text": [
            "MoviePy - Done.\n",
            "MoviePy - Writing audio in /content/Test/audio/audio_103_206-208.wav\n"
          ]
        },
        {
          "output_type": "stream",
          "name": "stderr",
          "text": []
        },
        {
          "output_type": "stream",
          "name": "stdout",
          "text": [
            "MoviePy - Done.\n",
            "MoviePy - Writing audio in /content/Test/audio/audio_104_208-210.wav\n"
          ]
        },
        {
          "output_type": "stream",
          "name": "stderr",
          "text": []
        },
        {
          "output_type": "stream",
          "name": "stdout",
          "text": [
            "MoviePy - Done.\n",
            "MoviePy - Writing audio in /content/Test/audio/audio_105_210-212.wav\n"
          ]
        },
        {
          "output_type": "stream",
          "name": "stderr",
          "text": []
        },
        {
          "output_type": "stream",
          "name": "stdout",
          "text": [
            "MoviePy - Done.\n",
            "MoviePy - Writing audio in /content/Test/audio/audio_106_212-214.wav\n"
          ]
        },
        {
          "output_type": "stream",
          "name": "stderr",
          "text": []
        },
        {
          "output_type": "stream",
          "name": "stdout",
          "text": [
            "MoviePy - Done.\n",
            "MoviePy - Writing audio in /content/Test/audio/audio_107_214-216.wav\n"
          ]
        },
        {
          "output_type": "stream",
          "name": "stderr",
          "text": []
        },
        {
          "output_type": "stream",
          "name": "stdout",
          "text": [
            "MoviePy - Done.\n",
            "MoviePy - Writing audio in /content/Test/audio/audio_108_216-218.wav\n"
          ]
        },
        {
          "output_type": "stream",
          "name": "stderr",
          "text": []
        },
        {
          "output_type": "stream",
          "name": "stdout",
          "text": [
            "MoviePy - Done.\n",
            "MoviePy - Writing audio in /content/Test/audio/audio_109_218-220.wav\n"
          ]
        },
        {
          "output_type": "stream",
          "name": "stderr",
          "text": []
        },
        {
          "output_type": "stream",
          "name": "stdout",
          "text": [
            "MoviePy - Done.\n",
            "MoviePy - Writing audio in /content/Test/audio/audio_110_220-222.wav\n"
          ]
        },
        {
          "output_type": "stream",
          "name": "stderr",
          "text": []
        },
        {
          "output_type": "stream",
          "name": "stdout",
          "text": [
            "MoviePy - Done.\n",
            "MoviePy - Writing audio in /content/Test/audio/audio_111_222-224.wav\n"
          ]
        },
        {
          "output_type": "stream",
          "name": "stderr",
          "text": []
        },
        {
          "output_type": "stream",
          "name": "stdout",
          "text": [
            "MoviePy - Done.\n",
            "MoviePy - Writing audio in /content/Test/audio/audio_112_224-226.wav\n"
          ]
        },
        {
          "output_type": "stream",
          "name": "stderr",
          "text": []
        },
        {
          "output_type": "stream",
          "name": "stdout",
          "text": [
            "MoviePy - Done.\n",
            "MoviePy - Writing audio in /content/Test/audio/audio_113_226-228.wav\n"
          ]
        },
        {
          "output_type": "stream",
          "name": "stderr",
          "text": []
        },
        {
          "output_type": "stream",
          "name": "stdout",
          "text": [
            "MoviePy - Done.\n",
            "MoviePy - Writing audio in /content/Test/audio/audio_114_228-230.wav\n"
          ]
        },
        {
          "output_type": "stream",
          "name": "stderr",
          "text": []
        },
        {
          "output_type": "stream",
          "name": "stdout",
          "text": [
            "MoviePy - Done.\n",
            "MoviePy - Writing audio in /content/Test/audio/audio_115_230-232.wav\n"
          ]
        },
        {
          "output_type": "stream",
          "name": "stderr",
          "text": []
        },
        {
          "output_type": "stream",
          "name": "stdout",
          "text": [
            "MoviePy - Done.\n",
            "MoviePy - Writing audio in /content/Test/audio/audio_116_232-234.wav\n"
          ]
        },
        {
          "output_type": "stream",
          "name": "stderr",
          "text": []
        },
        {
          "output_type": "stream",
          "name": "stdout",
          "text": [
            "MoviePy - Done.\n",
            "MoviePy - Writing audio in /content/Test/audio/audio_117_234-236.wav\n"
          ]
        },
        {
          "output_type": "stream",
          "name": "stderr",
          "text": []
        },
        {
          "output_type": "stream",
          "name": "stdout",
          "text": [
            "MoviePy - Done.\n",
            "MoviePy - Writing audio in /content/Test/audio/audio_118_236-238.wav\n"
          ]
        },
        {
          "output_type": "stream",
          "name": "stderr",
          "text": []
        },
        {
          "output_type": "stream",
          "name": "stdout",
          "text": [
            "MoviePy - Done.\n",
            "MoviePy - Writing audio in /content/Test/audio/audio_119_238-240.wav\n"
          ]
        },
        {
          "output_type": "stream",
          "name": "stderr",
          "text": []
        },
        {
          "output_type": "stream",
          "name": "stdout",
          "text": [
            "MoviePy - Done.\n",
            "MoviePy - Writing audio in /content/Test/audio/audio_120_240-242.wav\n"
          ]
        },
        {
          "output_type": "stream",
          "name": "stderr",
          "text": []
        },
        {
          "output_type": "stream",
          "name": "stdout",
          "text": [
            "MoviePy - Done.\n",
            "MoviePy - Writing audio in /content/Test/audio/audio_121_242-244.wav\n"
          ]
        },
        {
          "output_type": "stream",
          "name": "stderr",
          "text": []
        },
        {
          "output_type": "stream",
          "name": "stdout",
          "text": [
            "MoviePy - Done.\n",
            "MoviePy - Writing audio in /content/Test/audio/audio_122_244-246.wav\n"
          ]
        },
        {
          "output_type": "stream",
          "name": "stderr",
          "text": []
        },
        {
          "output_type": "stream",
          "name": "stdout",
          "text": [
            "MoviePy - Done.\n",
            "MoviePy - Writing audio in /content/Test/audio/audio_123_246-248.wav\n"
          ]
        },
        {
          "output_type": "stream",
          "name": "stderr",
          "text": []
        },
        {
          "output_type": "stream",
          "name": "stdout",
          "text": [
            "MoviePy - Done.\n",
            "MoviePy - Writing audio in /content/Test/audio/audio_124_248-250.wav\n"
          ]
        },
        {
          "output_type": "stream",
          "name": "stderr",
          "text": []
        },
        {
          "output_type": "stream",
          "name": "stdout",
          "text": [
            "MoviePy - Done.\n",
            "MoviePy - Writing audio in /content/Test/audio/audio_125_250-252.wav\n"
          ]
        },
        {
          "output_type": "stream",
          "name": "stderr",
          "text": []
        },
        {
          "output_type": "stream",
          "name": "stdout",
          "text": [
            "MoviePy - Done.\n",
            "MoviePy - Writing audio in /content/Test/audio/audio_126_252-254.wav\n"
          ]
        },
        {
          "output_type": "stream",
          "name": "stderr",
          "text": []
        },
        {
          "output_type": "stream",
          "name": "stdout",
          "text": [
            "MoviePy - Done.\n",
            "MoviePy - Writing audio in /content/Test/audio/audio_127_254-256.wav\n"
          ]
        },
        {
          "output_type": "stream",
          "name": "stderr",
          "text": []
        },
        {
          "output_type": "stream",
          "name": "stdout",
          "text": [
            "MoviePy - Done.\n",
            "MoviePy - Writing audio in /content/Test/audio/audio_128_256-258.wav\n"
          ]
        },
        {
          "output_type": "stream",
          "name": "stderr",
          "text": []
        },
        {
          "output_type": "stream",
          "name": "stdout",
          "text": [
            "MoviePy - Done.\n",
            "MoviePy - Writing audio in /content/Test/audio/audio_129_258-260.wav\n"
          ]
        },
        {
          "output_type": "stream",
          "name": "stderr",
          "text": []
        },
        {
          "output_type": "stream",
          "name": "stdout",
          "text": [
            "MoviePy - Done.\n",
            "MoviePy - Writing audio in /content/Test/audio/audio_130_260-262.wav\n"
          ]
        },
        {
          "output_type": "stream",
          "name": "stderr",
          "text": []
        },
        {
          "output_type": "stream",
          "name": "stdout",
          "text": [
            "MoviePy - Done.\n",
            "MoviePy - Writing audio in /content/Test/audio/audio_131_262-264.wav\n"
          ]
        },
        {
          "output_type": "stream",
          "name": "stderr",
          "text": []
        },
        {
          "output_type": "stream",
          "name": "stdout",
          "text": [
            "MoviePy - Done.\n",
            "MoviePy - Writing audio in /content/Test/audio/audio_132_264-266.wav\n"
          ]
        },
        {
          "output_type": "stream",
          "name": "stderr",
          "text": []
        },
        {
          "output_type": "stream",
          "name": "stdout",
          "text": [
            "MoviePy - Done.\n",
            "MoviePy - Writing audio in /content/Test/audio/audio_133_266-268.wav\n"
          ]
        },
        {
          "output_type": "stream",
          "name": "stderr",
          "text": []
        },
        {
          "output_type": "stream",
          "name": "stdout",
          "text": [
            "MoviePy - Done.\n",
            "MoviePy - Writing audio in /content/Test/audio/audio_134_268-270.wav\n"
          ]
        },
        {
          "output_type": "stream",
          "name": "stderr",
          "text": []
        },
        {
          "output_type": "stream",
          "name": "stdout",
          "text": [
            "MoviePy - Done.\n",
            "MoviePy - Writing audio in /content/Test/audio/audio_135_270-272.wav\n"
          ]
        },
        {
          "output_type": "stream",
          "name": "stderr",
          "text": []
        },
        {
          "output_type": "stream",
          "name": "stdout",
          "text": [
            "MoviePy - Done.\n",
            "MoviePy - Writing audio in /content/Test/audio/audio_136_272-274.wav\n"
          ]
        },
        {
          "output_type": "stream",
          "name": "stderr",
          "text": []
        },
        {
          "output_type": "stream",
          "name": "stdout",
          "text": [
            "MoviePy - Done.\n",
            "MoviePy - Writing audio in /content/Test/audio/audio_137_274-276.wav\n"
          ]
        },
        {
          "output_type": "stream",
          "name": "stderr",
          "text": []
        },
        {
          "output_type": "stream",
          "name": "stdout",
          "text": [
            "MoviePy - Done.\n",
            "MoviePy - Writing audio in /content/Test/audio/audio_138_276-278.wav\n"
          ]
        },
        {
          "output_type": "stream",
          "name": "stderr",
          "text": []
        },
        {
          "output_type": "stream",
          "name": "stdout",
          "text": [
            "MoviePy - Done.\n",
            "MoviePy - Writing audio in /content/Test/audio/audio_139_278-280.wav\n"
          ]
        },
        {
          "output_type": "stream",
          "name": "stderr",
          "text": []
        },
        {
          "output_type": "stream",
          "name": "stdout",
          "text": [
            "MoviePy - Done.\n",
            "MoviePy - Writing audio in /content/Test/audio/audio_140_280-282.wav\n"
          ]
        },
        {
          "output_type": "stream",
          "name": "stderr",
          "text": []
        },
        {
          "output_type": "stream",
          "name": "stdout",
          "text": [
            "MoviePy - Done.\n",
            "MoviePy - Writing audio in /content/Test/audio/audio_141_282-284.wav\n"
          ]
        },
        {
          "output_type": "stream",
          "name": "stderr",
          "text": []
        },
        {
          "output_type": "stream",
          "name": "stdout",
          "text": [
            "MoviePy - Done.\n",
            "MoviePy - Writing audio in /content/Test/audio/audio_142_284-286.wav\n"
          ]
        },
        {
          "output_type": "stream",
          "name": "stderr",
          "text": []
        },
        {
          "output_type": "stream",
          "name": "stdout",
          "text": [
            "MoviePy - Done.\n",
            "MoviePy - Writing audio in /content/Test/audio/audio_143_286-288.wav\n"
          ]
        },
        {
          "output_type": "stream",
          "name": "stderr",
          "text": []
        },
        {
          "output_type": "stream",
          "name": "stdout",
          "text": [
            "MoviePy - Done.\n",
            "MoviePy - Writing audio in /content/Test/audio/audio_144_288-290.wav\n"
          ]
        },
        {
          "output_type": "stream",
          "name": "stderr",
          "text": []
        },
        {
          "output_type": "stream",
          "name": "stdout",
          "text": [
            "MoviePy - Done.\n",
            "MoviePy - Writing audio in /content/Test/audio/audio_145_290-292.wav\n"
          ]
        },
        {
          "output_type": "stream",
          "name": "stderr",
          "text": []
        },
        {
          "output_type": "stream",
          "name": "stdout",
          "text": [
            "MoviePy - Done.\n",
            "MoviePy - Writing audio in /content/Test/audio/audio_146_292-294.wav\n"
          ]
        },
        {
          "output_type": "stream",
          "name": "stderr",
          "text": []
        },
        {
          "output_type": "stream",
          "name": "stdout",
          "text": [
            "MoviePy - Done.\n",
            "MoviePy - Writing audio in /content/Test/audio/audio_147_294-296.wav\n"
          ]
        },
        {
          "output_type": "stream",
          "name": "stderr",
          "text": []
        },
        {
          "output_type": "stream",
          "name": "stdout",
          "text": [
            "MoviePy - Done.\n",
            "MoviePy - Writing audio in /content/Test/audio/audio_148_296-298.wav\n"
          ]
        },
        {
          "output_type": "stream",
          "name": "stderr",
          "text": []
        },
        {
          "output_type": "stream",
          "name": "stdout",
          "text": [
            "MoviePy - Done.\n",
            "MoviePy - Writing audio in /content/Test/audio/audio_149_298-300.wav\n"
          ]
        },
        {
          "output_type": "stream",
          "name": "stderr",
          "text": []
        },
        {
          "output_type": "stream",
          "name": "stdout",
          "text": [
            "MoviePy - Done.\n",
            "MoviePy - Writing audio in /content/Test/audio/audio_150_300-302.wav\n"
          ]
        },
        {
          "output_type": "stream",
          "name": "stderr",
          "text": [
            "                                                       "
          ]
        },
        {
          "output_type": "stream",
          "name": "stdout",
          "text": [
            "MoviePy - Done.\n",
            "MoviePy - Writing audio in /content/Test/audio/audio_151_302-304.wav\n"
          ]
        },
        {
          "output_type": "stream",
          "name": "stderr",
          "text": []
        },
        {
          "output_type": "stream",
          "name": "stdout",
          "text": [
            "MoviePy - Done.\n",
            "MoviePy - Writing audio in /content/Test/audio/audio_152_304-306.wav\n"
          ]
        },
        {
          "output_type": "stream",
          "name": "stderr",
          "text": []
        },
        {
          "output_type": "stream",
          "name": "stdout",
          "text": [
            "MoviePy - Done.\n",
            "MoviePy - Writing audio in /content/Test/audio/audio_153_306-308.wav\n"
          ]
        },
        {
          "output_type": "stream",
          "name": "stderr",
          "text": []
        },
        {
          "output_type": "stream",
          "name": "stdout",
          "text": [
            "MoviePy - Done.\n",
            "MoviePy - Writing audio in /content/Test/audio/audio_154_308-310.wav\n"
          ]
        },
        {
          "output_type": "stream",
          "name": "stderr",
          "text": []
        },
        {
          "output_type": "stream",
          "name": "stdout",
          "text": [
            "MoviePy - Done.\n",
            "MoviePy - Writing audio in /content/Test/audio/audio_155_310-312.wav\n"
          ]
        },
        {
          "output_type": "stream",
          "name": "stderr",
          "text": []
        },
        {
          "output_type": "stream",
          "name": "stdout",
          "text": [
            "MoviePy - Done.\n",
            "MoviePy - Writing audio in /content/Test/audio/audio_156_312-314.wav\n"
          ]
        },
        {
          "output_type": "stream",
          "name": "stderr",
          "text": []
        },
        {
          "output_type": "stream",
          "name": "stdout",
          "text": [
            "MoviePy - Done.\n",
            "MoviePy - Writing audio in /content/Test/audio/audio_157_314-316.wav\n"
          ]
        },
        {
          "output_type": "stream",
          "name": "stderr",
          "text": []
        },
        {
          "output_type": "stream",
          "name": "stdout",
          "text": [
            "MoviePy - Done.\n",
            "MoviePy - Writing audio in /content/Test/audio/audio_158_316-318.wav\n"
          ]
        },
        {
          "output_type": "stream",
          "name": "stderr",
          "text": []
        },
        {
          "output_type": "stream",
          "name": "stdout",
          "text": [
            "MoviePy - Done.\n",
            "MoviePy - Writing audio in /content/Test/audio/audio_159_318-320.wav\n"
          ]
        },
        {
          "output_type": "stream",
          "name": "stderr",
          "text": []
        },
        {
          "output_type": "stream",
          "name": "stdout",
          "text": [
            "MoviePy - Done.\n",
            "MoviePy - Writing audio in /content/Test/audio/audio_160_320-322.wav\n"
          ]
        },
        {
          "output_type": "stream",
          "name": "stderr",
          "text": []
        },
        {
          "output_type": "stream",
          "name": "stdout",
          "text": [
            "MoviePy - Done.\n",
            "MoviePy - Writing audio in /content/Test/audio/audio_161_322-324.wav\n"
          ]
        },
        {
          "output_type": "stream",
          "name": "stderr",
          "text": []
        },
        {
          "output_type": "stream",
          "name": "stdout",
          "text": [
            "MoviePy - Done.\n",
            "MoviePy - Writing audio in /content/Test/audio/audio_162_324-326.wav\n"
          ]
        },
        {
          "output_type": "stream",
          "name": "stderr",
          "text": []
        },
        {
          "output_type": "stream",
          "name": "stdout",
          "text": [
            "MoviePy - Done.\n",
            "MoviePy - Writing audio in /content/Test/audio/audio_163_326-328.wav\n"
          ]
        },
        {
          "output_type": "stream",
          "name": "stderr",
          "text": []
        },
        {
          "output_type": "stream",
          "name": "stdout",
          "text": [
            "MoviePy - Done.\n",
            "MoviePy - Writing audio in /content/Test/audio/audio_164_328-330.wav\n"
          ]
        },
        {
          "output_type": "stream",
          "name": "stderr",
          "text": []
        },
        {
          "output_type": "stream",
          "name": "stdout",
          "text": [
            "MoviePy - Done.\n",
            "MoviePy - Writing audio in /content/Test/audio/audio_165_330-332.wav\n"
          ]
        },
        {
          "output_type": "stream",
          "name": "stderr",
          "text": []
        },
        {
          "output_type": "stream",
          "name": "stdout",
          "text": [
            "MoviePy - Done.\n",
            "MoviePy - Writing audio in /content/Test/audio/audio_166_332-334.wav\n"
          ]
        },
        {
          "output_type": "stream",
          "name": "stderr",
          "text": []
        },
        {
          "output_type": "stream",
          "name": "stdout",
          "text": [
            "MoviePy - Done.\n",
            "MoviePy - Writing audio in /content/Test/audio/audio_167_334-336.wav\n"
          ]
        },
        {
          "output_type": "stream",
          "name": "stderr",
          "text": []
        },
        {
          "output_type": "stream",
          "name": "stdout",
          "text": [
            "MoviePy - Done.\n",
            "MoviePy - Writing audio in /content/Test/audio/audio_168_336-338.wav\n"
          ]
        },
        {
          "output_type": "stream",
          "name": "stderr",
          "text": []
        },
        {
          "output_type": "stream",
          "name": "stdout",
          "text": [
            "MoviePy - Done.\n",
            "MoviePy - Writing audio in /content/Test/audio/audio_169_338-340.wav\n"
          ]
        },
        {
          "output_type": "stream",
          "name": "stderr",
          "text": []
        },
        {
          "output_type": "stream",
          "name": "stdout",
          "text": [
            "MoviePy - Done.\n",
            "MoviePy - Writing audio in /content/Test/audio/audio_170_340-342.wav\n"
          ]
        },
        {
          "output_type": "stream",
          "name": "stderr",
          "text": []
        },
        {
          "output_type": "stream",
          "name": "stdout",
          "text": [
            "MoviePy - Done.\n",
            "MoviePy - Writing audio in /content/Test/audio/audio_171_342-344.wav\n"
          ]
        },
        {
          "output_type": "stream",
          "name": "stderr",
          "text": []
        },
        {
          "output_type": "stream",
          "name": "stdout",
          "text": [
            "MoviePy - Done.\n",
            "MoviePy - Writing audio in /content/Test/audio/audio_172_344-346.wav\n"
          ]
        },
        {
          "output_type": "stream",
          "name": "stderr",
          "text": []
        },
        {
          "output_type": "stream",
          "name": "stdout",
          "text": [
            "MoviePy - Done.\n",
            "MoviePy - Writing audio in /content/Test/audio/audio_173_346-348.wav\n"
          ]
        },
        {
          "output_type": "stream",
          "name": "stderr",
          "text": []
        },
        {
          "output_type": "stream",
          "name": "stdout",
          "text": [
            "MoviePy - Done.\n",
            "MoviePy - Writing audio in /content/Test/audio/audio_174_348-350.wav\n"
          ]
        },
        {
          "output_type": "stream",
          "name": "stderr",
          "text": []
        },
        {
          "output_type": "stream",
          "name": "stdout",
          "text": [
            "MoviePy - Done.\n",
            "MoviePy - Writing audio in /content/Test/audio/audio_175_350-352.wav\n"
          ]
        },
        {
          "output_type": "stream",
          "name": "stderr",
          "text": []
        },
        {
          "output_type": "stream",
          "name": "stdout",
          "text": [
            "MoviePy - Done.\n",
            "MoviePy - Writing audio in /content/Test/audio/audio_176_352-354.wav\n"
          ]
        },
        {
          "output_type": "stream",
          "name": "stderr",
          "text": []
        },
        {
          "output_type": "stream",
          "name": "stdout",
          "text": [
            "MoviePy - Done.\n",
            "MoviePy - Writing audio in /content/Test/audio/audio_177_354-356.wav\n"
          ]
        },
        {
          "output_type": "stream",
          "name": "stderr",
          "text": []
        },
        {
          "output_type": "stream",
          "name": "stdout",
          "text": [
            "MoviePy - Done.\n",
            "MoviePy - Writing audio in /content/Test/audio/audio_178_356-358.wav\n"
          ]
        },
        {
          "output_type": "stream",
          "name": "stderr",
          "text": []
        },
        {
          "output_type": "stream",
          "name": "stdout",
          "text": [
            "MoviePy - Done.\n",
            "MoviePy - Writing audio in /content/Test/audio/audio_179_358-360.wav\n"
          ]
        },
        {
          "output_type": "stream",
          "name": "stderr",
          "text": []
        },
        {
          "output_type": "stream",
          "name": "stdout",
          "text": [
            "MoviePy - Done.\n",
            "MoviePy - Writing audio in /content/Test/audio/audio_180_360-362.wav\n"
          ]
        },
        {
          "output_type": "stream",
          "name": "stderr",
          "text": []
        },
        {
          "output_type": "stream",
          "name": "stdout",
          "text": [
            "MoviePy - Done.\n",
            "MoviePy - Writing audio in /content/Test/audio/audio_181_362-364.wav\n"
          ]
        },
        {
          "output_type": "stream",
          "name": "stderr",
          "text": []
        },
        {
          "output_type": "stream",
          "name": "stdout",
          "text": [
            "MoviePy - Done.\n",
            "MoviePy - Writing audio in /content/Test/audio/audio_182_364-366.wav\n"
          ]
        },
        {
          "output_type": "stream",
          "name": "stderr",
          "text": []
        },
        {
          "output_type": "stream",
          "name": "stdout",
          "text": [
            "MoviePy - Done.\n",
            "MoviePy - Writing audio in /content/Test/audio/audio_183_366-368.wav\n"
          ]
        },
        {
          "output_type": "stream",
          "name": "stderr",
          "text": []
        },
        {
          "output_type": "stream",
          "name": "stdout",
          "text": [
            "MoviePy - Done.\n",
            "MoviePy - Writing audio in /content/Test/audio/audio_184_368-370.wav\n"
          ]
        },
        {
          "output_type": "stream",
          "name": "stderr",
          "text": []
        },
        {
          "output_type": "stream",
          "name": "stdout",
          "text": [
            "MoviePy - Done.\n",
            "MoviePy - Writing audio in /content/Test/audio/audio_185_370-372.wav\n"
          ]
        },
        {
          "output_type": "stream",
          "name": "stderr",
          "text": []
        },
        {
          "output_type": "stream",
          "name": "stdout",
          "text": [
            "MoviePy - Done.\n",
            "MoviePy - Writing audio in /content/Test/audio/audio_186_372-374.wav\n"
          ]
        },
        {
          "output_type": "stream",
          "name": "stderr",
          "text": []
        },
        {
          "output_type": "stream",
          "name": "stdout",
          "text": [
            "MoviePy - Done.\n",
            "MoviePy - Writing audio in /content/Test/audio/audio_187_374-376.wav\n"
          ]
        },
        {
          "output_type": "stream",
          "name": "stderr",
          "text": []
        },
        {
          "output_type": "stream",
          "name": "stdout",
          "text": [
            "MoviePy - Done.\n",
            "MoviePy - Writing audio in /content/Test/audio/audio_188_376-378.wav\n"
          ]
        },
        {
          "output_type": "stream",
          "name": "stderr",
          "text": []
        },
        {
          "output_type": "stream",
          "name": "stdout",
          "text": [
            "MoviePy - Done.\n",
            "MoviePy - Writing audio in /content/Test/audio/audio_189_378-380.wav\n"
          ]
        },
        {
          "output_type": "stream",
          "name": "stderr",
          "text": []
        },
        {
          "output_type": "stream",
          "name": "stdout",
          "text": [
            "MoviePy - Done.\n",
            "MoviePy - Writing audio in /content/Test/audio/audio_190_380-382.wav\n"
          ]
        },
        {
          "output_type": "stream",
          "name": "stderr",
          "text": []
        },
        {
          "output_type": "stream",
          "name": "stdout",
          "text": [
            "MoviePy - Done.\n",
            "MoviePy - Writing audio in /content/Test/audio/audio_191_382-384.wav\n"
          ]
        },
        {
          "output_type": "stream",
          "name": "stderr",
          "text": []
        },
        {
          "output_type": "stream",
          "name": "stdout",
          "text": [
            "MoviePy - Done.\n",
            "MoviePy - Writing audio in /content/Test/audio/audio_192_384-386.wav\n"
          ]
        },
        {
          "output_type": "stream",
          "name": "stderr",
          "text": []
        },
        {
          "output_type": "stream",
          "name": "stdout",
          "text": [
            "MoviePy - Done.\n",
            "MoviePy - Writing audio in /content/Test/audio/audio_193_386-388.wav\n"
          ]
        },
        {
          "output_type": "stream",
          "name": "stderr",
          "text": []
        },
        {
          "output_type": "stream",
          "name": "stdout",
          "text": [
            "MoviePy - Done.\n",
            "MoviePy - Writing audio in /content/Test/audio/audio_194_388-390.wav\n"
          ]
        },
        {
          "output_type": "stream",
          "name": "stderr",
          "text": []
        },
        {
          "output_type": "stream",
          "name": "stdout",
          "text": [
            "MoviePy - Done.\n",
            "MoviePy - Writing audio in /content/Test/audio/audio_195_390-392.wav\n"
          ]
        },
        {
          "output_type": "stream",
          "name": "stderr",
          "text": []
        },
        {
          "output_type": "stream",
          "name": "stdout",
          "text": [
            "MoviePy - Done.\n",
            "MoviePy - Writing audio in /content/Test/audio/audio_196_392-394.wav\n"
          ]
        },
        {
          "output_type": "stream",
          "name": "stderr",
          "text": []
        },
        {
          "output_type": "stream",
          "name": "stdout",
          "text": [
            "MoviePy - Done.\n",
            "MoviePy - Writing audio in /content/Test/audio/audio_197_394-396.wav\n"
          ]
        },
        {
          "output_type": "stream",
          "name": "stderr",
          "text": []
        },
        {
          "output_type": "stream",
          "name": "stdout",
          "text": [
            "MoviePy - Done.\n",
            "MoviePy - Writing audio in /content/Test/audio/audio_198_396-398.wav\n"
          ]
        },
        {
          "output_type": "stream",
          "name": "stderr",
          "text": []
        },
        {
          "output_type": "stream",
          "name": "stdout",
          "text": [
            "MoviePy - Done.\n",
            "MoviePy - Writing audio in /content/Test/audio/audio_199_398-400.wav\n"
          ]
        },
        {
          "output_type": "stream",
          "name": "stderr",
          "text": []
        },
        {
          "output_type": "stream",
          "name": "stdout",
          "text": [
            "MoviePy - Done.\n",
            "MoviePy - Writing audio in /content/Test/audio/audio_200_400-402.wav\n"
          ]
        },
        {
          "output_type": "stream",
          "name": "stderr",
          "text": []
        },
        {
          "output_type": "stream",
          "name": "stdout",
          "text": [
            "MoviePy - Done.\n",
            "MoviePy - Writing audio in /content/Test/audio/audio_201_402-404.wav\n"
          ]
        },
        {
          "output_type": "stream",
          "name": "stderr",
          "text": []
        },
        {
          "output_type": "stream",
          "name": "stdout",
          "text": [
            "MoviePy - Done.\n",
            "MoviePy - Writing audio in /content/Test/audio/audio_202_404-406.wav\n"
          ]
        },
        {
          "output_type": "stream",
          "name": "stderr",
          "text": []
        },
        {
          "output_type": "stream",
          "name": "stdout",
          "text": [
            "MoviePy - Done.\n",
            "MoviePy - Writing audio in /content/Test/audio/audio_203_406-408.wav\n"
          ]
        },
        {
          "output_type": "stream",
          "name": "stderr",
          "text": []
        },
        {
          "output_type": "stream",
          "name": "stdout",
          "text": [
            "MoviePy - Done.\n",
            "MoviePy - Writing audio in /content/Test/audio/audio_204_408-410.wav\n"
          ]
        },
        {
          "output_type": "stream",
          "name": "stderr",
          "text": []
        },
        {
          "output_type": "stream",
          "name": "stdout",
          "text": [
            "MoviePy - Done.\n",
            "MoviePy - Writing audio in /content/Test/audio/audio_205_410-412.wav\n"
          ]
        },
        {
          "output_type": "stream",
          "name": "stderr",
          "text": []
        },
        {
          "output_type": "stream",
          "name": "stdout",
          "text": [
            "MoviePy - Done.\n",
            "MoviePy - Writing audio in /content/Test/audio/audio_206_412-414.wav\n"
          ]
        },
        {
          "output_type": "stream",
          "name": "stderr",
          "text": []
        },
        {
          "output_type": "stream",
          "name": "stdout",
          "text": [
            "MoviePy - Done.\n",
            "MoviePy - Writing audio in /content/Test/audio/audio_207_414-416.wav\n"
          ]
        },
        {
          "output_type": "stream",
          "name": "stderr",
          "text": []
        },
        {
          "output_type": "stream",
          "name": "stdout",
          "text": [
            "MoviePy - Done.\n",
            "MoviePy - Writing audio in /content/Test/audio/audio_208_416-418.wav\n"
          ]
        },
        {
          "output_type": "stream",
          "name": "stderr",
          "text": []
        },
        {
          "output_type": "stream",
          "name": "stdout",
          "text": [
            "MoviePy - Done.\n",
            "MoviePy - Writing audio in /content/Test/audio/audio_209_418-420.wav\n"
          ]
        },
        {
          "output_type": "stream",
          "name": "stderr",
          "text": []
        },
        {
          "output_type": "stream",
          "name": "stdout",
          "text": [
            "MoviePy - Done.\n",
            "MoviePy - Writing audio in /content/Test/audio/audio_210_420-422.wav\n"
          ]
        },
        {
          "output_type": "stream",
          "name": "stderr",
          "text": []
        },
        {
          "output_type": "stream",
          "name": "stdout",
          "text": [
            "MoviePy - Done.\n",
            "MoviePy - Writing audio in /content/Test/audio/audio_211_422-424.wav\n"
          ]
        },
        {
          "output_type": "stream",
          "name": "stderr",
          "text": []
        },
        {
          "output_type": "stream",
          "name": "stdout",
          "text": [
            "MoviePy - Done.\n",
            "MoviePy - Writing audio in /content/Test/audio/audio_212_424-426.wav\n"
          ]
        },
        {
          "output_type": "stream",
          "name": "stderr",
          "text": []
        },
        {
          "output_type": "stream",
          "name": "stdout",
          "text": [
            "MoviePy - Done.\n",
            "MoviePy - Writing audio in /content/Test/audio/audio_213_426-428.wav\n"
          ]
        },
        {
          "output_type": "stream",
          "name": "stderr",
          "text": []
        },
        {
          "output_type": "stream",
          "name": "stdout",
          "text": [
            "MoviePy - Done.\n",
            "MoviePy - Writing audio in /content/Test/audio/audio_214_428-430.wav\n"
          ]
        },
        {
          "output_type": "stream",
          "name": "stderr",
          "text": []
        },
        {
          "output_type": "stream",
          "name": "stdout",
          "text": [
            "MoviePy - Done.\n",
            "MoviePy - Writing audio in /content/Test/audio/audio_215_430-432.wav\n"
          ]
        },
        {
          "output_type": "stream",
          "name": "stderr",
          "text": []
        },
        {
          "output_type": "stream",
          "name": "stdout",
          "text": [
            "MoviePy - Done.\n",
            "MoviePy - Writing audio in /content/Test/audio/audio_216_432-434.wav\n"
          ]
        },
        {
          "output_type": "stream",
          "name": "stderr",
          "text": []
        },
        {
          "output_type": "stream",
          "name": "stdout",
          "text": [
            "MoviePy - Done.\n",
            "MoviePy - Writing audio in /content/Test/audio/audio_217_434-436.wav\n"
          ]
        },
        {
          "output_type": "stream",
          "name": "stderr",
          "text": []
        },
        {
          "output_type": "stream",
          "name": "stdout",
          "text": [
            "MoviePy - Done.\n",
            "MoviePy - Writing audio in /content/Test/audio/audio_218_436-438.wav\n"
          ]
        },
        {
          "output_type": "stream",
          "name": "stderr",
          "text": []
        },
        {
          "output_type": "stream",
          "name": "stdout",
          "text": [
            "MoviePy - Done.\n",
            "MoviePy - Writing audio in /content/Test/audio/audio_219_438-440.wav\n"
          ]
        },
        {
          "output_type": "stream",
          "name": "stderr",
          "text": []
        },
        {
          "output_type": "stream",
          "name": "stdout",
          "text": [
            "MoviePy - Done.\n",
            "MoviePy - Writing audio in /content/Test/audio/audio_220_440-442.wav\n"
          ]
        },
        {
          "output_type": "stream",
          "name": "stderr",
          "text": []
        },
        {
          "output_type": "stream",
          "name": "stdout",
          "text": [
            "MoviePy - Done.\n",
            "MoviePy - Writing audio in /content/Test/audio/audio_221_442-444.wav\n"
          ]
        },
        {
          "output_type": "stream",
          "name": "stderr",
          "text": []
        },
        {
          "output_type": "stream",
          "name": "stdout",
          "text": [
            "MoviePy - Done.\n",
            "MoviePy - Writing audio in /content/Test/audio/audio_222_444-446.wav\n"
          ]
        },
        {
          "output_type": "stream",
          "name": "stderr",
          "text": []
        },
        {
          "output_type": "stream",
          "name": "stdout",
          "text": [
            "MoviePy - Done.\n",
            "MoviePy - Writing audio in /content/Test/audio/audio_223_446-448.wav\n"
          ]
        },
        {
          "output_type": "stream",
          "name": "stderr",
          "text": []
        },
        {
          "output_type": "stream",
          "name": "stdout",
          "text": [
            "MoviePy - Done.\n",
            "MoviePy - Writing audio in /content/Test/audio/audio_224_448-450.wav\n"
          ]
        },
        {
          "output_type": "stream",
          "name": "stderr",
          "text": []
        },
        {
          "output_type": "stream",
          "name": "stdout",
          "text": [
            "MoviePy - Done.\n",
            "MoviePy - Writing audio in /content/Test/audio/audio_225_450-452.wav\n"
          ]
        },
        {
          "output_type": "stream",
          "name": "stderr",
          "text": []
        },
        {
          "output_type": "stream",
          "name": "stdout",
          "text": [
            "MoviePy - Done.\n",
            "MoviePy - Writing audio in /content/Test/audio/audio_226_452-454.wav\n"
          ]
        },
        {
          "output_type": "stream",
          "name": "stderr",
          "text": []
        },
        {
          "output_type": "stream",
          "name": "stdout",
          "text": [
            "MoviePy - Done.\n",
            "MoviePy - Writing audio in /content/Test/audio/audio_227_454-456.wav\n"
          ]
        },
        {
          "output_type": "stream",
          "name": "stderr",
          "text": []
        },
        {
          "output_type": "stream",
          "name": "stdout",
          "text": [
            "MoviePy - Done.\n",
            "MoviePy - Writing audio in /content/Test/audio/audio_228_456-458.wav\n"
          ]
        },
        {
          "output_type": "stream",
          "name": "stderr",
          "text": []
        },
        {
          "output_type": "stream",
          "name": "stdout",
          "text": [
            "MoviePy - Done.\n",
            "MoviePy - Writing audio in /content/Test/audio/audio_229_458-460.wav\n"
          ]
        },
        {
          "output_type": "stream",
          "name": "stderr",
          "text": []
        },
        {
          "output_type": "stream",
          "name": "stdout",
          "text": [
            "MoviePy - Done.\n",
            "MoviePy - Writing audio in /content/Test/audio/audio_230_460-462.wav\n"
          ]
        },
        {
          "output_type": "stream",
          "name": "stderr",
          "text": []
        },
        {
          "output_type": "stream",
          "name": "stdout",
          "text": [
            "MoviePy - Done.\n",
            "MoviePy - Writing audio in /content/Test/audio/audio_231_462-464.wav\n"
          ]
        },
        {
          "output_type": "stream",
          "name": "stderr",
          "text": []
        },
        {
          "output_type": "stream",
          "name": "stdout",
          "text": [
            "MoviePy - Done.\n",
            "MoviePy - Writing audio in /content/Test/audio/audio_232_464-466.wav\n"
          ]
        },
        {
          "output_type": "stream",
          "name": "stderr",
          "text": []
        },
        {
          "output_type": "stream",
          "name": "stdout",
          "text": [
            "MoviePy - Done.\n",
            "MoviePy - Writing audio in /content/Test/audio/audio_233_466-468.wav\n"
          ]
        },
        {
          "output_type": "stream",
          "name": "stderr",
          "text": []
        },
        {
          "output_type": "stream",
          "name": "stdout",
          "text": [
            "MoviePy - Done.\n",
            "MoviePy - Writing audio in /content/Test/audio/audio_234_468-470.wav\n"
          ]
        },
        {
          "output_type": "stream",
          "name": "stderr",
          "text": []
        },
        {
          "output_type": "stream",
          "name": "stdout",
          "text": [
            "MoviePy - Done.\n",
            "MoviePy - Writing audio in /content/Test/audio/audio_235_470-472.wav\n"
          ]
        },
        {
          "output_type": "stream",
          "name": "stderr",
          "text": []
        },
        {
          "output_type": "stream",
          "name": "stdout",
          "text": [
            "MoviePy - Done.\n",
            "MoviePy - Writing audio in /content/Test/audio/audio_236_472-474.wav\n"
          ]
        },
        {
          "output_type": "stream",
          "name": "stderr",
          "text": []
        },
        {
          "output_type": "stream",
          "name": "stdout",
          "text": [
            "MoviePy - Done.\n",
            "MoviePy - Writing audio in /content/Test/audio/audio_237_474-476.wav\n"
          ]
        },
        {
          "output_type": "stream",
          "name": "stderr",
          "text": []
        },
        {
          "output_type": "stream",
          "name": "stdout",
          "text": [
            "MoviePy - Done.\n",
            "MoviePy - Writing audio in /content/Test/audio/audio_238_476-478.wav\n"
          ]
        },
        {
          "output_type": "stream",
          "name": "stderr",
          "text": []
        },
        {
          "output_type": "stream",
          "name": "stdout",
          "text": [
            "MoviePy - Done.\n",
            "MoviePy - Writing audio in /content/Test/audio/audio_239_478-480.wav\n"
          ]
        },
        {
          "output_type": "stream",
          "name": "stderr",
          "text": []
        },
        {
          "output_type": "stream",
          "name": "stdout",
          "text": [
            "MoviePy - Done.\n",
            "MoviePy - Writing audio in /content/Test/audio/audio_240_480-482.wav\n"
          ]
        },
        {
          "output_type": "stream",
          "name": "stderr",
          "text": []
        },
        {
          "output_type": "stream",
          "name": "stdout",
          "text": [
            "MoviePy - Done.\n",
            "MoviePy - Writing audio in /content/Test/audio/audio_241_482-484.wav\n"
          ]
        },
        {
          "output_type": "stream",
          "name": "stderr",
          "text": []
        },
        {
          "output_type": "stream",
          "name": "stdout",
          "text": [
            "MoviePy - Done.\n",
            "MoviePy - Writing audio in /content/Test/audio/audio_242_484-486.wav\n"
          ]
        },
        {
          "output_type": "stream",
          "name": "stderr",
          "text": []
        },
        {
          "output_type": "stream",
          "name": "stdout",
          "text": [
            "MoviePy - Done.\n",
            "MoviePy - Writing audio in /content/Test/audio/audio_243_486-488.wav\n"
          ]
        },
        {
          "output_type": "stream",
          "name": "stderr",
          "text": []
        },
        {
          "output_type": "stream",
          "name": "stdout",
          "text": [
            "MoviePy - Done.\n",
            "MoviePy - Writing audio in /content/Test/audio/audio_244_488-490.wav\n"
          ]
        },
        {
          "output_type": "stream",
          "name": "stderr",
          "text": []
        },
        {
          "output_type": "stream",
          "name": "stdout",
          "text": [
            "MoviePy - Done.\n",
            "MoviePy - Writing audio in /content/Test/audio/audio_245_490-492.wav\n"
          ]
        },
        {
          "output_type": "stream",
          "name": "stderr",
          "text": []
        },
        {
          "output_type": "stream",
          "name": "stdout",
          "text": [
            "MoviePy - Done.\n",
            "MoviePy - Writing audio in /content/Test/audio/audio_246_492-494.wav\n"
          ]
        },
        {
          "output_type": "stream",
          "name": "stderr",
          "text": []
        },
        {
          "output_type": "stream",
          "name": "stdout",
          "text": [
            "MoviePy - Done.\n",
            "MoviePy - Writing audio in /content/Test/audio/audio_247_494-496.wav\n"
          ]
        },
        {
          "output_type": "stream",
          "name": "stderr",
          "text": []
        },
        {
          "output_type": "stream",
          "name": "stdout",
          "text": [
            "MoviePy - Done.\n",
            "MoviePy - Writing audio in /content/Test/audio/audio_248_496-498.wav\n"
          ]
        },
        {
          "output_type": "stream",
          "name": "stderr",
          "text": []
        },
        {
          "output_type": "stream",
          "name": "stdout",
          "text": [
            "MoviePy - Done.\n",
            "MoviePy - Writing audio in /content/Test/audio/audio_249_498-500.wav\n"
          ]
        },
        {
          "output_type": "stream",
          "name": "stderr",
          "text": []
        },
        {
          "output_type": "stream",
          "name": "stdout",
          "text": [
            "MoviePy - Done.\n",
            "MoviePy - Writing audio in /content/Test/audio/audio_250_500-502.wav\n"
          ]
        },
        {
          "output_type": "stream",
          "name": "stderr",
          "text": []
        },
        {
          "output_type": "stream",
          "name": "stdout",
          "text": [
            "MoviePy - Done.\n",
            "MoviePy - Writing audio in /content/Test/audio/audio_251_502-504.wav\n"
          ]
        },
        {
          "output_type": "stream",
          "name": "stderr",
          "text": []
        },
        {
          "output_type": "stream",
          "name": "stdout",
          "text": [
            "MoviePy - Done.\n",
            "MoviePy - Writing audio in /content/Test/audio/audio_252_504-506.wav\n"
          ]
        },
        {
          "output_type": "stream",
          "name": "stderr",
          "text": []
        },
        {
          "output_type": "stream",
          "name": "stdout",
          "text": [
            "MoviePy - Done.\n",
            "MoviePy - Writing audio in /content/Test/audio/audio_253_506-508.wav\n"
          ]
        },
        {
          "output_type": "stream",
          "name": "stderr",
          "text": []
        },
        {
          "output_type": "stream",
          "name": "stdout",
          "text": [
            "MoviePy - Done.\n",
            "MoviePy - Writing audio in /content/Test/audio/audio_254_508-510.wav\n"
          ]
        },
        {
          "output_type": "stream",
          "name": "stderr",
          "text": []
        },
        {
          "output_type": "stream",
          "name": "stdout",
          "text": [
            "MoviePy - Done.\n",
            "MoviePy - Writing audio in /content/Test/audio/audio_255_510-512.wav\n"
          ]
        },
        {
          "output_type": "stream",
          "name": "stderr",
          "text": []
        },
        {
          "output_type": "stream",
          "name": "stdout",
          "text": [
            "MoviePy - Done.\n",
            "MoviePy - Writing audio in /content/Test/audio/audio_256_512-514.wav\n"
          ]
        },
        {
          "output_type": "stream",
          "name": "stderr",
          "text": []
        },
        {
          "output_type": "stream",
          "name": "stdout",
          "text": [
            "MoviePy - Done.\n",
            "MoviePy - Writing audio in /content/Test/audio/audio_257_514-516.wav\n"
          ]
        },
        {
          "output_type": "stream",
          "name": "stderr",
          "text": []
        },
        {
          "output_type": "stream",
          "name": "stdout",
          "text": [
            "MoviePy - Done.\n",
            "MoviePy - Writing audio in /content/Test/audio/audio_258_516-518.wav\n"
          ]
        },
        {
          "output_type": "stream",
          "name": "stderr",
          "text": []
        },
        {
          "output_type": "stream",
          "name": "stdout",
          "text": [
            "MoviePy - Done.\n",
            "MoviePy - Writing audio in /content/Test/audio/audio_259_518-520.wav\n"
          ]
        },
        {
          "output_type": "stream",
          "name": "stderr",
          "text": []
        },
        {
          "output_type": "stream",
          "name": "stdout",
          "text": [
            "MoviePy - Done.\n",
            "MoviePy - Writing audio in /content/Test/audio/audio_260_520-522.wav\n"
          ]
        },
        {
          "output_type": "stream",
          "name": "stderr",
          "text": []
        },
        {
          "output_type": "stream",
          "name": "stdout",
          "text": [
            "MoviePy - Done.\n",
            "MoviePy - Writing audio in /content/Test/audio/audio_261_522-524.wav\n"
          ]
        },
        {
          "output_type": "stream",
          "name": "stderr",
          "text": []
        },
        {
          "output_type": "stream",
          "name": "stdout",
          "text": [
            "MoviePy - Done.\n",
            "MoviePy - Writing audio in /content/Test/audio/audio_262_524-526.wav\n"
          ]
        },
        {
          "output_type": "stream",
          "name": "stderr",
          "text": []
        },
        {
          "output_type": "stream",
          "name": "stdout",
          "text": [
            "MoviePy - Done.\n",
            "MoviePy - Writing audio in /content/Test/audio/audio_263_526-528.wav\n"
          ]
        },
        {
          "output_type": "stream",
          "name": "stderr",
          "text": []
        },
        {
          "output_type": "stream",
          "name": "stdout",
          "text": [
            "MoviePy - Done.\n",
            "MoviePy - Writing audio in /content/Test/audio/audio_264_528-530.wav\n"
          ]
        },
        {
          "output_type": "stream",
          "name": "stderr",
          "text": []
        },
        {
          "output_type": "stream",
          "name": "stdout",
          "text": [
            "MoviePy - Done.\n",
            "MoviePy - Writing audio in /content/Test/audio/audio_265_530-532.wav\n"
          ]
        },
        {
          "output_type": "stream",
          "name": "stderr",
          "text": []
        },
        {
          "output_type": "stream",
          "name": "stdout",
          "text": [
            "MoviePy - Done.\n",
            "MoviePy - Writing audio in /content/Test/audio/audio_266_532-534.wav\n"
          ]
        },
        {
          "output_type": "stream",
          "name": "stderr",
          "text": []
        },
        {
          "output_type": "stream",
          "name": "stdout",
          "text": [
            "MoviePy - Done.\n",
            "MoviePy - Writing audio in /content/Test/audio/audio_267_534-536.wav\n"
          ]
        },
        {
          "output_type": "stream",
          "name": "stderr",
          "text": []
        },
        {
          "output_type": "stream",
          "name": "stdout",
          "text": [
            "MoviePy - Done.\n",
            "MoviePy - Writing audio in /content/Test/audio/audio_268_536-538.wav\n"
          ]
        },
        {
          "output_type": "stream",
          "name": "stderr",
          "text": []
        },
        {
          "output_type": "stream",
          "name": "stdout",
          "text": [
            "MoviePy - Done.\n",
            "MoviePy - Writing audio in /content/Test/audio/audio_269_538-540.wav\n"
          ]
        },
        {
          "output_type": "stream",
          "name": "stderr",
          "text": []
        },
        {
          "output_type": "stream",
          "name": "stdout",
          "text": [
            "MoviePy - Done.\n",
            "MoviePy - Writing audio in /content/Test/audio/audio_270_540-542.wav\n"
          ]
        },
        {
          "output_type": "stream",
          "name": "stderr",
          "text": []
        },
        {
          "output_type": "stream",
          "name": "stdout",
          "text": [
            "MoviePy - Done.\n",
            "MoviePy - Writing audio in /content/Test/audio/audio_271_542-544.wav\n"
          ]
        },
        {
          "output_type": "stream",
          "name": "stderr",
          "text": []
        },
        {
          "output_type": "stream",
          "name": "stdout",
          "text": [
            "MoviePy - Done.\n",
            "MoviePy - Writing audio in /content/Test/audio/audio_272_544-546.wav\n"
          ]
        },
        {
          "output_type": "stream",
          "name": "stderr",
          "text": []
        },
        {
          "output_type": "stream",
          "name": "stdout",
          "text": [
            "MoviePy - Done.\n",
            "MoviePy - Writing audio in /content/Test/audio/audio_273_546-548.wav\n"
          ]
        },
        {
          "output_type": "stream",
          "name": "stderr",
          "text": []
        },
        {
          "output_type": "stream",
          "name": "stdout",
          "text": [
            "MoviePy - Done.\n",
            "MoviePy - Writing audio in /content/Test/audio/audio_274_548-550.wav\n"
          ]
        },
        {
          "output_type": "stream",
          "name": "stderr",
          "text": []
        },
        {
          "output_type": "stream",
          "name": "stdout",
          "text": [
            "MoviePy - Done.\n",
            "MoviePy - Writing audio in /content/Test/audio/audio_275_550-552.wav\n"
          ]
        },
        {
          "output_type": "stream",
          "name": "stderr",
          "text": []
        },
        {
          "output_type": "stream",
          "name": "stdout",
          "text": [
            "MoviePy - Done.\n",
            "MoviePy - Writing audio in /content/Test/audio/audio_276_552-554.wav\n"
          ]
        },
        {
          "output_type": "stream",
          "name": "stderr",
          "text": []
        },
        {
          "output_type": "stream",
          "name": "stdout",
          "text": [
            "MoviePy - Done.\n",
            "MoviePy - Writing audio in /content/Test/audio/audio_277_554-556.wav\n"
          ]
        },
        {
          "output_type": "stream",
          "name": "stderr",
          "text": []
        },
        {
          "output_type": "stream",
          "name": "stdout",
          "text": [
            "MoviePy - Done.\n",
            "MoviePy - Writing audio in /content/Test/audio/audio_278_556-558.wav\n"
          ]
        },
        {
          "output_type": "stream",
          "name": "stderr",
          "text": []
        },
        {
          "output_type": "stream",
          "name": "stdout",
          "text": [
            "MoviePy - Done.\n",
            "MoviePy - Writing audio in /content/Test/audio/audio_279_558-560.wav\n"
          ]
        },
        {
          "output_type": "stream",
          "name": "stderr",
          "text": []
        },
        {
          "output_type": "stream",
          "name": "stdout",
          "text": [
            "MoviePy - Done.\n",
            "MoviePy - Writing audio in /content/Test/audio/audio_280_560-562.wav\n"
          ]
        },
        {
          "output_type": "stream",
          "name": "stderr",
          "text": []
        },
        {
          "output_type": "stream",
          "name": "stdout",
          "text": [
            "MoviePy - Done.\n",
            "MoviePy - Writing audio in /content/Test/audio/audio_281_562-564.wav\n"
          ]
        },
        {
          "output_type": "stream",
          "name": "stderr",
          "text": []
        },
        {
          "output_type": "stream",
          "name": "stdout",
          "text": [
            "MoviePy - Done.\n",
            "MoviePy - Writing audio in /content/Test/audio/audio_282_564-566.wav\n"
          ]
        },
        {
          "output_type": "stream",
          "name": "stderr",
          "text": []
        },
        {
          "output_type": "stream",
          "name": "stdout",
          "text": [
            "MoviePy - Done.\n",
            "MoviePy - Writing audio in /content/Test/audio/audio_283_566-568.wav\n"
          ]
        },
        {
          "output_type": "stream",
          "name": "stderr",
          "text": []
        },
        {
          "output_type": "stream",
          "name": "stdout",
          "text": [
            "MoviePy - Done.\n",
            "MoviePy - Writing audio in /content/Test/audio/audio_284_568-570.wav\n"
          ]
        },
        {
          "output_type": "stream",
          "name": "stderr",
          "text": []
        },
        {
          "output_type": "stream",
          "name": "stdout",
          "text": [
            "MoviePy - Done.\n",
            "MoviePy - Writing audio in /content/Test/audio/audio_285_570-572.wav\n"
          ]
        },
        {
          "output_type": "stream",
          "name": "stderr",
          "text": []
        },
        {
          "output_type": "stream",
          "name": "stdout",
          "text": [
            "MoviePy - Done.\n",
            "MoviePy - Writing audio in /content/Test/audio/audio_286_572-574.wav\n"
          ]
        },
        {
          "output_type": "stream",
          "name": "stderr",
          "text": []
        },
        {
          "output_type": "stream",
          "name": "stdout",
          "text": [
            "MoviePy - Done.\n",
            "MoviePy - Writing audio in /content/Test/audio/audio_287_574-576.wav\n"
          ]
        },
        {
          "output_type": "stream",
          "name": "stderr",
          "text": []
        },
        {
          "output_type": "stream",
          "name": "stdout",
          "text": [
            "MoviePy - Done.\n",
            "MoviePy - Writing audio in /content/Test/audio/audio_288_576-578.wav\n"
          ]
        },
        {
          "output_type": "stream",
          "name": "stderr",
          "text": []
        },
        {
          "output_type": "stream",
          "name": "stdout",
          "text": [
            "MoviePy - Done.\n",
            "MoviePy - Writing audio in /content/Test/audio/audio_289_578-580.wav\n"
          ]
        },
        {
          "output_type": "stream",
          "name": "stderr",
          "text": []
        },
        {
          "output_type": "stream",
          "name": "stdout",
          "text": [
            "MoviePy - Done.\n",
            "MoviePy - Writing audio in /content/Test/audio/audio_290_580-582.wav\n"
          ]
        },
        {
          "output_type": "stream",
          "name": "stderr",
          "text": []
        },
        {
          "output_type": "stream",
          "name": "stdout",
          "text": [
            "MoviePy - Done.\n",
            "MoviePy - Writing audio in /content/Test/audio/audio_291_582-584.wav\n"
          ]
        },
        {
          "output_type": "stream",
          "name": "stderr",
          "text": []
        },
        {
          "output_type": "stream",
          "name": "stdout",
          "text": [
            "MoviePy - Done.\n",
            "MoviePy - Writing audio in /content/Test/audio/audio_292_584-586.wav\n"
          ]
        },
        {
          "output_type": "stream",
          "name": "stderr",
          "text": []
        },
        {
          "output_type": "stream",
          "name": "stdout",
          "text": [
            "MoviePy - Done.\n",
            "MoviePy - Writing audio in /content/Test/audio/audio_293_586-588.wav\n"
          ]
        },
        {
          "output_type": "stream",
          "name": "stderr",
          "text": []
        },
        {
          "output_type": "stream",
          "name": "stdout",
          "text": [
            "MoviePy - Done.\n",
            "MoviePy - Writing audio in /content/Test/audio/audio_294_588-590.wav\n"
          ]
        },
        {
          "output_type": "stream",
          "name": "stderr",
          "text": []
        },
        {
          "output_type": "stream",
          "name": "stdout",
          "text": [
            "MoviePy - Done.\n",
            "MoviePy - Writing audio in /content/Test/audio/audio_295_590-592.wav\n"
          ]
        },
        {
          "output_type": "stream",
          "name": "stderr",
          "text": []
        },
        {
          "output_type": "stream",
          "name": "stdout",
          "text": [
            "MoviePy - Done.\n",
            "MoviePy - Writing audio in /content/Test/audio/audio_296_592-594.wav\n"
          ]
        },
        {
          "output_type": "stream",
          "name": "stderr",
          "text": []
        },
        {
          "output_type": "stream",
          "name": "stdout",
          "text": [
            "MoviePy - Done.\n",
            "MoviePy - Writing audio in /content/Test/audio/audio_297_594-596.wav\n"
          ]
        },
        {
          "output_type": "stream",
          "name": "stderr",
          "text": []
        },
        {
          "output_type": "stream",
          "name": "stdout",
          "text": [
            "MoviePy - Done.\n",
            "MoviePy - Writing audio in /content/Test/audio/audio_298_596-598.wav\n"
          ]
        },
        {
          "output_type": "stream",
          "name": "stderr",
          "text": []
        },
        {
          "output_type": "stream",
          "name": "stdout",
          "text": [
            "MoviePy - Done.\n",
            "MoviePy - Writing audio in /content/Test/audio/audio_299_598-600.wav\n"
          ]
        },
        {
          "output_type": "stream",
          "name": "stderr",
          "text": []
        },
        {
          "output_type": "stream",
          "name": "stdout",
          "text": [
            "MoviePy - Done.\n",
            "MoviePy - Writing audio in /content/Test/audio/audio_300_600-602.wav\n"
          ]
        },
        {
          "output_type": "stream",
          "name": "stderr",
          "text": []
        },
        {
          "output_type": "stream",
          "name": "stdout",
          "text": [
            "MoviePy - Done.\n",
            "MoviePy - Writing audio in /content/Test/audio/audio_301_602-604.wav\n"
          ]
        },
        {
          "output_type": "stream",
          "name": "stderr",
          "text": []
        },
        {
          "output_type": "stream",
          "name": "stdout",
          "text": [
            "MoviePy - Done.\n",
            "MoviePy - Writing audio in /content/Test/audio/audio_302_604-606.wav\n"
          ]
        },
        {
          "output_type": "stream",
          "name": "stderr",
          "text": []
        },
        {
          "output_type": "stream",
          "name": "stdout",
          "text": [
            "MoviePy - Done.\n",
            "MoviePy - Writing audio in /content/Test/audio/audio_303_606-608.wav\n"
          ]
        },
        {
          "output_type": "stream",
          "name": "stderr",
          "text": []
        },
        {
          "output_type": "stream",
          "name": "stdout",
          "text": [
            "MoviePy - Done.\n",
            "MoviePy - Writing audio in /content/Test/audio/audio_304_608-610.wav\n"
          ]
        },
        {
          "output_type": "stream",
          "name": "stderr",
          "text": []
        },
        {
          "output_type": "stream",
          "name": "stdout",
          "text": [
            "MoviePy - Done.\n",
            "MoviePy - Writing audio in /content/Test/audio/audio_305_610-612.wav\n"
          ]
        },
        {
          "output_type": "stream",
          "name": "stderr",
          "text": []
        },
        {
          "output_type": "stream",
          "name": "stdout",
          "text": [
            "MoviePy - Done.\n",
            "MoviePy - Writing audio in /content/Test/audio/audio_306_612-614.wav\n"
          ]
        },
        {
          "output_type": "stream",
          "name": "stderr",
          "text": []
        },
        {
          "output_type": "stream",
          "name": "stdout",
          "text": [
            "MoviePy - Done.\n",
            "MoviePy - Writing audio in /content/Test/audio/audio_307_614-616.wav\n"
          ]
        },
        {
          "output_type": "stream",
          "name": "stderr",
          "text": []
        },
        {
          "output_type": "stream",
          "name": "stdout",
          "text": [
            "MoviePy - Done.\n",
            "MoviePy - Writing audio in /content/Test/audio/audio_308_616-618.wav\n"
          ]
        },
        {
          "output_type": "stream",
          "name": "stderr",
          "text": []
        },
        {
          "output_type": "stream",
          "name": "stdout",
          "text": [
            "MoviePy - Done.\n",
            "MoviePy - Writing audio in /content/Test/audio/audio_309_618-620.wav\n"
          ]
        },
        {
          "output_type": "stream",
          "name": "stderr",
          "text": []
        },
        {
          "output_type": "stream",
          "name": "stdout",
          "text": [
            "MoviePy - Done.\n",
            "MoviePy - Writing audio in /content/Test/audio/audio_310_620-622.wav\n"
          ]
        },
        {
          "output_type": "stream",
          "name": "stderr",
          "text": []
        },
        {
          "output_type": "stream",
          "name": "stdout",
          "text": [
            "MoviePy - Done.\n",
            "MoviePy - Writing audio in /content/Test/audio/audio_311_622-624.wav\n"
          ]
        },
        {
          "output_type": "stream",
          "name": "stderr",
          "text": []
        },
        {
          "output_type": "stream",
          "name": "stdout",
          "text": [
            "MoviePy - Done.\n",
            "MoviePy - Writing audio in /content/Test/audio/audio_312_624-626.wav\n"
          ]
        },
        {
          "output_type": "stream",
          "name": "stderr",
          "text": []
        },
        {
          "output_type": "stream",
          "name": "stdout",
          "text": [
            "MoviePy - Done.\n",
            "MoviePy - Writing audio in /content/Test/audio/audio_313_626-628.wav\n"
          ]
        },
        {
          "output_type": "stream",
          "name": "stderr",
          "text": []
        },
        {
          "output_type": "stream",
          "name": "stdout",
          "text": [
            "MoviePy - Done.\n",
            "MoviePy - Writing audio in /content/Test/audio/audio_314_628-630.wav\n"
          ]
        },
        {
          "output_type": "stream",
          "name": "stderr",
          "text": []
        },
        {
          "output_type": "stream",
          "name": "stdout",
          "text": [
            "MoviePy - Done.\n",
            "MoviePy - Writing audio in /content/Test/audio/audio_315_630-632.wav\n"
          ]
        },
        {
          "output_type": "stream",
          "name": "stderr",
          "text": []
        },
        {
          "output_type": "stream",
          "name": "stdout",
          "text": [
            "MoviePy - Done.\n",
            "MoviePy - Writing audio in /content/Test/audio/audio_316_632-634.wav\n"
          ]
        },
        {
          "output_type": "stream",
          "name": "stderr",
          "text": []
        },
        {
          "output_type": "stream",
          "name": "stdout",
          "text": [
            "MoviePy - Done.\n",
            "MoviePy - Writing audio in /content/Test/audio/audio_317_634-636.wav\n"
          ]
        },
        {
          "output_type": "stream",
          "name": "stderr",
          "text": []
        },
        {
          "output_type": "stream",
          "name": "stdout",
          "text": [
            "MoviePy - Done.\n",
            "MoviePy - Writing audio in /content/Test/audio/audio_318_636-638.wav\n"
          ]
        },
        {
          "output_type": "stream",
          "name": "stderr",
          "text": []
        },
        {
          "output_type": "stream",
          "name": "stdout",
          "text": [
            "MoviePy - Done.\n",
            "MoviePy - Writing audio in /content/Test/audio/audio_319_638-640.wav\n"
          ]
        },
        {
          "output_type": "stream",
          "name": "stderr",
          "text": []
        },
        {
          "output_type": "stream",
          "name": "stdout",
          "text": [
            "MoviePy - Done.\n",
            "MoviePy - Writing audio in /content/Test/audio/audio_320_640-642.wav\n"
          ]
        },
        {
          "output_type": "stream",
          "name": "stderr",
          "text": []
        },
        {
          "output_type": "stream",
          "name": "stdout",
          "text": [
            "MoviePy - Done.\n",
            "MoviePy - Writing audio in /content/Test/audio/audio_321_642-644.wav\n"
          ]
        },
        {
          "output_type": "stream",
          "name": "stderr",
          "text": []
        },
        {
          "output_type": "stream",
          "name": "stdout",
          "text": [
            "MoviePy - Done.\n",
            "MoviePy - Writing audio in /content/Test/audio/audio_322_644-646.wav\n"
          ]
        },
        {
          "output_type": "stream",
          "name": "stderr",
          "text": []
        },
        {
          "output_type": "stream",
          "name": "stdout",
          "text": [
            "MoviePy - Done.\n",
            "MoviePy - Writing audio in /content/Test/audio/audio_323_646-648.wav\n"
          ]
        },
        {
          "output_type": "stream",
          "name": "stderr",
          "text": []
        },
        {
          "output_type": "stream",
          "name": "stdout",
          "text": [
            "MoviePy - Done.\n",
            "MoviePy - Writing audio in /content/Test/audio/audio_324_648-650.wav\n"
          ]
        },
        {
          "output_type": "stream",
          "name": "stderr",
          "text": []
        },
        {
          "output_type": "stream",
          "name": "stdout",
          "text": [
            "MoviePy - Done.\n",
            "MoviePy - Writing audio in /content/Test/audio/audio_325_650-652.wav\n"
          ]
        },
        {
          "output_type": "stream",
          "name": "stderr",
          "text": []
        },
        {
          "output_type": "stream",
          "name": "stdout",
          "text": [
            "MoviePy - Done.\n",
            "MoviePy - Writing audio in /content/Test/audio/audio_326_652-654.wav\n"
          ]
        },
        {
          "output_type": "stream",
          "name": "stderr",
          "text": []
        },
        {
          "output_type": "stream",
          "name": "stdout",
          "text": [
            "MoviePy - Done.\n",
            "MoviePy - Writing audio in /content/Test/audio/audio_327_654-656.wav\n"
          ]
        },
        {
          "output_type": "stream",
          "name": "stderr",
          "text": []
        },
        {
          "output_type": "stream",
          "name": "stdout",
          "text": [
            "MoviePy - Done.\n",
            "MoviePy - Writing audio in /content/Test/audio/audio_328_656-658.wav\n"
          ]
        },
        {
          "output_type": "stream",
          "name": "stderr",
          "text": []
        },
        {
          "output_type": "stream",
          "name": "stdout",
          "text": [
            "MoviePy - Done.\n",
            "MoviePy - Writing audio in /content/Test/audio/audio_329_658-660.wav\n"
          ]
        },
        {
          "output_type": "stream",
          "name": "stderr",
          "text": []
        },
        {
          "output_type": "stream",
          "name": "stdout",
          "text": [
            "MoviePy - Done.\n",
            "MoviePy - Writing audio in /content/Test/audio/audio_330_660-662.wav\n"
          ]
        },
        {
          "output_type": "stream",
          "name": "stderr",
          "text": []
        },
        {
          "output_type": "stream",
          "name": "stdout",
          "text": [
            "MoviePy - Done.\n",
            "MoviePy - Writing audio in /content/Test/audio/audio_331_662-664.wav\n"
          ]
        },
        {
          "output_type": "stream",
          "name": "stderr",
          "text": []
        },
        {
          "output_type": "stream",
          "name": "stdout",
          "text": [
            "MoviePy - Done.\n",
            "MoviePy - Writing audio in /content/Test/audio/audio_332_664-666.wav\n"
          ]
        },
        {
          "output_type": "stream",
          "name": "stderr",
          "text": []
        },
        {
          "output_type": "stream",
          "name": "stdout",
          "text": [
            "MoviePy - Done.\n",
            "MoviePy - Writing audio in /content/Test/audio/audio_333_666-668.wav\n"
          ]
        },
        {
          "output_type": "stream",
          "name": "stderr",
          "text": []
        },
        {
          "output_type": "stream",
          "name": "stdout",
          "text": [
            "MoviePy - Done.\n",
            "MoviePy - Writing audio in /content/Test/audio/audio_334_668-670.wav\n"
          ]
        },
        {
          "output_type": "stream",
          "name": "stderr",
          "text": []
        },
        {
          "output_type": "stream",
          "name": "stdout",
          "text": [
            "MoviePy - Done.\n",
            "MoviePy - Writing audio in /content/Test/audio/audio_335_670-672.wav\n"
          ]
        },
        {
          "output_type": "stream",
          "name": "stderr",
          "text": []
        },
        {
          "output_type": "stream",
          "name": "stdout",
          "text": [
            "MoviePy - Done.\n",
            "MoviePy - Writing audio in /content/Test/audio/audio_336_672-674.wav\n"
          ]
        },
        {
          "output_type": "stream",
          "name": "stderr",
          "text": []
        },
        {
          "output_type": "stream",
          "name": "stdout",
          "text": [
            "MoviePy - Done.\n",
            "MoviePy - Writing audio in /content/Test/audio/audio_337_674-676.wav\n"
          ]
        },
        {
          "output_type": "stream",
          "name": "stderr",
          "text": []
        },
        {
          "output_type": "stream",
          "name": "stdout",
          "text": [
            "MoviePy - Done.\n",
            "MoviePy - Writing audio in /content/Test/audio/audio_338_676-678.wav\n"
          ]
        },
        {
          "output_type": "stream",
          "name": "stderr",
          "text": []
        },
        {
          "output_type": "stream",
          "name": "stdout",
          "text": [
            "MoviePy - Done.\n",
            "MoviePy - Writing audio in /content/Test/audio/audio_339_678-680.wav\n"
          ]
        },
        {
          "output_type": "stream",
          "name": "stderr",
          "text": []
        },
        {
          "output_type": "stream",
          "name": "stdout",
          "text": [
            "MoviePy - Done.\n",
            "MoviePy - Writing audio in /content/Test/audio/audio_340_680-682.wav\n"
          ]
        },
        {
          "output_type": "stream",
          "name": "stderr",
          "text": []
        },
        {
          "output_type": "stream",
          "name": "stdout",
          "text": [
            "MoviePy - Done.\n",
            "MoviePy - Writing audio in /content/Test/audio/audio_341_682-684.wav\n"
          ]
        },
        {
          "output_type": "stream",
          "name": "stderr",
          "text": []
        },
        {
          "output_type": "stream",
          "name": "stdout",
          "text": [
            "MoviePy - Done.\n",
            "MoviePy - Writing audio in /content/Test/audio/audio_342_684-686.wav\n"
          ]
        },
        {
          "output_type": "stream",
          "name": "stderr",
          "text": []
        },
        {
          "output_type": "stream",
          "name": "stdout",
          "text": [
            "MoviePy - Done.\n",
            "MoviePy - Writing audio in /content/Test/audio/audio_343_686-688.wav\n"
          ]
        },
        {
          "output_type": "stream",
          "name": "stderr",
          "text": []
        },
        {
          "output_type": "stream",
          "name": "stdout",
          "text": [
            "MoviePy - Done.\n",
            "MoviePy - Writing audio in /content/Test/audio/audio_344_688-690.wav\n"
          ]
        },
        {
          "output_type": "stream",
          "name": "stderr",
          "text": []
        },
        {
          "output_type": "stream",
          "name": "stdout",
          "text": [
            "MoviePy - Done.\n",
            "MoviePy - Writing audio in /content/Test/audio/audio_345_690-692.wav\n"
          ]
        },
        {
          "output_type": "stream",
          "name": "stderr",
          "text": []
        },
        {
          "output_type": "stream",
          "name": "stdout",
          "text": [
            "MoviePy - Done.\n",
            "MoviePy - Writing audio in /content/Test/audio/audio_346_692-694.wav\n"
          ]
        },
        {
          "output_type": "stream",
          "name": "stderr",
          "text": []
        },
        {
          "output_type": "stream",
          "name": "stdout",
          "text": [
            "MoviePy - Done.\n",
            "MoviePy - Writing audio in /content/Test/audio/audio_347_694-696.wav\n"
          ]
        },
        {
          "output_type": "stream",
          "name": "stderr",
          "text": []
        },
        {
          "output_type": "stream",
          "name": "stdout",
          "text": [
            "MoviePy - Done.\n",
            "MoviePy - Writing audio in /content/Test/audio/audio_348_696-698.wav\n"
          ]
        },
        {
          "output_type": "stream",
          "name": "stderr",
          "text": []
        },
        {
          "output_type": "stream",
          "name": "stdout",
          "text": [
            "MoviePy - Done.\n",
            "MoviePy - Writing audio in /content/Test/audio/audio_349_698-700.wav\n"
          ]
        },
        {
          "output_type": "stream",
          "name": "stderr",
          "text": []
        },
        {
          "output_type": "stream",
          "name": "stdout",
          "text": [
            "MoviePy - Done.\n",
            "MoviePy - Writing audio in /content/Test/audio/audio_350_700-702.wav\n"
          ]
        },
        {
          "output_type": "stream",
          "name": "stderr",
          "text": []
        },
        {
          "output_type": "stream",
          "name": "stdout",
          "text": [
            "MoviePy - Done.\n",
            "MoviePy - Writing audio in /content/Test/audio/audio_351_702-704.wav\n"
          ]
        },
        {
          "output_type": "stream",
          "name": "stderr",
          "text": []
        },
        {
          "output_type": "stream",
          "name": "stdout",
          "text": [
            "MoviePy - Done.\n",
            "MoviePy - Writing audio in /content/Test/audio/audio_352_704-706.wav\n"
          ]
        },
        {
          "output_type": "stream",
          "name": "stderr",
          "text": []
        },
        {
          "output_type": "stream",
          "name": "stdout",
          "text": [
            "MoviePy - Done.\n",
            "MoviePy - Writing audio in /content/Test/audio/audio_353_706-708.wav\n"
          ]
        },
        {
          "output_type": "stream",
          "name": "stderr",
          "text": []
        },
        {
          "output_type": "stream",
          "name": "stdout",
          "text": [
            "MoviePy - Done.\n",
            "MoviePy - Writing audio in /content/Test/audio/audio_354_708-710.wav\n"
          ]
        },
        {
          "output_type": "stream",
          "name": "stderr",
          "text": []
        },
        {
          "output_type": "stream",
          "name": "stdout",
          "text": [
            "MoviePy - Done.\n",
            "MoviePy - Writing audio in /content/Test/audio/audio_355_710-712.wav\n"
          ]
        },
        {
          "output_type": "stream",
          "name": "stderr",
          "text": []
        },
        {
          "output_type": "stream",
          "name": "stdout",
          "text": [
            "MoviePy - Done.\n",
            "MoviePy - Writing audio in /content/Test/audio/audio_356_712-714.wav\n"
          ]
        },
        {
          "output_type": "stream",
          "name": "stderr",
          "text": []
        },
        {
          "output_type": "stream",
          "name": "stdout",
          "text": [
            "MoviePy - Done.\n",
            "MoviePy - Writing audio in /content/Test/audio/audio_357_714-716.wav\n"
          ]
        },
        {
          "output_type": "stream",
          "name": "stderr",
          "text": []
        },
        {
          "output_type": "stream",
          "name": "stdout",
          "text": [
            "MoviePy - Done.\n",
            "MoviePy - Writing audio in /content/Test/audio/audio_358_716-718.wav\n"
          ]
        },
        {
          "output_type": "stream",
          "name": "stderr",
          "text": []
        },
        {
          "output_type": "stream",
          "name": "stdout",
          "text": [
            "MoviePy - Done.\n",
            "MoviePy - Writing audio in /content/Test/audio/audio_359_718-720.wav\n"
          ]
        },
        {
          "output_type": "stream",
          "name": "stderr",
          "text": []
        },
        {
          "output_type": "stream",
          "name": "stdout",
          "text": [
            "MoviePy - Done.\n",
            "MoviePy - Writing audio in /content/Test/audio/audio_360_720-722.wav\n"
          ]
        },
        {
          "output_type": "stream",
          "name": "stderr",
          "text": []
        },
        {
          "output_type": "stream",
          "name": "stdout",
          "text": [
            "MoviePy - Done.\n",
            "MoviePy - Writing audio in /content/Test/audio/audio_361_722-724.wav\n"
          ]
        },
        {
          "output_type": "stream",
          "name": "stderr",
          "text": []
        },
        {
          "output_type": "stream",
          "name": "stdout",
          "text": [
            "MoviePy - Done.\n",
            "MoviePy - Writing audio in /content/Test/audio/audio_362_724-726.wav\n"
          ]
        },
        {
          "output_type": "stream",
          "name": "stderr",
          "text": []
        },
        {
          "output_type": "stream",
          "name": "stdout",
          "text": [
            "MoviePy - Done.\n",
            "MoviePy - Writing audio in /content/Test/audio/audio_363_726-728.wav\n"
          ]
        },
        {
          "output_type": "stream",
          "name": "stderr",
          "text": []
        },
        {
          "output_type": "stream",
          "name": "stdout",
          "text": [
            "MoviePy - Done.\n",
            "MoviePy - Writing audio in /content/Test/audio/audio_364_728-730.wav\n"
          ]
        },
        {
          "output_type": "stream",
          "name": "stderr",
          "text": []
        },
        {
          "output_type": "stream",
          "name": "stdout",
          "text": [
            "MoviePy - Done.\n",
            "MoviePy - Writing audio in /content/Test/audio/audio_365_730-732.wav\n"
          ]
        },
        {
          "output_type": "stream",
          "name": "stderr",
          "text": []
        },
        {
          "output_type": "stream",
          "name": "stdout",
          "text": [
            "MoviePy - Done.\n",
            "MoviePy - Writing audio in /content/Test/audio/audio_366_732-734.wav\n"
          ]
        },
        {
          "output_type": "stream",
          "name": "stderr",
          "text": []
        },
        {
          "output_type": "stream",
          "name": "stdout",
          "text": [
            "MoviePy - Done.\n",
            "MoviePy - Writing audio in /content/Test/audio/audio_367_734-736.wav\n"
          ]
        },
        {
          "output_type": "stream",
          "name": "stderr",
          "text": []
        },
        {
          "output_type": "stream",
          "name": "stdout",
          "text": [
            "MoviePy - Done.\n",
            "MoviePy - Writing audio in /content/Test/audio/audio_368_736-738.wav\n"
          ]
        },
        {
          "output_type": "stream",
          "name": "stderr",
          "text": []
        },
        {
          "output_type": "stream",
          "name": "stdout",
          "text": [
            "MoviePy - Done.\n",
            "MoviePy - Writing audio in /content/Test/audio/audio_369_738-740.wav\n"
          ]
        },
        {
          "output_type": "stream",
          "name": "stderr",
          "text": []
        },
        {
          "output_type": "stream",
          "name": "stdout",
          "text": [
            "MoviePy - Done.\n",
            "MoviePy - Writing audio in /content/Test/audio/audio_370_740-742.wav\n"
          ]
        },
        {
          "output_type": "stream",
          "name": "stderr",
          "text": []
        },
        {
          "output_type": "stream",
          "name": "stdout",
          "text": [
            "MoviePy - Done.\n",
            "MoviePy - Writing audio in /content/Test/audio/audio_371_742-744.wav\n"
          ]
        },
        {
          "output_type": "stream",
          "name": "stderr",
          "text": []
        },
        {
          "output_type": "stream",
          "name": "stdout",
          "text": [
            "MoviePy - Done.\n",
            "MoviePy - Writing audio in /content/Test/audio/audio_372_744-746.wav\n"
          ]
        },
        {
          "output_type": "stream",
          "name": "stderr",
          "text": []
        },
        {
          "output_type": "stream",
          "name": "stdout",
          "text": [
            "MoviePy - Done.\n",
            "MoviePy - Writing audio in /content/Test/audio/audio_373_746-748.wav\n"
          ]
        },
        {
          "output_type": "stream",
          "name": "stderr",
          "text": []
        },
        {
          "output_type": "stream",
          "name": "stdout",
          "text": [
            "MoviePy - Done.\n",
            "MoviePy - Writing audio in /content/Test/audio/audio_374_748-750.wav\n"
          ]
        },
        {
          "output_type": "stream",
          "name": "stderr",
          "text": []
        },
        {
          "output_type": "stream",
          "name": "stdout",
          "text": [
            "MoviePy - Done.\n",
            "MoviePy - Writing audio in /content/Test/audio/audio_375_750-752.wav\n"
          ]
        },
        {
          "output_type": "stream",
          "name": "stderr",
          "text": []
        },
        {
          "output_type": "stream",
          "name": "stdout",
          "text": [
            "MoviePy - Done.\n",
            "MoviePy - Writing audio in /content/Test/audio/audio_376_752-754.wav\n"
          ]
        },
        {
          "output_type": "stream",
          "name": "stderr",
          "text": []
        },
        {
          "output_type": "stream",
          "name": "stdout",
          "text": [
            "MoviePy - Done.\n",
            "MoviePy - Writing audio in /content/Test/audio/audio_377_754-756.wav\n"
          ]
        },
        {
          "output_type": "stream",
          "name": "stderr",
          "text": []
        },
        {
          "output_type": "stream",
          "name": "stdout",
          "text": [
            "MoviePy - Done.\n",
            "MoviePy - Writing audio in /content/Test/audio/audio_378_756-758.wav\n"
          ]
        },
        {
          "output_type": "stream",
          "name": "stderr",
          "text": []
        },
        {
          "output_type": "stream",
          "name": "stdout",
          "text": [
            "MoviePy - Done.\n",
            "MoviePy - Writing audio in /content/Test/audio/audio_379_758-760.wav\n"
          ]
        },
        {
          "output_type": "stream",
          "name": "stderr",
          "text": []
        },
        {
          "output_type": "stream",
          "name": "stdout",
          "text": [
            "MoviePy - Done.\n",
            "MoviePy - Writing audio in /content/Test/audio/audio_380_760-762.wav\n"
          ]
        },
        {
          "output_type": "stream",
          "name": "stderr",
          "text": []
        },
        {
          "output_type": "stream",
          "name": "stdout",
          "text": [
            "MoviePy - Done.\n",
            "MoviePy - Writing audio in /content/Test/audio/audio_381_762-764.wav\n"
          ]
        },
        {
          "output_type": "stream",
          "name": "stderr",
          "text": []
        },
        {
          "output_type": "stream",
          "name": "stdout",
          "text": [
            "MoviePy - Done.\n",
            "MoviePy - Writing audio in /content/Test/audio/audio_382_764-766.wav\n"
          ]
        },
        {
          "output_type": "stream",
          "name": "stderr",
          "text": []
        },
        {
          "output_type": "stream",
          "name": "stdout",
          "text": [
            "MoviePy - Done.\n",
            "MoviePy - Writing audio in /content/Test/audio/audio_383_766-768.wav\n"
          ]
        },
        {
          "output_type": "stream",
          "name": "stderr",
          "text": []
        },
        {
          "output_type": "stream",
          "name": "stdout",
          "text": [
            "MoviePy - Done.\n",
            "MoviePy - Writing audio in /content/Test/audio/audio_384_768-770.wav\n"
          ]
        },
        {
          "output_type": "stream",
          "name": "stderr",
          "text": []
        },
        {
          "output_type": "stream",
          "name": "stdout",
          "text": [
            "MoviePy - Done.\n",
            "MoviePy - Writing audio in /content/Test/audio/audio_385_770-772.wav\n"
          ]
        },
        {
          "output_type": "stream",
          "name": "stderr",
          "text": []
        },
        {
          "output_type": "stream",
          "name": "stdout",
          "text": [
            "MoviePy - Done.\n",
            "MoviePy - Writing audio in /content/Test/audio/audio_386_772-774.wav\n"
          ]
        },
        {
          "output_type": "stream",
          "name": "stderr",
          "text": []
        },
        {
          "output_type": "stream",
          "name": "stdout",
          "text": [
            "MoviePy - Done.\n",
            "MoviePy - Writing audio in /content/Test/audio/audio_387_774-776.wav\n"
          ]
        },
        {
          "output_type": "stream",
          "name": "stderr",
          "text": []
        },
        {
          "output_type": "stream",
          "name": "stdout",
          "text": [
            "MoviePy - Done.\n",
            "MoviePy - Writing audio in /content/Test/audio/audio_388_776-778.wav\n"
          ]
        },
        {
          "output_type": "stream",
          "name": "stderr",
          "text": []
        },
        {
          "output_type": "stream",
          "name": "stdout",
          "text": [
            "MoviePy - Done.\n",
            "MoviePy - Writing audio in /content/Test/audio/audio_389_778-780.wav\n"
          ]
        },
        {
          "output_type": "stream",
          "name": "stderr",
          "text": []
        },
        {
          "output_type": "stream",
          "name": "stdout",
          "text": [
            "MoviePy - Done.\n",
            "MoviePy - Writing audio in /content/Test/audio/audio_390_780-782.wav\n"
          ]
        },
        {
          "output_type": "stream",
          "name": "stderr",
          "text": []
        },
        {
          "output_type": "stream",
          "name": "stdout",
          "text": [
            "MoviePy - Done.\n",
            "MoviePy - Writing audio in /content/Test/audio/audio_391_782-784.wav\n"
          ]
        },
        {
          "output_type": "stream",
          "name": "stderr",
          "text": []
        },
        {
          "output_type": "stream",
          "name": "stdout",
          "text": [
            "MoviePy - Done.\n",
            "MoviePy - Writing audio in /content/Test/audio/audio_392_784-786.wav\n"
          ]
        },
        {
          "output_type": "stream",
          "name": "stderr",
          "text": []
        },
        {
          "output_type": "stream",
          "name": "stdout",
          "text": [
            "MoviePy - Done.\n",
            "MoviePy - Writing audio in /content/Test/audio/audio_393_786-788.wav\n"
          ]
        },
        {
          "output_type": "stream",
          "name": "stderr",
          "text": []
        },
        {
          "output_type": "stream",
          "name": "stdout",
          "text": [
            "MoviePy - Done.\n",
            "MoviePy - Writing audio in /content/Test/audio/audio_394_788-790.wav\n"
          ]
        },
        {
          "output_type": "stream",
          "name": "stderr",
          "text": []
        },
        {
          "output_type": "stream",
          "name": "stdout",
          "text": [
            "MoviePy - Done.\n",
            "MoviePy - Writing audio in /content/Test/audio/audio_395_790-792.wav\n"
          ]
        },
        {
          "output_type": "stream",
          "name": "stderr",
          "text": []
        },
        {
          "output_type": "stream",
          "name": "stdout",
          "text": [
            "MoviePy - Done.\n",
            "MoviePy - Writing audio in /content/Test/audio/audio_396_792-794.wav\n"
          ]
        },
        {
          "output_type": "stream",
          "name": "stderr",
          "text": []
        },
        {
          "output_type": "stream",
          "name": "stdout",
          "text": [
            "MoviePy - Done.\n",
            "MoviePy - Writing audio in /content/Test/audio/audio_397_794-796.wav\n"
          ]
        },
        {
          "output_type": "stream",
          "name": "stderr",
          "text": [
            "                                                       "
          ]
        },
        {
          "output_type": "stream",
          "name": "stdout",
          "text": [
            "MoviePy - Done.\n"
          ]
        },
        {
          "output_type": "stream",
          "name": "stderr",
          "text": [
            "\r"
          ]
        },
        {
          "output_type": "stream",
          "name": "stdout",
          "text": [
            "MoviePy - Writing audio in /content/Test/audio/audio_398_796-798.wav\n"
          ]
        },
        {
          "output_type": "stream",
          "name": "stderr",
          "text": []
        },
        {
          "output_type": "stream",
          "name": "stdout",
          "text": [
            "MoviePy - Done.\n",
            "MoviePy - Writing audio in /content/Test/audio/audio_399_798-800.wav\n"
          ]
        },
        {
          "output_type": "stream",
          "name": "stderr",
          "text": []
        },
        {
          "output_type": "stream",
          "name": "stdout",
          "text": [
            "MoviePy - Done.\n",
            "MoviePy - Writing audio in /content/Test/audio/audio_400_800-802.wav\n"
          ]
        },
        {
          "output_type": "stream",
          "name": "stderr",
          "text": []
        },
        {
          "output_type": "stream",
          "name": "stdout",
          "text": [
            "MoviePy - Done.\n",
            "MoviePy - Writing audio in /content/Test/audio/audio_401_802-804.wav\n"
          ]
        },
        {
          "output_type": "stream",
          "name": "stderr",
          "text": []
        },
        {
          "output_type": "stream",
          "name": "stdout",
          "text": [
            "MoviePy - Done.\n",
            "MoviePy - Writing audio in /content/Test/audio/audio_402_804-806.wav\n"
          ]
        },
        {
          "output_type": "stream",
          "name": "stderr",
          "text": []
        },
        {
          "output_type": "stream",
          "name": "stdout",
          "text": [
            "MoviePy - Done.\n",
            "MoviePy - Writing audio in /content/Test/audio/audio_403_806-808.wav\n"
          ]
        },
        {
          "output_type": "stream",
          "name": "stderr",
          "text": []
        },
        {
          "output_type": "stream",
          "name": "stdout",
          "text": [
            "MoviePy - Done.\n",
            "MoviePy - Writing audio in /content/Test/audio/audio_404_808-810.wav\n"
          ]
        },
        {
          "output_type": "stream",
          "name": "stderr",
          "text": []
        },
        {
          "output_type": "stream",
          "name": "stdout",
          "text": [
            "MoviePy - Done.\n",
            "MoviePy - Writing audio in /content/Test/audio/audio_405_810-812.wav\n"
          ]
        },
        {
          "output_type": "stream",
          "name": "stderr",
          "text": []
        },
        {
          "output_type": "stream",
          "name": "stdout",
          "text": [
            "MoviePy - Done.\n",
            "MoviePy - Writing audio in /content/Test/audio/audio_406_812-814.wav\n"
          ]
        },
        {
          "output_type": "stream",
          "name": "stderr",
          "text": []
        },
        {
          "output_type": "stream",
          "name": "stdout",
          "text": [
            "MoviePy - Done.\n",
            "MoviePy - Writing audio in /content/Test/audio/audio_407_814-816.wav\n"
          ]
        },
        {
          "output_type": "stream",
          "name": "stderr",
          "text": []
        },
        {
          "output_type": "stream",
          "name": "stdout",
          "text": [
            "MoviePy - Done.\n",
            "MoviePy - Writing audio in /content/Test/audio/audio_408_816-818.wav\n"
          ]
        },
        {
          "output_type": "stream",
          "name": "stderr",
          "text": []
        },
        {
          "output_type": "stream",
          "name": "stdout",
          "text": [
            "MoviePy - Done.\n",
            "MoviePy - Writing audio in /content/Test/audio/audio_409_818-820.wav\n"
          ]
        },
        {
          "output_type": "stream",
          "name": "stderr",
          "text": []
        },
        {
          "output_type": "stream",
          "name": "stdout",
          "text": [
            "MoviePy - Done.\n",
            "MoviePy - Writing audio in /content/Test/audio/audio_410_820-822.wav\n"
          ]
        },
        {
          "output_type": "stream",
          "name": "stderr",
          "text": []
        },
        {
          "output_type": "stream",
          "name": "stdout",
          "text": [
            "MoviePy - Done.\n",
            "MoviePy - Writing audio in /content/Test/audio/audio_411_822-824.wav\n"
          ]
        },
        {
          "output_type": "stream",
          "name": "stderr",
          "text": []
        },
        {
          "output_type": "stream",
          "name": "stdout",
          "text": [
            "MoviePy - Done.\n",
            "MoviePy - Writing audio in /content/Test/audio/audio_412_824-826.wav\n"
          ]
        },
        {
          "output_type": "stream",
          "name": "stderr",
          "text": []
        },
        {
          "output_type": "stream",
          "name": "stdout",
          "text": [
            "MoviePy - Done.\n",
            "MoviePy - Writing audio in /content/Test/audio/audio_413_826-828.wav\n"
          ]
        },
        {
          "output_type": "stream",
          "name": "stderr",
          "text": []
        },
        {
          "output_type": "stream",
          "name": "stdout",
          "text": [
            "MoviePy - Done.\n",
            "MoviePy - Writing audio in /content/Test/audio/audio_414_828-830.wav\n"
          ]
        },
        {
          "output_type": "stream",
          "name": "stderr",
          "text": []
        },
        {
          "output_type": "stream",
          "name": "stdout",
          "text": [
            "MoviePy - Done.\n",
            "MoviePy - Writing audio in /content/Test/audio/audio_415_830-832.wav\n"
          ]
        },
        {
          "output_type": "stream",
          "name": "stderr",
          "text": []
        },
        {
          "output_type": "stream",
          "name": "stdout",
          "text": [
            "MoviePy - Done.\n",
            "MoviePy - Writing audio in /content/Test/audio/audio_416_832-834.wav\n"
          ]
        },
        {
          "output_type": "stream",
          "name": "stderr",
          "text": []
        },
        {
          "output_type": "stream",
          "name": "stdout",
          "text": [
            "MoviePy - Done.\n",
            "MoviePy - Writing audio in /content/Test/audio/audio_417_834-836.wav\n"
          ]
        },
        {
          "output_type": "stream",
          "name": "stderr",
          "text": []
        },
        {
          "output_type": "stream",
          "name": "stdout",
          "text": [
            "MoviePy - Done.\n",
            "MoviePy - Writing audio in /content/Test/audio/audio_418_836-838.wav\n"
          ]
        },
        {
          "output_type": "stream",
          "name": "stderr",
          "text": []
        },
        {
          "output_type": "stream",
          "name": "stdout",
          "text": [
            "MoviePy - Done.\n",
            "MoviePy - Writing audio in /content/Test/audio/audio_419_838-840.wav\n"
          ]
        },
        {
          "output_type": "stream",
          "name": "stderr",
          "text": []
        },
        {
          "output_type": "stream",
          "name": "stdout",
          "text": [
            "MoviePy - Done.\n",
            "MoviePy - Writing audio in /content/Test/audio/audio_420_840-842.wav\n"
          ]
        },
        {
          "output_type": "stream",
          "name": "stderr",
          "text": []
        },
        {
          "output_type": "stream",
          "name": "stdout",
          "text": [
            "MoviePy - Done.\n",
            "MoviePy - Writing audio in /content/Test/audio/audio_421_842-844.wav\n"
          ]
        },
        {
          "output_type": "stream",
          "name": "stderr",
          "text": []
        },
        {
          "output_type": "stream",
          "name": "stdout",
          "text": [
            "MoviePy - Done.\n",
            "MoviePy - Writing audio in /content/Test/audio/audio_422_844-846.wav\n"
          ]
        },
        {
          "output_type": "stream",
          "name": "stderr",
          "text": []
        },
        {
          "output_type": "stream",
          "name": "stdout",
          "text": [
            "MoviePy - Done.\n",
            "MoviePy - Writing audio in /content/Test/audio/audio_423_846-848.wav\n"
          ]
        },
        {
          "output_type": "stream",
          "name": "stderr",
          "text": []
        },
        {
          "output_type": "stream",
          "name": "stdout",
          "text": [
            "MoviePy - Done.\n",
            "MoviePy - Writing audio in /content/Test/audio/audio_424_848-850.wav\n"
          ]
        },
        {
          "output_type": "stream",
          "name": "stderr",
          "text": []
        },
        {
          "output_type": "stream",
          "name": "stdout",
          "text": [
            "MoviePy - Done.\n",
            "MoviePy - Writing audio in /content/Test/audio/audio_425_850-852.wav\n"
          ]
        },
        {
          "output_type": "stream",
          "name": "stderr",
          "text": []
        },
        {
          "output_type": "stream",
          "name": "stdout",
          "text": [
            "MoviePy - Done.\n",
            "MoviePy - Writing audio in /content/Test/audio/audio_426_852-854.wav\n"
          ]
        },
        {
          "output_type": "stream",
          "name": "stderr",
          "text": []
        },
        {
          "output_type": "stream",
          "name": "stdout",
          "text": [
            "MoviePy - Done.\n",
            "MoviePy - Writing audio in /content/Test/audio/audio_427_854-856.wav\n"
          ]
        },
        {
          "output_type": "stream",
          "name": "stderr",
          "text": []
        },
        {
          "output_type": "stream",
          "name": "stdout",
          "text": [
            "MoviePy - Done.\n",
            "MoviePy - Writing audio in /content/Test/audio/audio_428_856-858.wav\n"
          ]
        },
        {
          "output_type": "stream",
          "name": "stderr",
          "text": []
        },
        {
          "output_type": "stream",
          "name": "stdout",
          "text": [
            "MoviePy - Done.\n",
            "MoviePy - Writing audio in /content/Test/audio/audio_429_858-860.wav\n"
          ]
        },
        {
          "output_type": "stream",
          "name": "stderr",
          "text": []
        },
        {
          "output_type": "stream",
          "name": "stdout",
          "text": [
            "MoviePy - Done.\n",
            "MoviePy - Writing audio in /content/Test/audio/audio_430_860-862.wav\n"
          ]
        },
        {
          "output_type": "stream",
          "name": "stderr",
          "text": []
        },
        {
          "output_type": "stream",
          "name": "stdout",
          "text": [
            "MoviePy - Done.\n",
            "MoviePy - Writing audio in /content/Test/audio/audio_431_862-864.wav\n"
          ]
        },
        {
          "output_type": "stream",
          "name": "stderr",
          "text": []
        },
        {
          "output_type": "stream",
          "name": "stdout",
          "text": [
            "MoviePy - Done.\n",
            "MoviePy - Writing audio in /content/Test/audio/audio_432_864-866.wav\n"
          ]
        },
        {
          "output_type": "stream",
          "name": "stderr",
          "text": []
        },
        {
          "output_type": "stream",
          "name": "stdout",
          "text": [
            "MoviePy - Done.\n",
            "MoviePy - Writing audio in /content/Test/audio/audio_433_866-868.wav\n"
          ]
        },
        {
          "output_type": "stream",
          "name": "stderr",
          "text": []
        },
        {
          "output_type": "stream",
          "name": "stdout",
          "text": [
            "MoviePy - Done.\n",
            "MoviePy - Writing audio in /content/Test/audio/audio_434_868-870.wav\n"
          ]
        },
        {
          "output_type": "stream",
          "name": "stderr",
          "text": []
        },
        {
          "output_type": "stream",
          "name": "stdout",
          "text": [
            "MoviePy - Done.\n",
            "MoviePy - Writing audio in /content/Test/audio/audio_435_870-872.wav\n"
          ]
        },
        {
          "output_type": "stream",
          "name": "stderr",
          "text": []
        },
        {
          "output_type": "stream",
          "name": "stdout",
          "text": [
            "MoviePy - Done.\n",
            "MoviePy - Writing audio in /content/Test/audio/audio_436_872-874.wav\n"
          ]
        },
        {
          "output_type": "stream",
          "name": "stderr",
          "text": []
        },
        {
          "output_type": "stream",
          "name": "stdout",
          "text": [
            "MoviePy - Done.\n",
            "MoviePy - Writing audio in /content/Test/audio/audio_437_874-876.wav\n"
          ]
        },
        {
          "output_type": "stream",
          "name": "stderr",
          "text": []
        },
        {
          "output_type": "stream",
          "name": "stdout",
          "text": [
            "MoviePy - Done.\n",
            "MoviePy - Writing audio in /content/Test/audio/audio_438_876-878.wav\n"
          ]
        },
        {
          "output_type": "stream",
          "name": "stderr",
          "text": []
        },
        {
          "output_type": "stream",
          "name": "stdout",
          "text": [
            "MoviePy - Done.\n",
            "MoviePy - Writing audio in /content/Test/audio/audio_439_878-880.wav\n"
          ]
        },
        {
          "output_type": "stream",
          "name": "stderr",
          "text": []
        },
        {
          "output_type": "stream",
          "name": "stdout",
          "text": [
            "MoviePy - Done.\n",
            "MoviePy - Writing audio in /content/Test/audio/audio_440_880-882.wav\n"
          ]
        },
        {
          "output_type": "stream",
          "name": "stderr",
          "text": []
        },
        {
          "output_type": "stream",
          "name": "stdout",
          "text": [
            "MoviePy - Done.\n",
            "MoviePy - Writing audio in /content/Test/audio/audio_441_882-884.wav\n"
          ]
        },
        {
          "output_type": "stream",
          "name": "stderr",
          "text": []
        },
        {
          "output_type": "stream",
          "name": "stdout",
          "text": [
            "MoviePy - Done.\n",
            "MoviePy - Writing audio in /content/Test/audio/audio_442_884-886.wav\n"
          ]
        },
        {
          "output_type": "stream",
          "name": "stderr",
          "text": []
        },
        {
          "output_type": "stream",
          "name": "stdout",
          "text": [
            "MoviePy - Done.\n",
            "MoviePy - Writing audio in /content/Test/audio/audio_443_886-888.wav\n"
          ]
        },
        {
          "output_type": "stream",
          "name": "stderr",
          "text": []
        },
        {
          "output_type": "stream",
          "name": "stdout",
          "text": [
            "MoviePy - Done.\n",
            "MoviePy - Writing audio in /content/Test/audio/audio_444_888-890.wav\n"
          ]
        },
        {
          "output_type": "stream",
          "name": "stderr",
          "text": []
        },
        {
          "output_type": "stream",
          "name": "stdout",
          "text": [
            "MoviePy - Done.\n",
            "MoviePy - Writing audio in /content/Test/audio/audio_445_890-892.wav\n"
          ]
        },
        {
          "output_type": "stream",
          "name": "stderr",
          "text": []
        },
        {
          "output_type": "stream",
          "name": "stdout",
          "text": [
            "MoviePy - Done.\n",
            "MoviePy - Writing audio in /content/Test/audio/audio_446_892-894.wav\n"
          ]
        },
        {
          "output_type": "stream",
          "name": "stderr",
          "text": []
        },
        {
          "output_type": "stream",
          "name": "stdout",
          "text": [
            "MoviePy - Done.\n",
            "MoviePy - Writing audio in /content/Test/audio/audio_447_894-896.wav\n"
          ]
        },
        {
          "output_type": "stream",
          "name": "stderr",
          "text": []
        },
        {
          "output_type": "stream",
          "name": "stdout",
          "text": [
            "MoviePy - Done.\n",
            "MoviePy - Writing audio in /content/Test/audio/audio_448_896-898.wav\n"
          ]
        },
        {
          "output_type": "stream",
          "name": "stderr",
          "text": []
        },
        {
          "output_type": "stream",
          "name": "stdout",
          "text": [
            "MoviePy - Done.\n",
            "MoviePy - Writing audio in /content/Test/audio/audio_449_898-900.wav\n"
          ]
        },
        {
          "output_type": "stream",
          "name": "stderr",
          "text": []
        },
        {
          "output_type": "stream",
          "name": "stdout",
          "text": [
            "MoviePy - Done.\n",
            "MoviePy - Writing audio in /content/Test/audio/audio_450_900-902.wav\n"
          ]
        },
        {
          "output_type": "stream",
          "name": "stderr",
          "text": []
        },
        {
          "output_type": "stream",
          "name": "stdout",
          "text": [
            "MoviePy - Done.\n",
            "MoviePy - Writing audio in /content/Test/audio/audio_451_902-904.wav\n"
          ]
        },
        {
          "output_type": "stream",
          "name": "stderr",
          "text": []
        },
        {
          "output_type": "stream",
          "name": "stdout",
          "text": [
            "MoviePy - Done.\n",
            "MoviePy - Writing audio in /content/Test/audio/audio_452_904-906.wav\n"
          ]
        },
        {
          "output_type": "stream",
          "name": "stderr",
          "text": []
        },
        {
          "output_type": "stream",
          "name": "stdout",
          "text": [
            "MoviePy - Done.\n",
            "MoviePy - Writing audio in /content/Test/audio/audio_453_906-908.wav\n"
          ]
        },
        {
          "output_type": "stream",
          "name": "stderr",
          "text": []
        },
        {
          "output_type": "stream",
          "name": "stdout",
          "text": [
            "MoviePy - Done.\n",
            "MoviePy - Writing audio in /content/Test/audio/audio_454_908-910.wav\n"
          ]
        },
        {
          "output_type": "stream",
          "name": "stderr",
          "text": []
        },
        {
          "output_type": "stream",
          "name": "stdout",
          "text": [
            "MoviePy - Done.\n",
            "MoviePy - Writing audio in /content/Test/audio/audio_455_910-912.wav\n"
          ]
        },
        {
          "output_type": "stream",
          "name": "stderr",
          "text": []
        },
        {
          "output_type": "stream",
          "name": "stdout",
          "text": [
            "MoviePy - Done.\n",
            "MoviePy - Writing audio in /content/Test/audio/audio_456_912-914.wav\n"
          ]
        },
        {
          "output_type": "stream",
          "name": "stderr",
          "text": []
        },
        {
          "output_type": "stream",
          "name": "stdout",
          "text": [
            "MoviePy - Done.\n",
            "MoviePy - Writing audio in /content/Test/audio/audio_457_914-916.wav\n"
          ]
        },
        {
          "output_type": "stream",
          "name": "stderr",
          "text": []
        },
        {
          "output_type": "stream",
          "name": "stdout",
          "text": [
            "MoviePy - Done.\n",
            "MoviePy - Writing audio in /content/Test/audio/audio_458_916-918.wav\n"
          ]
        },
        {
          "output_type": "stream",
          "name": "stderr",
          "text": []
        },
        {
          "output_type": "stream",
          "name": "stdout",
          "text": [
            "MoviePy - Done.\n",
            "MoviePy - Writing audio in /content/Test/audio/audio_459_918-920.wav\n"
          ]
        },
        {
          "output_type": "stream",
          "name": "stderr",
          "text": []
        },
        {
          "output_type": "stream",
          "name": "stdout",
          "text": [
            "MoviePy - Done.\n",
            "MoviePy - Writing audio in /content/Test/audio/audio_460_920-922.wav\n"
          ]
        },
        {
          "output_type": "stream",
          "name": "stderr",
          "text": []
        },
        {
          "output_type": "stream",
          "name": "stdout",
          "text": [
            "MoviePy - Done.\n",
            "MoviePy - Writing audio in /content/Test/audio/audio_461_922-924.wav\n"
          ]
        },
        {
          "output_type": "stream",
          "name": "stderr",
          "text": []
        },
        {
          "output_type": "stream",
          "name": "stdout",
          "text": [
            "MoviePy - Done.\n",
            "MoviePy - Writing audio in /content/Test/audio/audio_462_924-926.wav\n"
          ]
        },
        {
          "output_type": "stream",
          "name": "stderr",
          "text": []
        },
        {
          "output_type": "stream",
          "name": "stdout",
          "text": [
            "MoviePy - Done.\n",
            "MoviePy - Writing audio in /content/Test/audio/audio_463_926-928.wav\n"
          ]
        },
        {
          "output_type": "stream",
          "name": "stderr",
          "text": []
        },
        {
          "output_type": "stream",
          "name": "stdout",
          "text": [
            "MoviePy - Done.\n",
            "MoviePy - Writing audio in /content/Test/audio/audio_464_928-930.wav\n"
          ]
        },
        {
          "output_type": "stream",
          "name": "stderr",
          "text": []
        },
        {
          "output_type": "stream",
          "name": "stdout",
          "text": [
            "MoviePy - Done.\n",
            "MoviePy - Writing audio in /content/Test/audio/audio_465_930-932.wav\n"
          ]
        },
        {
          "output_type": "stream",
          "name": "stderr",
          "text": []
        },
        {
          "output_type": "stream",
          "name": "stdout",
          "text": [
            "MoviePy - Done.\n",
            "MoviePy - Writing audio in /content/Test/audio/audio_466_932-934.wav\n"
          ]
        },
        {
          "output_type": "stream",
          "name": "stderr",
          "text": []
        },
        {
          "output_type": "stream",
          "name": "stdout",
          "text": [
            "MoviePy - Done.\n",
            "MoviePy - Writing audio in /content/Test/audio/audio_467_934-936.wav\n"
          ]
        },
        {
          "output_type": "stream",
          "name": "stderr",
          "text": []
        },
        {
          "output_type": "stream",
          "name": "stdout",
          "text": [
            "MoviePy - Done.\n",
            "MoviePy - Writing audio in /content/Test/audio/audio_468_936-938.wav\n"
          ]
        },
        {
          "output_type": "stream",
          "name": "stderr",
          "text": []
        },
        {
          "output_type": "stream",
          "name": "stdout",
          "text": [
            "MoviePy - Done.\n",
            "MoviePy - Writing audio in /content/Test/audio/audio_469_938-940.wav\n"
          ]
        },
        {
          "output_type": "stream",
          "name": "stderr",
          "text": []
        },
        {
          "output_type": "stream",
          "name": "stdout",
          "text": [
            "MoviePy - Done.\n",
            "MoviePy - Writing audio in /content/Test/audio/audio_470_940-942.wav\n"
          ]
        },
        {
          "output_type": "stream",
          "name": "stderr",
          "text": []
        },
        {
          "output_type": "stream",
          "name": "stdout",
          "text": [
            "MoviePy - Done.\n",
            "MoviePy - Writing audio in /content/Test/audio/audio_471_942-944.wav\n"
          ]
        },
        {
          "output_type": "stream",
          "name": "stderr",
          "text": []
        },
        {
          "output_type": "stream",
          "name": "stdout",
          "text": [
            "MoviePy - Done.\n",
            "MoviePy - Writing audio in /content/Test/audio/audio_472_944-946.wav\n"
          ]
        },
        {
          "output_type": "stream",
          "name": "stderr",
          "text": []
        },
        {
          "output_type": "stream",
          "name": "stdout",
          "text": [
            "MoviePy - Done.\n",
            "MoviePy - Writing audio in /content/Test/audio/audio_473_946-948.wav\n"
          ]
        },
        {
          "output_type": "stream",
          "name": "stderr",
          "text": []
        },
        {
          "output_type": "stream",
          "name": "stdout",
          "text": [
            "MoviePy - Done.\n",
            "MoviePy - Writing audio in /content/Test/audio/audio_474_948-950.wav\n"
          ]
        },
        {
          "output_type": "stream",
          "name": "stderr",
          "text": []
        },
        {
          "output_type": "stream",
          "name": "stdout",
          "text": [
            "MoviePy - Done.\n",
            "MoviePy - Writing audio in /content/Test/audio/audio_475_950-952.wav\n"
          ]
        },
        {
          "output_type": "stream",
          "name": "stderr",
          "text": []
        },
        {
          "output_type": "stream",
          "name": "stdout",
          "text": [
            "MoviePy - Done.\n",
            "MoviePy - Writing audio in /content/Test/audio/audio_476_952-954.wav\n"
          ]
        },
        {
          "output_type": "stream",
          "name": "stderr",
          "text": []
        },
        {
          "output_type": "stream",
          "name": "stdout",
          "text": [
            "MoviePy - Done.\n",
            "MoviePy - Writing audio in /content/Test/audio/audio_477_954-956.wav\n"
          ]
        },
        {
          "output_type": "stream",
          "name": "stderr",
          "text": []
        },
        {
          "output_type": "stream",
          "name": "stdout",
          "text": [
            "MoviePy - Done.\n",
            "MoviePy - Writing audio in /content/Test/audio/audio_478_956-958.wav\n"
          ]
        },
        {
          "output_type": "stream",
          "name": "stderr",
          "text": []
        },
        {
          "output_type": "stream",
          "name": "stdout",
          "text": [
            "MoviePy - Done.\n",
            "MoviePy - Writing audio in /content/Test/audio/audio_479_958-960.wav\n"
          ]
        },
        {
          "output_type": "stream",
          "name": "stderr",
          "text": []
        },
        {
          "output_type": "stream",
          "name": "stdout",
          "text": [
            "MoviePy - Done.\n",
            "MoviePy - Writing audio in /content/Test/audio/audio_480_960-962.wav\n"
          ]
        },
        {
          "output_type": "stream",
          "name": "stderr",
          "text": []
        },
        {
          "output_type": "stream",
          "name": "stdout",
          "text": [
            "MoviePy - Done.\n",
            "MoviePy - Writing audio in /content/Test/audio/audio_481_962-964.wav\n"
          ]
        },
        {
          "output_type": "stream",
          "name": "stderr",
          "text": []
        },
        {
          "output_type": "stream",
          "name": "stdout",
          "text": [
            "MoviePy - Done.\n",
            "MoviePy - Writing audio in /content/Test/audio/audio_482_964-966.wav\n"
          ]
        },
        {
          "output_type": "stream",
          "name": "stderr",
          "text": []
        },
        {
          "output_type": "stream",
          "name": "stdout",
          "text": [
            "MoviePy - Done.\n",
            "MoviePy - Writing audio in /content/Test/audio/audio_483_966-968.wav\n"
          ]
        },
        {
          "output_type": "stream",
          "name": "stderr",
          "text": []
        },
        {
          "output_type": "stream",
          "name": "stdout",
          "text": [
            "MoviePy - Done.\n",
            "MoviePy - Writing audio in /content/Test/audio/audio_484_968-970.wav\n"
          ]
        },
        {
          "output_type": "stream",
          "name": "stderr",
          "text": []
        },
        {
          "output_type": "stream",
          "name": "stdout",
          "text": [
            "MoviePy - Done.\n",
            "MoviePy - Writing audio in /content/Test/audio/audio_485_970-972.wav\n"
          ]
        },
        {
          "output_type": "stream",
          "name": "stderr",
          "text": []
        },
        {
          "output_type": "stream",
          "name": "stdout",
          "text": [
            "MoviePy - Done.\n",
            "MoviePy - Writing audio in /content/Test/audio/audio_486_972-974.wav\n"
          ]
        },
        {
          "output_type": "stream",
          "name": "stderr",
          "text": []
        },
        {
          "output_type": "stream",
          "name": "stdout",
          "text": [
            "MoviePy - Done.\n",
            "MoviePy - Writing audio in /content/Test/audio/audio_487_974-976.wav\n"
          ]
        },
        {
          "output_type": "stream",
          "name": "stderr",
          "text": []
        },
        {
          "output_type": "stream",
          "name": "stdout",
          "text": [
            "MoviePy - Done.\n",
            "MoviePy - Writing audio in /content/Test/audio/audio_488_976-978.wav\n"
          ]
        },
        {
          "output_type": "stream",
          "name": "stderr",
          "text": []
        },
        {
          "output_type": "stream",
          "name": "stdout",
          "text": [
            "MoviePy - Done.\n",
            "MoviePy - Writing audio in /content/Test/audio/audio_489_978-980.wav\n"
          ]
        },
        {
          "output_type": "stream",
          "name": "stderr",
          "text": []
        },
        {
          "output_type": "stream",
          "name": "stdout",
          "text": [
            "MoviePy - Done.\n",
            "MoviePy - Writing audio in /content/Test/audio/audio_490_980-982.wav\n"
          ]
        },
        {
          "output_type": "stream",
          "name": "stderr",
          "text": []
        },
        {
          "output_type": "stream",
          "name": "stdout",
          "text": [
            "MoviePy - Done.\n",
            "MoviePy - Writing audio in /content/Test/audio/audio_491_982-984.wav\n"
          ]
        },
        {
          "output_type": "stream",
          "name": "stderr",
          "text": []
        },
        {
          "output_type": "stream",
          "name": "stdout",
          "text": [
            "MoviePy - Done.\n",
            "MoviePy - Writing audio in /content/Test/audio/audio_492_984-986.wav\n"
          ]
        },
        {
          "output_type": "stream",
          "name": "stderr",
          "text": []
        },
        {
          "output_type": "stream",
          "name": "stdout",
          "text": [
            "MoviePy - Done.\n",
            "MoviePy - Writing audio in /content/Test/audio/audio_493_986-988.wav\n"
          ]
        },
        {
          "output_type": "stream",
          "name": "stderr",
          "text": []
        },
        {
          "output_type": "stream",
          "name": "stdout",
          "text": [
            "MoviePy - Done.\n",
            "MoviePy - Writing audio in /content/Test/audio/audio_494_988-990.wav\n"
          ]
        },
        {
          "output_type": "stream",
          "name": "stderr",
          "text": []
        },
        {
          "output_type": "stream",
          "name": "stdout",
          "text": [
            "MoviePy - Done.\n",
            "MoviePy - Writing audio in /content/Test/audio/audio_495_990-992.wav\n"
          ]
        },
        {
          "output_type": "stream",
          "name": "stderr",
          "text": []
        },
        {
          "output_type": "stream",
          "name": "stdout",
          "text": [
            "MoviePy - Done.\n",
            "MoviePy - Writing audio in /content/Test/audio/audio_496_992-994.wav\n"
          ]
        },
        {
          "output_type": "stream",
          "name": "stderr",
          "text": []
        },
        {
          "output_type": "stream",
          "name": "stdout",
          "text": [
            "MoviePy - Done.\n",
            "MoviePy - Writing audio in /content/Test/audio/audio_497_994-996.wav\n"
          ]
        },
        {
          "output_type": "stream",
          "name": "stderr",
          "text": []
        },
        {
          "output_type": "stream",
          "name": "stdout",
          "text": [
            "MoviePy - Done.\n",
            "MoviePy - Writing audio in /content/Test/audio/audio_498_996-998.wav\n"
          ]
        },
        {
          "output_type": "stream",
          "name": "stderr",
          "text": []
        },
        {
          "output_type": "stream",
          "name": "stdout",
          "text": [
            "MoviePy - Done.\n",
            "MoviePy - Writing audio in /content/Test/audio/audio_499_998-1000.wav\n"
          ]
        },
        {
          "output_type": "stream",
          "name": "stderr",
          "text": []
        },
        {
          "output_type": "stream",
          "name": "stdout",
          "text": [
            "MoviePy - Done.\n",
            "MoviePy - Writing audio in /content/Test/audio/audio_500_1000-1002.wav\n"
          ]
        },
        {
          "output_type": "stream",
          "name": "stderr",
          "text": []
        },
        {
          "output_type": "stream",
          "name": "stdout",
          "text": [
            "MoviePy - Done.\n",
            "MoviePy - Writing audio in /content/Test/audio/audio_501_1002-1004.wav\n"
          ]
        },
        {
          "output_type": "stream",
          "name": "stderr",
          "text": []
        },
        {
          "output_type": "stream",
          "name": "stdout",
          "text": [
            "MoviePy - Done.\n",
            "MoviePy - Writing audio in /content/Test/audio/audio_502_1004-1006.wav\n"
          ]
        },
        {
          "output_type": "stream",
          "name": "stderr",
          "text": []
        },
        {
          "output_type": "stream",
          "name": "stdout",
          "text": [
            "MoviePy - Done.\n",
            "MoviePy - Writing audio in /content/Test/audio/audio_503_1006-1008.wav\n"
          ]
        },
        {
          "output_type": "stream",
          "name": "stderr",
          "text": []
        },
        {
          "output_type": "stream",
          "name": "stdout",
          "text": [
            "MoviePy - Done.\n",
            "MoviePy - Writing audio in /content/Test/audio/audio_504_1008-1010.wav\n"
          ]
        },
        {
          "output_type": "stream",
          "name": "stderr",
          "text": []
        },
        {
          "output_type": "stream",
          "name": "stdout",
          "text": [
            "MoviePy - Done.\n",
            "MoviePy - Writing audio in /content/Test/audio/audio_505_1010-1012.wav\n"
          ]
        },
        {
          "output_type": "stream",
          "name": "stderr",
          "text": []
        },
        {
          "output_type": "stream",
          "name": "stdout",
          "text": [
            "MoviePy - Done.\n",
            "MoviePy - Writing audio in /content/Test/audio/audio_506_1012-1014.wav\n"
          ]
        },
        {
          "output_type": "stream",
          "name": "stderr",
          "text": []
        },
        {
          "output_type": "stream",
          "name": "stdout",
          "text": [
            "MoviePy - Done.\n",
            "MoviePy - Writing audio in /content/Test/audio/audio_507_1014-1016.wav\n"
          ]
        },
        {
          "output_type": "stream",
          "name": "stderr",
          "text": []
        },
        {
          "output_type": "stream",
          "name": "stdout",
          "text": [
            "MoviePy - Done.\n",
            "MoviePy - Writing audio in /content/Test/audio/audio_508_1016-1018.wav\n"
          ]
        },
        {
          "output_type": "stream",
          "name": "stderr",
          "text": []
        },
        {
          "output_type": "stream",
          "name": "stdout",
          "text": [
            "MoviePy - Done.\n",
            "MoviePy - Writing audio in /content/Test/audio/audio_509_1018-1020.wav\n"
          ]
        },
        {
          "output_type": "stream",
          "name": "stderr",
          "text": []
        },
        {
          "output_type": "stream",
          "name": "stdout",
          "text": [
            "MoviePy - Done.\n",
            "MoviePy - Writing audio in /content/Test/audio/audio_510_1020-1022.wav\n"
          ]
        },
        {
          "output_type": "stream",
          "name": "stderr",
          "text": []
        },
        {
          "output_type": "stream",
          "name": "stdout",
          "text": [
            "MoviePy - Done.\n",
            "MoviePy - Writing audio in /content/Test/audio/audio_511_1022-1024.wav\n"
          ]
        },
        {
          "output_type": "stream",
          "name": "stderr",
          "text": []
        },
        {
          "output_type": "stream",
          "name": "stdout",
          "text": [
            "MoviePy - Done.\n",
            "MoviePy - Writing audio in /content/Test/audio/audio_512_1024-1026.wav\n"
          ]
        },
        {
          "output_type": "stream",
          "name": "stderr",
          "text": []
        },
        {
          "output_type": "stream",
          "name": "stdout",
          "text": [
            "MoviePy - Done.\n",
            "MoviePy - Writing audio in /content/Test/audio/audio_513_1026-1028.wav\n"
          ]
        },
        {
          "output_type": "stream",
          "name": "stderr",
          "text": []
        },
        {
          "output_type": "stream",
          "name": "stdout",
          "text": [
            "MoviePy - Done.\n",
            "MoviePy - Writing audio in /content/Test/audio/audio_514_1028-1030.wav\n"
          ]
        },
        {
          "output_type": "stream",
          "name": "stderr",
          "text": []
        },
        {
          "output_type": "stream",
          "name": "stdout",
          "text": [
            "MoviePy - Done.\n",
            "MoviePy - Writing audio in /content/Test/audio/audio_515_1030-1032.wav\n"
          ]
        },
        {
          "output_type": "stream",
          "name": "stderr",
          "text": []
        },
        {
          "output_type": "stream",
          "name": "stdout",
          "text": [
            "MoviePy - Done.\n",
            "MoviePy - Writing audio in /content/Test/audio/audio_516_1032-1034.wav\n"
          ]
        },
        {
          "output_type": "stream",
          "name": "stderr",
          "text": []
        },
        {
          "output_type": "stream",
          "name": "stdout",
          "text": [
            "MoviePy - Done.\n",
            "MoviePy - Writing audio in /content/Test/audio/audio_517_1034-1036.wav\n"
          ]
        },
        {
          "output_type": "stream",
          "name": "stderr",
          "text": []
        },
        {
          "output_type": "stream",
          "name": "stdout",
          "text": [
            "MoviePy - Done.\n",
            "MoviePy - Writing audio in /content/Test/audio/audio_518_1036-1038.wav\n"
          ]
        },
        {
          "output_type": "stream",
          "name": "stderr",
          "text": []
        },
        {
          "output_type": "stream",
          "name": "stdout",
          "text": [
            "MoviePy - Done.\n",
            "MoviePy - Writing audio in /content/Test/audio/audio_519_1038-1040.wav\n"
          ]
        },
        {
          "output_type": "stream",
          "name": "stderr",
          "text": []
        },
        {
          "output_type": "stream",
          "name": "stdout",
          "text": [
            "MoviePy - Done.\n",
            "MoviePy - Writing audio in /content/Test/audio/audio_520_1040-1042.wav\n"
          ]
        },
        {
          "output_type": "stream",
          "name": "stderr",
          "text": []
        },
        {
          "output_type": "stream",
          "name": "stdout",
          "text": [
            "MoviePy - Done.\n",
            "MoviePy - Writing audio in /content/Test/audio/audio_521_1042-1044.wav\n"
          ]
        },
        {
          "output_type": "stream",
          "name": "stderr",
          "text": []
        },
        {
          "output_type": "stream",
          "name": "stdout",
          "text": [
            "MoviePy - Done.\n",
            "MoviePy - Writing audio in /content/Test/audio/audio_522_1044-1046.wav\n"
          ]
        },
        {
          "output_type": "stream",
          "name": "stderr",
          "text": []
        },
        {
          "output_type": "stream",
          "name": "stdout",
          "text": [
            "MoviePy - Done.\n",
            "MoviePy - Writing audio in /content/Test/audio/audio_523_1046-1048.wav\n"
          ]
        },
        {
          "output_type": "stream",
          "name": "stderr",
          "text": []
        },
        {
          "output_type": "stream",
          "name": "stdout",
          "text": [
            "MoviePy - Done.\n",
            "MoviePy - Writing audio in /content/Test/audio/audio_524_1048-1050.wav\n"
          ]
        },
        {
          "output_type": "stream",
          "name": "stderr",
          "text": []
        },
        {
          "output_type": "stream",
          "name": "stdout",
          "text": [
            "MoviePy - Done.\n",
            "MoviePy - Writing audio in /content/Test/audio/audio_525_1050-1052.wav\n"
          ]
        },
        {
          "output_type": "stream",
          "name": "stderr",
          "text": []
        },
        {
          "output_type": "stream",
          "name": "stdout",
          "text": [
            "MoviePy - Done.\n",
            "MoviePy - Writing audio in /content/Test/audio/audio_526_1052-1054.wav\n"
          ]
        },
        {
          "output_type": "stream",
          "name": "stderr",
          "text": []
        },
        {
          "output_type": "stream",
          "name": "stdout",
          "text": [
            "MoviePy - Done.\n",
            "MoviePy - Writing audio in /content/Test/audio/audio_527_1054-1056.wav\n"
          ]
        },
        {
          "output_type": "stream",
          "name": "stderr",
          "text": []
        },
        {
          "output_type": "stream",
          "name": "stdout",
          "text": [
            "MoviePy - Done.\n",
            "MoviePy - Writing audio in /content/Test/audio/audio_528_1056-1058.wav\n"
          ]
        },
        {
          "output_type": "stream",
          "name": "stderr",
          "text": []
        },
        {
          "output_type": "stream",
          "name": "stdout",
          "text": [
            "MoviePy - Done.\n",
            "MoviePy - Writing audio in /content/Test/audio/audio_529_1058-1060.wav\n"
          ]
        },
        {
          "output_type": "stream",
          "name": "stderr",
          "text": []
        },
        {
          "output_type": "stream",
          "name": "stdout",
          "text": [
            "MoviePy - Done.\n",
            "MoviePy - Writing audio in /content/Test/audio/audio_530_1060-1062.wav\n"
          ]
        },
        {
          "output_type": "stream",
          "name": "stderr",
          "text": []
        },
        {
          "output_type": "stream",
          "name": "stdout",
          "text": [
            "MoviePy - Done.\n",
            "MoviePy - Writing audio in /content/Test/audio/audio_531_1062-1064.wav\n"
          ]
        },
        {
          "output_type": "stream",
          "name": "stderr",
          "text": []
        },
        {
          "output_type": "stream",
          "name": "stdout",
          "text": [
            "MoviePy - Done.\n",
            "MoviePy - Writing audio in /content/Test/audio/audio_532_1064-1066.wav\n"
          ]
        },
        {
          "output_type": "stream",
          "name": "stderr",
          "text": []
        },
        {
          "output_type": "stream",
          "name": "stdout",
          "text": [
            "MoviePy - Done.\n",
            "MoviePy - Writing audio in /content/Test/audio/audio_533_1066-1068.wav\n"
          ]
        },
        {
          "output_type": "stream",
          "name": "stderr",
          "text": []
        },
        {
          "output_type": "stream",
          "name": "stdout",
          "text": [
            "MoviePy - Done.\n",
            "MoviePy - Writing audio in /content/Test/audio/audio_534_1068-1070.wav\n"
          ]
        },
        {
          "output_type": "stream",
          "name": "stderr",
          "text": []
        },
        {
          "output_type": "stream",
          "name": "stdout",
          "text": [
            "MoviePy - Done.\n",
            "MoviePy - Writing audio in /content/Test/audio/audio_535_1070-1072.wav\n"
          ]
        },
        {
          "output_type": "stream",
          "name": "stderr",
          "text": []
        },
        {
          "output_type": "stream",
          "name": "stdout",
          "text": [
            "MoviePy - Done.\n",
            "MoviePy - Writing audio in /content/Test/audio/audio_536_1072-1074.wav\n"
          ]
        },
        {
          "output_type": "stream",
          "name": "stderr",
          "text": []
        },
        {
          "output_type": "stream",
          "name": "stdout",
          "text": [
            "MoviePy - Done.\n",
            "MoviePy - Writing audio in /content/Test/audio/audio_537_1074-1076.wav\n"
          ]
        },
        {
          "output_type": "stream",
          "name": "stderr",
          "text": []
        },
        {
          "output_type": "stream",
          "name": "stdout",
          "text": [
            "MoviePy - Done.\n",
            "MoviePy - Writing audio in /content/Test/audio/audio_538_1076-1078.wav\n"
          ]
        },
        {
          "output_type": "stream",
          "name": "stderr",
          "text": []
        },
        {
          "output_type": "stream",
          "name": "stdout",
          "text": [
            "MoviePy - Done.\n",
            "MoviePy - Writing audio in /content/Test/audio/audio_539_1078-1080.wav\n"
          ]
        },
        {
          "output_type": "stream",
          "name": "stderr",
          "text": []
        },
        {
          "output_type": "stream",
          "name": "stdout",
          "text": [
            "MoviePy - Done.\n",
            "MoviePy - Writing audio in /content/Test/audio/audio_540_1080-1082.wav\n"
          ]
        },
        {
          "output_type": "stream",
          "name": "stderr",
          "text": []
        },
        {
          "output_type": "stream",
          "name": "stdout",
          "text": [
            "MoviePy - Done.\n",
            "MoviePy - Writing audio in /content/Test/audio/audio_541_1082-1084.wav\n"
          ]
        },
        {
          "output_type": "stream",
          "name": "stderr",
          "text": []
        },
        {
          "output_type": "stream",
          "name": "stdout",
          "text": [
            "MoviePy - Done.\n",
            "MoviePy - Writing audio in /content/Test/audio/audio_542_1084-1086.wav\n"
          ]
        },
        {
          "output_type": "stream",
          "name": "stderr",
          "text": []
        },
        {
          "output_type": "stream",
          "name": "stdout",
          "text": [
            "MoviePy - Done.\n",
            "MoviePy - Writing audio in /content/Test/audio/audio_543_1086-1088.wav\n"
          ]
        },
        {
          "output_type": "stream",
          "name": "stderr",
          "text": []
        },
        {
          "output_type": "stream",
          "name": "stdout",
          "text": [
            "MoviePy - Done.\n",
            "MoviePy - Writing audio in /content/Test/audio/audio_544_1088-1090.wav\n"
          ]
        },
        {
          "output_type": "stream",
          "name": "stderr",
          "text": []
        },
        {
          "output_type": "stream",
          "name": "stdout",
          "text": [
            "MoviePy - Done.\n",
            "MoviePy - Writing audio in /content/Test/audio/audio_545_1090-1092.wav\n"
          ]
        },
        {
          "output_type": "stream",
          "name": "stderr",
          "text": []
        },
        {
          "output_type": "stream",
          "name": "stdout",
          "text": [
            "MoviePy - Done.\n",
            "MoviePy - Writing audio in /content/Test/audio/audio_546_1092-1094.wav\n"
          ]
        },
        {
          "output_type": "stream",
          "name": "stderr",
          "text": []
        },
        {
          "output_type": "stream",
          "name": "stdout",
          "text": [
            "MoviePy - Done.\n",
            "MoviePy - Writing audio in /content/Test/audio/audio_547_1094-1096.wav\n"
          ]
        },
        {
          "output_type": "stream",
          "name": "stderr",
          "text": []
        },
        {
          "output_type": "stream",
          "name": "stdout",
          "text": [
            "MoviePy - Done.\n",
            "MoviePy - Writing audio in /content/Test/audio/audio_548_1096-1098.wav\n"
          ]
        },
        {
          "output_type": "stream",
          "name": "stderr",
          "text": []
        },
        {
          "output_type": "stream",
          "name": "stdout",
          "text": [
            "MoviePy - Done.\n",
            "MoviePy - Writing audio in /content/Test/audio/audio_549_1098-1100.wav\n"
          ]
        },
        {
          "output_type": "stream",
          "name": "stderr",
          "text": []
        },
        {
          "output_type": "stream",
          "name": "stdout",
          "text": [
            "MoviePy - Done.\n",
            "MoviePy - Writing audio in /content/Test/audio/audio_550_1100-1102.wav\n"
          ]
        },
        {
          "output_type": "stream",
          "name": "stderr",
          "text": []
        },
        {
          "output_type": "stream",
          "name": "stdout",
          "text": [
            "MoviePy - Done.\n",
            "MoviePy - Writing audio in /content/Test/audio/audio_551_1102-1104.wav\n"
          ]
        },
        {
          "output_type": "stream",
          "name": "stderr",
          "text": []
        },
        {
          "output_type": "stream",
          "name": "stdout",
          "text": [
            "MoviePy - Done.\n",
            "MoviePy - Writing audio in /content/Test/audio/audio_552_1104-1106.wav\n"
          ]
        },
        {
          "output_type": "stream",
          "name": "stderr",
          "text": []
        },
        {
          "output_type": "stream",
          "name": "stdout",
          "text": [
            "MoviePy - Done.\n",
            "MoviePy - Writing audio in /content/Test/audio/audio_553_1106-1108.wav\n"
          ]
        },
        {
          "output_type": "stream",
          "name": "stderr",
          "text": []
        },
        {
          "output_type": "stream",
          "name": "stdout",
          "text": [
            "MoviePy - Done.\n",
            "MoviePy - Writing audio in /content/Test/audio/audio_554_1108-1110.wav\n"
          ]
        },
        {
          "output_type": "stream",
          "name": "stderr",
          "text": []
        },
        {
          "output_type": "stream",
          "name": "stdout",
          "text": [
            "MoviePy - Done.\n",
            "MoviePy - Writing audio in /content/Test/audio/audio_555_1110-1112.wav\n"
          ]
        },
        {
          "output_type": "stream",
          "name": "stderr",
          "text": []
        },
        {
          "output_type": "stream",
          "name": "stdout",
          "text": [
            "MoviePy - Done.\n",
            "MoviePy - Writing audio in /content/Test/audio/audio_556_1112-1114.wav\n"
          ]
        },
        {
          "output_type": "stream",
          "name": "stderr",
          "text": []
        },
        {
          "output_type": "stream",
          "name": "stdout",
          "text": [
            "MoviePy - Done.\n",
            "MoviePy - Writing audio in /content/Test/audio/audio_557_1114-1116.wav\n"
          ]
        },
        {
          "output_type": "stream",
          "name": "stderr",
          "text": []
        },
        {
          "output_type": "stream",
          "name": "stdout",
          "text": [
            "MoviePy - Done.\n",
            "MoviePy - Writing audio in /content/Test/audio/audio_558_1116-1118.wav\n"
          ]
        },
        {
          "output_type": "stream",
          "name": "stderr",
          "text": []
        },
        {
          "output_type": "stream",
          "name": "stdout",
          "text": [
            "MoviePy - Done.\n",
            "MoviePy - Writing audio in /content/Test/audio/audio_559_1118-1120.wav\n"
          ]
        },
        {
          "output_type": "stream",
          "name": "stderr",
          "text": []
        },
        {
          "output_type": "stream",
          "name": "stdout",
          "text": [
            "MoviePy - Done.\n",
            "MoviePy - Writing audio in /content/Test/audio/audio_560_1120-1122.wav\n"
          ]
        },
        {
          "output_type": "stream",
          "name": "stderr",
          "text": []
        },
        {
          "output_type": "stream",
          "name": "stdout",
          "text": [
            "MoviePy - Done.\n",
            "MoviePy - Writing audio in /content/Test/audio/audio_561_1122-1124.wav\n"
          ]
        },
        {
          "output_type": "stream",
          "name": "stderr",
          "text": []
        },
        {
          "output_type": "stream",
          "name": "stdout",
          "text": [
            "MoviePy - Done.\n",
            "MoviePy - Writing audio in /content/Test/audio/audio_562_1124-1126.wav\n"
          ]
        },
        {
          "output_type": "stream",
          "name": "stderr",
          "text": []
        },
        {
          "output_type": "stream",
          "name": "stdout",
          "text": [
            "MoviePy - Done.\n",
            "MoviePy - Writing audio in /content/Test/audio/audio_563_1126-1128.wav\n"
          ]
        },
        {
          "output_type": "stream",
          "name": "stderr",
          "text": []
        },
        {
          "output_type": "stream",
          "name": "stdout",
          "text": [
            "MoviePy - Done.\n",
            "MoviePy - Writing audio in /content/Test/audio/audio_564_1128-1130.wav\n"
          ]
        },
        {
          "output_type": "stream",
          "name": "stderr",
          "text": []
        },
        {
          "output_type": "stream",
          "name": "stdout",
          "text": [
            "MoviePy - Done.\n",
            "MoviePy - Writing audio in /content/Test/audio/audio_565_1130-1132.wav\n"
          ]
        },
        {
          "output_type": "stream",
          "name": "stderr",
          "text": []
        },
        {
          "output_type": "stream",
          "name": "stdout",
          "text": [
            "MoviePy - Done.\n",
            "MoviePy - Writing audio in /content/Test/audio/audio_566_1132-1134.wav\n"
          ]
        },
        {
          "output_type": "stream",
          "name": "stderr",
          "text": []
        },
        {
          "output_type": "stream",
          "name": "stdout",
          "text": [
            "MoviePy - Done.\n",
            "MoviePy - Writing audio in /content/Test/audio/audio_567_1134-1136.wav\n"
          ]
        },
        {
          "output_type": "stream",
          "name": "stderr",
          "text": []
        },
        {
          "output_type": "stream",
          "name": "stdout",
          "text": [
            "MoviePy - Done.\n",
            "MoviePy - Writing audio in /content/Test/audio/audio_568_1136-1138.wav\n"
          ]
        },
        {
          "output_type": "stream",
          "name": "stderr",
          "text": []
        },
        {
          "output_type": "stream",
          "name": "stdout",
          "text": [
            "MoviePy - Done.\n",
            "MoviePy - Writing audio in /content/Test/audio/audio_569_1138-1140.wav\n"
          ]
        },
        {
          "output_type": "stream",
          "name": "stderr",
          "text": []
        },
        {
          "output_type": "stream",
          "name": "stdout",
          "text": [
            "MoviePy - Done.\n",
            "MoviePy - Writing audio in /content/Test/audio/audio_570_1140-1142.wav\n"
          ]
        },
        {
          "output_type": "stream",
          "name": "stderr",
          "text": []
        },
        {
          "output_type": "stream",
          "name": "stdout",
          "text": [
            "MoviePy - Done.\n",
            "MoviePy - Writing audio in /content/Test/audio/audio_571_1142-1144.wav\n"
          ]
        },
        {
          "output_type": "stream",
          "name": "stderr",
          "text": []
        },
        {
          "output_type": "stream",
          "name": "stdout",
          "text": [
            "MoviePy - Done.\n",
            "MoviePy - Writing audio in /content/Test/audio/audio_572_1144-1146.wav\n"
          ]
        },
        {
          "output_type": "stream",
          "name": "stderr",
          "text": []
        },
        {
          "output_type": "stream",
          "name": "stdout",
          "text": [
            "MoviePy - Done.\n",
            "MoviePy - Writing audio in /content/Test/audio/audio_573_1146-1148.wav\n"
          ]
        },
        {
          "output_type": "stream",
          "name": "stderr",
          "text": []
        },
        {
          "output_type": "stream",
          "name": "stdout",
          "text": [
            "MoviePy - Done.\n",
            "MoviePy - Writing audio in /content/Test/audio/audio_574_1148-1150.wav\n"
          ]
        },
        {
          "output_type": "stream",
          "name": "stderr",
          "text": []
        },
        {
          "output_type": "stream",
          "name": "stdout",
          "text": [
            "MoviePy - Done.\n",
            "MoviePy - Writing audio in /content/Test/audio/audio_575_1150-1152.wav\n"
          ]
        },
        {
          "output_type": "stream",
          "name": "stderr",
          "text": []
        },
        {
          "output_type": "stream",
          "name": "stdout",
          "text": [
            "MoviePy - Done.\n",
            "MoviePy - Writing audio in /content/Test/audio/audio_576_1152-1154.wav\n"
          ]
        },
        {
          "output_type": "stream",
          "name": "stderr",
          "text": []
        },
        {
          "output_type": "stream",
          "name": "stdout",
          "text": [
            "MoviePy - Done.\n",
            "MoviePy - Writing audio in /content/Test/audio/audio_577_1154-1156.wav\n"
          ]
        },
        {
          "output_type": "stream",
          "name": "stderr",
          "text": []
        },
        {
          "output_type": "stream",
          "name": "stdout",
          "text": [
            "MoviePy - Done.\n",
            "MoviePy - Writing audio in /content/Test/audio/audio_578_1156-1158.wav\n"
          ]
        },
        {
          "output_type": "stream",
          "name": "stderr",
          "text": []
        },
        {
          "output_type": "stream",
          "name": "stdout",
          "text": [
            "MoviePy - Done.\n",
            "MoviePy - Writing audio in /content/Test/audio/audio_579_1158-1160.wav\n"
          ]
        },
        {
          "output_type": "stream",
          "name": "stderr",
          "text": []
        },
        {
          "output_type": "stream",
          "name": "stdout",
          "text": [
            "MoviePy - Done.\n",
            "MoviePy - Writing audio in /content/Test/audio/audio_580_1160-1162.wav\n"
          ]
        },
        {
          "output_type": "stream",
          "name": "stderr",
          "text": []
        },
        {
          "output_type": "stream",
          "name": "stdout",
          "text": [
            "MoviePy - Done.\n",
            "MoviePy - Writing audio in /content/Test/audio/audio_581_1162-1164.wav\n"
          ]
        },
        {
          "output_type": "stream",
          "name": "stderr",
          "text": []
        },
        {
          "output_type": "stream",
          "name": "stdout",
          "text": [
            "MoviePy - Done.\n",
            "MoviePy - Writing audio in /content/Test/audio/audio_582_1164-1166.wav\n"
          ]
        },
        {
          "output_type": "stream",
          "name": "stderr",
          "text": []
        },
        {
          "output_type": "stream",
          "name": "stdout",
          "text": [
            "MoviePy - Done.\n",
            "MoviePy - Writing audio in /content/Test/audio/audio_583_1166-1168.wav\n"
          ]
        },
        {
          "output_type": "stream",
          "name": "stderr",
          "text": []
        },
        {
          "output_type": "stream",
          "name": "stdout",
          "text": [
            "MoviePy - Done.\n",
            "MoviePy - Writing audio in /content/Test/audio/audio_584_1168-1170.wav\n"
          ]
        },
        {
          "output_type": "stream",
          "name": "stderr",
          "text": []
        },
        {
          "output_type": "stream",
          "name": "stdout",
          "text": [
            "MoviePy - Done.\n",
            "MoviePy - Writing audio in /content/Test/audio/audio_585_1170-1172.wav\n"
          ]
        },
        {
          "output_type": "stream",
          "name": "stderr",
          "text": []
        },
        {
          "output_type": "stream",
          "name": "stdout",
          "text": [
            "MoviePy - Done.\n",
            "MoviePy - Writing audio in /content/Test/audio/audio_586_1172-1174.wav\n"
          ]
        },
        {
          "output_type": "stream",
          "name": "stderr",
          "text": []
        },
        {
          "output_type": "stream",
          "name": "stdout",
          "text": [
            "MoviePy - Done.\n",
            "MoviePy - Writing audio in /content/Test/audio/audio_587_1174-1176.wav\n"
          ]
        },
        {
          "output_type": "stream",
          "name": "stderr",
          "text": []
        },
        {
          "output_type": "stream",
          "name": "stdout",
          "text": [
            "MoviePy - Done.\n",
            "MoviePy - Writing audio in /content/Test/audio/audio_588_1176-1178.wav\n"
          ]
        },
        {
          "output_type": "stream",
          "name": "stderr",
          "text": []
        },
        {
          "output_type": "stream",
          "name": "stdout",
          "text": [
            "MoviePy - Done.\n",
            "MoviePy - Writing audio in /content/Test/audio/audio_589_1178-1180.wav\n"
          ]
        },
        {
          "output_type": "stream",
          "name": "stderr",
          "text": []
        },
        {
          "output_type": "stream",
          "name": "stdout",
          "text": [
            "MoviePy - Done.\n",
            "MoviePy - Writing audio in /content/Test/audio/audio_590_1180-1182.wav\n"
          ]
        },
        {
          "output_type": "stream",
          "name": "stderr",
          "text": []
        },
        {
          "output_type": "stream",
          "name": "stdout",
          "text": [
            "MoviePy - Done.\n",
            "MoviePy - Writing audio in /content/Test/audio/audio_591_1182-1184.wav\n"
          ]
        },
        {
          "output_type": "stream",
          "name": "stderr",
          "text": []
        },
        {
          "output_type": "stream",
          "name": "stdout",
          "text": [
            "MoviePy - Done.\n",
            "MoviePy - Writing audio in /content/Test/audio/audio_592_1184-1186.wav\n"
          ]
        },
        {
          "output_type": "stream",
          "name": "stderr",
          "text": []
        },
        {
          "output_type": "stream",
          "name": "stdout",
          "text": [
            "MoviePy - Done.\n",
            "MoviePy - Writing audio in /content/Test/audio/audio_593_1186-1188.wav\n"
          ]
        },
        {
          "output_type": "stream",
          "name": "stderr",
          "text": []
        },
        {
          "output_type": "stream",
          "name": "stdout",
          "text": [
            "MoviePy - Done.\n",
            "MoviePy - Writing audio in /content/Test/audio/audio_594_1188-1190.wav\n"
          ]
        },
        {
          "output_type": "stream",
          "name": "stderr",
          "text": []
        },
        {
          "output_type": "stream",
          "name": "stdout",
          "text": [
            "MoviePy - Done.\n",
            "MoviePy - Writing audio in /content/Test/audio/audio_595_1190-1192.wav\n"
          ]
        },
        {
          "output_type": "stream",
          "name": "stderr",
          "text": []
        },
        {
          "output_type": "stream",
          "name": "stdout",
          "text": [
            "MoviePy - Done.\n",
            "MoviePy - Writing audio in /content/Test/audio/audio_596_1192-1194.wav\n"
          ]
        },
        {
          "output_type": "stream",
          "name": "stderr",
          "text": []
        },
        {
          "output_type": "stream",
          "name": "stdout",
          "text": [
            "MoviePy - Done.\n",
            "MoviePy - Writing audio in /content/Test/audio/audio_597_1194-1196.wav\n"
          ]
        },
        {
          "output_type": "stream",
          "name": "stderr",
          "text": []
        },
        {
          "output_type": "stream",
          "name": "stdout",
          "text": [
            "MoviePy - Done.\n",
            "MoviePy - Writing audio in /content/Test/audio/audio_598_1196-1198.wav\n"
          ]
        },
        {
          "output_type": "stream",
          "name": "stderr",
          "text": []
        },
        {
          "output_type": "stream",
          "name": "stdout",
          "text": [
            "MoviePy - Done.\n",
            "MoviePy - Writing audio in /content/Test/audio/audio_599_1198-1200.wav\n"
          ]
        },
        {
          "output_type": "stream",
          "name": "stderr",
          "text": []
        },
        {
          "output_type": "stream",
          "name": "stdout",
          "text": [
            "MoviePy - Done.\n",
            "MoviePy - Writing audio in /content/Test/audio/audio_600_1200-1202.wav\n"
          ]
        },
        {
          "output_type": "stream",
          "name": "stderr",
          "text": []
        },
        {
          "output_type": "stream",
          "name": "stdout",
          "text": [
            "MoviePy - Done.\n",
            "MoviePy - Writing audio in /content/Test/audio/audio_601_1202-1204.wav\n"
          ]
        },
        {
          "output_type": "stream",
          "name": "stderr",
          "text": []
        },
        {
          "output_type": "stream",
          "name": "stdout",
          "text": [
            "MoviePy - Done.\n",
            "MoviePy - Writing audio in /content/Test/audio/audio_602_1204-1206.wav\n"
          ]
        },
        {
          "output_type": "stream",
          "name": "stderr",
          "text": []
        },
        {
          "output_type": "stream",
          "name": "stdout",
          "text": [
            "MoviePy - Done.\n",
            "MoviePy - Writing audio in /content/Test/audio/audio_603_1206-1208.wav\n"
          ]
        },
        {
          "output_type": "stream",
          "name": "stderr",
          "text": []
        },
        {
          "output_type": "stream",
          "name": "stdout",
          "text": [
            "MoviePy - Done.\n",
            "MoviePy - Writing audio in /content/Test/audio/audio_604_1208-1210.wav\n"
          ]
        },
        {
          "output_type": "stream",
          "name": "stderr",
          "text": []
        },
        {
          "output_type": "stream",
          "name": "stdout",
          "text": [
            "MoviePy - Done.\n",
            "MoviePy - Writing audio in /content/Test/audio/audio_605_1210-1212.wav\n"
          ]
        },
        {
          "output_type": "stream",
          "name": "stderr",
          "text": []
        },
        {
          "output_type": "stream",
          "name": "stdout",
          "text": [
            "MoviePy - Done.\n",
            "MoviePy - Writing audio in /content/Test/audio/audio_606_1212-1214.wav\n"
          ]
        },
        {
          "output_type": "stream",
          "name": "stderr",
          "text": []
        },
        {
          "output_type": "stream",
          "name": "stdout",
          "text": [
            "MoviePy - Done.\n",
            "MoviePy - Writing audio in /content/Test/audio/audio_607_1214-1216.wav\n"
          ]
        },
        {
          "output_type": "stream",
          "name": "stderr",
          "text": []
        },
        {
          "output_type": "stream",
          "name": "stdout",
          "text": [
            "MoviePy - Done.\n",
            "MoviePy - Writing audio in /content/Test/audio/audio_608_1216-1218.wav\n"
          ]
        },
        {
          "output_type": "stream",
          "name": "stderr",
          "text": []
        },
        {
          "output_type": "stream",
          "name": "stdout",
          "text": [
            "MoviePy - Done.\n",
            "MoviePy - Writing audio in /content/Test/audio/audio_609_1218-1220.wav\n"
          ]
        },
        {
          "output_type": "stream",
          "name": "stderr",
          "text": []
        },
        {
          "output_type": "stream",
          "name": "stdout",
          "text": [
            "MoviePy - Done.\n",
            "MoviePy - Writing audio in /content/Test/audio/audio_610_1220-1222.wav\n"
          ]
        },
        {
          "output_type": "stream",
          "name": "stderr",
          "text": []
        },
        {
          "output_type": "stream",
          "name": "stdout",
          "text": [
            "MoviePy - Done.\n",
            "MoviePy - Writing audio in /content/Test/audio/audio_611_1222-1224.wav\n"
          ]
        },
        {
          "output_type": "stream",
          "name": "stderr",
          "text": []
        },
        {
          "output_type": "stream",
          "name": "stdout",
          "text": [
            "MoviePy - Done.\n",
            "MoviePy - Writing audio in /content/Test/audio/audio_612_1224-1226.wav\n"
          ]
        },
        {
          "output_type": "stream",
          "name": "stderr",
          "text": []
        },
        {
          "output_type": "stream",
          "name": "stdout",
          "text": [
            "MoviePy - Done.\n",
            "MoviePy - Writing audio in /content/Test/audio/audio_613_1226-1228.wav\n"
          ]
        },
        {
          "output_type": "stream",
          "name": "stderr",
          "text": []
        },
        {
          "output_type": "stream",
          "name": "stdout",
          "text": [
            "MoviePy - Done.\n",
            "MoviePy - Writing audio in /content/Test/audio/audio_614_1228-1230.wav\n"
          ]
        },
        {
          "output_type": "stream",
          "name": "stderr",
          "text": []
        },
        {
          "output_type": "stream",
          "name": "stdout",
          "text": [
            "MoviePy - Done.\n",
            "MoviePy - Writing audio in /content/Test/audio/audio_615_1230-1232.wav\n"
          ]
        },
        {
          "output_type": "stream",
          "name": "stderr",
          "text": []
        },
        {
          "output_type": "stream",
          "name": "stdout",
          "text": [
            "MoviePy - Done.\n",
            "MoviePy - Writing audio in /content/Test/audio/audio_616_1232-1234.wav\n"
          ]
        },
        {
          "output_type": "stream",
          "name": "stderr",
          "text": []
        },
        {
          "output_type": "stream",
          "name": "stdout",
          "text": [
            "MoviePy - Done.\n",
            "MoviePy - Writing audio in /content/Test/audio/audio_617_1234-1236.wav\n"
          ]
        },
        {
          "output_type": "stream",
          "name": "stderr",
          "text": []
        },
        {
          "output_type": "stream",
          "name": "stdout",
          "text": [
            "MoviePy - Done.\n",
            "MoviePy - Writing audio in /content/Test/audio/audio_618_1236-1238.wav\n"
          ]
        },
        {
          "output_type": "stream",
          "name": "stderr",
          "text": []
        },
        {
          "output_type": "stream",
          "name": "stdout",
          "text": [
            "MoviePy - Done.\n",
            "MoviePy - Writing audio in /content/Test/audio/audio_619_1238-1240.wav\n"
          ]
        },
        {
          "output_type": "stream",
          "name": "stderr",
          "text": []
        },
        {
          "output_type": "stream",
          "name": "stdout",
          "text": [
            "MoviePy - Done.\n",
            "MoviePy - Writing audio in /content/Test/audio/audio_620_1240-1242.wav\n"
          ]
        },
        {
          "output_type": "stream",
          "name": "stderr",
          "text": []
        },
        {
          "output_type": "stream",
          "name": "stdout",
          "text": [
            "MoviePy - Done.\n",
            "MoviePy - Writing audio in /content/Test/audio/audio_621_1242-1244.wav\n"
          ]
        },
        {
          "output_type": "stream",
          "name": "stderr",
          "text": []
        },
        {
          "output_type": "stream",
          "name": "stdout",
          "text": [
            "MoviePy - Done.\n",
            "MoviePy - Writing audio in /content/Test/audio/audio_622_1244-1246.wav\n"
          ]
        },
        {
          "output_type": "stream",
          "name": "stderr",
          "text": []
        },
        {
          "output_type": "stream",
          "name": "stdout",
          "text": [
            "MoviePy - Done.\n",
            "MoviePy - Writing audio in /content/Test/audio/audio_623_1246-1248.wav\n"
          ]
        },
        {
          "output_type": "stream",
          "name": "stderr",
          "text": []
        },
        {
          "output_type": "stream",
          "name": "stdout",
          "text": [
            "MoviePy - Done.\n",
            "MoviePy - Writing audio in /content/Test/audio/audio_624_1248-1250.wav\n"
          ]
        },
        {
          "output_type": "stream",
          "name": "stderr",
          "text": []
        },
        {
          "output_type": "stream",
          "name": "stdout",
          "text": [
            "MoviePy - Done.\n",
            "MoviePy - Writing audio in /content/Test/audio/audio_625_1250-1252.wav\n"
          ]
        },
        {
          "output_type": "stream",
          "name": "stderr",
          "text": []
        },
        {
          "output_type": "stream",
          "name": "stdout",
          "text": [
            "MoviePy - Done.\n",
            "MoviePy - Writing audio in /content/Test/audio/audio_626_1252-1254.wav\n"
          ]
        },
        {
          "output_type": "stream",
          "name": "stderr",
          "text": []
        },
        {
          "output_type": "stream",
          "name": "stdout",
          "text": [
            "MoviePy - Done.\n",
            "MoviePy - Writing audio in /content/Test/audio/audio_627_1254-1256.wav\n"
          ]
        },
        {
          "output_type": "stream",
          "name": "stderr",
          "text": []
        },
        {
          "output_type": "stream",
          "name": "stdout",
          "text": [
            "MoviePy - Done.\n",
            "MoviePy - Writing audio in /content/Test/audio/audio_628_1256-1258.wav\n"
          ]
        },
        {
          "output_type": "stream",
          "name": "stderr",
          "text": []
        },
        {
          "output_type": "stream",
          "name": "stdout",
          "text": [
            "MoviePy - Done.\n",
            "MoviePy - Writing audio in /content/Test/audio/audio_629_1258-1260.wav\n"
          ]
        },
        {
          "output_type": "stream",
          "name": "stderr",
          "text": []
        },
        {
          "output_type": "stream",
          "name": "stdout",
          "text": [
            "MoviePy - Done.\n",
            "MoviePy - Writing audio in /content/Test/audio/audio_630_1260-1262.wav\n"
          ]
        },
        {
          "output_type": "stream",
          "name": "stderr",
          "text": []
        },
        {
          "output_type": "stream",
          "name": "stdout",
          "text": [
            "MoviePy - Done.\n",
            "MoviePy - Writing audio in /content/Test/audio/audio_631_1262-1264.wav\n"
          ]
        },
        {
          "output_type": "stream",
          "name": "stderr",
          "text": []
        },
        {
          "output_type": "stream",
          "name": "stdout",
          "text": [
            "MoviePy - Done.\n",
            "MoviePy - Writing audio in /content/Test/audio/audio_632_1264-1266.wav\n"
          ]
        },
        {
          "output_type": "stream",
          "name": "stderr",
          "text": []
        },
        {
          "output_type": "stream",
          "name": "stdout",
          "text": [
            "MoviePy - Done.\n",
            "MoviePy - Writing audio in /content/Test/audio/audio_633_1266-1268.wav\n"
          ]
        },
        {
          "output_type": "stream",
          "name": "stderr",
          "text": []
        },
        {
          "output_type": "stream",
          "name": "stdout",
          "text": [
            "MoviePy - Done.\n",
            "MoviePy - Writing audio in /content/Test/audio/audio_634_1268-1270.wav\n"
          ]
        },
        {
          "output_type": "stream",
          "name": "stderr",
          "text": []
        },
        {
          "output_type": "stream",
          "name": "stdout",
          "text": [
            "MoviePy - Done.\n",
            "MoviePy - Writing audio in /content/Test/audio/audio_635_1270-1272.wav\n"
          ]
        },
        {
          "output_type": "stream",
          "name": "stderr",
          "text": []
        },
        {
          "output_type": "stream",
          "name": "stdout",
          "text": [
            "MoviePy - Done.\n",
            "MoviePy - Writing audio in /content/Test/audio/audio_636_1272-1274.wav\n"
          ]
        },
        {
          "output_type": "stream",
          "name": "stderr",
          "text": []
        },
        {
          "output_type": "stream",
          "name": "stdout",
          "text": [
            "MoviePy - Done.\n",
            "MoviePy - Writing audio in /content/Test/audio/audio_637_1274-1276.wav\n"
          ]
        },
        {
          "output_type": "stream",
          "name": "stderr",
          "text": []
        },
        {
          "output_type": "stream",
          "name": "stdout",
          "text": [
            "MoviePy - Done.\n",
            "MoviePy - Writing audio in /content/Test/audio/audio_638_1276-1278.wav\n"
          ]
        },
        {
          "output_type": "stream",
          "name": "stderr",
          "text": []
        },
        {
          "output_type": "stream",
          "name": "stdout",
          "text": [
            "MoviePy - Done.\n",
            "MoviePy - Writing audio in /content/Test/audio/audio_639_1278-1280.wav\n"
          ]
        },
        {
          "output_type": "stream",
          "name": "stderr",
          "text": []
        },
        {
          "output_type": "stream",
          "name": "stdout",
          "text": [
            "MoviePy - Done.\n",
            "MoviePy - Writing audio in /content/Test/audio/audio_640_1280-1282.wav\n"
          ]
        },
        {
          "output_type": "stream",
          "name": "stderr",
          "text": []
        },
        {
          "output_type": "stream",
          "name": "stdout",
          "text": [
            "MoviePy - Done.\n",
            "MoviePy - Writing audio in /content/Test/audio/audio_641_1282-1284.wav\n"
          ]
        },
        {
          "output_type": "stream",
          "name": "stderr",
          "text": []
        },
        {
          "output_type": "stream",
          "name": "stdout",
          "text": [
            "MoviePy - Done.\n",
            "MoviePy - Writing audio in /content/Test/audio/audio_642_1284-1286.wav\n"
          ]
        },
        {
          "output_type": "stream",
          "name": "stderr",
          "text": []
        },
        {
          "output_type": "stream",
          "name": "stdout",
          "text": [
            "MoviePy - Done.\n",
            "MoviePy - Writing audio in /content/Test/audio/audio_643_1286-1288.wav\n"
          ]
        },
        {
          "output_type": "stream",
          "name": "stderr",
          "text": []
        },
        {
          "output_type": "stream",
          "name": "stdout",
          "text": [
            "MoviePy - Done.\n",
            "MoviePy - Writing audio in /content/Test/audio/audio_644_1288-1290.wav\n"
          ]
        },
        {
          "output_type": "stream",
          "name": "stderr",
          "text": []
        },
        {
          "output_type": "stream",
          "name": "stdout",
          "text": [
            "MoviePy - Done.\n",
            "MoviePy - Writing audio in /content/Test/audio/audio_645_1290-1292.wav\n"
          ]
        },
        {
          "output_type": "stream",
          "name": "stderr",
          "text": []
        },
        {
          "output_type": "stream",
          "name": "stdout",
          "text": [
            "MoviePy - Done.\n",
            "MoviePy - Writing audio in /content/Test/audio/audio_646_1292-1294.wav\n"
          ]
        },
        {
          "output_type": "stream",
          "name": "stderr",
          "text": []
        },
        {
          "output_type": "stream",
          "name": "stdout",
          "text": [
            "MoviePy - Done.\n",
            "MoviePy - Writing audio in /content/Test/audio/audio_647_1294-1296.wav\n"
          ]
        },
        {
          "output_type": "stream",
          "name": "stderr",
          "text": []
        },
        {
          "output_type": "stream",
          "name": "stdout",
          "text": [
            "MoviePy - Done.\n",
            "MoviePy - Writing audio in /content/Test/audio/audio_648_1296-1298.wav\n"
          ]
        },
        {
          "output_type": "stream",
          "name": "stderr",
          "text": []
        },
        {
          "output_type": "stream",
          "name": "stdout",
          "text": [
            "MoviePy - Done.\n",
            "MoviePy - Writing audio in /content/Test/audio/audio_649_1298-1300.wav\n"
          ]
        },
        {
          "output_type": "stream",
          "name": "stderr",
          "text": []
        },
        {
          "output_type": "stream",
          "name": "stdout",
          "text": [
            "MoviePy - Done.\n",
            "MoviePy - Writing audio in /content/Test/audio/audio_650_1300-1302.wav\n"
          ]
        },
        {
          "output_type": "stream",
          "name": "stderr",
          "text": []
        },
        {
          "output_type": "stream",
          "name": "stdout",
          "text": [
            "MoviePy - Done.\n",
            "MoviePy - Writing audio in /content/Test/audio/audio_651_1302-1304.wav\n"
          ]
        },
        {
          "output_type": "stream",
          "name": "stderr",
          "text": []
        },
        {
          "output_type": "stream",
          "name": "stdout",
          "text": [
            "MoviePy - Done.\n",
            "MoviePy - Writing audio in /content/Test/audio/audio_652_1304-1306.wav\n"
          ]
        },
        {
          "output_type": "stream",
          "name": "stderr",
          "text": []
        },
        {
          "output_type": "stream",
          "name": "stdout",
          "text": [
            "MoviePy - Done.\n",
            "MoviePy - Writing audio in /content/Test/audio/audio_653_1306-1308.wav\n"
          ]
        },
        {
          "output_type": "stream",
          "name": "stderr",
          "text": []
        },
        {
          "output_type": "stream",
          "name": "stdout",
          "text": [
            "MoviePy - Done.\n",
            "MoviePy - Writing audio in /content/Test/audio/audio_654_1308-1310.wav\n"
          ]
        },
        {
          "output_type": "stream",
          "name": "stderr",
          "text": []
        },
        {
          "output_type": "stream",
          "name": "stdout",
          "text": [
            "MoviePy - Done.\n",
            "MoviePy - Writing audio in /content/Test/audio/audio_655_1310-1312.wav\n"
          ]
        },
        {
          "output_type": "stream",
          "name": "stderr",
          "text": []
        },
        {
          "output_type": "stream",
          "name": "stdout",
          "text": [
            "MoviePy - Done.\n",
            "MoviePy - Writing audio in /content/Test/audio/audio_656_1312-1314.wav\n"
          ]
        },
        {
          "output_type": "stream",
          "name": "stderr",
          "text": []
        },
        {
          "output_type": "stream",
          "name": "stdout",
          "text": [
            "MoviePy - Done.\n",
            "MoviePy - Writing audio in /content/Test/audio/audio_657_1314-1316.wav\n"
          ]
        },
        {
          "output_type": "stream",
          "name": "stderr",
          "text": []
        },
        {
          "output_type": "stream",
          "name": "stdout",
          "text": [
            "MoviePy - Done.\n",
            "MoviePy - Writing audio in /content/Test/audio/audio_658_1316-1318.wav\n"
          ]
        },
        {
          "output_type": "stream",
          "name": "stderr",
          "text": []
        },
        {
          "output_type": "stream",
          "name": "stdout",
          "text": [
            "MoviePy - Done.\n",
            "MoviePy - Writing audio in /content/Test/audio/audio_659_1318-1320.wav\n"
          ]
        },
        {
          "output_type": "stream",
          "name": "stderr",
          "text": []
        },
        {
          "output_type": "stream",
          "name": "stdout",
          "text": [
            "MoviePy - Done.\n",
            "MoviePy - Writing audio in /content/Test/audio/audio_660_1320-1322.wav\n"
          ]
        },
        {
          "output_type": "stream",
          "name": "stderr",
          "text": []
        },
        {
          "output_type": "stream",
          "name": "stdout",
          "text": [
            "MoviePy - Done.\n",
            "MoviePy - Writing audio in /content/Test/audio/audio_661_1322-1324.wav\n"
          ]
        },
        {
          "output_type": "stream",
          "name": "stderr",
          "text": []
        },
        {
          "output_type": "stream",
          "name": "stdout",
          "text": [
            "MoviePy - Done.\n",
            "MoviePy - Writing audio in /content/Test/audio/audio_662_1324-1326.wav\n"
          ]
        },
        {
          "output_type": "stream",
          "name": "stderr",
          "text": []
        },
        {
          "output_type": "stream",
          "name": "stdout",
          "text": [
            "MoviePy - Done.\n",
            "MoviePy - Writing audio in /content/Test/audio/audio_663_1326-1328.wav\n"
          ]
        },
        {
          "output_type": "stream",
          "name": "stderr",
          "text": []
        },
        {
          "output_type": "stream",
          "name": "stdout",
          "text": [
            "MoviePy - Done.\n",
            "MoviePy - Writing audio in /content/Test/audio/audio_664_1328-1330.wav\n"
          ]
        },
        {
          "output_type": "stream",
          "name": "stderr",
          "text": []
        },
        {
          "output_type": "stream",
          "name": "stdout",
          "text": [
            "MoviePy - Done.\n",
            "MoviePy - Writing audio in /content/Test/audio/audio_665_1330-1332.wav\n"
          ]
        },
        {
          "output_type": "stream",
          "name": "stderr",
          "text": [
            "                                                       "
          ]
        },
        {
          "output_type": "stream",
          "name": "stdout",
          "text": [
            "MoviePy - Done.\n",
            "MoviePy - Writing audio in /content/Test/audio/audio_666_1332-1334.wav"
          ]
        },
        {
          "output_type": "stream",
          "name": "stderr",
          "text": [
            "\r"
          ]
        },
        {
          "output_type": "stream",
          "name": "stdout",
          "text": [
            "\n"
          ]
        },
        {
          "output_type": "stream",
          "name": "stderr",
          "text": []
        },
        {
          "output_type": "stream",
          "name": "stdout",
          "text": [
            "MoviePy - Done.\n",
            "MoviePy - Writing audio in /content/Test/audio/audio_667_1334-1336.wav\n"
          ]
        },
        {
          "output_type": "stream",
          "name": "stderr",
          "text": []
        },
        {
          "output_type": "stream",
          "name": "stdout",
          "text": [
            "MoviePy - Done.\n",
            "MoviePy - Writing audio in /content/Test/audio/audio_668_1336-1338.wav\n"
          ]
        },
        {
          "output_type": "stream",
          "name": "stderr",
          "text": []
        },
        {
          "output_type": "stream",
          "name": "stdout",
          "text": [
            "MoviePy - Done.\n",
            "MoviePy - Writing audio in /content/Test/audio/audio_669_1338-1340.wav\n"
          ]
        },
        {
          "output_type": "stream",
          "name": "stderr",
          "text": []
        },
        {
          "output_type": "stream",
          "name": "stdout",
          "text": [
            "MoviePy - Done.\n",
            "MoviePy - Writing audio in /content/Test/audio/audio_670_1340-1342.wav\n"
          ]
        },
        {
          "output_type": "stream",
          "name": "stderr",
          "text": []
        },
        {
          "output_type": "stream",
          "name": "stdout",
          "text": [
            "MoviePy - Done.\n",
            "MoviePy - Writing audio in /content/Test/audio/audio_671_1342-1344.wav\n"
          ]
        },
        {
          "output_type": "stream",
          "name": "stderr",
          "text": []
        },
        {
          "output_type": "stream",
          "name": "stdout",
          "text": [
            "MoviePy - Done.\n",
            "MoviePy - Writing audio in /content/Test/audio/audio_672_1344-1346.wav\n"
          ]
        },
        {
          "output_type": "stream",
          "name": "stderr",
          "text": []
        },
        {
          "output_type": "stream",
          "name": "stdout",
          "text": [
            "MoviePy - Done.\n",
            "MoviePy - Writing audio in /content/Test/audio/audio_673_1346-1348.wav\n"
          ]
        },
        {
          "output_type": "stream",
          "name": "stderr",
          "text": []
        },
        {
          "output_type": "stream",
          "name": "stdout",
          "text": [
            "MoviePy - Done.\n",
            "MoviePy - Writing audio in /content/Test/audio/audio_674_1348-1350.wav\n"
          ]
        },
        {
          "output_type": "stream",
          "name": "stderr",
          "text": []
        },
        {
          "output_type": "stream",
          "name": "stdout",
          "text": [
            "MoviePy - Done.\n",
            "MoviePy - Writing audio in /content/Test/audio/audio_675_1350-1352.wav\n"
          ]
        },
        {
          "output_type": "stream",
          "name": "stderr",
          "text": []
        },
        {
          "output_type": "stream",
          "name": "stdout",
          "text": [
            "MoviePy - Done.\n",
            "MoviePy - Writing audio in /content/Test/audio/audio_676_1352-1354.wav\n"
          ]
        },
        {
          "output_type": "stream",
          "name": "stderr",
          "text": []
        },
        {
          "output_type": "stream",
          "name": "stdout",
          "text": [
            "MoviePy - Done.\n",
            "MoviePy - Writing audio in /content/Test/audio/audio_677_1354-1356.wav\n"
          ]
        },
        {
          "output_type": "stream",
          "name": "stderr",
          "text": []
        },
        {
          "output_type": "stream",
          "name": "stdout",
          "text": [
            "MoviePy - Done.\n",
            "MoviePy - Writing audio in /content/Test/audio/audio_678_1356-1358.wav\n"
          ]
        },
        {
          "output_type": "stream",
          "name": "stderr",
          "text": []
        },
        {
          "output_type": "stream",
          "name": "stdout",
          "text": [
            "MoviePy - Done.\n",
            "MoviePy - Writing audio in /content/Test/audio/audio_679_1358-1360.wav\n"
          ]
        },
        {
          "output_type": "stream",
          "name": "stderr",
          "text": []
        },
        {
          "output_type": "stream",
          "name": "stdout",
          "text": [
            "MoviePy - Done.\n",
            "MoviePy - Writing audio in /content/Test/audio/audio_680_1360-1362.wav\n"
          ]
        },
        {
          "output_type": "stream",
          "name": "stderr",
          "text": []
        },
        {
          "output_type": "stream",
          "name": "stdout",
          "text": [
            "MoviePy - Done.\n",
            "MoviePy - Writing audio in /content/Test/audio/audio_681_1362-1364.wav\n"
          ]
        },
        {
          "output_type": "stream",
          "name": "stderr",
          "text": []
        },
        {
          "output_type": "stream",
          "name": "stdout",
          "text": [
            "MoviePy - Done.\n",
            "MoviePy - Writing audio in /content/Test/audio/audio_682_1364-1366.wav\n"
          ]
        },
        {
          "output_type": "stream",
          "name": "stderr",
          "text": []
        },
        {
          "output_type": "stream",
          "name": "stdout",
          "text": [
            "MoviePy - Done.\n",
            "MoviePy - Writing audio in /content/Test/audio/audio_683_1366-1368.wav\n"
          ]
        },
        {
          "output_type": "stream",
          "name": "stderr",
          "text": []
        },
        {
          "output_type": "stream",
          "name": "stdout",
          "text": [
            "MoviePy - Done.\n",
            "MoviePy - Writing audio in /content/Test/audio/audio_684_1368-1370.wav\n"
          ]
        },
        {
          "output_type": "stream",
          "name": "stderr",
          "text": []
        },
        {
          "output_type": "stream",
          "name": "stdout",
          "text": [
            "MoviePy - Done.\n",
            "MoviePy - Writing audio in /content/Test/audio/audio_685_1370-1372.wav\n"
          ]
        },
        {
          "output_type": "stream",
          "name": "stderr",
          "text": []
        },
        {
          "output_type": "stream",
          "name": "stdout",
          "text": [
            "MoviePy - Done.\n",
            "MoviePy - Writing audio in /content/Test/audio/audio_686_1372-1374.wav\n"
          ]
        },
        {
          "output_type": "stream",
          "name": "stderr",
          "text": []
        },
        {
          "output_type": "stream",
          "name": "stdout",
          "text": [
            "MoviePy - Done.\n",
            "MoviePy - Writing audio in /content/Test/audio/audio_687_1374-1376.wav\n"
          ]
        },
        {
          "output_type": "stream",
          "name": "stderr",
          "text": []
        },
        {
          "output_type": "stream",
          "name": "stdout",
          "text": [
            "MoviePy - Done.\n",
            "MoviePy - Writing audio in /content/Test/audio/audio_688_1376-1378.wav\n"
          ]
        },
        {
          "output_type": "stream",
          "name": "stderr",
          "text": []
        },
        {
          "output_type": "stream",
          "name": "stdout",
          "text": [
            "MoviePy - Done.\n",
            "MoviePy - Writing audio in /content/Test/audio/audio_689_1378-1380.wav\n"
          ]
        },
        {
          "output_type": "stream",
          "name": "stderr",
          "text": []
        },
        {
          "output_type": "stream",
          "name": "stdout",
          "text": [
            "MoviePy - Done.\n",
            "MoviePy - Writing audio in /content/Test/audio/audio_690_1380-1382.wav\n"
          ]
        },
        {
          "output_type": "stream",
          "name": "stderr",
          "text": []
        },
        {
          "output_type": "stream",
          "name": "stdout",
          "text": [
            "MoviePy - Done.\n",
            "MoviePy - Writing audio in /content/Test/audio/audio_691_1382-1384.wav\n"
          ]
        },
        {
          "output_type": "stream",
          "name": "stderr",
          "text": []
        },
        {
          "output_type": "stream",
          "name": "stdout",
          "text": [
            "MoviePy - Done.\n",
            "MoviePy - Writing audio in /content/Test/audio/audio_692_1384-1386.wav\n"
          ]
        },
        {
          "output_type": "stream",
          "name": "stderr",
          "text": []
        },
        {
          "output_type": "stream",
          "name": "stdout",
          "text": [
            "MoviePy - Done.\n",
            "MoviePy - Writing audio in /content/Test/audio/audio_693_1386-1388.wav\n"
          ]
        },
        {
          "output_type": "stream",
          "name": "stderr",
          "text": []
        },
        {
          "output_type": "stream",
          "name": "stdout",
          "text": [
            "MoviePy - Done.\n",
            "MoviePy - Writing audio in /content/Test/audio/audio_694_1388-1390.wav\n"
          ]
        },
        {
          "output_type": "stream",
          "name": "stderr",
          "text": []
        },
        {
          "output_type": "stream",
          "name": "stdout",
          "text": [
            "MoviePy - Done.\n",
            "MoviePy - Writing audio in /content/Test/audio/audio_695_1390-1392.wav\n"
          ]
        },
        {
          "output_type": "stream",
          "name": "stderr",
          "text": []
        },
        {
          "output_type": "stream",
          "name": "stdout",
          "text": [
            "MoviePy - Done.\n",
            "MoviePy - Writing audio in /content/Test/audio/audio_696_1392-1394.wav\n"
          ]
        },
        {
          "output_type": "stream",
          "name": "stderr",
          "text": []
        },
        {
          "output_type": "stream",
          "name": "stdout",
          "text": [
            "MoviePy - Done.\n",
            "MoviePy - Writing audio in /content/Test/audio/audio_697_1394-1396.wav\n"
          ]
        },
        {
          "output_type": "stream",
          "name": "stderr",
          "text": []
        },
        {
          "output_type": "stream",
          "name": "stdout",
          "text": [
            "MoviePy - Done.\n",
            "MoviePy - Writing audio in /content/Test/audio/audio_698_1396-1398.wav\n"
          ]
        },
        {
          "output_type": "stream",
          "name": "stderr",
          "text": []
        },
        {
          "output_type": "stream",
          "name": "stdout",
          "text": [
            "MoviePy - Done.\n",
            "MoviePy - Writing audio in /content/Test/audio/audio_699_1398-1400.wav\n"
          ]
        },
        {
          "output_type": "stream",
          "name": "stderr",
          "text": []
        },
        {
          "output_type": "stream",
          "name": "stdout",
          "text": [
            "MoviePy - Done.\n",
            "MoviePy - Writing audio in /content/Test/audio/audio_700_1400-1402.wav\n"
          ]
        },
        {
          "output_type": "stream",
          "name": "stderr",
          "text": []
        },
        {
          "output_type": "stream",
          "name": "stdout",
          "text": [
            "MoviePy - Done.\n",
            "MoviePy - Writing audio in /content/Test/audio/audio_701_1402-1404.wav\n"
          ]
        },
        {
          "output_type": "stream",
          "name": "stderr",
          "text": []
        },
        {
          "output_type": "stream",
          "name": "stdout",
          "text": [
            "MoviePy - Done.\n",
            "MoviePy - Writing audio in /content/Test/audio/audio_702_1404-1406.wav\n"
          ]
        },
        {
          "output_type": "stream",
          "name": "stderr",
          "text": []
        },
        {
          "output_type": "stream",
          "name": "stdout",
          "text": [
            "MoviePy - Done.\n",
            "MoviePy - Writing audio in /content/Test/audio/audio_703_1406-1408.wav\n"
          ]
        },
        {
          "output_type": "stream",
          "name": "stderr",
          "text": []
        },
        {
          "output_type": "stream",
          "name": "stdout",
          "text": [
            "MoviePy - Done.\n",
            "MoviePy - Writing audio in /content/Test/audio/audio_704_1408-1410.wav\n"
          ]
        },
        {
          "output_type": "stream",
          "name": "stderr",
          "text": []
        },
        {
          "output_type": "stream",
          "name": "stdout",
          "text": [
            "MoviePy - Done.\n",
            "MoviePy - Writing audio in /content/Test/audio/audio_705_1410-1412.wav\n"
          ]
        },
        {
          "output_type": "stream",
          "name": "stderr",
          "text": []
        },
        {
          "output_type": "stream",
          "name": "stdout",
          "text": [
            "MoviePy - Done.\n",
            "MoviePy - Writing audio in /content/Test/audio/audio_706_1412-1414.wav\n"
          ]
        },
        {
          "output_type": "stream",
          "name": "stderr",
          "text": []
        },
        {
          "output_type": "stream",
          "name": "stdout",
          "text": [
            "MoviePy - Done.\n",
            "MoviePy - Writing audio in /content/Test/audio/audio_707_1414-1416.wav\n"
          ]
        },
        {
          "output_type": "stream",
          "name": "stderr",
          "text": []
        },
        {
          "output_type": "stream",
          "name": "stdout",
          "text": [
            "MoviePy - Done.\n",
            "MoviePy - Writing audio in /content/Test/audio/audio_708_1416-1418.wav\n"
          ]
        },
        {
          "output_type": "stream",
          "name": "stderr",
          "text": []
        },
        {
          "output_type": "stream",
          "name": "stdout",
          "text": [
            "MoviePy - Done.\n",
            "MoviePy - Writing audio in /content/Test/audio/audio_709_1418-1420.wav\n"
          ]
        },
        {
          "output_type": "stream",
          "name": "stderr",
          "text": []
        },
        {
          "output_type": "stream",
          "name": "stdout",
          "text": [
            "MoviePy - Done.\n",
            "MoviePy - Writing audio in /content/Test/audio/audio_710_1420-1422.wav\n"
          ]
        },
        {
          "output_type": "stream",
          "name": "stderr",
          "text": []
        },
        {
          "output_type": "stream",
          "name": "stdout",
          "text": [
            "MoviePy - Done.\n",
            "MoviePy - Writing audio in /content/Test/audio/audio_711_1422-1424.wav\n"
          ]
        },
        {
          "output_type": "stream",
          "name": "stderr",
          "text": []
        },
        {
          "output_type": "stream",
          "name": "stdout",
          "text": [
            "MoviePy - Done.\n",
            "MoviePy - Writing audio in /content/Test/audio/audio_712_1424-1426.wav\n"
          ]
        },
        {
          "output_type": "stream",
          "name": "stderr",
          "text": []
        },
        {
          "output_type": "stream",
          "name": "stdout",
          "text": [
            "MoviePy - Done.\n",
            "MoviePy - Writing audio in /content/Test/audio/audio_713_1426-1428.wav\n"
          ]
        },
        {
          "output_type": "stream",
          "name": "stderr",
          "text": []
        },
        {
          "output_type": "stream",
          "name": "stdout",
          "text": [
            "MoviePy - Done.\n",
            "MoviePy - Writing audio in /content/Test/audio/audio_714_1428-1430.wav\n"
          ]
        },
        {
          "output_type": "stream",
          "name": "stderr",
          "text": []
        },
        {
          "output_type": "stream",
          "name": "stdout",
          "text": [
            "MoviePy - Done.\n",
            "MoviePy - Writing audio in /content/Test/audio/audio_715_1430-1432.wav\n"
          ]
        },
        {
          "output_type": "stream",
          "name": "stderr",
          "text": []
        },
        {
          "output_type": "stream",
          "name": "stdout",
          "text": [
            "MoviePy - Done.\n",
            "MoviePy - Writing audio in /content/Test/audio/audio_716_1432-1434.wav\n"
          ]
        },
        {
          "output_type": "stream",
          "name": "stderr",
          "text": []
        },
        {
          "output_type": "stream",
          "name": "stdout",
          "text": [
            "MoviePy - Done.\n",
            "MoviePy - Writing audio in /content/Test/audio/audio_717_1434-1436.wav\n"
          ]
        },
        {
          "output_type": "stream",
          "name": "stderr",
          "text": []
        },
        {
          "output_type": "stream",
          "name": "stdout",
          "text": [
            "MoviePy - Done.\n",
            "MoviePy - Writing audio in /content/Test/audio/audio_718_1436-1438.wav\n"
          ]
        },
        {
          "output_type": "stream",
          "name": "stderr",
          "text": []
        },
        {
          "output_type": "stream",
          "name": "stdout",
          "text": [
            "MoviePy - Done.\n",
            "MoviePy - Writing audio in /content/Test/audio/audio_719_1438-1440.wav\n"
          ]
        },
        {
          "output_type": "stream",
          "name": "stderr",
          "text": []
        },
        {
          "output_type": "stream",
          "name": "stdout",
          "text": [
            "MoviePy - Done.\n",
            "MoviePy - Writing audio in /content/Test/audio/audio_720_1440-1442.wav\n"
          ]
        },
        {
          "output_type": "stream",
          "name": "stderr",
          "text": []
        },
        {
          "output_type": "stream",
          "name": "stdout",
          "text": [
            "MoviePy - Done.\n",
            "MoviePy - Writing audio in /content/Test/audio/audio_721_1442-1444.wav\n"
          ]
        },
        {
          "output_type": "stream",
          "name": "stderr",
          "text": []
        },
        {
          "output_type": "stream",
          "name": "stdout",
          "text": [
            "MoviePy - Done.\n",
            "MoviePy - Writing audio in /content/Test/audio/audio_722_1444-1446.wav\n"
          ]
        },
        {
          "output_type": "stream",
          "name": "stderr",
          "text": []
        },
        {
          "output_type": "stream",
          "name": "stdout",
          "text": [
            "MoviePy - Done.\n",
            "MoviePy - Writing audio in /content/Test/audio/audio_723_1446-1448.wav\n"
          ]
        },
        {
          "output_type": "stream",
          "name": "stderr",
          "text": []
        },
        {
          "output_type": "stream",
          "name": "stdout",
          "text": [
            "MoviePy - Done.\n",
            "MoviePy - Writing audio in /content/Test/audio/audio_724_1448-1450.wav\n"
          ]
        },
        {
          "output_type": "stream",
          "name": "stderr",
          "text": []
        },
        {
          "output_type": "stream",
          "name": "stdout",
          "text": [
            "MoviePy - Done.\n",
            "MoviePy - Writing audio in /content/Test/audio/audio_725_1450-1452.wav\n"
          ]
        },
        {
          "output_type": "stream",
          "name": "stderr",
          "text": []
        },
        {
          "output_type": "stream",
          "name": "stdout",
          "text": [
            "MoviePy - Done.\n",
            "MoviePy - Writing audio in /content/Test/audio/audio_726_1452-1454.wav\n"
          ]
        },
        {
          "output_type": "stream",
          "name": "stderr",
          "text": []
        },
        {
          "output_type": "stream",
          "name": "stdout",
          "text": [
            "MoviePy - Done.\n",
            "MoviePy - Writing audio in /content/Test/audio/audio_727_1454-1456.wav\n"
          ]
        },
        {
          "output_type": "stream",
          "name": "stderr",
          "text": []
        },
        {
          "output_type": "stream",
          "name": "stdout",
          "text": [
            "MoviePy - Done.\n",
            "MoviePy - Writing audio in /content/Test/audio/audio_728_1456-1458.wav\n"
          ]
        },
        {
          "output_type": "stream",
          "name": "stderr",
          "text": []
        },
        {
          "output_type": "stream",
          "name": "stdout",
          "text": [
            "MoviePy - Done.\n",
            "MoviePy - Writing audio in /content/Test/audio/audio_729_1458-1460.wav\n"
          ]
        },
        {
          "output_type": "stream",
          "name": "stderr",
          "text": []
        },
        {
          "output_type": "stream",
          "name": "stdout",
          "text": [
            "MoviePy - Done.\n",
            "MoviePy - Writing audio in /content/Test/audio/audio_730_1460-1462.wav\n"
          ]
        },
        {
          "output_type": "stream",
          "name": "stderr",
          "text": []
        },
        {
          "output_type": "stream",
          "name": "stdout",
          "text": [
            "MoviePy - Done.\n",
            "MoviePy - Writing audio in /content/Test/audio/audio_731_1462-1464.wav\n"
          ]
        },
        {
          "output_type": "stream",
          "name": "stderr",
          "text": []
        },
        {
          "output_type": "stream",
          "name": "stdout",
          "text": [
            "MoviePy - Done.\n",
            "MoviePy - Writing audio in /content/Test/audio/audio_732_1464-1466.wav\n"
          ]
        },
        {
          "output_type": "stream",
          "name": "stderr",
          "text": []
        },
        {
          "output_type": "stream",
          "name": "stdout",
          "text": [
            "MoviePy - Done.\n",
            "MoviePy - Writing audio in /content/Test/audio/audio_733_1466-1468.wav\n"
          ]
        },
        {
          "output_type": "stream",
          "name": "stderr",
          "text": []
        },
        {
          "output_type": "stream",
          "name": "stdout",
          "text": [
            "MoviePy - Done.\n",
            "MoviePy - Writing audio in /content/Test/audio/audio_734_1468-1470.wav\n"
          ]
        },
        {
          "output_type": "stream",
          "name": "stderr",
          "text": []
        },
        {
          "output_type": "stream",
          "name": "stdout",
          "text": [
            "MoviePy - Done.\n",
            "MoviePy - Writing audio in /content/Test/audio/audio_735_1470-1472.wav\n"
          ]
        },
        {
          "output_type": "stream",
          "name": "stderr",
          "text": []
        },
        {
          "output_type": "stream",
          "name": "stdout",
          "text": [
            "MoviePy - Done.\n",
            "MoviePy - Writing audio in /content/Test/audio/audio_736_1472-1474.wav\n"
          ]
        },
        {
          "output_type": "stream",
          "name": "stderr",
          "text": []
        },
        {
          "output_type": "stream",
          "name": "stdout",
          "text": [
            "MoviePy - Done.\n",
            "MoviePy - Writing audio in /content/Test/audio/audio_737_1474-1476.wav\n"
          ]
        },
        {
          "output_type": "stream",
          "name": "stderr",
          "text": []
        },
        {
          "output_type": "stream",
          "name": "stdout",
          "text": [
            "MoviePy - Done.\n",
            "MoviePy - Writing audio in /content/Test/audio/audio_738_1476-1478.wav\n"
          ]
        },
        {
          "output_type": "stream",
          "name": "stderr",
          "text": []
        },
        {
          "output_type": "stream",
          "name": "stdout",
          "text": [
            "MoviePy - Done.\n",
            "MoviePy - Writing audio in /content/Test/audio/audio_739_1478-1480.wav\n"
          ]
        },
        {
          "output_type": "stream",
          "name": "stderr",
          "text": []
        },
        {
          "output_type": "stream",
          "name": "stdout",
          "text": [
            "MoviePy - Done.\n",
            "MoviePy - Writing audio in /content/Test/audio/audio_740_1480-1482.wav\n"
          ]
        },
        {
          "output_type": "stream",
          "name": "stderr",
          "text": []
        },
        {
          "output_type": "stream",
          "name": "stdout",
          "text": [
            "MoviePy - Done.\n",
            "MoviePy - Writing audio in /content/Test/audio/audio_741_1482-1484.wav\n"
          ]
        },
        {
          "output_type": "stream",
          "name": "stderr",
          "text": []
        },
        {
          "output_type": "stream",
          "name": "stdout",
          "text": [
            "MoviePy - Done.\n",
            "MoviePy - Writing audio in /content/Test/audio/audio_742_1484-1486.wav\n"
          ]
        },
        {
          "output_type": "stream",
          "name": "stderr",
          "text": []
        },
        {
          "output_type": "stream",
          "name": "stdout",
          "text": [
            "MoviePy - Done.\n",
            "MoviePy - Writing audio in /content/Test/audio/audio_743_1486-1488.wav\n"
          ]
        },
        {
          "output_type": "stream",
          "name": "stderr",
          "text": []
        },
        {
          "output_type": "stream",
          "name": "stdout",
          "text": [
            "MoviePy - Done.\n",
            "MoviePy - Writing audio in /content/Test/audio/audio_744_1488-1490.wav\n"
          ]
        },
        {
          "output_type": "stream",
          "name": "stderr",
          "text": []
        },
        {
          "output_type": "stream",
          "name": "stdout",
          "text": [
            "MoviePy - Done.\n",
            "MoviePy - Writing audio in /content/Test/audio/audio_745_1490-1492.wav\n"
          ]
        },
        {
          "output_type": "stream",
          "name": "stderr",
          "text": []
        },
        {
          "output_type": "stream",
          "name": "stdout",
          "text": [
            "MoviePy - Done.\n",
            "MoviePy - Writing audio in /content/Test/audio/audio_746_1492-1494.wav\n"
          ]
        },
        {
          "output_type": "stream",
          "name": "stderr",
          "text": []
        },
        {
          "output_type": "stream",
          "name": "stdout",
          "text": [
            "MoviePy - Done.\n",
            "MoviePy - Writing audio in /content/Test/audio/audio_747_1494-1496.wav\n"
          ]
        },
        {
          "output_type": "stream",
          "name": "stderr",
          "text": []
        },
        {
          "output_type": "stream",
          "name": "stdout",
          "text": [
            "MoviePy - Done.\n",
            "MoviePy - Writing audio in /content/Test/audio/audio_748_1496-1498.wav\n"
          ]
        },
        {
          "output_type": "stream",
          "name": "stderr",
          "text": []
        },
        {
          "output_type": "stream",
          "name": "stdout",
          "text": [
            "MoviePy - Done.\n",
            "MoviePy - Writing audio in /content/Test/audio/audio_749_1498-1500.wav\n"
          ]
        },
        {
          "output_type": "stream",
          "name": "stderr",
          "text": []
        },
        {
          "output_type": "stream",
          "name": "stdout",
          "text": [
            "MoviePy - Done.\n",
            "MoviePy - Writing audio in /content/Test/audio/audio_750_1500-1502.wav\n"
          ]
        },
        {
          "output_type": "stream",
          "name": "stderr",
          "text": []
        },
        {
          "output_type": "stream",
          "name": "stdout",
          "text": [
            "MoviePy - Done.\n",
            "MoviePy - Writing audio in /content/Test/audio/audio_751_1502-1504.wav\n"
          ]
        },
        {
          "output_type": "stream",
          "name": "stderr",
          "text": []
        },
        {
          "output_type": "stream",
          "name": "stdout",
          "text": [
            "MoviePy - Done.\n",
            "MoviePy - Writing audio in /content/Test/audio/audio_752_1504-1506.wav\n"
          ]
        },
        {
          "output_type": "stream",
          "name": "stderr",
          "text": []
        },
        {
          "output_type": "stream",
          "name": "stdout",
          "text": [
            "MoviePy - Done.\n",
            "MoviePy - Writing audio in /content/Test/audio/audio_753_1506-1508.wav\n"
          ]
        },
        {
          "output_type": "stream",
          "name": "stderr",
          "text": []
        },
        {
          "output_type": "stream",
          "name": "stdout",
          "text": [
            "MoviePy - Done.\n",
            "MoviePy - Writing audio in /content/Test/audio/audio_754_1508-1510.wav\n"
          ]
        },
        {
          "output_type": "stream",
          "name": "stderr",
          "text": []
        },
        {
          "output_type": "stream",
          "name": "stdout",
          "text": [
            "MoviePy - Done.\n",
            "MoviePy - Writing audio in /content/Test/audio/audio_755_1510-1512.wav\n"
          ]
        },
        {
          "output_type": "stream",
          "name": "stderr",
          "text": []
        },
        {
          "output_type": "stream",
          "name": "stdout",
          "text": [
            "MoviePy - Done.\n",
            "MoviePy - Writing audio in /content/Test/audio/audio_756_1512-1514.wav\n"
          ]
        },
        {
          "output_type": "stream",
          "name": "stderr",
          "text": []
        },
        {
          "output_type": "stream",
          "name": "stdout",
          "text": [
            "MoviePy - Done.\n",
            "MoviePy - Writing audio in /content/Test/audio/audio_757_1514-1516.wav\n"
          ]
        },
        {
          "output_type": "stream",
          "name": "stderr",
          "text": []
        },
        {
          "output_type": "stream",
          "name": "stdout",
          "text": [
            "MoviePy - Done.\n",
            "MoviePy - Writing audio in /content/Test/audio/audio_758_1516-1518.wav\n"
          ]
        },
        {
          "output_type": "stream",
          "name": "stderr",
          "text": []
        },
        {
          "output_type": "stream",
          "name": "stdout",
          "text": [
            "MoviePy - Done.\n",
            "MoviePy - Writing audio in /content/Test/audio/audio_759_1518-1520.wav\n"
          ]
        },
        {
          "output_type": "stream",
          "name": "stderr",
          "text": []
        },
        {
          "output_type": "stream",
          "name": "stdout",
          "text": [
            "MoviePy - Done.\n",
            "MoviePy - Writing audio in /content/Test/audio/audio_760_1520-1522.wav\n"
          ]
        },
        {
          "output_type": "stream",
          "name": "stderr",
          "text": []
        },
        {
          "output_type": "stream",
          "name": "stdout",
          "text": [
            "MoviePy - Done.\n",
            "MoviePy - Writing audio in /content/Test/audio/audio_761_1522-1524.wav\n"
          ]
        },
        {
          "output_type": "stream",
          "name": "stderr",
          "text": []
        },
        {
          "output_type": "stream",
          "name": "stdout",
          "text": [
            "MoviePy - Done.\n",
            "MoviePy - Writing audio in /content/Test/audio/audio_762_1524-1526.wav\n"
          ]
        },
        {
          "output_type": "stream",
          "name": "stderr",
          "text": []
        },
        {
          "output_type": "stream",
          "name": "stdout",
          "text": [
            "MoviePy - Done.\n",
            "MoviePy - Writing audio in /content/Test/audio/audio_763_1526-1528.wav\n"
          ]
        },
        {
          "output_type": "stream",
          "name": "stderr",
          "text": []
        },
        {
          "output_type": "stream",
          "name": "stdout",
          "text": [
            "MoviePy - Done.\n",
            "MoviePy - Writing audio in /content/Test/audio/audio_764_1528-1530.wav\n"
          ]
        },
        {
          "output_type": "stream",
          "name": "stderr",
          "text": []
        },
        {
          "output_type": "stream",
          "name": "stdout",
          "text": [
            "MoviePy - Done.\n",
            "MoviePy - Writing audio in /content/Test/audio/audio_765_1530-1532.wav\n"
          ]
        },
        {
          "output_type": "stream",
          "name": "stderr",
          "text": []
        },
        {
          "output_type": "stream",
          "name": "stdout",
          "text": [
            "MoviePy - Done.\n",
            "MoviePy - Writing audio in /content/Test/audio/audio_766_1532-1534.wav\n"
          ]
        },
        {
          "output_type": "stream",
          "name": "stderr",
          "text": []
        },
        {
          "output_type": "stream",
          "name": "stdout",
          "text": [
            "MoviePy - Done.\n",
            "MoviePy - Writing audio in /content/Test/audio/audio_767_1534-1536.wav\n"
          ]
        },
        {
          "output_type": "stream",
          "name": "stderr",
          "text": []
        },
        {
          "output_type": "stream",
          "name": "stdout",
          "text": [
            "MoviePy - Done.\n",
            "MoviePy - Writing audio in /content/Test/audio/audio_768_1536-1538.wav\n"
          ]
        },
        {
          "output_type": "stream",
          "name": "stderr",
          "text": []
        },
        {
          "output_type": "stream",
          "name": "stdout",
          "text": [
            "MoviePy - Done.\n",
            "MoviePy - Writing audio in /content/Test/audio/audio_769_1538-1540.wav\n"
          ]
        },
        {
          "output_type": "stream",
          "name": "stderr",
          "text": []
        },
        {
          "output_type": "stream",
          "name": "stdout",
          "text": [
            "MoviePy - Done.\n",
            "MoviePy - Writing audio in /content/Test/audio/audio_770_1540-1542.wav\n"
          ]
        },
        {
          "output_type": "stream",
          "name": "stderr",
          "text": []
        },
        {
          "output_type": "stream",
          "name": "stdout",
          "text": [
            "MoviePy - Done.\n",
            "MoviePy - Writing audio in /content/Test/audio/audio_771_1542-1544.wav\n"
          ]
        },
        {
          "output_type": "stream",
          "name": "stderr",
          "text": []
        },
        {
          "output_type": "stream",
          "name": "stdout",
          "text": [
            "MoviePy - Done.\n",
            "MoviePy - Writing audio in /content/Test/audio/audio_772_1544-1546.wav\n"
          ]
        },
        {
          "output_type": "stream",
          "name": "stderr",
          "text": []
        },
        {
          "output_type": "stream",
          "name": "stdout",
          "text": [
            "MoviePy - Done.\n",
            "MoviePy - Writing audio in /content/Test/audio/audio_773_1546-1548.wav\n"
          ]
        },
        {
          "output_type": "stream",
          "name": "stderr",
          "text": []
        },
        {
          "output_type": "stream",
          "name": "stdout",
          "text": [
            "MoviePy - Done.\n",
            "MoviePy - Writing audio in /content/Test/audio/audio_774_1548-1550.wav\n"
          ]
        },
        {
          "output_type": "stream",
          "name": "stderr",
          "text": []
        },
        {
          "output_type": "stream",
          "name": "stdout",
          "text": [
            "MoviePy - Done.\n",
            "MoviePy - Writing audio in /content/Test/audio/audio_775_1550-1552.wav\n"
          ]
        },
        {
          "output_type": "stream",
          "name": "stderr",
          "text": []
        },
        {
          "output_type": "stream",
          "name": "stdout",
          "text": [
            "MoviePy - Done.\n",
            "MoviePy - Writing audio in /content/Test/audio/audio_776_1552-1554.wav\n"
          ]
        },
        {
          "output_type": "stream",
          "name": "stderr",
          "text": []
        },
        {
          "output_type": "stream",
          "name": "stdout",
          "text": [
            "MoviePy - Done.\n",
            "MoviePy - Writing audio in /content/Test/audio/audio_777_1554-1556.wav\n"
          ]
        },
        {
          "output_type": "stream",
          "name": "stderr",
          "text": []
        },
        {
          "output_type": "stream",
          "name": "stdout",
          "text": [
            "MoviePy - Done.\n",
            "MoviePy - Writing audio in /content/Test/audio/audio_778_1556-1558.wav\n"
          ]
        },
        {
          "output_type": "stream",
          "name": "stderr",
          "text": []
        },
        {
          "output_type": "stream",
          "name": "stdout",
          "text": [
            "MoviePy - Done.\n",
            "MoviePy - Writing audio in /content/Test/audio/audio_779_1558-1560.wav\n"
          ]
        },
        {
          "output_type": "stream",
          "name": "stderr",
          "text": []
        },
        {
          "output_type": "stream",
          "name": "stdout",
          "text": [
            "MoviePy - Done.\n",
            "MoviePy - Writing audio in /content/Test/audio/audio_780_1560-1562.wav\n"
          ]
        },
        {
          "output_type": "stream",
          "name": "stderr",
          "text": []
        },
        {
          "output_type": "stream",
          "name": "stdout",
          "text": [
            "MoviePy - Done.\n",
            "MoviePy - Writing audio in /content/Test/audio/audio_781_1562-1564.wav\n"
          ]
        },
        {
          "output_type": "stream",
          "name": "stderr",
          "text": []
        },
        {
          "output_type": "stream",
          "name": "stdout",
          "text": [
            "MoviePy - Done.\n",
            "MoviePy - Writing audio in /content/Test/audio/audio_782_1564-1566.wav\n"
          ]
        },
        {
          "output_type": "stream",
          "name": "stderr",
          "text": []
        },
        {
          "output_type": "stream",
          "name": "stdout",
          "text": [
            "MoviePy - Done.\n",
            "MoviePy - Writing audio in /content/Test/audio/audio_783_1566-1568.wav\n"
          ]
        },
        {
          "output_type": "stream",
          "name": "stderr",
          "text": []
        },
        {
          "output_type": "stream",
          "name": "stdout",
          "text": [
            "MoviePy - Done.\n",
            "MoviePy - Writing audio in /content/Test/audio/audio_784_1568-1570.wav\n"
          ]
        },
        {
          "output_type": "stream",
          "name": "stderr",
          "text": []
        },
        {
          "output_type": "stream",
          "name": "stdout",
          "text": [
            "MoviePy - Done.\n",
            "MoviePy - Writing audio in /content/Test/audio/audio_785_1570-1572.wav\n"
          ]
        },
        {
          "output_type": "stream",
          "name": "stderr",
          "text": []
        },
        {
          "output_type": "stream",
          "name": "stdout",
          "text": [
            "MoviePy - Done.\n",
            "MoviePy - Writing audio in /content/Test/audio/audio_786_1572-1574.wav\n"
          ]
        },
        {
          "output_type": "stream",
          "name": "stderr",
          "text": []
        },
        {
          "output_type": "stream",
          "name": "stdout",
          "text": [
            "MoviePy - Done.\n",
            "MoviePy - Writing audio in /content/Test/audio/audio_787_1574-1576.wav\n"
          ]
        },
        {
          "output_type": "stream",
          "name": "stderr",
          "text": []
        },
        {
          "output_type": "stream",
          "name": "stdout",
          "text": [
            "MoviePy - Done.\n",
            "MoviePy - Writing audio in /content/Test/audio/audio_788_1576-1578.wav\n"
          ]
        },
        {
          "output_type": "stream",
          "name": "stderr",
          "text": []
        },
        {
          "output_type": "stream",
          "name": "stdout",
          "text": [
            "MoviePy - Done.\n",
            "MoviePy - Writing audio in /content/Test/audio/audio_789_1578-1580.wav\n"
          ]
        },
        {
          "output_type": "stream",
          "name": "stderr",
          "text": []
        },
        {
          "output_type": "stream",
          "name": "stdout",
          "text": [
            "MoviePy - Done.\n",
            "MoviePy - Writing audio in /content/Test/audio/audio_790_1580-1582.wav\n"
          ]
        },
        {
          "output_type": "stream",
          "name": "stderr",
          "text": []
        },
        {
          "output_type": "stream",
          "name": "stdout",
          "text": [
            "MoviePy - Done.\n",
            "MoviePy - Writing audio in /content/Test/audio/audio_791_1582-1584.wav\n"
          ]
        },
        {
          "output_type": "stream",
          "name": "stderr",
          "text": []
        },
        {
          "output_type": "stream",
          "name": "stdout",
          "text": [
            "MoviePy - Done.\n",
            "MoviePy - Writing audio in /content/Test/audio/audio_792_1584-1586.wav\n"
          ]
        },
        {
          "output_type": "stream",
          "name": "stderr",
          "text": []
        },
        {
          "output_type": "stream",
          "name": "stdout",
          "text": [
            "MoviePy - Done.\n",
            "MoviePy - Writing audio in /content/Test/audio/audio_793_1586-1588.wav\n"
          ]
        },
        {
          "output_type": "stream",
          "name": "stderr",
          "text": []
        },
        {
          "output_type": "stream",
          "name": "stdout",
          "text": [
            "MoviePy - Done.\n",
            "MoviePy - Writing audio in /content/Test/audio/audio_794_1588-1590.wav\n"
          ]
        },
        {
          "output_type": "stream",
          "name": "stderr",
          "text": []
        },
        {
          "output_type": "stream",
          "name": "stdout",
          "text": [
            "MoviePy - Done.\n",
            "MoviePy - Writing audio in /content/Test/audio/audio_795_1590-1592.wav\n"
          ]
        },
        {
          "output_type": "stream",
          "name": "stderr",
          "text": []
        },
        {
          "output_type": "stream",
          "name": "stdout",
          "text": [
            "MoviePy - Done.\n",
            "MoviePy - Writing audio in /content/Test/audio/audio_796_1592-1594.wav\n"
          ]
        },
        {
          "output_type": "stream",
          "name": "stderr",
          "text": []
        },
        {
          "output_type": "stream",
          "name": "stdout",
          "text": [
            "MoviePy - Done.\n",
            "MoviePy - Writing audio in /content/Test/audio/audio_797_1594-1596.wav\n"
          ]
        },
        {
          "output_type": "stream",
          "name": "stderr",
          "text": [
            "                                                       "
          ]
        },
        {
          "output_type": "stream",
          "name": "stdout",
          "text": [
            "MoviePy - Done.\n",
            "MoviePy - Writing audio in /content/Test/audio/audio_798_1596-1598.wav\n"
          ]
        },
        {
          "output_type": "stream",
          "name": "stderr",
          "text": []
        },
        {
          "output_type": "stream",
          "name": "stdout",
          "text": [
            "MoviePy - Done.\n",
            "MoviePy - Writing audio in /content/Test/audio/audio_799_1598-1600.wav\n"
          ]
        },
        {
          "output_type": "stream",
          "name": "stderr",
          "text": []
        },
        {
          "output_type": "stream",
          "name": "stdout",
          "text": [
            "MoviePy - Done.\n",
            "MoviePy - Writing audio in /content/Test/audio/audio_800_1600-1602.wav\n"
          ]
        },
        {
          "output_type": "stream",
          "name": "stderr",
          "text": []
        },
        {
          "output_type": "stream",
          "name": "stdout",
          "text": [
            "MoviePy - Done.\n",
            "MoviePy - Writing audio in /content/Test/audio/audio_801_1602-1604.wav\n"
          ]
        },
        {
          "output_type": "stream",
          "name": "stderr",
          "text": []
        },
        {
          "output_type": "stream",
          "name": "stdout",
          "text": [
            "MoviePy - Done.\n",
            "MoviePy - Writing audio in /content/Test/audio/audio_802_1604-1606.wav\n"
          ]
        },
        {
          "output_type": "stream",
          "name": "stderr",
          "text": []
        },
        {
          "output_type": "stream",
          "name": "stdout",
          "text": [
            "MoviePy - Done.\n",
            "MoviePy - Writing audio in /content/Test/audio/audio_803_1606-1608.wav\n"
          ]
        },
        {
          "output_type": "stream",
          "name": "stderr",
          "text": []
        },
        {
          "output_type": "stream",
          "name": "stdout",
          "text": [
            "MoviePy - Done.\n",
            "MoviePy - Writing audio in /content/Test/audio/audio_804_1608-1610.wav\n"
          ]
        },
        {
          "output_type": "stream",
          "name": "stderr",
          "text": []
        },
        {
          "output_type": "stream",
          "name": "stdout",
          "text": [
            "MoviePy - Done.\n",
            "MoviePy - Writing audio in /content/Test/audio/audio_805_1610-1612.wav\n"
          ]
        },
        {
          "output_type": "stream",
          "name": "stderr",
          "text": []
        },
        {
          "output_type": "stream",
          "name": "stdout",
          "text": [
            "MoviePy - Done.\n",
            "MoviePy - Writing audio in /content/Test/audio/audio_806_1612-1614.wav\n"
          ]
        },
        {
          "output_type": "stream",
          "name": "stderr",
          "text": []
        },
        {
          "output_type": "stream",
          "name": "stdout",
          "text": [
            "MoviePy - Done.\n",
            "MoviePy - Writing audio in /content/Test/audio/audio_807_1614-1616.wav\n"
          ]
        },
        {
          "output_type": "stream",
          "name": "stderr",
          "text": []
        },
        {
          "output_type": "stream",
          "name": "stdout",
          "text": [
            "MoviePy - Done.\n",
            "MoviePy - Writing audio in /content/Test/audio/audio_808_1616-1618.wav\n"
          ]
        },
        {
          "output_type": "stream",
          "name": "stderr",
          "text": []
        },
        {
          "output_type": "stream",
          "name": "stdout",
          "text": [
            "MoviePy - Done.\n",
            "MoviePy - Writing audio in /content/Test/audio/audio_809_1618-1620.wav\n"
          ]
        },
        {
          "output_type": "stream",
          "name": "stderr",
          "text": []
        },
        {
          "output_type": "stream",
          "name": "stdout",
          "text": [
            "MoviePy - Done.\n",
            "MoviePy - Writing audio in /content/Test/audio/audio_810_1620-1622.wav\n"
          ]
        },
        {
          "output_type": "stream",
          "name": "stderr",
          "text": []
        },
        {
          "output_type": "stream",
          "name": "stdout",
          "text": [
            "MoviePy - Done.\n",
            "MoviePy - Writing audio in /content/Test/audio/audio_811_1622-1624.wav\n"
          ]
        },
        {
          "output_type": "stream",
          "name": "stderr",
          "text": []
        },
        {
          "output_type": "stream",
          "name": "stdout",
          "text": [
            "MoviePy - Done.\n",
            "MoviePy - Writing audio in /content/Test/audio/audio_812_1624-1626.wav\n"
          ]
        },
        {
          "output_type": "stream",
          "name": "stderr",
          "text": []
        },
        {
          "output_type": "stream",
          "name": "stdout",
          "text": [
            "MoviePy - Done.\n",
            "MoviePy - Writing audio in /content/Test/audio/audio_813_1626-1628.wav\n"
          ]
        },
        {
          "output_type": "stream",
          "name": "stderr",
          "text": []
        },
        {
          "output_type": "stream",
          "name": "stdout",
          "text": [
            "MoviePy - Done.\n",
            "MoviePy - Writing audio in /content/Test/audio/audio_814_1628-1630.wav\n"
          ]
        },
        {
          "output_type": "stream",
          "name": "stderr",
          "text": []
        },
        {
          "output_type": "stream",
          "name": "stdout",
          "text": [
            "MoviePy - Done.\n",
            "MoviePy - Writing audio in /content/Test/audio/audio_815_1630-1632.wav\n"
          ]
        },
        {
          "output_type": "stream",
          "name": "stderr",
          "text": []
        },
        {
          "output_type": "stream",
          "name": "stdout",
          "text": [
            "MoviePy - Done.\n",
            "MoviePy - Writing audio in /content/Test/audio/audio_816_1632-1634.wav\n"
          ]
        },
        {
          "output_type": "stream",
          "name": "stderr",
          "text": []
        },
        {
          "output_type": "stream",
          "name": "stdout",
          "text": [
            "MoviePy - Done.\n",
            "MoviePy - Writing audio in /content/Test/audio/audio_817_1634-1636.wav\n"
          ]
        },
        {
          "output_type": "stream",
          "name": "stderr",
          "text": []
        },
        {
          "output_type": "stream",
          "name": "stdout",
          "text": [
            "MoviePy - Done.\n",
            "MoviePy - Writing audio in /content/Test/audio/audio_818_1636-1638.wav\n"
          ]
        },
        {
          "output_type": "stream",
          "name": "stderr",
          "text": []
        },
        {
          "output_type": "stream",
          "name": "stdout",
          "text": [
            "MoviePy - Done.\n",
            "MoviePy - Writing audio in /content/Test/audio/audio_819_1638-1640.wav\n"
          ]
        },
        {
          "output_type": "stream",
          "name": "stderr",
          "text": []
        },
        {
          "output_type": "stream",
          "name": "stdout",
          "text": [
            "MoviePy - Done.\n",
            "MoviePy - Writing audio in /content/Test/audio/audio_820_1640-1642.wav\n"
          ]
        },
        {
          "output_type": "stream",
          "name": "stderr",
          "text": []
        },
        {
          "output_type": "stream",
          "name": "stdout",
          "text": [
            "MoviePy - Done.\n",
            "MoviePy - Writing audio in /content/Test/audio/audio_821_1642-1644.wav\n"
          ]
        },
        {
          "output_type": "stream",
          "name": "stderr",
          "text": []
        },
        {
          "output_type": "stream",
          "name": "stdout",
          "text": [
            "MoviePy - Done.\n",
            "MoviePy - Writing audio in /content/Test/audio/audio_822_1644-1646.wav\n"
          ]
        },
        {
          "output_type": "stream",
          "name": "stderr",
          "text": []
        },
        {
          "output_type": "stream",
          "name": "stdout",
          "text": [
            "MoviePy - Done.\n",
            "MoviePy - Writing audio in /content/Test/audio/audio_823_1646-1648.wav\n"
          ]
        },
        {
          "output_type": "stream",
          "name": "stderr",
          "text": []
        },
        {
          "output_type": "stream",
          "name": "stdout",
          "text": [
            "MoviePy - Done.\n",
            "MoviePy - Writing audio in /content/Test/audio/audio_824_1648-1650.wav\n"
          ]
        },
        {
          "output_type": "stream",
          "name": "stderr",
          "text": []
        },
        {
          "output_type": "stream",
          "name": "stdout",
          "text": [
            "MoviePy - Done.\n",
            "MoviePy - Writing audio in /content/Test/audio/audio_825_1650-1652.wav\n"
          ]
        },
        {
          "output_type": "stream",
          "name": "stderr",
          "text": []
        },
        {
          "output_type": "stream",
          "name": "stdout",
          "text": [
            "MoviePy - Done.\n",
            "MoviePy - Writing audio in /content/Test/audio/audio_826_1652-1654.wav\n"
          ]
        },
        {
          "output_type": "stream",
          "name": "stderr",
          "text": []
        },
        {
          "output_type": "stream",
          "name": "stdout",
          "text": [
            "MoviePy - Done.\n",
            "MoviePy - Writing audio in /content/Test/audio/audio_827_1654-1656.wav\n"
          ]
        },
        {
          "output_type": "stream",
          "name": "stderr",
          "text": []
        },
        {
          "output_type": "stream",
          "name": "stdout",
          "text": [
            "MoviePy - Done.\n",
            "MoviePy - Writing audio in /content/Test/audio/audio_828_1656-1658.wav\n"
          ]
        },
        {
          "output_type": "stream",
          "name": "stderr",
          "text": []
        },
        {
          "output_type": "stream",
          "name": "stdout",
          "text": [
            "MoviePy - Done.\n",
            "MoviePy - Writing audio in /content/Test/audio/audio_829_1658-1660.wav\n"
          ]
        },
        {
          "output_type": "stream",
          "name": "stderr",
          "text": []
        },
        {
          "output_type": "stream",
          "name": "stdout",
          "text": [
            "MoviePy - Done.\n",
            "MoviePy - Writing audio in /content/Test/audio/audio_830_1660-1662.wav\n"
          ]
        },
        {
          "output_type": "stream",
          "name": "stderr",
          "text": []
        },
        {
          "output_type": "stream",
          "name": "stdout",
          "text": [
            "MoviePy - Done.\n",
            "MoviePy - Writing audio in /content/Test/audio/audio_831_1662-1664.wav\n"
          ]
        },
        {
          "output_type": "stream",
          "name": "stderr",
          "text": []
        },
        {
          "output_type": "stream",
          "name": "stdout",
          "text": [
            "MoviePy - Done.\n",
            "MoviePy - Writing audio in /content/Test/audio/audio_832_1664-1666.wav\n"
          ]
        },
        {
          "output_type": "stream",
          "name": "stderr",
          "text": []
        },
        {
          "output_type": "stream",
          "name": "stdout",
          "text": [
            "MoviePy - Done.\n",
            "MoviePy - Writing audio in /content/Test/audio/audio_833_1666-1668.wav\n"
          ]
        },
        {
          "output_type": "stream",
          "name": "stderr",
          "text": []
        },
        {
          "output_type": "stream",
          "name": "stdout",
          "text": [
            "MoviePy - Done.\n",
            "MoviePy - Writing audio in /content/Test/audio/audio_834_1668-1670.wav\n"
          ]
        },
        {
          "output_type": "stream",
          "name": "stderr",
          "text": []
        },
        {
          "output_type": "stream",
          "name": "stdout",
          "text": [
            "MoviePy - Done.\n",
            "MoviePy - Writing audio in /content/Test/audio/audio_835_1670-1672.wav\n"
          ]
        },
        {
          "output_type": "stream",
          "name": "stderr",
          "text": []
        },
        {
          "output_type": "stream",
          "name": "stdout",
          "text": [
            "MoviePy - Done.\n",
            "MoviePy - Writing audio in /content/Test/audio/audio_836_1672-1674.wav\n"
          ]
        },
        {
          "output_type": "stream",
          "name": "stderr",
          "text": []
        },
        {
          "output_type": "stream",
          "name": "stdout",
          "text": [
            "MoviePy - Done.\n",
            "MoviePy - Writing audio in /content/Test/audio/audio_837_1674-1676.wav\n"
          ]
        },
        {
          "output_type": "stream",
          "name": "stderr",
          "text": []
        },
        {
          "output_type": "stream",
          "name": "stdout",
          "text": [
            "MoviePy - Done.\n",
            "MoviePy - Writing audio in /content/Test/audio/audio_838_1676-1678.wav\n"
          ]
        },
        {
          "output_type": "stream",
          "name": "stderr",
          "text": []
        },
        {
          "output_type": "stream",
          "name": "stdout",
          "text": [
            "MoviePy - Done.\n",
            "MoviePy - Writing audio in /content/Test/audio/audio_839_1678-1680.wav\n"
          ]
        },
        {
          "output_type": "stream",
          "name": "stderr",
          "text": []
        },
        {
          "output_type": "stream",
          "name": "stdout",
          "text": [
            "MoviePy - Done.\n",
            "MoviePy - Writing audio in /content/Test/audio/audio_840_1680-1682.wav\n"
          ]
        },
        {
          "output_type": "stream",
          "name": "stderr",
          "text": []
        },
        {
          "output_type": "stream",
          "name": "stdout",
          "text": [
            "MoviePy - Done.\n",
            "MoviePy - Writing audio in /content/Test/audio/audio_841_1682-1684.wav\n"
          ]
        },
        {
          "output_type": "stream",
          "name": "stderr",
          "text": []
        },
        {
          "output_type": "stream",
          "name": "stdout",
          "text": [
            "MoviePy - Done.\n",
            "MoviePy - Writing audio in /content/Test/audio/audio_842_1684-1686.wav\n"
          ]
        },
        {
          "output_type": "stream",
          "name": "stderr",
          "text": []
        },
        {
          "output_type": "stream",
          "name": "stdout",
          "text": [
            "MoviePy - Done.\n",
            "MoviePy - Writing audio in /content/Test/audio/audio_843_1686-1688.wav\n"
          ]
        },
        {
          "output_type": "stream",
          "name": "stderr",
          "text": []
        },
        {
          "output_type": "stream",
          "name": "stdout",
          "text": [
            "MoviePy - Done.\n",
            "MoviePy - Writing audio in /content/Test/audio/audio_844_1688-1690.wav\n"
          ]
        },
        {
          "output_type": "stream",
          "name": "stderr",
          "text": []
        },
        {
          "output_type": "stream",
          "name": "stdout",
          "text": [
            "MoviePy - Done.\n",
            "MoviePy - Writing audio in /content/Test/audio/audio_845_1690-1692.wav\n"
          ]
        },
        {
          "output_type": "stream",
          "name": "stderr",
          "text": []
        },
        {
          "output_type": "stream",
          "name": "stdout",
          "text": [
            "MoviePy - Done.\n",
            "MoviePy - Writing audio in /content/Test/audio/audio_846_1692-1694.wav\n"
          ]
        },
        {
          "output_type": "stream",
          "name": "stderr",
          "text": []
        },
        {
          "output_type": "stream",
          "name": "stdout",
          "text": [
            "MoviePy - Done.\n",
            "MoviePy - Writing audio in /content/Test/audio/audio_847_1694-1696.wav\n"
          ]
        },
        {
          "output_type": "stream",
          "name": "stderr",
          "text": []
        },
        {
          "output_type": "stream",
          "name": "stdout",
          "text": [
            "MoviePy - Done.\n",
            "MoviePy - Writing audio in /content/Test/audio/audio_848_1696-1698.wav\n"
          ]
        },
        {
          "output_type": "stream",
          "name": "stderr",
          "text": []
        },
        {
          "output_type": "stream",
          "name": "stdout",
          "text": [
            "MoviePy - Done.\n",
            "1698.28\n"
          ]
        }
      ]
    },
    {
      "cell_type": "code",
      "source": [
        "import os\n",
        "import numpy as np\n",
        "from keras.preprocessing import image\n",
        "from keras.models import load_model\n",
        "\n",
        "# Function to preprocess an image for prediction\n",
        "def preprocess_image(img_path):\n",
        "    img = image.load_img(img_path, target_size=(224, 224))\n",
        "    img_array = image.img_to_array(img)\n",
        "    img_array = np.expand_dims(img_array, axis=0)\n",
        "    img_array /= 255.0  # Normalize the pixel values to be between 0 and 1\n",
        "    return img_array, img\n",
        "\n",
        "# Function to predict the genre using the 'adamax' model\n",
        "def predict_genre(img):\n",
        "    # Load the 'adamax' model\n",
        "    optimizer_name = 'adamax'\n",
        "    model_path = f'/content/drive/MyDrive/videos/video_analysis_vgg16_{optimizer_name}.h5'\n",
        "    model = load_model(model_path)\n",
        "\n",
        "    # Make a prediction\n",
        "    prediction = model.predict(img)\n",
        "\n",
        "    # Get the genre with the highest probability\n",
        "    predicted_genre = genres[np.argmax(prediction)]\n",
        "    return predicted_genre\n",
        "\n",
        "# Define genre folders\n",
        "genre_folders = {\n",
        "    'MrBeastType': 'MrBeastType',\n",
        "    'VlogType': 'VlogType',\n",
        "    'TechReviewType': 'TechReviewType',\n",
        "    'GamingType': 'GamingType',\n",
        "    'MinimalistType': 'MinimalistType'\n",
        "}\n",
        "\n",
        "# Initialize counters for each genre\n",
        "genre_counts = {genre: 0 for genre in genre_folders}\n",
        "\n",
        "# Loop through all screenshots\n",
        "for image_name in os.listdir(\"/content/Test/screenshot\"):\n",
        "    # Preprocess the image\n",
        "    image_path = os.path.join(\"/content/Test/screenshot\", image_name)\n",
        "    img, original_img = preprocess_image(image_path)\n",
        "\n",
        "    # Predict the genre using the 'adamax' model\n",
        "    predicted_genre = predict_genre(img)\n",
        "    print(predicted_genre)\n",
        "    # Update counters for each genre\n",
        "    genre_counts[predicted_genre] += 1\n",
        "\n",
        "# Print the overall genre based on majority vote\n",
        "print(genre_counts)\n",
        "overall_genre = max(genre_counts, key=genre_counts.get)\n",
        "print(f\"Overall Genre: {overall_genre}\")\n"
      ],
      "metadata": {
        "id": "f6K2Ql8ICoro",
        "outputId": "49c340a4-4ac2-4408-d31a-e9a3758f125a",
        "colab": {
          "base_uri": "https://localhost:8080/"
        }
      },
      "execution_count": null,
      "outputs": [
        {
          "output_type": "stream",
          "name": "stdout",
          "text": [
            "1/1 [==============================] - 0s 264ms/step\n",
            "TechReviewType\n",
            "1/1 [==============================] - 0s 223ms/step\n",
            "MrBeastType\n",
            "1/1 [==============================] - 0s 227ms/step\n",
            "GamingType\n",
            "1/1 [==============================] - 0s 137ms/step\n",
            "VlogType\n",
            "1/1 [==============================] - 0s 157ms/step\n",
            "MinimalistType\n",
            "1/1 [==============================] - 0s 158ms/step\n",
            "MrBeastType\n",
            "1/1 [==============================] - 0s 215ms/step\n",
            "MinimalistType\n",
            "1/1 [==============================] - 0s 212ms/step\n",
            "MrBeastType\n",
            "1/1 [==============================] - 0s 233ms/step\n",
            "TechReviewType\n",
            "1/1 [==============================] - 0s 142ms/step\n",
            "MrBeastType\n",
            "1/1 [==============================] - 0s 139ms/step\n",
            "GamingType\n",
            "1/1 [==============================] - 0s 147ms/step\n",
            "MrBeastType\n",
            "1/1 [==============================] - 0s 150ms/step\n",
            "GamingType\n",
            "1/1 [==============================] - 0s 164ms/step\n",
            "TechReviewType\n",
            "1/1 [==============================] - 0s 143ms/step\n",
            "VlogType\n",
            "1/1 [==============================] - 0s 140ms/step\n",
            "MrBeastType\n",
            "1/1 [==============================] - 0s 144ms/step\n",
            "MrBeastType\n",
            "1/1 [==============================] - 0s 153ms/step\n",
            "MinimalistType\n",
            "1/1 [==============================] - 0s 140ms/step\n",
            "GamingType\n",
            "1/1 [==============================] - 0s 167ms/step\n",
            "MinimalistType\n",
            "1/1 [==============================] - 0s 137ms/step\n",
            "GamingType\n",
            "1/1 [==============================] - 0s 219ms/step\n",
            "VlogType\n",
            "1/1 [==============================] - 0s 197ms/step\n",
            "GamingType\n",
            "1/1 [==============================] - 0s 212ms/step\n",
            "GamingType\n",
            "1/1 [==============================] - 0s 198ms/step\n",
            "MinimalistType\n",
            "1/1 [==============================] - 0s 143ms/step\n",
            "MinimalistType\n",
            "1/1 [==============================] - 0s 150ms/step\n",
            "MrBeastType\n",
            "1/1 [==============================] - 0s 139ms/step\n",
            "GamingType\n",
            "1/1 [==============================] - 0s 139ms/step\n",
            "VlogType\n",
            "1/1 [==============================] - 0s 156ms/step\n",
            "TechReviewType\n",
            "1/1 [==============================] - 0s 137ms/step\n",
            "GamingType\n",
            "1/1 [==============================] - 0s 152ms/step\n",
            "TechReviewType\n",
            "1/1 [==============================] - 0s 136ms/step\n",
            "MrBeastType\n",
            "1/1 [==============================] - 0s 136ms/step\n",
            "MinimalistType\n",
            "1/1 [==============================] - 0s 136ms/step\n",
            "MinimalistType\n",
            "1/1 [==============================] - 0s 132ms/step\n",
            "MinimalistType\n",
            "1/1 [==============================] - 0s 135ms/step\n",
            "GamingType\n",
            "1/1 [==============================] - 0s 239ms/step\n",
            "MinimalistType\n",
            "1/1 [==============================] - 0s 229ms/step\n",
            "MrBeastType\n",
            "1/1 [==============================] - 0s 151ms/step\n",
            "MinimalistType\n",
            "1/1 [==============================] - 0s 147ms/step\n",
            "MrBeastType\n",
            "1/1 [==============================] - 0s 147ms/step\n",
            "MinimalistType\n",
            "1/1 [==============================] - 0s 147ms/step\n",
            "MinimalistType\n",
            "1/1 [==============================] - 0s 158ms/step\n",
            "GamingType\n",
            "1/1 [==============================] - 0s 144ms/step\n",
            "GamingType\n",
            "1/1 [==============================] - 0s 140ms/step\n",
            "MrBeastType\n",
            "1/1 [==============================] - 0s 144ms/step\n",
            "GamingType\n",
            "1/1 [==============================] - 0s 138ms/step\n",
            "MrBeastType\n",
            "1/1 [==============================] - 0s 157ms/step\n",
            "GamingType\n",
            "1/1 [==============================] - 0s 159ms/step\n",
            "MinimalistType\n",
            "1/1 [==============================] - 0s 145ms/step\n",
            "GamingType\n",
            "1/1 [==============================] - 0s 209ms/step\n",
            "MinimalistType\n",
            "1/1 [==============================] - 0s 199ms/step\n",
            "MinimalistType\n",
            "1/1 [==============================] - 0s 226ms/step\n",
            "GamingType\n",
            "1/1 [==============================] - 0s 181ms/step\n",
            "MrBeastType\n",
            "1/1 [==============================] - 0s 153ms/step\n",
            "GamingType\n",
            "1/1 [==============================] - 0s 140ms/step\n",
            "GamingType\n",
            "1/1 [==============================] - 0s 140ms/step\n",
            "VlogType\n",
            "1/1 [==============================] - 0s 140ms/step\n",
            "MrBeastType\n",
            "1/1 [==============================] - 0s 137ms/step\n",
            "GamingType\n",
            "1/1 [==============================] - 0s 136ms/step\n",
            "MinimalistType\n",
            "1/1 [==============================] - 0s 141ms/step\n",
            "MinimalistType\n",
            "1/1 [==============================] - 0s 149ms/step\n",
            "MinimalistType\n",
            "1/1 [==============================] - 0s 134ms/step\n",
            "MrBeastType\n",
            "1/1 [==============================] - 0s 136ms/step\n",
            "MrBeastType\n",
            "1/1 [==============================] - 0s 142ms/step\n",
            "MrBeastType\n",
            "1/1 [==============================] - 0s 135ms/step\n",
            "MrBeastType\n",
            "1/1 [==============================] - 0s 215ms/step\n",
            "GamingType\n",
            "1/1 [==============================] - 0s 213ms/step\n",
            "GamingType\n",
            "1/1 [==============================] - 0s 222ms/step\n",
            "MinimalistType\n",
            "1/1 [==============================] - 0s 134ms/step\n",
            "GamingType\n",
            "1/1 [==============================] - 0s 149ms/step\n",
            "GamingType\n",
            "1/1 [==============================] - 0s 143ms/step\n",
            "MinimalistType\n",
            "1/1 [==============================] - 0s 140ms/step\n",
            "VlogType\n",
            "1/1 [==============================] - 1s 662ms/step\n",
            "MrBeastType\n",
            "1/1 [==============================] - 0s 157ms/step\n",
            "GamingType\n",
            "1/1 [==============================] - 0s 144ms/step\n",
            "GamingType\n",
            "1/1 [==============================] - 0s 145ms/step\n",
            "MrBeastType\n",
            "1/1 [==============================] - 0s 150ms/step\n",
            "TechReviewType\n",
            "1/1 [==============================] - 0s 151ms/step\n",
            "TechReviewType\n",
            "1/1 [==============================] - 0s 144ms/step\n",
            "MrBeastType\n",
            "1/1 [==============================] - 0s 214ms/step\n",
            "VlogType\n",
            "1/1 [==============================] - 0s 205ms/step\n",
            "MrBeastType\n",
            "1/1 [==============================] - 0s 204ms/step\n",
            "TechReviewType\n",
            "1/1 [==============================] - 0s 154ms/step\n",
            "GamingType\n",
            "1/1 [==============================] - 0s 165ms/step\n",
            "GamingType\n",
            "1/1 [==============================] - 0s 138ms/step\n",
            "GamingType\n",
            "1/1 [==============================] - 0s 141ms/step\n",
            "GamingType\n",
            "1/1 [==============================] - 0s 139ms/step\n",
            "MinimalistType\n",
            "1/1 [==============================] - 0s 152ms/step\n",
            "MinimalistType\n",
            "1/1 [==============================] - 0s 154ms/step\n",
            "GamingType\n",
            "1/1 [==============================] - 0s 163ms/step\n",
            "MrBeastType\n",
            "1/1 [==============================] - 0s 141ms/step\n",
            "GamingType\n",
            "1/1 [==============================] - 0s 144ms/step\n",
            "MrBeastType\n",
            "1/1 [==============================] - 0s 148ms/step\n",
            "GamingType\n",
            "1/1 [==============================] - 0s 143ms/step\n",
            "MrBeastType\n",
            "1/1 [==============================] - 0s 205ms/step\n",
            "TechReviewType\n",
            "1/1 [==============================] - 0s 213ms/step\n",
            "MrBeastType\n",
            "1/1 [==============================] - 0s 215ms/step\n",
            "MinimalistType\n",
            "1/1 [==============================] - 0s 217ms/step\n",
            "MrBeastType\n",
            "1/1 [==============================] - 0s 140ms/step\n",
            "GamingType\n",
            "1/1 [==============================] - 0s 141ms/step\n",
            "MrBeastType\n",
            "1/1 [==============================] - 0s 142ms/step\n",
            "MrBeastType\n",
            "1/1 [==============================] - 0s 139ms/step\n",
            "TechReviewType\n",
            "1/1 [==============================] - 0s 159ms/step\n",
            "MrBeastType\n",
            "1/1 [==============================] - 0s 138ms/step\n",
            "GamingType\n",
            "1/1 [==============================] - 0s 142ms/step\n",
            "MinimalistType\n",
            "1/1 [==============================] - 0s 139ms/step\n",
            "VlogType\n",
            "1/1 [==============================] - 0s 150ms/step\n",
            "GamingType\n",
            "1/1 [==============================] - 0s 152ms/step\n",
            "MinimalistType\n",
            "1/1 [==============================] - 0s 147ms/step\n",
            "MrBeastType\n",
            "1/1 [==============================] - 0s 206ms/step\n",
            "GamingType\n",
            "1/1 [==============================] - 0s 212ms/step\n",
            "TechReviewType\n",
            "1/1 [==============================] - 0s 224ms/step\n",
            "MrBeastType\n",
            "1/1 [==============================] - 0s 151ms/step\n",
            "VlogType\n",
            "1/1 [==============================] - 0s 144ms/step\n",
            "GamingType\n",
            "1/1 [==============================] - 0s 152ms/step\n",
            "VlogType\n",
            "1/1 [==============================] - 0s 142ms/step\n",
            "GamingType\n",
            "1/1 [==============================] - 0s 160ms/step\n",
            "GamingType\n",
            "1/1 [==============================] - 0s 141ms/step\n",
            "GamingType\n",
            "1/1 [==============================] - 0s 139ms/step\n",
            "GamingType\n",
            "1/1 [==============================] - 0s 147ms/step\n",
            "MinimalistType\n",
            "1/1 [==============================] - 0s 138ms/step\n",
            "MrBeastType\n",
            "1/1 [==============================] - 0s 151ms/step\n",
            "MrBeastType\n",
            "1/1 [==============================] - 0s 148ms/step\n",
            "GamingType\n",
            "1/1 [==============================] - 0s 155ms/step\n",
            "GamingType\n",
            "1/1 [==============================] - 0s 213ms/step\n",
            "GamingType\n",
            "1/1 [==============================] - 0s 217ms/step\n",
            "GamingType\n",
            "1/1 [==============================] - 0s 205ms/step\n",
            "MinimalistType\n",
            "1/1 [==============================] - 0s 179ms/step\n",
            "GamingType\n",
            "1/1 [==============================] - 0s 152ms/step\n",
            "MinimalistType\n",
            "1/1 [==============================] - 0s 137ms/step\n",
            "VlogType\n",
            "1/1 [==============================] - 0s 138ms/step\n",
            "MinimalistType\n",
            "1/1 [==============================] - 0s 136ms/step\n",
            "MrBeastType\n",
            "1/1 [==============================] - 0s 137ms/step\n",
            "GamingType\n",
            "1/1 [==============================] - 0s 139ms/step\n",
            "GamingType\n",
            "1/1 [==============================] - 0s 145ms/step\n",
            "MrBeastType\n",
            "1/1 [==============================] - 0s 144ms/step\n",
            "GamingType\n",
            "1/1 [==============================] - 0s 145ms/step\n",
            "TechReviewType\n",
            "1/1 [==============================] - 0s 146ms/step\n",
            "VlogType\n",
            "1/1 [==============================] - 0s 161ms/step\n",
            "MinimalistType\n",
            "1/1 [==============================] - 0s 137ms/step\n",
            "MrBeastType\n",
            "1/1 [==============================] - 0s 207ms/step\n",
            "TechReviewType\n",
            "1/1 [==============================] - 0s 227ms/step\n",
            "MrBeastType\n",
            "1/1 [==============================] - 0s 144ms/step\n",
            "TechReviewType\n",
            "1/1 [==============================] - 0s 145ms/step\n",
            "MrBeastType\n",
            "1/1 [==============================] - 0s 155ms/step\n",
            "MrBeastType\n",
            "1/1 [==============================] - 0s 144ms/step\n",
            "GamingType\n",
            "1/1 [==============================] - 0s 148ms/step\n",
            "MrBeastType\n",
            "1/1 [==============================] - 0s 155ms/step\n",
            "GamingType\n",
            "1/1 [==============================] - 0s 142ms/step\n",
            "MinimalistType\n",
            "1/1 [==============================] - 0s 151ms/step\n",
            "GamingType\n",
            "1/1 [==============================] - 0s 145ms/step\n",
            "MrBeastType\n",
            "1/1 [==============================] - 0s 138ms/step\n",
            "MrBeastType\n",
            "1/1 [==============================] - 0s 142ms/step\n",
            "GamingType\n",
            "1/1 [==============================] - 0s 139ms/step\n",
            "MinimalistType\n",
            "1/1 [==============================] - 0s 169ms/step\n",
            "MinimalistType\n",
            "1/1 [==============================] - 0s 220ms/step\n",
            "GamingType\n",
            "1/1 [==============================] - 0s 209ms/step\n",
            "MrBeastType\n",
            "1/1 [==============================] - 0s 234ms/step\n",
            "GamingType\n",
            "1/1 [==============================] - 0s 147ms/step\n",
            "MinimalistType\n",
            "1/1 [==============================] - 0s 140ms/step\n",
            "GamingType\n",
            "1/1 [==============================] - 0s 148ms/step\n",
            "GamingType\n",
            "1/1 [==============================] - 0s 137ms/step\n",
            "MrBeastType\n",
            "1/1 [==============================] - 0s 144ms/step\n",
            "MrBeastType\n",
            "1/1 [==============================] - 0s 134ms/step\n",
            "VlogType\n",
            "1/1 [==============================] - 0s 142ms/step\n",
            "VlogType\n",
            "1/1 [==============================] - 0s 135ms/step\n",
            "MrBeastType\n",
            "1/1 [==============================] - 0s 137ms/step\n",
            "MrBeastType\n",
            "1/1 [==============================] - 0s 137ms/step\n",
            "MrBeastType\n",
            "1/1 [==============================] - 0s 136ms/step\n",
            "VlogType\n",
            "1/1 [==============================] - 0s 140ms/step\n",
            "MrBeastType\n",
            "1/1 [==============================] - 0s 212ms/step\n",
            "MrBeastType\n",
            "1/1 [==============================] - 0s 201ms/step\n",
            "MrBeastType\n",
            "1/1 [==============================] - 0s 210ms/step\n",
            "GamingType\n",
            "1/1 [==============================] - 0s 162ms/step\n",
            "GamingType\n",
            "1/1 [==============================] - 0s 143ms/step\n",
            "GamingType\n",
            "1/1 [==============================] - 0s 156ms/step\n",
            "MrBeastType\n",
            "1/1 [==============================] - 0s 153ms/step\n",
            "TechReviewType\n",
            "1/1 [==============================] - 0s 148ms/step\n",
            "VlogType\n",
            "1/1 [==============================] - 0s 152ms/step\n",
            "MinimalistType\n",
            "1/1 [==============================] - 0s 325ms/step\n",
            "GamingType\n",
            "1/1 [==============================] - 0s 141ms/step\n",
            "VlogType\n",
            "1/1 [==============================] - 0s 144ms/step\n",
            "GamingType\n",
            "1/1 [==============================] - 0s 155ms/step\n",
            "MinimalistType\n",
            "1/1 [==============================] - 0s 142ms/step\n",
            "VlogType\n",
            "1/1 [==============================] - 0s 153ms/step\n",
            "MinimalistType\n",
            "1/1 [==============================] - 0s 226ms/step\n",
            "VlogType\n",
            "1/1 [==============================] - 0s 214ms/step\n",
            "GamingType\n",
            "1/1 [==============================] - 0s 213ms/step\n",
            "GamingType\n",
            "1/1 [==============================] - 0s 151ms/step\n",
            "GamingType\n",
            "1/1 [==============================] - 0s 146ms/step\n",
            "MinimalistType\n",
            "1/1 [==============================] - 0s 138ms/step\n",
            "MinimalistType\n",
            "1/1 [==============================] - 0s 138ms/step\n",
            "MrBeastType\n",
            "1/1 [==============================] - 0s 142ms/step\n",
            "MrBeastType\n",
            "1/1 [==============================] - 0s 138ms/step\n",
            "VlogType\n",
            "1/1 [==============================] - 0s 143ms/step\n",
            "MrBeastType\n",
            "1/1 [==============================] - 0s 143ms/step\n",
            "MrBeastType\n",
            "1/1 [==============================] - 0s 138ms/step\n",
            "MrBeastType\n",
            "1/1 [==============================] - 0s 146ms/step\n",
            "MinimalistType\n",
            "1/1 [==============================] - 0s 146ms/step\n",
            "MrBeastType\n",
            "1/1 [==============================] - 0s 144ms/step\n",
            "MrBeastType\n",
            "1/1 [==============================] - 0s 214ms/step\n",
            "GamingType\n",
            "1/1 [==============================] - 0s 197ms/step\n",
            "GamingType\n",
            "1/1 [==============================] - 0s 204ms/step\n",
            "MinimalistType\n",
            "1/1 [==============================] - 0s 197ms/step\n",
            "VlogType\n",
            "1/1 [==============================] - 0s 137ms/step\n",
            "GamingType\n",
            "1/1 [==============================] - 0s 157ms/step\n",
            "TechReviewType\n",
            "1/1 [==============================] - 0s 142ms/step\n",
            "GamingType\n",
            "1/1 [==============================] - 0s 136ms/step\n",
            "MrBeastType\n",
            "1/1 [==============================] - 0s 138ms/step\n",
            "GamingType\n",
            "1/1 [==============================] - 0s 143ms/step\n",
            "MrBeastType\n",
            "1/1 [==============================] - 0s 149ms/step\n",
            "TechReviewType\n",
            "1/1 [==============================] - 0s 151ms/step\n",
            "TechReviewType\n",
            "1/1 [==============================] - 0s 148ms/step\n",
            "MinimalistType\n",
            "1/1 [==============================] - 0s 144ms/step\n",
            "MrBeastType\n",
            "1/1 [==============================] - 0s 147ms/step\n",
            "VlogType\n",
            "1/1 [==============================] - 0s 213ms/step\n",
            "MinimalistType\n",
            "1/1 [==============================] - 0s 217ms/step\n",
            "MinimalistType\n",
            "1/1 [==============================] - 0s 209ms/step\n",
            "MrBeastType\n",
            "1/1 [==============================] - 0s 142ms/step\n",
            "VlogType\n",
            "1/1 [==============================] - 0s 158ms/step\n",
            "MrBeastType\n",
            "1/1 [==============================] - 0s 141ms/step\n",
            "MrBeastType\n",
            "1/1 [==============================] - 0s 145ms/step\n",
            "MinimalistType\n",
            "1/1 [==============================] - 0s 141ms/step\n",
            "GamingType\n",
            "1/1 [==============================] - 0s 140ms/step\n",
            "GamingType\n",
            "1/1 [==============================] - 0s 143ms/step\n",
            "MinimalistType\n",
            "1/1 [==============================] - 0s 145ms/step\n",
            "GamingType\n",
            "1/1 [==============================] - 0s 140ms/step\n",
            "MrBeastType\n",
            "1/1 [==============================] - 0s 141ms/step\n",
            "GamingType\n",
            "1/1 [==============================] - 0s 149ms/step\n",
            "MrBeastType\n",
            "1/1 [==============================] - 0s 141ms/step\n",
            "VlogType\n",
            "1/1 [==============================] - 0s 139ms/step\n",
            "GamingType\n",
            "1/1 [==============================] - 0s 200ms/step\n",
            "GamingType\n",
            "1/1 [==============================] - 0s 210ms/step\n",
            "TechReviewType\n",
            "1/1 [==============================] - 0s 216ms/step\n",
            "GamingType\n",
            "1/1 [==============================] - 0s 142ms/step\n",
            "MrBeastType\n",
            "1/1 [==============================] - 0s 165ms/step\n",
            "MinimalistType\n",
            "1/1 [==============================] - 0s 135ms/step\n",
            "MinimalistType\n",
            "1/1 [==============================] - 0s 139ms/step\n",
            "MinimalistType\n",
            "1/1 [==============================] - 0s 150ms/step\n",
            "MrBeastType\n",
            "1/1 [==============================] - 0s 134ms/step\n",
            "GamingType\n",
            "1/1 [==============================] - 0s 165ms/step\n",
            "MinimalistType\n",
            "1/1 [==============================] - 0s 143ms/step\n",
            "GamingType\n",
            "1/1 [==============================] - 0s 153ms/step\n",
            "MinimalistType\n",
            "1/1 [==============================] - 0s 137ms/step\n",
            "MrBeastType\n",
            "1/1 [==============================] - 0s 154ms/step\n",
            "GamingType\n",
            "1/1 [==============================] - 0s 228ms/step\n",
            "GamingType\n",
            "1/1 [==============================] - 0s 211ms/step\n",
            "MrBeastType\n",
            "1/1 [==============================] - 0s 217ms/step\n",
            "MinimalistType\n",
            "1/1 [==============================] - 0s 208ms/step\n",
            "GamingType\n",
            "1/1 [==============================] - 0s 142ms/step\n",
            "GamingType\n",
            "1/1 [==============================] - 0s 141ms/step\n",
            "TechReviewType\n",
            "1/1 [==============================] - 0s 142ms/step\n",
            "GamingType\n",
            "1/1 [==============================] - 0s 151ms/step\n",
            "GamingType\n",
            "1/1 [==============================] - 0s 139ms/step\n",
            "MrBeastType\n",
            "1/1 [==============================] - 0s 155ms/step\n",
            "MinimalistType\n",
            "1/1 [==============================] - 0s 140ms/step\n",
            "GamingType\n",
            "1/1 [==============================] - 0s 143ms/step\n",
            "MrBeastType\n",
            "1/1 [==============================] - 0s 151ms/step\n",
            "TechReviewType\n",
            "1/1 [==============================] - 0s 140ms/step\n",
            "GamingType\n",
            "1/1 [==============================] - 0s 143ms/step\n",
            "TechReviewType\n",
            "1/1 [==============================] - 0s 148ms/step\n",
            "MrBeastType\n",
            "1/1 [==============================] - 0s 206ms/step\n",
            "MrBeastType\n",
            "1/1 [==============================] - 0s 227ms/step\n",
            "GamingType\n",
            "1/1 [==============================] - 0s 221ms/step\n",
            "GamingType\n",
            "1/1 [==============================] - 0s 139ms/step\n",
            "MrBeastType\n",
            "1/1 [==============================] - 0s 139ms/step\n",
            "VlogType\n",
            "1/1 [==============================] - 0s 149ms/step\n",
            "MinimalistType\n",
            "1/1 [==============================] - 0s 138ms/step\n",
            "TechReviewType\n",
            "1/1 [==============================] - 0s 144ms/step\n",
            "GamingType\n",
            "1/1 [==============================] - 0s 165ms/step\n",
            "TechReviewType\n",
            "1/1 [==============================] - 0s 138ms/step\n",
            "VlogType\n",
            "1/1 [==============================] - 0s 139ms/step\n",
            "MrBeastType\n",
            "1/1 [==============================] - 0s 147ms/step\n",
            "MrBeastType\n",
            "1/1 [==============================] - 0s 142ms/step\n",
            "MrBeastType\n",
            "1/1 [==============================] - 0s 141ms/step\n",
            "MinimalistType\n",
            "1/1 [==============================] - 0s 147ms/step\n",
            "GamingType\n",
            "1/1 [==============================] - 0s 238ms/step\n",
            "MrBeastType\n",
            "1/1 [==============================] - 0s 215ms/step\n",
            "MrBeastType\n",
            "1/1 [==============================] - 0s 202ms/step\n",
            "MrBeastType\n",
            "1/1 [==============================] - 0s 151ms/step\n",
            "TechReviewType\n",
            "1/1 [==============================] - 0s 150ms/step\n",
            "MrBeastType\n",
            "1/1 [==============================] - 0s 147ms/step\n",
            "MinimalistType\n",
            "1/1 [==============================] - 0s 154ms/step\n",
            "VlogType\n",
            "1/1 [==============================] - 0s 149ms/step\n",
            "MrBeastType\n",
            "1/1 [==============================] - 0s 145ms/step\n",
            "MrBeastType\n",
            "1/1 [==============================] - 0s 147ms/step\n",
            "GamingType\n",
            "1/1 [==============================] - 0s 147ms/step\n",
            "GamingType\n",
            "1/1 [==============================] - 0s 152ms/step\n",
            "MinimalistType\n",
            "1/1 [==============================] - 0s 143ms/step\n",
            "TechReviewType\n",
            "1/1 [==============================] - 0s 143ms/step\n",
            "VlogType\n",
            "1/1 [==============================] - 0s 170ms/step\n",
            "MrBeastType\n",
            "1/1 [==============================] - 0s 213ms/step\n",
            "MinimalistType\n",
            "1/1 [==============================] - 0s 213ms/step\n",
            "MinimalistType\n",
            "1/1 [==============================] - 0s 227ms/step\n",
            "MinimalistType\n",
            "1/1 [==============================] - 0s 155ms/step\n",
            "MrBeastType\n",
            "1/1 [==============================] - 0s 138ms/step\n",
            "VlogType\n",
            "1/1 [==============================] - 0s 145ms/step\n",
            "GamingType\n",
            "1/1 [==============================] - 0s 139ms/step\n",
            "GamingType\n",
            "1/1 [==============================] - 0s 147ms/step\n",
            "MrBeastType\n",
            "1/1 [==============================] - 0s 140ms/step\n",
            "MinimalistType\n",
            "1/1 [==============================] - 0s 140ms/step\n",
            "GamingType\n",
            "1/1 [==============================] - 0s 154ms/step\n",
            "MinimalistType\n",
            "1/1 [==============================] - 0s 137ms/step\n",
            "MinimalistType\n",
            "1/1 [==============================] - 0s 135ms/step\n",
            "MrBeastType\n",
            "1/1 [==============================] - 0s 144ms/step\n",
            "MinimalistType\n",
            "1/1 [==============================] - 0s 142ms/step\n",
            "MrBeastType\n",
            "1/1 [==============================] - 0s 238ms/step\n",
            "GamingType\n",
            "1/1 [==============================] - 0s 219ms/step\n",
            "MrBeastType\n",
            "1/1 [==============================] - 0s 209ms/step\n",
            "MrBeastType\n",
            "1/1 [==============================] - 0s 251ms/step\n",
            "GamingType\n",
            "1/1 [==============================] - 0s 153ms/step\n",
            "GamingType\n",
            "1/1 [==============================] - 0s 142ms/step\n",
            "GamingType\n",
            "1/1 [==============================] - 0s 136ms/step\n",
            "MrBeastType\n",
            "1/1 [==============================] - 0s 139ms/step\n",
            "GamingType\n",
            "1/1 [==============================] - 0s 155ms/step\n",
            "GamingType\n",
            "1/1 [==============================] - 0s 174ms/step\n",
            "VlogType\n",
            "1/1 [==============================] - 0s 152ms/step\n",
            "GamingType\n",
            "1/1 [==============================] - 0s 142ms/step\n",
            "VlogType\n",
            "1/1 [==============================] - 0s 149ms/step\n",
            "GamingType\n",
            "1/1 [==============================] - 0s 150ms/step\n",
            "MrBeastType\n",
            "1/1 [==============================] - 0s 146ms/step\n",
            "MrBeastType\n",
            "1/1 [==============================] - 0s 221ms/step\n",
            "MrBeastType\n",
            "1/1 [==============================] - 0s 218ms/step\n",
            "TechReviewType\n",
            "1/1 [==============================] - 0s 208ms/step\n",
            "MrBeastType\n",
            "1/1 [==============================] - 0s 147ms/step\n",
            "MinimalistType\n",
            "1/1 [==============================] - 0s 157ms/step\n",
            "MinimalistType\n",
            "1/1 [==============================] - 0s 143ms/step\n",
            "GamingType\n",
            "1/1 [==============================] - 0s 158ms/step\n",
            "GamingType\n",
            "1/1 [==============================] - 0s 149ms/step\n",
            "VlogType\n",
            "1/1 [==============================] - 0s 141ms/step\n",
            "MrBeastType\n",
            "1/1 [==============================] - 0s 159ms/step\n",
            "GamingType\n",
            "1/1 [==============================] - 0s 142ms/step\n",
            "MrBeastType\n",
            "1/1 [==============================] - 0s 141ms/step\n",
            "GamingType\n",
            "1/1 [==============================] - 0s 143ms/step\n",
            "GamingType\n",
            "1/1 [==============================] - 0s 137ms/step\n",
            "MrBeastType\n",
            "1/1 [==============================] - 0s 142ms/step\n",
            "VlogType\n",
            "1/1 [==============================] - 0s 206ms/step\n",
            "VlogType\n",
            "1/1 [==============================] - 0s 204ms/step\n",
            "GamingType\n",
            "1/1 [==============================] - 0s 197ms/step\n",
            "MrBeastType\n",
            "1/1 [==============================] - 0s 229ms/step\n",
            "MrBeastType\n",
            "1/1 [==============================] - 0s 142ms/step\n",
            "VlogType\n",
            "1/1 [==============================] - 0s 143ms/step\n",
            "VlogType\n",
            "1/1 [==============================] - 0s 149ms/step\n",
            "MinimalistType\n",
            "1/1 [==============================] - 0s 140ms/step\n",
            "GamingType\n",
            "1/1 [==============================] - 0s 147ms/step\n",
            "MrBeastType\n",
            "1/1 [==============================] - 0s 150ms/step\n",
            "MrBeastType\n",
            "1/1 [==============================] - 0s 137ms/step\n",
            "GamingType\n",
            "1/1 [==============================] - 0s 138ms/step\n",
            "MinimalistType\n",
            "1/1 [==============================] - 0s 152ms/step\n",
            "MinimalistType\n",
            "1/1 [==============================] - 0s 151ms/step\n",
            "GamingType\n",
            "1/1 [==============================] - 0s 159ms/step\n",
            "MrBeastType\n",
            "1/1 [==============================] - 0s 222ms/step\n",
            "MrBeastType\n",
            "1/1 [==============================] - 0s 238ms/step\n",
            "MrBeastType\n",
            "1/1 [==============================] - 0s 246ms/step\n",
            "GamingType\n",
            "1/1 [==============================] - 0s 149ms/step\n",
            "MrBeastType\n",
            "1/1 [==============================] - 0s 143ms/step\n",
            "MrBeastType\n",
            "1/1 [==============================] - 0s 146ms/step\n",
            "TechReviewType\n",
            "1/1 [==============================] - 0s 141ms/step\n",
            "MinimalistType\n",
            "1/1 [==============================] - 0s 139ms/step\n",
            "MrBeastType\n",
            "1/1 [==============================] - 0s 156ms/step\n",
            "MrBeastType\n",
            "1/1 [==============================] - 0s 145ms/step\n",
            "VlogType\n",
            "1/1 [==============================] - 0s 144ms/step\n",
            "GamingType\n",
            "1/1 [==============================] - 0s 156ms/step\n",
            "MinimalistType\n",
            "1/1 [==============================] - 0s 140ms/step\n",
            "MinimalistType\n",
            "1/1 [==============================] - 0s 152ms/step\n",
            "MinimalistType\n",
            "1/1 [==============================] - 0s 143ms/step\n",
            "GamingType\n",
            "1/1 [==============================] - 0s 213ms/step\n",
            "TechReviewType\n",
            "1/1 [==============================] - 0s 211ms/step\n",
            "GamingType\n",
            "1/1 [==============================] - 0s 201ms/step\n",
            "MinimalistType\n",
            "1/1 [==============================] - 0s 229ms/step\n",
            "GamingType\n",
            "1/1 [==============================] - 0s 148ms/step\n",
            "GamingType\n",
            "1/1 [==============================] - 0s 139ms/step\n",
            "MinimalistType\n",
            "1/1 [==============================] - 0s 142ms/step\n",
            "GamingType\n",
            "1/1 [==============================] - 0s 145ms/step\n",
            "GamingType\n",
            "1/1 [==============================] - 0s 142ms/step\n",
            "MinimalistType\n",
            "1/1 [==============================] - 0s 148ms/step\n",
            "GamingType\n",
            "1/1 [==============================] - 0s 138ms/step\n",
            "MrBeastType\n",
            "1/1 [==============================] - 0s 146ms/step\n",
            "VlogType\n",
            "1/1 [==============================] - 0s 160ms/step\n",
            "TechReviewType\n",
            "1/1 [==============================] - 0s 136ms/step\n",
            "VlogType\n",
            "1/1 [==============================] - 0s 145ms/step\n",
            "GamingType\n",
            "1/1 [==============================] - 0s 138ms/step\n",
            "GamingType\n",
            "1/1 [==============================] - 0s 201ms/step\n",
            "GamingType\n",
            "1/1 [==============================] - 0s 220ms/step\n",
            "GamingType\n",
            "1/1 [==============================] - 0s 157ms/step\n",
            "MrBeastType\n",
            "1/1 [==============================] - 0s 162ms/step\n",
            "VlogType\n",
            "1/1 [==============================] - 0s 149ms/step\n",
            "TechReviewType\n",
            "1/1 [==============================] - 0s 146ms/step\n",
            "MrBeastType\n",
            "1/1 [==============================] - 0s 149ms/step\n",
            "GamingType\n",
            "1/1 [==============================] - 0s 146ms/step\n",
            "GamingType\n",
            "1/1 [==============================] - 0s 154ms/step\n",
            "MinimalistType\n",
            "1/1 [==============================] - 0s 149ms/step\n",
            "MrBeastType\n",
            "1/1 [==============================] - 0s 140ms/step\n",
            "MrBeastType\n",
            "1/1 [==============================] - 0s 142ms/step\n",
            "GamingType\n",
            "1/1 [==============================] - 0s 148ms/step\n",
            "GamingType\n",
            "1/1 [==============================] - 0s 142ms/step\n",
            "MinimalistType\n",
            "1/1 [==============================] - 0s 211ms/step\n",
            "VlogType\n",
            "1/1 [==============================] - 0s 224ms/step\n",
            "GamingType\n",
            "1/1 [==============================] - 0s 233ms/step\n",
            "GamingType\n",
            "1/1 [==============================] - 0s 211ms/step\n",
            "MrBeastType\n",
            "1/1 [==============================] - 0s 150ms/step\n",
            "VlogType\n",
            "1/1 [==============================] - 0s 151ms/step\n",
            "GamingType\n",
            "1/1 [==============================] - 0s 144ms/step\n",
            "GamingType\n",
            "1/1 [==============================] - 0s 140ms/step\n",
            "MrBeastType\n",
            "1/1 [==============================] - 0s 141ms/step\n",
            "MrBeastType\n",
            "1/1 [==============================] - 0s 162ms/step\n",
            "TechReviewType\n",
            "1/1 [==============================] - 0s 137ms/step\n",
            "MinimalistType\n",
            "1/1 [==============================] - 0s 143ms/step\n",
            "MinimalistType\n",
            "1/1 [==============================] - 0s 141ms/step\n",
            "MinimalistType\n",
            "1/1 [==============================] - 0s 141ms/step\n",
            "MinimalistType\n",
            "1/1 [==============================] - 0s 137ms/step\n",
            "GamingType\n",
            "1/1 [==============================] - 0s 142ms/step\n",
            "MinimalistType\n",
            "1/1 [==============================] - 0s 203ms/step\n",
            "GamingType\n",
            "1/1 [==============================] - 0s 220ms/step\n",
            "MrBeastType\n",
            "1/1 [==============================] - 0s 214ms/step\n",
            "GamingType\n",
            "1/1 [==============================] - 0s 151ms/step\n",
            "VlogType\n",
            "1/1 [==============================] - 0s 140ms/step\n",
            "GamingType\n",
            "1/1 [==============================] - 0s 143ms/step\n",
            "TechReviewType\n",
            "1/1 [==============================] - 0s 140ms/step\n",
            "MinimalistType\n",
            "1/1 [==============================] - 0s 156ms/step\n",
            "MrBeastType\n",
            "1/1 [==============================] - 0s 154ms/step\n",
            "GamingType\n",
            "1/1 [==============================] - 0s 162ms/step\n",
            "MrBeastType\n",
            "1/1 [==============================] - 0s 142ms/step\n",
            "GamingType\n",
            "1/1 [==============================] - 0s 143ms/step\n",
            "GamingType\n",
            "1/1 [==============================] - 0s 142ms/step\n",
            "MrBeastType\n",
            "1/1 [==============================] - 0s 141ms/step\n",
            "MrBeastType\n",
            "1/1 [==============================] - 0s 227ms/step\n",
            "MrBeastType\n",
            "1/1 [==============================] - 0s 215ms/step\n",
            "GamingType\n",
            "1/1 [==============================] - 0s 205ms/step\n",
            "MinimalistType\n",
            "1/1 [==============================] - 0s 219ms/step\n",
            "MrBeastType\n",
            "1/1 [==============================] - 0s 145ms/step\n",
            "MinimalistType\n",
            "1/1 [==============================] - 0s 148ms/step\n",
            "VlogType\n",
            "1/1 [==============================] - 0s 142ms/step\n",
            "GamingType\n",
            "1/1 [==============================] - 0s 144ms/step\n",
            "MrBeastType\n",
            "1/1 [==============================] - 0s 144ms/step\n",
            "MinimalistType\n",
            "1/1 [==============================] - 0s 155ms/step\n",
            "GamingType\n",
            "1/1 [==============================] - 0s 148ms/step\n",
            "MrBeastType\n",
            "1/1 [==============================] - 0s 150ms/step\n",
            "GamingType\n",
            "1/1 [==============================] - 0s 141ms/step\n",
            "MrBeastType\n",
            "1/1 [==============================] - 0s 141ms/step\n",
            "GamingType\n",
            "1/1 [==============================] - 0s 139ms/step\n",
            "MinimalistType\n",
            "1/1 [==============================] - 0s 149ms/step\n",
            "GamingType\n",
            "1/1 [==============================] - 0s 229ms/step\n",
            "GamingType\n",
            "1/1 [==============================] - 0s 207ms/step\n",
            "MinimalistType\n",
            "1/1 [==============================] - 0s 227ms/step\n",
            "MrBeastType\n",
            "1/1 [==============================] - 0s 149ms/step\n",
            "MrBeastType\n",
            "1/1 [==============================] - 0s 159ms/step\n",
            "MrBeastType\n",
            "1/1 [==============================] - 0s 138ms/step\n",
            "MinimalistType\n",
            "1/1 [==============================] - 0s 144ms/step\n",
            "GamingType\n",
            "1/1 [==============================] - 0s 138ms/step\n",
            "GamingType\n",
            "1/1 [==============================] - 0s 140ms/step\n",
            "MrBeastType\n",
            "1/1 [==============================] - 0s 143ms/step\n",
            "TechReviewType\n",
            "1/1 [==============================] - 0s 137ms/step\n",
            "GamingType\n",
            "1/1 [==============================] - 0s 136ms/step\n",
            "TechReviewType\n",
            "1/1 [==============================] - 0s 150ms/step\n",
            "MrBeastType\n",
            "1/1 [==============================] - 0s 147ms/step\n",
            "GamingType\n",
            "1/1 [==============================] - 0s 233ms/step\n",
            "VlogType\n",
            "1/1 [==============================] - 0s 219ms/step\n",
            "GamingType\n",
            "1/1 [==============================] - 0s 217ms/step\n",
            "GamingType\n",
            "1/1 [==============================] - 0s 192ms/step\n",
            "MrBeastType\n",
            "1/1 [==============================] - 0s 165ms/step\n",
            "MrBeastType\n",
            "1/1 [==============================] - 0s 143ms/step\n",
            "MrBeastType\n",
            "1/1 [==============================] - 0s 148ms/step\n",
            "GamingType\n",
            "1/1 [==============================] - 0s 153ms/step\n",
            "GamingType\n",
            "1/1 [==============================] - 0s 140ms/step\n",
            "MinimalistType\n",
            "1/1 [==============================] - 0s 141ms/step\n",
            "MinimalistType\n",
            "1/1 [==============================] - 0s 141ms/step\n",
            "MinimalistType\n",
            "1/1 [==============================] - 0s 146ms/step\n",
            "GamingType\n",
            "1/1 [==============================] - 0s 148ms/step\n",
            "MinimalistType\n",
            "1/1 [==============================] - 0s 143ms/step\n",
            "MrBeastType\n",
            "1/1 [==============================] - 0s 157ms/step\n",
            "MrBeastType\n",
            "1/1 [==============================] - 0s 139ms/step\n",
            "MrBeastType\n",
            "1/1 [==============================] - 0s 205ms/step\n",
            "TechReviewType\n",
            "1/1 [==============================] - 0s 222ms/step\n",
            "GamingType\n",
            "1/1 [==============================] - 0s 234ms/step\n",
            "TechReviewType\n",
            "1/1 [==============================] - 0s 138ms/step\n",
            "MrBeastType\n",
            "1/1 [==============================] - 0s 143ms/step\n",
            "MrBeastType\n",
            "1/1 [==============================] - 0s 172ms/step\n",
            "GamingType\n",
            "1/1 [==============================] - 0s 138ms/step\n",
            "MinimalistType\n",
            "1/1 [==============================] - 0s 137ms/step\n",
            "MinimalistType\n",
            "1/1 [==============================] - 0s 141ms/step\n",
            "MrBeastType\n",
            "1/1 [==============================] - 0s 138ms/step\n",
            "MinimalistType\n",
            "1/1 [==============================] - 0s 142ms/step\n",
            "VlogType\n",
            "1/1 [==============================] - 0s 138ms/step\n",
            "VlogType\n",
            "1/1 [==============================] - 0s 136ms/step\n",
            "VlogType\n",
            "1/1 [==============================] - 0s 137ms/step\n",
            "VlogType\n",
            "1/1 [==============================] - 0s 149ms/step\n",
            "MrBeastType\n",
            "1/1 [==============================] - 0s 204ms/step\n",
            "GamingType\n",
            "1/1 [==============================] - 0s 205ms/step\n",
            "TechReviewType\n",
            "1/1 [==============================] - 0s 237ms/step\n",
            "GamingType\n",
            "1/1 [==============================] - 0s 150ms/step\n",
            "VlogType\n",
            "1/1 [==============================] - 0s 151ms/step\n",
            "MinimalistType\n",
            "1/1 [==============================] - 0s 153ms/step\n",
            "GamingType\n",
            "1/1 [==============================] - 0s 169ms/step\n",
            "MinimalistType\n",
            "1/1 [==============================] - 0s 143ms/step\n",
            "MrBeastType\n",
            "1/1 [==============================] - 0s 166ms/step\n",
            "TechReviewType\n",
            "1/1 [==============================] - 0s 143ms/step\n",
            "MrBeastType\n",
            "1/1 [==============================] - 0s 147ms/step\n",
            "GamingType\n",
            "1/1 [==============================] - 0s 155ms/step\n",
            "GamingType\n",
            "1/1 [==============================] - 0s 142ms/step\n",
            "MinimalistType\n",
            "1/1 [==============================] - 0s 141ms/step\n",
            "MrBeastType\n",
            "1/1 [==============================] - 0s 164ms/step\n",
            "GamingType\n",
            "1/1 [==============================] - 0s 218ms/step\n",
            "GamingType\n",
            "1/1 [==============================] - 0s 237ms/step\n",
            "VlogType\n",
            "1/1 [==============================] - 0s 217ms/step\n",
            "GamingType\n",
            "1/1 [==============================] - 0s 150ms/step\n",
            "MinimalistType\n",
            "1/1 [==============================] - 0s 142ms/step\n",
            "GamingType\n",
            "1/1 [==============================] - 0s 140ms/step\n",
            "MrBeastType\n",
            "1/1 [==============================] - 0s 138ms/step\n",
            "MrBeastType\n",
            "1/1 [==============================] - 0s 145ms/step\n",
            "TechReviewType\n",
            "1/1 [==============================] - 0s 140ms/step\n",
            "GamingType\n",
            "1/1 [==============================] - 0s 145ms/step\n",
            "GamingType\n",
            "1/1 [==============================] - 0s 159ms/step\n",
            "VlogType\n",
            "1/1 [==============================] - 0s 137ms/step\n",
            "MrBeastType\n",
            "1/1 [==============================] - 0s 143ms/step\n",
            "MinimalistType\n",
            "1/1 [==============================] - 0s 142ms/step\n",
            "GamingType\n",
            "1/1 [==============================] - 0s 139ms/step\n",
            "GamingType\n",
            "1/1 [==============================] - 0s 206ms/step\n",
            "VlogType\n",
            "1/1 [==============================] - 0s 201ms/step\n",
            "MrBeastType\n",
            "1/1 [==============================] - 0s 202ms/step\n",
            "MrBeastType\n",
            "1/1 [==============================] - 0s 150ms/step\n",
            "MinimalistType\n",
            "1/1 [==============================] - 0s 147ms/step\n",
            "GamingType\n",
            "1/1 [==============================] - 0s 159ms/step\n",
            "GamingType\n",
            "1/1 [==============================] - 0s 140ms/step\n",
            "VlogType\n",
            "1/1 [==============================] - 0s 161ms/step\n",
            "MinimalistType\n",
            "1/1 [==============================] - 0s 155ms/step\n",
            "GamingType\n",
            "1/1 [==============================] - 0s 170ms/step\n",
            "MinimalistType\n",
            "1/1 [==============================] - 0s 146ms/step\n",
            "GamingType\n",
            "1/1 [==============================] - 0s 144ms/step\n",
            "MrBeastType\n",
            "1/1 [==============================] - 0s 142ms/step\n",
            "MinimalistType\n",
            "1/1 [==============================] - 0s 152ms/step\n",
            "MrBeastType\n",
            "1/1 [==============================] - 0s 143ms/step\n",
            "MinimalistType\n",
            "1/1 [==============================] - 0s 222ms/step\n",
            "GamingType\n",
            "1/1 [==============================] - 0s 220ms/step\n",
            "GamingType\n",
            "1/1 [==============================] - 0s 231ms/step\n",
            "GamingType\n",
            "1/1 [==============================] - 0s 144ms/step\n",
            "MrBeastType\n",
            "1/1 [==============================] - 0s 146ms/step\n",
            "GamingType\n",
            "1/1 [==============================] - 0s 151ms/step\n",
            "MinimalistType\n",
            "1/1 [==============================] - 0s 150ms/step\n",
            "MrBeastType\n",
            "1/1 [==============================] - 0s 150ms/step\n",
            "MrBeastType\n",
            "1/1 [==============================] - 0s 154ms/step\n",
            "MrBeastType\n",
            "1/1 [==============================] - 0s 138ms/step\n",
            "MrBeastType\n",
            "1/1 [==============================] - 0s 140ms/step\n",
            "GamingType\n",
            "1/1 [==============================] - 0s 160ms/step\n",
            "MinimalistType\n",
            "1/1 [==============================] - 0s 145ms/step\n",
            "MinimalistType\n",
            "1/1 [==============================] - 0s 143ms/step\n",
            "GamingType\n",
            "1/1 [==============================] - 0s 141ms/step\n",
            "GamingType\n",
            "1/1 [==============================] - 0s 199ms/step\n",
            "VlogType\n",
            "1/1 [==============================] - 0s 208ms/step\n",
            "GamingType\n",
            "1/1 [==============================] - 0s 216ms/step\n",
            "MinimalistType\n",
            "1/1 [==============================] - 0s 144ms/step\n",
            "TechReviewType\n",
            "1/1 [==============================] - 0s 135ms/step\n",
            "TechReviewType\n",
            "1/1 [==============================] - 0s 144ms/step\n",
            "MinimalistType\n",
            "1/1 [==============================] - 0s 143ms/step\n",
            "TechReviewType\n",
            "1/1 [==============================] - 0s 139ms/step\n",
            "TechReviewType\n",
            "1/1 [==============================] - 0s 137ms/step\n",
            "TechReviewType\n",
            "1/1 [==============================] - 0s 138ms/step\n",
            "MinimalistType\n",
            "1/1 [==============================] - 0s 137ms/step\n",
            "MinimalistType\n",
            "1/1 [==============================] - 0s 158ms/step\n",
            "VlogType\n",
            "1/1 [==============================] - 0s 154ms/step\n",
            "MrBeastType\n",
            "1/1 [==============================] - 0s 149ms/step\n",
            "MrBeastType\n",
            "1/1 [==============================] - 0s 160ms/step\n",
            "VlogType\n",
            "1/1 [==============================] - 0s 218ms/step\n",
            "GamingType\n",
            "1/1 [==============================] - 0s 235ms/step\n",
            "TechReviewType\n",
            "1/1 [==============================] - 0s 223ms/step\n",
            "GamingType\n",
            "1/1 [==============================] - 0s 153ms/step\n",
            "VlogType\n",
            "1/1 [==============================] - 0s 143ms/step\n",
            "MrBeastType\n",
            "1/1 [==============================] - 0s 147ms/step\n",
            "MinimalistType\n",
            "1/1 [==============================] - 0s 140ms/step\n",
            "MrBeastType\n",
            "1/1 [==============================] - 0s 142ms/step\n",
            "MrBeastType\n",
            "1/1 [==============================] - 0s 161ms/step\n",
            "MrBeastType\n",
            "1/1 [==============================] - 0s 144ms/step\n",
            "MrBeastType\n",
            "1/1 [==============================] - 0s 166ms/step\n",
            "MrBeastType\n",
            "1/1 [==============================] - 0s 144ms/step\n",
            "GamingType\n",
            "1/1 [==============================] - 0s 138ms/step\n",
            "MrBeastType\n",
            "1/1 [==============================] - 0s 148ms/step\n",
            "GamingType\n",
            "1/1 [==============================] - 0s 137ms/step\n",
            "VlogType\n",
            "1/1 [==============================] - 0s 199ms/step\n",
            "GamingType\n",
            "1/1 [==============================] - 0s 205ms/step\n",
            "MrBeastType\n",
            "1/1 [==============================] - 0s 224ms/step\n",
            "TechReviewType\n",
            "1/1 [==============================] - 0s 145ms/step\n",
            "MrBeastType\n",
            "1/1 [==============================] - 0s 149ms/step\n",
            "GamingType\n",
            "1/1 [==============================] - 0s 141ms/step\n",
            "GamingType\n",
            "1/1 [==============================] - 0s 139ms/step\n",
            "VlogType\n",
            "1/1 [==============================] - 0s 148ms/step\n",
            "TechReviewType\n",
            "1/1 [==============================] - 0s 139ms/step\n",
            "GamingType\n",
            "1/1 [==============================] - 0s 139ms/step\n",
            "MinimalistType\n",
            "1/1 [==============================] - 0s 140ms/step\n",
            "MinimalistType\n",
            "1/1 [==============================] - 0s 138ms/step\n",
            "GamingType\n",
            "1/1 [==============================] - 0s 146ms/step\n",
            "MrBeastType\n",
            "1/1 [==============================] - 0s 141ms/step\n",
            "MinimalistType\n",
            "1/1 [==============================] - 0s 142ms/step\n",
            "VlogType\n",
            "1/1 [==============================] - 0s 186ms/step\n",
            "GamingType\n",
            "1/1 [==============================] - 0s 260ms/step\n",
            "MrBeastType\n",
            "1/1 [==============================] - 0s 239ms/step\n",
            "MrBeastType\n",
            "1/1 [==============================] - 0s 148ms/step\n",
            "MrBeastType\n",
            "1/1 [==============================] - 0s 154ms/step\n",
            "MinimalistType\n",
            "1/1 [==============================] - 0s 145ms/step\n",
            "MrBeastType\n",
            "1/1 [==============================] - 0s 144ms/step\n",
            "GamingType\n",
            "1/1 [==============================] - 0s 143ms/step\n",
            "GamingType\n",
            "1/1 [==============================] - 0s 143ms/step\n",
            "MinimalistType\n",
            "1/1 [==============================] - 0s 160ms/step\n",
            "GamingType\n",
            "1/1 [==============================] - 0s 163ms/step\n",
            "MrBeastType\n",
            "1/1 [==============================] - 0s 139ms/step\n",
            "GamingType\n",
            "1/1 [==============================] - 0s 139ms/step\n",
            "MinimalistType\n",
            "1/1 [==============================] - 0s 142ms/step\n",
            "MinimalistType\n",
            "1/1 [==============================] - 0s 148ms/step\n",
            "VlogType\n",
            "1/1 [==============================] - 0s 201ms/step\n",
            "MrBeastType\n",
            "1/1 [==============================] - 0s 217ms/step\n",
            "VlogType\n",
            "1/1 [==============================] - 0s 227ms/step\n",
            "GamingType\n",
            "1/1 [==============================] - 0s 149ms/step\n",
            "VlogType\n",
            "1/1 [==============================] - 0s 140ms/step\n",
            "GamingType\n",
            "1/1 [==============================] - 0s 147ms/step\n",
            "MinimalistType\n",
            "1/1 [==============================] - 0s 141ms/step\n",
            "MrBeastType\n",
            "1/1 [==============================] - 0s 142ms/step\n",
            "GamingType\n",
            "1/1 [==============================] - 0s 149ms/step\n",
            "MrBeastType\n",
            "1/1 [==============================] - 0s 148ms/step\n",
            "GamingType\n",
            "1/1 [==============================] - 0s 137ms/step\n",
            "GamingType\n",
            "1/1 [==============================] - 0s 137ms/step\n",
            "MrBeastType\n",
            "1/1 [==============================] - 0s 138ms/step\n",
            "GamingType\n",
            "1/1 [==============================] - 0s 151ms/step\n",
            "VlogType\n",
            "1/1 [==============================] - 0s 141ms/step\n",
            "MinimalistType\n",
            "1/1 [==============================] - 0s 160ms/step\n",
            "GamingType\n",
            "1/1 [==============================] - 0s 196ms/step\n",
            "GamingType\n",
            "1/1 [==============================] - 0s 201ms/step\n",
            "GamingType\n",
            "1/1 [==============================] - 0s 216ms/step\n",
            "MrBeastType\n",
            "1/1 [==============================] - 0s 145ms/step\n",
            "MrBeastType\n",
            "1/1 [==============================] - 0s 135ms/step\n",
            "GamingType\n",
            "1/1 [==============================] - 0s 152ms/step\n",
            "MinimalistType\n",
            "1/1 [==============================] - 0s 150ms/step\n",
            "MinimalistType\n",
            "1/1 [==============================] - 0s 145ms/step\n",
            "GamingType\n",
            "1/1 [==============================] - 0s 148ms/step\n",
            "GamingType\n",
            "1/1 [==============================] - 0s 147ms/step\n",
            "MrBeastType\n",
            "1/1 [==============================] - 0s 166ms/step\n",
            "GamingType\n",
            "1/1 [==============================] - 0s 153ms/step\n",
            "VlogType\n",
            "1/1 [==============================] - 0s 144ms/step\n",
            "MrBeastType\n",
            "1/1 [==============================] - 0s 142ms/step\n",
            "GamingType\n",
            "1/1 [==============================] - 0s 231ms/step\n",
            "MinimalistType\n",
            "1/1 [==============================] - 0s 221ms/step\n",
            "GamingType\n",
            "1/1 [==============================] - 0s 202ms/step\n",
            "MrBeastType\n",
            "1/1 [==============================] - 0s 176ms/step\n",
            "GamingType\n",
            "1/1 [==============================] - 0s 150ms/step\n",
            "GamingType\n",
            "1/1 [==============================] - 0s 142ms/step\n",
            "GamingType\n",
            "1/1 [==============================] - 0s 146ms/step\n",
            "MinimalistType\n",
            "1/1 [==============================] - 0s 156ms/step\n",
            "GamingType\n",
            "1/1 [==============================] - 0s 141ms/step\n",
            "GamingType\n",
            "1/1 [==============================] - 0s 174ms/step\n",
            "GamingType\n",
            "1/1 [==============================] - 0s 142ms/step\n",
            "VlogType\n",
            "1/1 [==============================] - 0s 140ms/step\n",
            "MrBeastType\n",
            "1/1 [==============================] - 0s 144ms/step\n",
            "VlogType\n",
            "1/1 [==============================] - 0s 146ms/step\n",
            "MinimalistType\n",
            "1/1 [==============================] - 0s 150ms/step\n",
            "GamingType\n",
            "1/1 [==============================] - 0s 141ms/step\n",
            "MrBeastType\n",
            "1/1 [==============================] - 0s 201ms/step\n",
            "MinimalistType\n",
            "1/1 [==============================] - 0s 208ms/step\n",
            "GamingType\n",
            "1/1 [==============================] - 0s 233ms/step\n",
            "GamingType\n",
            "1/1 [==============================] - 0s 141ms/step\n",
            "MinimalistType\n",
            "1/1 [==============================] - 0s 137ms/step\n",
            "MinimalistType\n",
            "1/1 [==============================] - 0s 139ms/step\n",
            "GamingType\n",
            "1/1 [==============================] - 0s 160ms/step\n",
            "GamingType\n",
            "1/1 [==============================] - 0s 146ms/step\n",
            "MinimalistType\n",
            "1/1 [==============================] - 0s 144ms/step\n",
            "GamingType\n",
            "1/1 [==============================] - 0s 137ms/step\n",
            "GamingType\n",
            "1/1 [==============================] - 0s 154ms/step\n",
            "GamingType\n",
            "1/1 [==============================] - 0s 155ms/step\n",
            "GamingType\n",
            "1/1 [==============================] - 0s 146ms/step\n",
            "GamingType\n",
            "1/1 [==============================] - 0s 149ms/step\n",
            "MinimalistType\n",
            "1/1 [==============================] - 0s 223ms/step\n",
            "MinimalistType\n",
            "1/1 [==============================] - 0s 205ms/step\n",
            "MrBeastType\n",
            "1/1 [==============================] - 0s 218ms/step\n",
            "MinimalistType\n",
            "1/1 [==============================] - 0s 190ms/step\n",
            "MinimalistType\n",
            "1/1 [==============================] - 0s 145ms/step\n",
            "VlogType\n",
            "1/1 [==============================] - 0s 156ms/step\n",
            "GamingType\n",
            "1/1 [==============================] - 0s 142ms/step\n",
            "MinimalistType\n",
            "1/1 [==============================] - 0s 144ms/step\n",
            "VlogType\n",
            "1/1 [==============================] - 0s 140ms/step\n",
            "MrBeastType\n",
            "1/1 [==============================] - 0s 142ms/step\n",
            "MinimalistType\n",
            "1/1 [==============================] - 0s 151ms/step\n",
            "MrBeastType\n",
            "1/1 [==============================] - 0s 148ms/step\n",
            "VlogType\n",
            "1/1 [==============================] - 0s 155ms/step\n",
            "GamingType\n",
            "1/1 [==============================] - 0s 143ms/step\n",
            "MinimalistType\n",
            "1/1 [==============================] - 0s 152ms/step\n",
            "MinimalistType\n",
            "1/1 [==============================] - 0s 153ms/step\n",
            "MinimalistType\n",
            "1/1 [==============================] - 0s 227ms/step\n",
            "MinimalistType\n",
            "1/1 [==============================] - 0s 228ms/step\n",
            "GamingType\n",
            "1/1 [==============================] - 0s 230ms/step\n",
            "GamingType\n",
            "1/1 [==============================] - 0s 150ms/step\n",
            "MrBeastType\n",
            "1/1 [==============================] - 0s 137ms/step\n",
            "MinimalistType\n",
            "1/1 [==============================] - 0s 136ms/step\n",
            "GamingType\n",
            "1/1 [==============================] - 0s 139ms/step\n",
            "MinimalistType\n",
            "1/1 [==============================] - 0s 145ms/step\n",
            "MrBeastType\n",
            "1/1 [==============================] - 0s 144ms/step\n",
            "GamingType\n",
            "1/1 [==============================] - 0s 137ms/step\n",
            "VlogType\n",
            "1/1 [==============================] - 0s 146ms/step\n",
            "GamingType\n",
            "1/1 [==============================] - 0s 142ms/step\n",
            "MinimalistType\n",
            "1/1 [==============================] - 0s 147ms/step\n",
            "GamingType\n",
            "1/1 [==============================] - 0s 147ms/step\n",
            "GamingType\n",
            "1/1 [==============================] - 0s 136ms/step\n",
            "MinimalistType\n",
            "1/1 [==============================] - 0s 226ms/step\n",
            "MrBeastType\n",
            "1/1 [==============================] - 0s 211ms/step\n",
            "GamingType\n",
            "1/1 [==============================] - 0s 230ms/step\n",
            "GamingType\n",
            "1/1 [==============================] - 0s 149ms/step\n",
            "GamingType\n",
            "1/1 [==============================] - 0s 156ms/step\n",
            "GamingType\n",
            "1/1 [==============================] - 0s 156ms/step\n",
            "MrBeastType\n",
            "1/1 [==============================] - 0s 144ms/step\n",
            "GamingType\n",
            "1/1 [==============================] - 0s 142ms/step\n",
            "GamingType\n",
            "1/1 [==============================] - 0s 143ms/step\n",
            "MinimalistType\n",
            "1/1 [==============================] - 0s 158ms/step\n",
            "MrBeastType\n",
            "1/1 [==============================] - 0s 138ms/step\n",
            "TechReviewType\n",
            "1/1 [==============================] - 0s 157ms/step\n",
            "GamingType\n",
            "1/1 [==============================] - 0s 141ms/step\n",
            "MrBeastType\n",
            "1/1 [==============================] - 0s 142ms/step\n",
            "VlogType\n",
            "1/1 [==============================] - 0s 152ms/step\n",
            "GamingType\n",
            "1/1 [==============================] - 0s 217ms/step\n",
            "GamingType\n",
            "1/1 [==============================] - 0s 234ms/step\n",
            "MinimalistType\n",
            "1/1 [==============================] - 0s 232ms/step\n",
            "MinimalistType\n",
            "1/1 [==============================] - 0s 152ms/step\n",
            "GamingType\n",
            "1/1 [==============================] - 0s 140ms/step\n",
            "GamingType\n",
            "1/1 [==============================] - 0s 144ms/step\n",
            "MrBeastType\n",
            "1/1 [==============================] - 0s 162ms/step\n",
            "MrBeastType\n",
            "1/1 [==============================] - 0s 139ms/step\n",
            "MinimalistType\n",
            "1/1 [==============================] - 0s 145ms/step\n",
            "VlogType\n",
            "1/1 [==============================] - 0s 147ms/step\n",
            "MrBeastType\n",
            "1/1 [==============================] - 0s 137ms/step\n",
            "GamingType\n",
            "1/1 [==============================] - 0s 138ms/step\n",
            "GamingType\n",
            "1/1 [==============================] - 0s 147ms/step\n",
            "MinimalistType\n",
            "1/1 [==============================] - 0s 147ms/step\n",
            "GamingType\n",
            "1/1 [==============================] - 0s 138ms/step\n",
            "MinimalistType\n",
            "1/1 [==============================] - 0s 210ms/step\n",
            "GamingType\n",
            "1/1 [==============================] - 0s 201ms/step\n",
            "MinimalistType\n",
            "1/1 [==============================] - 0s 205ms/step\n",
            "GamingType\n",
            "1/1 [==============================] - 0s 171ms/step\n",
            "MrBeastType\n",
            "1/1 [==============================] - 0s 139ms/step\n",
            "MinimalistType\n",
            "1/1 [==============================] - 0s 155ms/step\n",
            "MinimalistType\n",
            "1/1 [==============================] - 0s 148ms/step\n",
            "GamingType\n",
            "1/1 [==============================] - 0s 147ms/step\n",
            "VlogType\n",
            "1/1 [==============================] - 0s 155ms/step\n",
            "GamingType\n",
            "1/1 [==============================] - 0s 149ms/step\n",
            "GamingType\n",
            "1/1 [==============================] - 0s 153ms/step\n",
            "GamingType\n",
            "1/1 [==============================] - 0s 154ms/step\n",
            "MinimalistType\n",
            "1/1 [==============================] - 0s 141ms/step\n",
            "GamingType\n",
            "1/1 [==============================] - 0s 143ms/step\n",
            "MinimalistType\n",
            "1/1 [==============================] - 0s 146ms/step\n",
            "GamingType\n",
            "1/1 [==============================] - 0s 210ms/step\n",
            "MrBeastType\n",
            "1/1 [==============================] - 0s 221ms/step\n",
            "MrBeastType\n",
            "1/1 [==============================] - 0s 213ms/step\n",
            "GamingType\n",
            "1/1 [==============================] - 0s 140ms/step\n",
            "MrBeastType\n",
            "1/1 [==============================] - 0s 142ms/step\n",
            "VlogType\n",
            "1/1 [==============================] - 0s 146ms/step\n",
            "MinimalistType\n",
            "1/1 [==============================] - 0s 142ms/step\n",
            "MinimalistType\n",
            "1/1 [==============================] - 0s 159ms/step\n",
            "GamingType\n",
            "1/1 [==============================] - 0s 142ms/step\n",
            "GamingType\n",
            "1/1 [==============================] - 0s 138ms/step\n",
            "VlogType\n",
            "1/1 [==============================] - 0s 148ms/step\n",
            "MinimalistType\n",
            "1/1 [==============================] - 0s 142ms/step\n",
            "MinimalistType\n",
            "1/1 [==============================] - 0s 140ms/step\n",
            "GamingType\n",
            "1/1 [==============================] - 0s 146ms/step\n",
            "MrBeastType\n",
            "1/1 [==============================] - 0s 141ms/step\n",
            "GamingType\n",
            "1/1 [==============================] - 0s 207ms/step\n",
            "GamingType\n",
            "1/1 [==============================] - 0s 215ms/step\n",
            "MinimalistType\n",
            "1/1 [==============================] - 0s 244ms/step\n",
            "MrBeastType\n",
            "1/1 [==============================] - 0s 136ms/step\n",
            "GamingType\n",
            "1/1 [==============================] - 0s 141ms/step\n",
            "GamingType\n",
            "1/1 [==============================] - 0s 138ms/step\n",
            "MrBeastType\n",
            "1/1 [==============================] - 0s 138ms/step\n",
            "MinimalistType\n",
            "1/1 [==============================] - 0s 140ms/step\n",
            "MrBeastType\n",
            "1/1 [==============================] - 0s 161ms/step\n",
            "VlogType\n",
            "1/1 [==============================] - 0s 142ms/step\n",
            "MrBeastType\n",
            "1/1 [==============================] - 0s 161ms/step\n",
            "MinimalistType\n",
            "1/1 [==============================] - 0s 161ms/step\n",
            "TechReviewType\n",
            "1/1 [==============================] - 0s 148ms/step\n",
            "GamingType\n",
            "1/1 [==============================] - 0s 152ms/step\n",
            "GamingType\n",
            "1/1 [==============================] - 0s 144ms/step\n",
            "MrBeastType\n",
            "1/1 [==============================] - 0s 213ms/step\n",
            "GamingType\n",
            "1/1 [==============================] - 0s 225ms/step\n",
            "MinimalistType\n",
            "1/1 [==============================] - 0s 239ms/step\n",
            "MinimalistType\n",
            "1/1 [==============================] - 0s 147ms/step\n",
            "MinimalistType\n",
            "1/1 [==============================] - 0s 149ms/step\n",
            "TechReviewType\n",
            "1/1 [==============================] - 0s 142ms/step\n",
            "MrBeastType\n",
            "1/1 [==============================] - 0s 154ms/step\n",
            "GamingType\n",
            "1/1 [==============================] - 0s 140ms/step\n",
            "MrBeastType\n",
            "1/1 [==============================] - 0s 143ms/step\n",
            "MrBeastType\n",
            "1/1 [==============================] - 0s 143ms/step\n",
            "MrBeastType\n",
            "1/1 [==============================] - 0s 147ms/step\n",
            "GamingType\n",
            "1/1 [==============================] - 0s 162ms/step\n",
            "MinimalistType\n",
            "1/1 [==============================] - 0s 142ms/step\n",
            "GamingType\n",
            "1/1 [==============================] - 0s 144ms/step\n",
            "GamingType\n",
            "1/1 [==============================] - 0s 182ms/step\n",
            "GamingType\n",
            "1/1 [==============================] - 0s 209ms/step\n",
            "TechReviewType\n",
            "1/1 [==============================] - 0s 220ms/step\n",
            "MrBeastType\n",
            "1/1 [==============================] - 0s 221ms/step\n",
            "GamingType\n",
            "1/1 [==============================] - 0s 140ms/step\n",
            "MinimalistType\n",
            "1/1 [==============================] - 0s 138ms/step\n",
            "GamingType\n",
            "1/1 [==============================] - 0s 139ms/step\n",
            "GamingType\n",
            "1/1 [==============================] - 0s 147ms/step\n",
            "MinimalistType\n",
            "1/1 [==============================] - 0s 146ms/step\n",
            "MinimalistType\n",
            "1/1 [==============================] - 0s 144ms/step\n",
            "MrBeastType\n",
            "1/1 [==============================] - 0s 137ms/step\n",
            "GamingType\n",
            "1/1 [==============================] - 0s 142ms/step\n",
            "GamingType\n",
            "1/1 [==============================] - 0s 145ms/step\n",
            "TechReviewType\n",
            "1/1 [==============================] - 0s 140ms/step\n",
            "MinimalistType\n",
            "1/1 [==============================] - 0s 137ms/step\n",
            "MrBeastType\n",
            "1/1 [==============================] - 0s 141ms/step\n",
            "GamingType\n",
            "1/1 [==============================] - 0s 224ms/step\n",
            "MrBeastType\n",
            "1/1 [==============================] - 0s 226ms/step\n",
            "GamingType\n",
            "1/1 [==============================] - 0s 229ms/step\n",
            "TechReviewType\n",
            "1/1 [==============================] - 0s 169ms/step\n",
            "GamingType\n",
            "1/1 [==============================] - 0s 149ms/step\n",
            "MinimalistType\n",
            "1/1 [==============================] - 0s 146ms/step\n",
            "MinimalistType\n",
            "1/1 [==============================] - 0s 147ms/step\n",
            "MrBeastType\n",
            "1/1 [==============================] - 0s 144ms/step\n",
            "GamingType\n",
            "1/1 [==============================] - 0s 159ms/step\n",
            "MrBeastType\n",
            "1/1 [==============================] - 0s 146ms/step\n",
            "MinimalistType\n",
            "1/1 [==============================] - 0s 149ms/step\n",
            "GamingType\n",
            "1/1 [==============================] - 0s 143ms/step\n",
            "GamingType\n",
            "1/1 [==============================] - 0s 146ms/step\n",
            "GamingType\n",
            "1/1 [==============================] - 0s 150ms/step\n",
            "TechReviewType\n",
            "1/1 [==============================] - 0s 144ms/step\n",
            "TechReviewType\n",
            "1/1 [==============================] - 0s 216ms/step\n",
            "MinimalistType\n",
            "1/1 [==============================] - 0s 221ms/step\n",
            "MrBeastType\n",
            "1/1 [==============================] - 0s 223ms/step\n",
            "MinimalistType\n",
            "1/1 [==============================] - 0s 142ms/step\n",
            "GamingType\n",
            "1/1 [==============================] - 0s 145ms/step\n",
            "TechReviewType\n",
            "1/1 [==============================] - 0s 141ms/step\n",
            "MinimalistType\n",
            "1/1 [==============================] - 0s 143ms/step\n",
            "GamingType\n",
            "1/1 [==============================] - 0s 144ms/step\n",
            "VlogType\n",
            "1/1 [==============================] - 0s 145ms/step\n",
            "MrBeastType\n",
            "1/1 [==============================] - 0s 142ms/step\n",
            "GamingType\n",
            "1/1 [==============================] - 0s 139ms/step\n",
            "VlogType\n",
            "1/1 [==============================] - 0s 136ms/step\n",
            "GamingType\n",
            "1/1 [==============================] - 0s 151ms/step\n",
            "VlogType\n",
            "1/1 [==============================] - 0s 148ms/step\n",
            "GamingType\n",
            "1/1 [==============================] - 0s 139ms/step\n",
            "MrBeastType\n",
            "1/1 [==============================] - 0s 224ms/step\n",
            "MrBeastType\n",
            "1/1 [==============================] - 0s 201ms/step\n",
            "GamingType\n",
            "1/1 [==============================] - 0s 204ms/step\n",
            "VlogType\n",
            "1/1 [==============================] - 0s 168ms/step\n",
            "VlogType\n",
            "1/1 [==============================] - 0s 143ms/step\n",
            "MrBeastType\n",
            "1/1 [==============================] - 0s 156ms/step\n",
            "MinimalistType\n",
            "1/1 [==============================] - 0s 151ms/step\n",
            "MinimalistType\n",
            "1/1 [==============================] - 0s 145ms/step\n",
            "VlogType\n",
            "1/1 [==============================] - 0s 147ms/step\n",
            "GamingType\n",
            "1/1 [==============================] - 0s 148ms/step\n",
            "GamingType\n",
            "1/1 [==============================] - 0s 163ms/step\n",
            "MinimalistType\n",
            "1/1 [==============================] - 0s 146ms/step\n",
            "VlogType\n",
            "1/1 [==============================] - 0s 144ms/step\n",
            "MrBeastType\n",
            "1/1 [==============================] - 0s 147ms/step\n",
            "GamingType\n",
            "{'MrBeastType': 227, 'VlogType': 85, 'TechReviewType': 57, 'GamingType': 297, 'MinimalistType': 183}\n",
            "Overall Genre: GamingType\n"
          ]
        }
      ]
    },
    {
      "cell_type": "code",
      "source": [
        "import os\n",
        "import librosa\n",
        "import numpy as np\n",
        "from keras.models import load_model\n",
        "\n",
        "# Function to extract MFCC features from audio files\n",
        "def extract_features(file_path):\n",
        "    y, sr = librosa.load(file_path, mono=True, duration=5)\n",
        "    mfccs = librosa.feature.mfcc(y=y, sr=sr, n_mfcc=13)\n",
        "    return mfccs\n",
        "\n",
        "# Load the trained model\n",
        "model_path = '/content/drive/MyDrive/videos/audio_analysis_multi_genre.h5'  # Use the model trained for multiple genres\n",
        "model = load_model(model_path)\n",
        "\n",
        "# Audio folder path\n",
        "audio_folder = '/content/Test/audio'\n",
        "\n",
        "# Initialize counters for each genre\n",
        "genre_counts = {genre: 0 for genre in genres}\n",
        "\n",
        "# Loop through all audio files in the folder\n",
        "for audio_file in os.listdir(audio_folder):\n",
        "    # Construct the full path for each audio file\n",
        "    audio_path = os.path.join(audio_folder, audio_file)\n",
        "\n",
        "    # Extract features from the audio file\n",
        "    audio_features = extract_features(audio_path)\n",
        "\n",
        "    # Ensure the features have the expected shape (216 time steps)\n",
        "    expected_shape = (216, 13)\n",
        "    if audio_features.shape[1] < expected_shape[0]:\n",
        "        # Pad the features if they have fewer time steps\n",
        "        audio_features = np.pad(audio_features, ((0, 0), (0, expected_shape[0] - audio_features.shape[1])))\n",
        "    elif audio_features.shape[1] > expected_shape[0]:\n",
        "        # Truncate the features if they have more time steps\n",
        "        audio_features = audio_features[:, :expected_shape[0]]\n",
        "\n",
        "    # Transpose and reshape the features\n",
        "    audio_features = audio_features.transpose(1, 0)  # Transpose\n",
        "    audio_features = audio_features.reshape(1, audio_features.shape[0], audio_features.shape[1])\n",
        "\n",
        "    # Predict the class\n",
        "    prediction = model.predict(audio_features)\n",
        "\n",
        "    # Map the predicted class to a label\n",
        "    predicted_class = genres[np.argmax(prediction)]\n",
        "\n",
        "    # Update counters for each genre\n",
        "    genre_counts[predicted_class] += 1\n",
        "\n",
        "# Determine the overall predicted genre based on majority vote\n",
        "overall_genre = max(genre_counts, key=genre_counts.get)\n",
        "\n",
        "# Print the prediction for each part and the overall predicted genre\n",
        "print(\"Predictions for Each Part:\")\n",
        "for genre, count in genre_counts.items():\n",
        "    print(f\"{genre}: {count} parts\")\n",
        "\n",
        "print(f\"\\nOverall Predicted Genre: {overall_genre}\")\n"
      ],
      "metadata": {
        "id": "Iwsl9ViQDK46",
        "outputId": "1db265bc-eed7-40fa-abc5-1a61014ce5ed",
        "colab": {
          "base_uri": "https://localhost:8080/"
        }
      },
      "execution_count": null,
      "outputs": [
        {
          "output_type": "stream",
          "name": "stdout",
          "text": [
            "1/1 [==============================] - 0s 121ms/step\n",
            "1/1 [==============================] - 0s 37ms/step\n",
            "1/1 [==============================] - 0s 50ms/step\n",
            "1/1 [==============================] - 0s 26ms/step\n",
            "1/1 [==============================] - 0s 28ms/step\n",
            "1/1 [==============================] - 0s 23ms/step\n",
            "1/1 [==============================] - 0s 22ms/step\n",
            "1/1 [==============================] - 0s 23ms/step\n",
            "1/1 [==============================] - 0s 23ms/step\n",
            "1/1 [==============================] - 0s 26ms/step\n",
            "1/1 [==============================] - 0s 27ms/step\n",
            "1/1 [==============================] - 0s 27ms/step\n",
            "1/1 [==============================] - 0s 23ms/step\n",
            "1/1 [==============================] - 0s 26ms/step\n",
            "1/1 [==============================] - 0s 34ms/step\n",
            "1/1 [==============================] - 0s 54ms/step\n",
            "1/1 [==============================] - 0s 35ms/step\n",
            "1/1 [==============================] - 0s 28ms/step\n",
            "1/1 [==============================] - 0s 29ms/step\n",
            "1/1 [==============================] - 0s 47ms/step\n",
            "1/1 [==============================] - 0s 45ms/step\n",
            "1/1 [==============================] - 0s 27ms/step\n",
            "1/1 [==============================] - 0s 44ms/step\n",
            "1/1 [==============================] - 0s 50ms/step\n",
            "1/1 [==============================] - 0s 53ms/step\n",
            "1/1 [==============================] - 0s 38ms/step\n",
            "1/1 [==============================] - 0s 39ms/step\n",
            "1/1 [==============================] - 0s 25ms/step\n",
            "1/1 [==============================] - 0s 29ms/step\n",
            "1/1 [==============================] - 0s 45ms/step\n",
            "1/1 [==============================] - 0s 39ms/step\n",
            "1/1 [==============================] - 0s 46ms/step\n",
            "1/1 [==============================] - 0s 40ms/step\n",
            "1/1 [==============================] - 0s 43ms/step\n",
            "1/1 [==============================] - 0s 27ms/step\n",
            "1/1 [==============================] - 0s 48ms/step\n",
            "1/1 [==============================] - 0s 44ms/step\n",
            "1/1 [==============================] - 0s 32ms/step\n",
            "1/1 [==============================] - 0s 44ms/step\n",
            "1/1 [==============================] - 0s 31ms/step\n",
            "1/1 [==============================] - 0s 41ms/step\n",
            "1/1 [==============================] - 0s 40ms/step\n",
            "1/1 [==============================] - 0s 43ms/step\n",
            "1/1 [==============================] - 0s 31ms/step\n",
            "1/1 [==============================] - 0s 33ms/step\n",
            "1/1 [==============================] - 0s 26ms/step\n",
            "1/1 [==============================] - 0s 28ms/step\n",
            "1/1 [==============================] - 0s 29ms/step\n",
            "1/1 [==============================] - 0s 26ms/step\n",
            "1/1 [==============================] - 0s 23ms/step\n",
            "1/1 [==============================] - 0s 23ms/step\n",
            "1/1 [==============================] - 0s 23ms/step\n",
            "1/1 [==============================] - 0s 23ms/step\n",
            "1/1 [==============================] - 0s 22ms/step\n",
            "1/1 [==============================] - 0s 23ms/step\n",
            "1/1 [==============================] - 0s 28ms/step\n",
            "1/1 [==============================] - 0s 23ms/step\n",
            "1/1 [==============================] - 0s 26ms/step\n",
            "1/1 [==============================] - 0s 27ms/step\n",
            "1/1 [==============================] - 0s 27ms/step\n",
            "1/1 [==============================] - 0s 26ms/step\n",
            "1/1 [==============================] - 0s 26ms/step\n",
            "1/1 [==============================] - 0s 26ms/step\n",
            "1/1 [==============================] - 0s 27ms/step\n",
            "1/1 [==============================] - 0s 24ms/step\n",
            "1/1 [==============================] - 0s 23ms/step\n",
            "1/1 [==============================] - 0s 27ms/step\n",
            "1/1 [==============================] - 0s 27ms/step\n",
            "1/1 [==============================] - 0s 27ms/step\n",
            "1/1 [==============================] - 0s 26ms/step\n",
            "1/1 [==============================] - 0s 23ms/step\n",
            "1/1 [==============================] - 0s 26ms/step\n",
            "1/1 [==============================] - 0s 23ms/step\n",
            "1/1 [==============================] - 0s 27ms/step\n",
            "1/1 [==============================] - 0s 23ms/step\n",
            "1/1 [==============================] - 0s 28ms/step\n",
            "1/1 [==============================] - 0s 26ms/step\n",
            "1/1 [==============================] - 0s 26ms/step\n",
            "1/1 [==============================] - 0s 26ms/step\n",
            "1/1 [==============================] - 0s 26ms/step\n",
            "1/1 [==============================] - 0s 26ms/step\n",
            "1/1 [==============================] - 0s 43ms/step\n",
            "1/1 [==============================] - 0s 26ms/step\n",
            "1/1 [==============================] - 0s 26ms/step\n",
            "1/1 [==============================] - 0s 26ms/step\n",
            "1/1 [==============================] - 0s 28ms/step\n",
            "1/1 [==============================] - 0s 23ms/step\n",
            "1/1 [==============================] - 0s 26ms/step\n",
            "1/1 [==============================] - 0s 29ms/step\n",
            "1/1 [==============================] - 0s 26ms/step\n",
            "1/1 [==============================] - 0s 26ms/step\n",
            "1/1 [==============================] - 0s 26ms/step\n",
            "1/1 [==============================] - 0s 29ms/step\n",
            "1/1 [==============================] - 0s 27ms/step\n",
            "1/1 [==============================] - 0s 27ms/step\n",
            "1/1 [==============================] - 0s 26ms/step\n",
            "1/1 [==============================] - 0s 26ms/step\n",
            "1/1 [==============================] - 0s 26ms/step\n",
            "1/1 [==============================] - 0s 26ms/step\n",
            "1/1 [==============================] - 0s 27ms/step\n",
            "1/1 [==============================] - 0s 29ms/step\n",
            "1/1 [==============================] - 0s 27ms/step\n",
            "1/1 [==============================] - 0s 27ms/step\n",
            "1/1 [==============================] - 0s 40ms/step\n",
            "1/1 [==============================] - 0s 27ms/step\n",
            "1/1 [==============================] - 0s 27ms/step\n",
            "1/1 [==============================] - 0s 26ms/step\n",
            "1/1 [==============================] - 0s 27ms/step\n",
            "1/1 [==============================] - 0s 28ms/step\n",
            "1/1 [==============================] - 0s 27ms/step\n",
            "1/1 [==============================] - 0s 23ms/step\n",
            "1/1 [==============================] - 0s 23ms/step\n",
            "1/1 [==============================] - 0s 28ms/step\n",
            "1/1 [==============================] - 0s 26ms/step\n",
            "1/1 [==============================] - 0s 39ms/step\n",
            "1/1 [==============================] - 0s 27ms/step\n",
            "1/1 [==============================] - 0s 26ms/step\n",
            "1/1 [==============================] - 0s 31ms/step\n",
            "1/1 [==============================] - 0s 27ms/step\n",
            "1/1 [==============================] - 0s 27ms/step\n",
            "1/1 [==============================] - 0s 26ms/step\n",
            "1/1 [==============================] - 0s 26ms/step\n",
            "1/1 [==============================] - 0s 25ms/step\n",
            "1/1 [==============================] - 0s 27ms/step\n",
            "1/1 [==============================] - 0s 23ms/step\n",
            "1/1 [==============================] - 0s 39ms/step\n",
            "1/1 [==============================] - 0s 28ms/step\n",
            "1/1 [==============================] - 0s 31ms/step\n",
            "1/1 [==============================] - 0s 23ms/step\n",
            "1/1 [==============================] - 0s 25ms/step\n",
            "1/1 [==============================] - 0s 27ms/step\n",
            "1/1 [==============================] - 0s 28ms/step\n",
            "1/1 [==============================] - 0s 27ms/step\n",
            "1/1 [==============================] - 0s 26ms/step\n",
            "1/1 [==============================] - 0s 28ms/step\n",
            "1/1 [==============================] - 0s 27ms/step\n",
            "1/1 [==============================] - 0s 44ms/step\n",
            "1/1 [==============================] - 0s 27ms/step\n",
            "1/1 [==============================] - 0s 27ms/step\n",
            "1/1 [==============================] - 0s 27ms/step\n",
            "1/1 [==============================] - 0s 27ms/step\n",
            "1/1 [==============================] - 0s 27ms/step\n",
            "1/1 [==============================] - 0s 26ms/step\n",
            "1/1 [==============================] - 0s 23ms/step\n",
            "1/1 [==============================] - 0s 26ms/step\n",
            "1/1 [==============================] - 0s 30ms/step\n",
            "1/1 [==============================] - 0s 27ms/step\n",
            "1/1 [==============================] - 0s 30ms/step\n",
            "1/1 [==============================] - 0s 22ms/step\n",
            "1/1 [==============================] - 0s 39ms/step\n",
            "1/1 [==============================] - 0s 41ms/step\n",
            "1/1 [==============================] - 0s 40ms/step\n",
            "1/1 [==============================] - 0s 25ms/step\n",
            "1/1 [==============================] - 0s 28ms/step\n",
            "1/1 [==============================] - 0s 60ms/step\n",
            "1/1 [==============================] - 0s 27ms/step\n",
            "1/1 [==============================] - 0s 26ms/step\n",
            "1/1 [==============================] - 0s 45ms/step\n",
            "1/1 [==============================] - 0s 43ms/step\n",
            "1/1 [==============================] - 0s 44ms/step\n",
            "1/1 [==============================] - 0s 30ms/step\n",
            "1/1 [==============================] - 0s 50ms/step\n",
            "1/1 [==============================] - 0s 45ms/step\n",
            "1/1 [==============================] - 0s 34ms/step\n",
            "1/1 [==============================] - 0s 41ms/step\n",
            "1/1 [==============================] - 0s 35ms/step\n",
            "1/1 [==============================] - 0s 40ms/step\n",
            "1/1 [==============================] - 0s 34ms/step\n",
            "1/1 [==============================] - 0s 41ms/step\n",
            "1/1 [==============================] - 0s 30ms/step\n",
            "1/1 [==============================] - 0s 74ms/step\n",
            "1/1 [==============================] - 0s 61ms/step\n",
            "1/1 [==============================] - 0s 41ms/step\n",
            "1/1 [==============================] - 0s 28ms/step\n",
            "1/1 [==============================] - 0s 26ms/step\n",
            "1/1 [==============================] - 0s 36ms/step\n",
            "1/1 [==============================] - 0s 42ms/step\n",
            "1/1 [==============================] - 0s 73ms/step\n",
            "1/1 [==============================] - 0s 38ms/step\n",
            "1/1 [==============================] - 0s 45ms/step\n",
            "1/1 [==============================] - 0s 23ms/step\n",
            "1/1 [==============================] - 0s 27ms/step\n",
            "1/1 [==============================] - 0s 27ms/step\n",
            "1/1 [==============================] - 0s 23ms/step\n",
            "1/1 [==============================] - 0s 29ms/step\n",
            "1/1 [==============================] - 0s 24ms/step\n",
            "1/1 [==============================] - 0s 27ms/step\n",
            "1/1 [==============================] - 0s 22ms/step\n",
            "1/1 [==============================] - 0s 24ms/step\n",
            "1/1 [==============================] - 0s 24ms/step\n",
            "1/1 [==============================] - 0s 28ms/step\n",
            "1/1 [==============================] - 0s 23ms/step\n",
            "1/1 [==============================] - 0s 27ms/step\n",
            "1/1 [==============================] - 0s 24ms/step\n",
            "1/1 [==============================] - 0s 35ms/step\n",
            "1/1 [==============================] - 0s 28ms/step\n",
            "1/1 [==============================] - 0s 27ms/step\n",
            "1/1 [==============================] - 0s 28ms/step\n",
            "1/1 [==============================] - 0s 27ms/step\n",
            "1/1 [==============================] - 0s 28ms/step\n",
            "1/1 [==============================] - 0s 28ms/step\n",
            "1/1 [==============================] - 0s 28ms/step\n",
            "1/1 [==============================] - 0s 29ms/step\n",
            "1/1 [==============================] - 0s 23ms/step\n",
            "1/1 [==============================] - 0s 22ms/step\n",
            "1/1 [==============================] - 0s 22ms/step\n",
            "1/1 [==============================] - 0s 22ms/step\n",
            "1/1 [==============================] - 0s 23ms/step\n",
            "1/1 [==============================] - 0s 22ms/step\n",
            "1/1 [==============================] - 0s 31ms/step\n",
            "1/1 [==============================] - 0s 23ms/step\n",
            "1/1 [==============================] - 0s 26ms/step\n",
            "1/1 [==============================] - 0s 28ms/step\n",
            "1/1 [==============================] - 0s 27ms/step\n",
            "1/1 [==============================] - 0s 24ms/step\n",
            "1/1 [==============================] - 0s 26ms/step\n",
            "1/1 [==============================] - 0s 29ms/step\n",
            "1/1 [==============================] - 0s 23ms/step\n",
            "1/1 [==============================] - 0s 27ms/step\n",
            "1/1 [==============================] - 0s 28ms/step\n",
            "1/1 [==============================] - 0s 23ms/step\n",
            "1/1 [==============================] - 0s 27ms/step\n",
            "1/1 [==============================] - 0s 27ms/step\n",
            "1/1 [==============================] - 0s 33ms/step\n",
            "1/1 [==============================] - 0s 28ms/step\n",
            "1/1 [==============================] - 0s 30ms/step\n",
            "1/1 [==============================] - 0s 27ms/step\n",
            "1/1 [==============================] - 0s 31ms/step\n",
            "1/1 [==============================] - 0s 29ms/step\n",
            "1/1 [==============================] - 0s 28ms/step\n",
            "1/1 [==============================] - 0s 31ms/step\n",
            "1/1 [==============================] - 0s 30ms/step\n",
            "1/1 [==============================] - 0s 27ms/step\n",
            "1/1 [==============================] - 0s 27ms/step\n",
            "1/1 [==============================] - 0s 27ms/step\n",
            "1/1 [==============================] - 0s 27ms/step\n",
            "1/1 [==============================] - 0s 28ms/step\n",
            "1/1 [==============================] - 0s 29ms/step\n",
            "1/1 [==============================] - 0s 27ms/step\n",
            "1/1 [==============================] - 0s 28ms/step\n",
            "1/1 [==============================] - 0s 23ms/step\n",
            "1/1 [==============================] - 0s 28ms/step\n",
            "1/1 [==============================] - 0s 28ms/step\n",
            "1/1 [==============================] - 0s 28ms/step\n",
            "1/1 [==============================] - 0s 27ms/step\n",
            "1/1 [==============================] - 0s 30ms/step\n",
            "1/1 [==============================] - 0s 27ms/step\n",
            "1/1 [==============================] - 0s 27ms/step\n",
            "1/1 [==============================] - 0s 26ms/step\n",
            "1/1 [==============================] - 0s 29ms/step\n",
            "1/1 [==============================] - 0s 27ms/step\n",
            "1/1 [==============================] - 0s 27ms/step\n",
            "1/1 [==============================] - 0s 27ms/step\n",
            "1/1 [==============================] - 0s 28ms/step\n",
            "1/1 [==============================] - 0s 28ms/step\n",
            "1/1 [==============================] - 0s 29ms/step\n",
            "1/1 [==============================] - 0s 29ms/step\n",
            "1/1 [==============================] - 0s 28ms/step\n",
            "1/1 [==============================] - 0s 32ms/step\n",
            "1/1 [==============================] - 0s 27ms/step\n",
            "1/1 [==============================] - 0s 46ms/step\n",
            "1/1 [==============================] - 0s 27ms/step\n",
            "1/1 [==============================] - 0s 27ms/step\n",
            "1/1 [==============================] - 0s 29ms/step\n",
            "1/1 [==============================] - 0s 28ms/step\n",
            "1/1 [==============================] - 0s 28ms/step\n",
            "1/1 [==============================] - 0s 28ms/step\n",
            "1/1 [==============================] - 0s 28ms/step\n",
            "1/1 [==============================] - 0s 27ms/step\n",
            "1/1 [==============================] - 0s 28ms/step\n",
            "1/1 [==============================] - 0s 27ms/step\n",
            "1/1 [==============================] - 0s 24ms/step\n",
            "1/1 [==============================] - 0s 23ms/step\n",
            "1/1 [==============================] - 0s 23ms/step\n",
            "1/1 [==============================] - 0s 27ms/step\n",
            "1/1 [==============================] - 0s 23ms/step\n",
            "1/1 [==============================] - 0s 23ms/step\n",
            "1/1 [==============================] - 0s 23ms/step\n",
            "1/1 [==============================] - 0s 24ms/step\n",
            "1/1 [==============================] - 0s 23ms/step\n",
            "1/1 [==============================] - 0s 23ms/step\n",
            "1/1 [==============================] - 0s 28ms/step\n",
            "1/1 [==============================] - 0s 29ms/step\n",
            "1/1 [==============================] - 0s 27ms/step\n",
            "1/1 [==============================] - 0s 34ms/step\n",
            "1/1 [==============================] - 0s 44ms/step\n",
            "1/1 [==============================] - 0s 40ms/step\n",
            "1/1 [==============================] - 0s 41ms/step\n",
            "1/1 [==============================] - 0s 25ms/step\n",
            "1/1 [==============================] - 0s 25ms/step\n",
            "1/1 [==============================] - 0s 38ms/step\n",
            "1/1 [==============================] - 0s 44ms/step\n",
            "1/1 [==============================] - 0s 54ms/step\n",
            "1/1 [==============================] - 0s 39ms/step\n",
            "1/1 [==============================] - 0s 45ms/step\n",
            "1/1 [==============================] - 0s 41ms/step\n",
            "1/1 [==============================] - 0s 41ms/step\n",
            "1/1 [==============================] - 0s 42ms/step\n",
            "1/1 [==============================] - 0s 44ms/step\n",
            "1/1 [==============================] - 0s 45ms/step\n",
            "1/1 [==============================] - 0s 39ms/step\n",
            "1/1 [==============================] - 0s 45ms/step\n",
            "1/1 [==============================] - 0s 28ms/step\n",
            "1/1 [==============================] - 0s 28ms/step\n",
            "1/1 [==============================] - 0s 38ms/step\n",
            "1/1 [==============================] - 0s 26ms/step\n",
            "1/1 [==============================] - 0s 25ms/step\n",
            "1/1 [==============================] - 0s 45ms/step\n",
            "1/1 [==============================] - 0s 34ms/step\n",
            "1/1 [==============================] - 0s 24ms/step\n",
            "1/1 [==============================] - 0s 36ms/step\n",
            "1/1 [==============================] - 0s 40ms/step\n",
            "1/1 [==============================] - 0s 40ms/step\n",
            "1/1 [==============================] - 0s 41ms/step\n",
            "1/1 [==============================] - 0s 25ms/step\n",
            "1/1 [==============================] - 0s 22ms/step\n",
            "1/1 [==============================] - 0s 24ms/step\n",
            "1/1 [==============================] - 0s 22ms/step\n",
            "1/1 [==============================] - 0s 22ms/step\n",
            "1/1 [==============================] - 0s 23ms/step\n",
            "1/1 [==============================] - 0s 22ms/step\n",
            "1/1 [==============================] - 0s 23ms/step\n",
            "1/1 [==============================] - 0s 22ms/step\n",
            "1/1 [==============================] - 0s 25ms/step\n",
            "1/1 [==============================] - 0s 23ms/step\n",
            "1/1 [==============================] - 0s 27ms/step\n",
            "1/1 [==============================] - 0s 22ms/step\n",
            "1/1 [==============================] - 0s 22ms/step\n",
            "1/1 [==============================] - 0s 22ms/step\n",
            "1/1 [==============================] - 0s 23ms/step\n",
            "1/1 [==============================] - 0s 25ms/step\n",
            "1/1 [==============================] - 0s 36ms/step\n",
            "1/1 [==============================] - 0s 28ms/step\n",
            "1/1 [==============================] - 0s 22ms/step\n",
            "1/1 [==============================] - 0s 22ms/step\n",
            "1/1 [==============================] - 0s 22ms/step\n",
            "1/1 [==============================] - 0s 27ms/step\n",
            "1/1 [==============================] - 0s 23ms/step\n",
            "1/1 [==============================] - 0s 23ms/step\n",
            "1/1 [==============================] - 0s 23ms/step\n",
            "1/1 [==============================] - 0s 24ms/step\n",
            "1/1 [==============================] - 0s 23ms/step\n",
            "1/1 [==============================] - 0s 30ms/step\n",
            "1/1 [==============================] - 0s 28ms/step\n",
            "1/1 [==============================] - 0s 22ms/step\n",
            "1/1 [==============================] - 0s 22ms/step\n",
            "1/1 [==============================] - 0s 26ms/step\n",
            "1/1 [==============================] - 0s 23ms/step\n",
            "1/1 [==============================] - 0s 22ms/step\n",
            "1/1 [==============================] - 0s 22ms/step\n",
            "1/1 [==============================] - 0s 23ms/step\n",
            "1/1 [==============================] - 0s 22ms/step\n",
            "1/1 [==============================] - 0s 27ms/step\n",
            "1/1 [==============================] - 0s 28ms/step\n",
            "1/1 [==============================] - 0s 22ms/step\n",
            "1/1 [==============================] - 0s 22ms/step\n",
            "1/1 [==============================] - 0s 24ms/step\n",
            "1/1 [==============================] - 0s 23ms/step\n",
            "1/1 [==============================] - 0s 27ms/step\n",
            "1/1 [==============================] - 0s 33ms/step\n",
            "1/1 [==============================] - 0s 27ms/step\n",
            "1/1 [==============================] - 0s 26ms/step\n",
            "1/1 [==============================] - 0s 23ms/step\n",
            "1/1 [==============================] - 0s 22ms/step\n",
            "1/1 [==============================] - 0s 41ms/step\n",
            "1/1 [==============================] - 0s 24ms/step\n",
            "1/1 [==============================] - 0s 27ms/step\n",
            "1/1 [==============================] - 0s 22ms/step\n",
            "1/1 [==============================] - 0s 26ms/step\n",
            "1/1 [==============================] - 0s 22ms/step\n",
            "1/1 [==============================] - 0s 22ms/step\n",
            "1/1 [==============================] - 0s 22ms/step\n",
            "1/1 [==============================] - 0s 22ms/step\n",
            "1/1 [==============================] - 0s 24ms/step\n",
            "1/1 [==============================] - 0s 23ms/step\n",
            "1/1 [==============================] - 0s 23ms/step\n",
            "1/1 [==============================] - 0s 23ms/step\n",
            "1/1 [==============================] - 0s 25ms/step\n",
            "1/1 [==============================] - 0s 25ms/step\n",
            "1/1 [==============================] - 0s 24ms/step\n",
            "1/1 [==============================] - 0s 23ms/step\n",
            "1/1 [==============================] - 0s 27ms/step\n",
            "1/1 [==============================] - 0s 23ms/step\n",
            "1/1 [==============================] - 0s 23ms/step\n",
            "1/1 [==============================] - 0s 23ms/step\n",
            "1/1 [==============================] - 0s 23ms/step\n",
            "1/1 [==============================] - 0s 40ms/step\n",
            "1/1 [==============================] - 0s 23ms/step\n",
            "1/1 [==============================] - 0s 24ms/step\n",
            "1/1 [==============================] - 0s 23ms/step\n",
            "1/1 [==============================] - 0s 23ms/step\n",
            "1/1 [==============================] - 0s 23ms/step\n",
            "1/1 [==============================] - 0s 22ms/step\n",
            "1/1 [==============================] - 0s 22ms/step\n",
            "1/1 [==============================] - 0s 22ms/step\n",
            "1/1 [==============================] - 0s 30ms/step\n",
            "1/1 [==============================] - 0s 22ms/step\n",
            "1/1 [==============================] - 0s 47ms/step\n",
            "1/1 [==============================] - 0s 22ms/step\n",
            "1/1 [==============================] - 0s 22ms/step\n",
            "1/1 [==============================] - 0s 24ms/step\n",
            "1/1 [==============================] - 0s 26ms/step\n",
            "1/1 [==============================] - 0s 23ms/step\n",
            "1/1 [==============================] - 0s 28ms/step\n",
            "1/1 [==============================] - 0s 31ms/step\n",
            "1/1 [==============================] - 0s 29ms/step\n",
            "1/1 [==============================] - 0s 28ms/step\n",
            "1/1 [==============================] - 0s 32ms/step\n",
            "1/1 [==============================] - 0s 28ms/step\n",
            "1/1 [==============================] - 0s 28ms/step\n",
            "1/1 [==============================] - 0s 28ms/step\n",
            "1/1 [==============================] - 0s 29ms/step\n",
            "1/1 [==============================] - 0s 27ms/step\n",
            "1/1 [==============================] - 0s 29ms/step\n",
            "1/1 [==============================] - 0s 28ms/step\n",
            "1/1 [==============================] - 0s 29ms/step\n",
            "1/1 [==============================] - 0s 28ms/step\n",
            "1/1 [==============================] - 0s 30ms/step\n",
            "1/1 [==============================] - 0s 50ms/step\n",
            "1/1 [==============================] - 0s 30ms/step\n",
            "1/1 [==============================] - 0s 34ms/step\n",
            "1/1 [==============================] - 0s 25ms/step\n",
            "1/1 [==============================] - 0s 42ms/step\n",
            "1/1 [==============================] - 0s 52ms/step\n",
            "1/1 [==============================] - 0s 29ms/step\n",
            "1/1 [==============================] - 0s 44ms/step\n",
            "1/1 [==============================] - 0s 45ms/step\n",
            "1/1 [==============================] - 0s 33ms/step\n",
            "1/1 [==============================] - 0s 36ms/step\n",
            "1/1 [==============================] - 0s 47ms/step\n",
            "1/1 [==============================] - 0s 44ms/step\n",
            "1/1 [==============================] - 0s 43ms/step\n",
            "1/1 [==============================] - 0s 30ms/step\n",
            "1/1 [==============================] - 0s 31ms/step\n",
            "1/1 [==============================] - 0s 44ms/step\n",
            "1/1 [==============================] - 0s 43ms/step\n",
            "1/1 [==============================] - 0s 24ms/step\n",
            "1/1 [==============================] - 0s 25ms/step\n",
            "1/1 [==============================] - 0s 27ms/step\n",
            "1/1 [==============================] - 0s 33ms/step\n",
            "1/1 [==============================] - 0s 41ms/step\n",
            "1/1 [==============================] - 0s 25ms/step\n",
            "1/1 [==============================] - 0s 51ms/step\n",
            "1/1 [==============================] - 0s 40ms/step\n",
            "1/1 [==============================] - 0s 45ms/step\n",
            "1/1 [==============================] - 0s 34ms/step\n",
            "1/1 [==============================] - 0s 38ms/step\n",
            "1/1 [==============================] - 0s 35ms/step\n",
            "1/1 [==============================] - 0s 41ms/step\n",
            "1/1 [==============================] - 0s 23ms/step\n",
            "1/1 [==============================] - 0s 23ms/step\n",
            "1/1 [==============================] - 0s 22ms/step\n",
            "1/1 [==============================] - 0s 22ms/step\n",
            "1/1 [==============================] - 0s 25ms/step\n",
            "1/1 [==============================] - 0s 22ms/step\n",
            "1/1 [==============================] - 0s 23ms/step\n",
            "1/1 [==============================] - 0s 37ms/step\n",
            "1/1 [==============================] - 0s 22ms/step\n",
            "1/1 [==============================] - 0s 22ms/step\n",
            "1/1 [==============================] - 0s 23ms/step\n",
            "1/1 [==============================] - 0s 27ms/step\n",
            "1/1 [==============================] - 0s 22ms/step\n",
            "1/1 [==============================] - 0s 22ms/step\n",
            "1/1 [==============================] - 0s 22ms/step\n",
            "1/1 [==============================] - 0s 25ms/step\n",
            "1/1 [==============================] - 0s 23ms/step\n",
            "1/1 [==============================] - 0s 23ms/step\n",
            "1/1 [==============================] - 0s 23ms/step\n",
            "1/1 [==============================] - 0s 27ms/step\n",
            "1/1 [==============================] - 0s 23ms/step\n",
            "1/1 [==============================] - 0s 29ms/step\n",
            "1/1 [==============================] - 0s 22ms/step\n",
            "1/1 [==============================] - 0s 22ms/step\n",
            "1/1 [==============================] - 0s 24ms/step\n",
            "1/1 [==============================] - 0s 24ms/step\n",
            "1/1 [==============================] - 0s 29ms/step\n",
            "1/1 [==============================] - 0s 24ms/step\n",
            "1/1 [==============================] - 0s 22ms/step\n",
            "1/1 [==============================] - 0s 25ms/step\n",
            "1/1 [==============================] - 0s 23ms/step\n",
            "1/1 [==============================] - 0s 23ms/step\n",
            "1/1 [==============================] - 0s 22ms/step\n",
            "1/1 [==============================] - 0s 26ms/step\n",
            "1/1 [==============================] - 0s 23ms/step\n",
            "1/1 [==============================] - 0s 24ms/step\n",
            "1/1 [==============================] - 0s 29ms/step\n",
            "1/1 [==============================] - 0s 27ms/step\n",
            "1/1 [==============================] - 0s 28ms/step\n",
            "1/1 [==============================] - 0s 22ms/step\n",
            "1/1 [==============================] - 0s 23ms/step\n",
            "1/1 [==============================] - 0s 22ms/step\n",
            "1/1 [==============================] - 0s 22ms/step\n",
            "1/1 [==============================] - 0s 29ms/step\n",
            "1/1 [==============================] - 0s 23ms/step\n",
            "1/1 [==============================] - 0s 24ms/step\n",
            "1/1 [==============================] - 0s 23ms/step\n",
            "1/1 [==============================] - 0s 23ms/step\n",
            "1/1 [==============================] - 0s 23ms/step\n",
            "1/1 [==============================] - 0s 25ms/step\n",
            "1/1 [==============================] - 0s 33ms/step\n",
            "1/1 [==============================] - 0s 24ms/step\n",
            "1/1 [==============================] - 0s 26ms/step\n",
            "1/1 [==============================] - 0s 25ms/step\n",
            "1/1 [==============================] - 0s 25ms/step\n",
            "1/1 [==============================] - 0s 22ms/step\n",
            "1/1 [==============================] - 0s 22ms/step\n",
            "1/1 [==============================] - 0s 23ms/step\n",
            "1/1 [==============================] - 0s 23ms/step\n",
            "1/1 [==============================] - 0s 23ms/step\n",
            "1/1 [==============================] - 0s 23ms/step\n",
            "1/1 [==============================] - 0s 45ms/step\n",
            "1/1 [==============================] - 0s 28ms/step\n",
            "1/1 [==============================] - 0s 23ms/step\n",
            "1/1 [==============================] - 0s 23ms/step\n",
            "1/1 [==============================] - 0s 23ms/step\n",
            "1/1 [==============================] - 0s 23ms/step\n",
            "1/1 [==============================] - 0s 26ms/step\n",
            "1/1 [==============================] - 0s 23ms/step\n",
            "1/1 [==============================] - 0s 24ms/step\n",
            "1/1 [==============================] - 0s 24ms/step\n",
            "1/1 [==============================] - 0s 23ms/step\n",
            "1/1 [==============================] - 0s 39ms/step\n",
            "1/1 [==============================] - 0s 35ms/step\n",
            "1/1 [==============================] - 0s 26ms/step\n",
            "1/1 [==============================] - 0s 30ms/step\n",
            "1/1 [==============================] - 0s 29ms/step\n",
            "1/1 [==============================] - 0s 28ms/step\n",
            "1/1 [==============================] - 0s 31ms/step\n",
            "1/1 [==============================] - 0s 29ms/step\n",
            "1/1 [==============================] - 0s 28ms/step\n",
            "1/1 [==============================] - 0s 31ms/step\n",
            "1/1 [==============================] - 0s 29ms/step\n",
            "1/1 [==============================] - 0s 30ms/step\n",
            "1/1 [==============================] - 0s 29ms/step\n",
            "1/1 [==============================] - 0s 32ms/step\n",
            "1/1 [==============================] - 0s 28ms/step\n",
            "1/1 [==============================] - 0s 28ms/step\n",
            "1/1 [==============================] - 0s 28ms/step\n",
            "1/1 [==============================] - 0s 23ms/step\n",
            "1/1 [==============================] - 0s 29ms/step\n",
            "1/1 [==============================] - 0s 30ms/step\n",
            "1/1 [==============================] - 0s 25ms/step\n",
            "1/1 [==============================] - 0s 24ms/step\n",
            "1/1 [==============================] - 0s 25ms/step\n",
            "1/1 [==============================] - 0s 23ms/step\n",
            "1/1 [==============================] - 0s 22ms/step\n",
            "1/1 [==============================] - 0s 31ms/step\n",
            "1/1 [==============================] - 0s 22ms/step\n",
            "1/1 [==============================] - 0s 23ms/step\n",
            "1/1 [==============================] - 0s 22ms/step\n",
            "1/1 [==============================] - 0s 27ms/step\n",
            "1/1 [==============================] - 0s 25ms/step\n",
            "1/1 [==============================] - 0s 41ms/step\n",
            "1/1 [==============================] - 0s 44ms/step\n",
            "1/1 [==============================] - 0s 25ms/step\n",
            "1/1 [==============================] - 0s 33ms/step\n",
            "1/1 [==============================] - 0s 41ms/step\n",
            "1/1 [==============================] - 0s 47ms/step\n",
            "1/1 [==============================] - 0s 57ms/step\n",
            "1/1 [==============================] - 0s 48ms/step\n",
            "1/1 [==============================] - 0s 43ms/step\n",
            "1/1 [==============================] - 0s 42ms/step\n",
            "1/1 [==============================] - 0s 42ms/step\n",
            "1/1 [==============================] - 0s 26ms/step\n",
            "1/1 [==============================] - 0s 52ms/step\n",
            "1/1 [==============================] - 0s 49ms/step\n",
            "1/1 [==============================] - 0s 46ms/step\n",
            "1/1 [==============================] - 0s 51ms/step\n",
            "1/1 [==============================] - 0s 37ms/step\n",
            "1/1 [==============================] - 0s 42ms/step\n",
            "1/1 [==============================] - 0s 50ms/step\n",
            "1/1 [==============================] - 0s 38ms/step\n",
            "1/1 [==============================] - 0s 38ms/step\n",
            "1/1 [==============================] - 0s 24ms/step\n",
            "1/1 [==============================] - 0s 56ms/step\n",
            "1/1 [==============================] - 0s 30ms/step\n",
            "1/1 [==============================] - 0s 42ms/step\n",
            "1/1 [==============================] - 0s 54ms/step\n",
            "1/1 [==============================] - 0s 39ms/step\n",
            "1/1 [==============================] - 0s 46ms/step\n",
            "1/1 [==============================] - 0s 24ms/step\n",
            "1/1 [==============================] - 0s 23ms/step\n",
            "1/1 [==============================] - 0s 23ms/step\n",
            "1/1 [==============================] - 0s 28ms/step\n",
            "1/1 [==============================] - 0s 26ms/step\n",
            "1/1 [==============================] - 0s 23ms/step\n",
            "1/1 [==============================] - 0s 28ms/step\n",
            "1/1 [==============================] - 0s 28ms/step\n",
            "1/1 [==============================] - 0s 28ms/step\n",
            "1/1 [==============================] - 0s 31ms/step\n",
            "1/1 [==============================] - 0s 30ms/step\n",
            "1/1 [==============================] - 0s 30ms/step\n",
            "1/1 [==============================] - 0s 28ms/step\n",
            "1/1 [==============================] - 0s 28ms/step\n",
            "1/1 [==============================] - 0s 29ms/step\n",
            "1/1 [==============================] - 0s 29ms/step\n",
            "1/1 [==============================] - 0s 27ms/step\n",
            "1/1 [==============================] - 0s 28ms/step\n",
            "1/1 [==============================] - 0s 28ms/step\n",
            "1/1 [==============================] - 0s 29ms/step\n",
            "1/1 [==============================] - 0s 29ms/step\n",
            "1/1 [==============================] - 0s 24ms/step\n",
            "1/1 [==============================] - 0s 23ms/step\n",
            "1/1 [==============================] - 0s 23ms/step\n",
            "1/1 [==============================] - 0s 23ms/step\n",
            "1/1 [==============================] - 0s 24ms/step\n",
            "1/1 [==============================] - 0s 32ms/step\n",
            "1/1 [==============================] - 0s 25ms/step\n",
            "1/1 [==============================] - 0s 26ms/step\n",
            "1/1 [==============================] - 0s 33ms/step\n",
            "1/1 [==============================] - 0s 38ms/step\n",
            "1/1 [==============================] - 0s 25ms/step\n",
            "1/1 [==============================] - 0s 34ms/step\n",
            "1/1 [==============================] - 0s 22ms/step\n",
            "1/1 [==============================] - 0s 23ms/step\n",
            "1/1 [==============================] - 0s 31ms/step\n",
            "1/1 [==============================] - 0s 22ms/step\n",
            "1/1 [==============================] - 0s 23ms/step\n",
            "1/1 [==============================] - 0s 23ms/step\n",
            "1/1 [==============================] - 0s 22ms/step\n",
            "1/1 [==============================] - 0s 29ms/step\n",
            "1/1 [==============================] - 0s 23ms/step\n",
            "1/1 [==============================] - 0s 22ms/step\n",
            "1/1 [==============================] - 0s 23ms/step\n",
            "1/1 [==============================] - 0s 23ms/step\n",
            "1/1 [==============================] - 0s 25ms/step\n",
            "1/1 [==============================] - 0s 29ms/step\n",
            "1/1 [==============================] - 0s 22ms/step\n",
            "1/1 [==============================] - 0s 22ms/step\n",
            "1/1 [==============================] - 0s 23ms/step\n",
            "1/1 [==============================] - 0s 23ms/step\n",
            "1/1 [==============================] - 0s 22ms/step\n",
            "1/1 [==============================] - 0s 23ms/step\n",
            "1/1 [==============================] - 0s 23ms/step\n",
            "1/1 [==============================] - 0s 27ms/step\n",
            "1/1 [==============================] - 0s 23ms/step\n",
            "1/1 [==============================] - 0s 23ms/step\n",
            "1/1 [==============================] - 0s 23ms/step\n",
            "1/1 [==============================] - 0s 23ms/step\n",
            "1/1 [==============================] - 0s 23ms/step\n",
            "1/1 [==============================] - 0s 25ms/step\n",
            "1/1 [==============================] - 0s 23ms/step\n",
            "1/1 [==============================] - 0s 24ms/step\n",
            "1/1 [==============================] - 0s 25ms/step\n",
            "1/1 [==============================] - 0s 23ms/step\n",
            "1/1 [==============================] - 0s 26ms/step\n",
            "1/1 [==============================] - 0s 22ms/step\n",
            "1/1 [==============================] - 0s 24ms/step\n",
            "1/1 [==============================] - 0s 25ms/step\n",
            "1/1 [==============================] - 0s 23ms/step\n",
            "1/1 [==============================] - 0s 26ms/step\n",
            "1/1 [==============================] - 0s 22ms/step\n",
            "1/1 [==============================] - 0s 36ms/step\n",
            "1/1 [==============================] - 0s 28ms/step\n",
            "1/1 [==============================] - 0s 22ms/step\n",
            "1/1 [==============================] - 0s 24ms/step\n",
            "1/1 [==============================] - 0s 22ms/step\n",
            "1/1 [==============================] - 0s 23ms/step\n",
            "1/1 [==============================] - 0s 23ms/step\n",
            "1/1 [==============================] - 0s 23ms/step\n",
            "1/1 [==============================] - 0s 22ms/step\n",
            "1/1 [==============================] - 0s 25ms/step\n",
            "1/1 [==============================] - 0s 22ms/step\n",
            "1/1 [==============================] - 0s 23ms/step\n",
            "1/1 [==============================] - 0s 23ms/step\n",
            "1/1 [==============================] - 0s 25ms/step\n",
            "1/1 [==============================] - 0s 23ms/step\n",
            "1/1 [==============================] - 0s 24ms/step\n",
            "1/1 [==============================] - 0s 28ms/step\n",
            "1/1 [==============================] - 0s 24ms/step\n",
            "1/1 [==============================] - 0s 23ms/step\n",
            "1/1 [==============================] - 0s 23ms/step\n",
            "1/1 [==============================] - 0s 28ms/step\n",
            "1/1 [==============================] - 0s 36ms/step\n",
            "1/1 [==============================] - 0s 29ms/step\n",
            "1/1 [==============================] - 0s 25ms/step\n",
            "1/1 [==============================] - 0s 29ms/step\n",
            "1/1 [==============================] - 0s 28ms/step\n",
            "1/1 [==============================] - 0s 31ms/step\n",
            "1/1 [==============================] - 0s 32ms/step\n",
            "1/1 [==============================] - 0s 29ms/step\n",
            "1/1 [==============================] - 0s 31ms/step\n",
            "1/1 [==============================] - 0s 42ms/step\n",
            "1/1 [==============================] - 0s 28ms/step\n",
            "1/1 [==============================] - 0s 36ms/step\n",
            "1/1 [==============================] - 0s 34ms/step\n",
            "1/1 [==============================] - 0s 24ms/step\n",
            "1/1 [==============================] - 0s 45ms/step\n",
            "1/1 [==============================] - 0s 40ms/step\n",
            "1/1 [==============================] - 0s 28ms/step\n",
            "1/1 [==============================] - 0s 42ms/step\n",
            "1/1 [==============================] - 0s 50ms/step\n",
            "1/1 [==============================] - 0s 24ms/step\n",
            "1/1 [==============================] - 0s 29ms/step\n",
            "1/1 [==============================] - 0s 43ms/step\n",
            "1/1 [==============================] - 0s 39ms/step\n",
            "1/1 [==============================] - 0s 54ms/step\n",
            "1/1 [==============================] - 0s 50ms/step\n",
            "1/1 [==============================] - 0s 39ms/step\n",
            "1/1 [==============================] - 0s 45ms/step\n",
            "1/1 [==============================] - 0s 44ms/step\n",
            "1/1 [==============================] - 0s 47ms/step\n",
            "1/1 [==============================] - 0s 43ms/step\n",
            "1/1 [==============================] - 0s 43ms/step\n",
            "1/1 [==============================] - 0s 34ms/step\n",
            "1/1 [==============================] - 0s 51ms/step\n",
            "1/1 [==============================] - 0s 49ms/step\n",
            "1/1 [==============================] - 0s 27ms/step\n",
            "1/1 [==============================] - 0s 31ms/step\n",
            "1/1 [==============================] - 0s 29ms/step\n",
            "1/1 [==============================] - 0s 35ms/step\n",
            "1/1 [==============================] - 0s 39ms/step\n",
            "1/1 [==============================] - 0s 24ms/step\n",
            "1/1 [==============================] - 0s 24ms/step\n",
            "1/1 [==============================] - 0s 24ms/step\n",
            "1/1 [==============================] - 0s 22ms/step\n",
            "1/1 [==============================] - 0s 24ms/step\n",
            "1/1 [==============================] - 0s 22ms/step\n",
            "1/1 [==============================] - 0s 23ms/step\n",
            "1/1 [==============================] - 0s 29ms/step\n",
            "1/1 [==============================] - 0s 34ms/step\n",
            "1/1 [==============================] - 0s 23ms/step\n",
            "1/1 [==============================] - 0s 32ms/step\n",
            "1/1 [==============================] - 0s 31ms/step\n",
            "1/1 [==============================] - 0s 30ms/step\n",
            "1/1 [==============================] - 0s 31ms/step\n",
            "1/1 [==============================] - 0s 28ms/step\n",
            "1/1 [==============================] - 0s 35ms/step\n",
            "1/1 [==============================] - 0s 31ms/step\n",
            "1/1 [==============================] - 0s 30ms/step\n",
            "1/1 [==============================] - 0s 27ms/step\n",
            "1/1 [==============================] - 0s 32ms/step\n",
            "1/1 [==============================] - 0s 24ms/step\n",
            "1/1 [==============================] - 0s 24ms/step\n",
            "1/1 [==============================] - 0s 25ms/step\n",
            "1/1 [==============================] - 0s 30ms/step\n",
            "1/1 [==============================] - 0s 26ms/step\n",
            "1/1 [==============================] - 0s 24ms/step\n",
            "1/1 [==============================] - 0s 24ms/step\n",
            "1/1 [==============================] - 0s 25ms/step\n",
            "1/1 [==============================] - 0s 23ms/step\n",
            "1/1 [==============================] - 0s 25ms/step\n",
            "1/1 [==============================] - 0s 33ms/step\n",
            "1/1 [==============================] - 0s 28ms/step\n",
            "1/1 [==============================] - 0s 32ms/step\n",
            "1/1 [==============================] - 0s 31ms/step\n",
            "1/1 [==============================] - 0s 35ms/step\n",
            "1/1 [==============================] - 0s 23ms/step\n",
            "1/1 [==============================] - 0s 30ms/step\n",
            "1/1 [==============================] - 0s 32ms/step\n",
            "1/1 [==============================] - 0s 52ms/step\n",
            "1/1 [==============================] - 0s 34ms/step\n",
            "1/1 [==============================] - 0s 32ms/step\n",
            "1/1 [==============================] - 0s 32ms/step\n",
            "1/1 [==============================] - 0s 33ms/step\n",
            "1/1 [==============================] - 0s 32ms/step\n",
            "1/1 [==============================] - 0s 30ms/step\n",
            "1/1 [==============================] - 0s 31ms/step\n",
            "1/1 [==============================] - 0s 30ms/step\n",
            "1/1 [==============================] - 0s 31ms/step\n",
            "1/1 [==============================] - 0s 28ms/step\n",
            "1/1 [==============================] - 0s 31ms/step\n",
            "1/1 [==============================] - 0s 31ms/step\n",
            "1/1 [==============================] - 0s 30ms/step\n",
            "1/1 [==============================] - 0s 30ms/step\n",
            "1/1 [==============================] - 0s 30ms/step\n",
            "1/1 [==============================] - 0s 29ms/step\n",
            "1/1 [==============================] - 0s 30ms/step\n",
            "1/1 [==============================] - 0s 33ms/step\n",
            "1/1 [==============================] - 0s 35ms/step\n",
            "1/1 [==============================] - 0s 30ms/step\n",
            "1/1 [==============================] - 0s 31ms/step\n",
            "1/1 [==============================] - 0s 33ms/step\n",
            "1/1 [==============================] - 0s 25ms/step\n",
            "1/1 [==============================] - 0s 27ms/step\n",
            "1/1 [==============================] - 0s 30ms/step\n",
            "1/1 [==============================] - 0s 30ms/step\n",
            "1/1 [==============================] - 0s 26ms/step\n",
            "1/1 [==============================] - 0s 30ms/step\n",
            "1/1 [==============================] - 0s 32ms/step\n",
            "1/1 [==============================] - 0s 32ms/step\n",
            "1/1 [==============================] - 0s 29ms/step\n",
            "1/1 [==============================] - 0s 23ms/step\n",
            "1/1 [==============================] - 0s 23ms/step\n",
            "1/1 [==============================] - 0s 26ms/step\n",
            "1/1 [==============================] - 0s 22ms/step\n",
            "1/1 [==============================] - 0s 22ms/step\n",
            "1/1 [==============================] - 0s 22ms/step\n",
            "1/1 [==============================] - 0s 23ms/step\n",
            "1/1 [==============================] - 0s 23ms/step\n",
            "1/1 [==============================] - 0s 24ms/step\n",
            "1/1 [==============================] - 0s 24ms/step\n",
            "1/1 [==============================] - 0s 26ms/step\n",
            "1/1 [==============================] - 0s 33ms/step\n",
            "1/1 [==============================] - 0s 22ms/step\n",
            "1/1 [==============================] - 0s 22ms/step\n",
            "1/1 [==============================] - 0s 28ms/step\n",
            "1/1 [==============================] - 0s 31ms/step\n",
            "1/1 [==============================] - 0s 33ms/step\n",
            "1/1 [==============================] - 0s 32ms/step\n",
            "1/1 [==============================] - 0s 31ms/step\n",
            "1/1 [==============================] - 0s 34ms/step\n",
            "1/1 [==============================] - 0s 31ms/step\n",
            "1/1 [==============================] - 0s 32ms/step\n",
            "1/1 [==============================] - 0s 31ms/step\n",
            "1/1 [==============================] - 0s 30ms/step\n",
            "1/1 [==============================] - 0s 31ms/step\n",
            "1/1 [==============================] - 0s 45ms/step\n",
            "1/1 [==============================] - 0s 38ms/step\n",
            "1/1 [==============================] - 0s 35ms/step\n",
            "1/1 [==============================] - 0s 42ms/step\n",
            "1/1 [==============================] - 0s 57ms/step\n",
            "1/1 [==============================] - 0s 49ms/step\n",
            "1/1 [==============================] - 0s 42ms/step\n",
            "1/1 [==============================] - 0s 45ms/step\n",
            "1/1 [==============================] - 0s 26ms/step\n",
            "1/1 [==============================] - 0s 28ms/step\n",
            "1/1 [==============================] - 0s 28ms/step\n",
            "1/1 [==============================] - 0s 46ms/step\n",
            "1/1 [==============================] - 0s 26ms/step\n",
            "1/1 [==============================] - 0s 28ms/step\n",
            "1/1 [==============================] - 0s 29ms/step\n",
            "1/1 [==============================] - 0s 71ms/step\n",
            "1/1 [==============================] - 0s 46ms/step\n",
            "1/1 [==============================] - 0s 37ms/step\n",
            "1/1 [==============================] - 0s 45ms/step\n",
            "1/1 [==============================] - 0s 49ms/step\n",
            "1/1 [==============================] - 0s 42ms/step\n",
            "1/1 [==============================] - 0s 41ms/step\n",
            "1/1 [==============================] - 0s 44ms/step\n",
            "1/1 [==============================] - 0s 31ms/step\n",
            "1/1 [==============================] - 0s 53ms/step\n",
            "1/1 [==============================] - 0s 46ms/step\n",
            "1/1 [==============================] - 0s 27ms/step\n",
            "1/1 [==============================] - 0s 37ms/step\n",
            "1/1 [==============================] - 0s 49ms/step\n",
            "1/1 [==============================] - 0s 35ms/step\n",
            "1/1 [==============================] - 0s 36ms/step\n",
            "1/1 [==============================] - 0s 40ms/step\n",
            "1/1 [==============================] - 0s 23ms/step\n",
            "1/1 [==============================] - 0s 23ms/step\n",
            "1/1 [==============================] - 0s 30ms/step\n",
            "1/1 [==============================] - 0s 27ms/step\n",
            "1/1 [==============================] - 0s 22ms/step\n",
            "1/1 [==============================] - 0s 22ms/step\n",
            "1/1 [==============================] - 0s 24ms/step\n",
            "1/1 [==============================] - 0s 23ms/step\n",
            "1/1 [==============================] - 0s 23ms/step\n",
            "1/1 [==============================] - 0s 25ms/step\n",
            "Predictions for Each Part:\n",
            "MrBeastType: 187 parts\n",
            "VlogType: 0 parts\n",
            "TechReviewType: 0 parts\n",
            "GamingType: 211 parts\n",
            "MinimalistType: 451 parts\n",
            "\n",
            "Overall Predicted Genre: MinimalistType\n"
          ]
        }
      ]
    }
  ]
}